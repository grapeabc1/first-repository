{
 "cells": [
  {
   "cell_type": "code",
   "execution_count": 7,
   "id": "d933f420",
   "metadata": {},
   "outputs": [],
   "source": [
    "#필요한 모듈 import하기\n",
    "from sklearn.datasets import load_digits #사이킷런에 있는 손글씨 데이터셋\n",
    "from sklearn.datasets import load_wine #사이킷런에 있는 와인 데이터셋\n",
    "from sklearn.datasets import load_breast_cancer #사이킷런에 있는 유방암 데이터셋\n",
    "\n",
    "from sklearn.model_selection import train_test_split #모델을 학습시킬 데이터와 검증할 데이터를 분리하는 함수쓰기 위함\n",
    "from sklearn.metrics import accuracy_score #모델 평가할 때 정확도 지표를 확인하는 기능 사용하기 위함\n",
    "from sklearn.metrics import classification_report \n",
    "#모델 평가를 위한 기능을 사용하기 위함, 정확도뿐만 아니라 recall,precision, f1-score도 확인 가능"
   ]
  },
  {
   "cell_type": "code",
   "execution_count": 8,
   "id": "cea22f17",
   "metadata": {},
   "outputs": [],
   "source": [
    "#데이터 준비\n",
    "wine = load_wine()\n",
    "wine_data = wine.data\n",
    "wine_label = wine.target"
   ]
  },
  {
   "cell_type": "code",
   "execution_count": 9,
   "id": "babc31a9",
   "metadata": {},
   "outputs": [
    {
     "name": "stdout",
     "output_type": "stream",
     "text": [
      "X_train 개수:  142 , X_test 개수:  36\n"
     ]
    }
   ],
   "source": [
    "#train, test 데이터 분리\n",
    "\n",
    "from sklearn.model_selection import train_test_split\n",
    "\n",
    "X_train, X_test, y_train, y_test = train_test_split(wine_data, \n",
    "                                                    wine_label, \n",
    "                                                    test_size=0.2, \n",
    "                                                    random_state=32)\n",
    "\n",
    "print('X_train 개수: ', len(X_train),', X_test 개수: ', len(X_test))"
   ]
  },
  {
   "cell_type": "code",
   "execution_count": 10,
   "id": "8321f042",
   "metadata": {},
   "outputs": [],
   "source": [
    "#다양한 모델로 학습시켜보고 해당 모델 평가해보기"
   ]
  },
  {
   "cell_type": "code",
   "execution_count": 12,
   "id": "680b99c8",
   "metadata": {},
   "outputs": [
    {
     "name": "stdout",
     "output_type": "stream",
     "text": [
      "              precision    recall  f1-score   support\n",
      "\n",
      "           0       0.94      1.00      0.97        16\n",
      "           1       0.89      0.80      0.84        10\n",
      "           2       0.90      0.90      0.90        10\n",
      "\n",
      "    accuracy                           0.92        36\n",
      "   macro avg       0.91      0.90      0.90        36\n",
      "weighted avg       0.92      0.92      0.91        36\n",
      "\n"
     ]
    }
   ],
   "source": [
    "#Decision Tree 사용하여 학습하고 모델 평가\n",
    "from sklearn.tree import DecisionTreeClassifier\n",
    "#정답이 있고 그 정답을 맞추기 위해 학습하는 지도학습, 그리고 지도학습 중에서도 주어진 데이터가 \n",
    "#어떤 카테고리에 속하는지를 분류해야하니까 지도학습중에서도 분류할수있는 모델인 의사결정나무를 사용\n",
    "#하기 위한 임포트\n",
    "\n",
    "decision_tree = DecisionTreeClassifier(random_state=32) #의사결정나무 객체를 생성\n",
    "# print(decision_tree._estimator_type)\n",
    "\n",
    "decision_tree.fit(X_train, y_train) #의사결정나무에 훈련 데이터를 집어넣어 훈련시킨다.\n",
    "\n",
    "#이제 모델을 훈련시켰으니까 훈련된 모델을 시험해볼 차례다.\n",
    "#predict 메소드를 사용해 아까 따로 빼둔 테스트 데이터를 넣었을 때 잘 맞추는지 확인해본다.\n",
    "y_pred = decision_tree.predict(X_test) \n",
    "\n",
    "#테스트 데이터로 시험해본 결과로 모델을 평가해보기\n",
    "print(classification_report(y_test, y_pred))"
   ]
  },
  {
   "cell_type": "code",
   "execution_count": 13,
   "id": "ce0a0842",
   "metadata": {},
   "outputs": [
    {
     "name": "stdout",
     "output_type": "stream",
     "text": [
      "              precision    recall  f1-score   support\n",
      "\n",
      "           0       1.00      1.00      1.00        16\n",
      "           1       1.00      0.90      0.95        10\n",
      "           2       0.91      1.00      0.95        10\n",
      "\n",
      "    accuracy                           0.97        36\n",
      "   macro avg       0.97      0.97      0.97        36\n",
      "weighted avg       0.97      0.97      0.97        36\n",
      "\n"
     ]
    }
   ],
   "source": [
    "#Random Forest 사용하여 학습하고 모델 평가\n",
    "from sklearn.ensemble import RandomForestClassifier\n",
    "#Random Forest 사용하기 위한 임포트\n",
    "\n",
    "random_forest = RandomForestClassifier(random_state=32) #Random Forest 객체 생성\n",
    "random_forest.fit(X_train, y_train) #학습\n",
    "y_pred = random_forest.predict(X_test) #시험결과\n",
    "\n",
    "print(classification_report(y_test, y_pred)) #시험결과로 모델 평가"
   ]
  },
  {
   "cell_type": "code",
   "execution_count": 14,
   "id": "c588f43d",
   "metadata": {},
   "outputs": [
    {
     "name": "stdout",
     "output_type": "stream",
     "text": [
      "              precision    recall  f1-score   support\n",
      "\n",
      "           0       0.93      0.81      0.87        16\n",
      "           1       0.41      0.90      0.56        10\n",
      "           2       0.00      0.00      0.00        10\n",
      "\n",
      "    accuracy                           0.61        36\n",
      "   macro avg       0.45      0.57      0.48        36\n",
      "weighted avg       0.53      0.61      0.54        36\n",
      "\n"
     ]
    },
    {
     "name": "stderr",
     "output_type": "stream",
     "text": [
      "/opt/conda/lib/python3.9/site-packages/sklearn/metrics/_classification.py:1308: UndefinedMetricWarning: Precision and F-score are ill-defined and being set to 0.0 in labels with no predicted samples. Use `zero_division` parameter to control this behavior.\n",
      "  _warn_prf(average, modifier, msg_start, len(result))\n",
      "/opt/conda/lib/python3.9/site-packages/sklearn/metrics/_classification.py:1308: UndefinedMetricWarning: Precision and F-score are ill-defined and being set to 0.0 in labels with no predicted samples. Use `zero_division` parameter to control this behavior.\n",
      "  _warn_prf(average, modifier, msg_start, len(result))\n",
      "/opt/conda/lib/python3.9/site-packages/sklearn/metrics/_classification.py:1308: UndefinedMetricWarning: Precision and F-score are ill-defined and being set to 0.0 in labels with no predicted samples. Use `zero_division` parameter to control this behavior.\n",
      "  _warn_prf(average, modifier, msg_start, len(result))\n"
     ]
    }
   ],
   "source": [
    "#SVM 사용하여 학습하고 모델 평가\n",
    "from sklearn import svm\n",
    "#svm 사용하기 위한 임포트\n",
    "\n",
    "svm_model = svm.SVC(random_state=32) #svc 객체 생성\n",
    "svm_model.fit(X_train, y_train) #학습\n",
    "y_pred = svm_model.predict(X_test) #시험결과\n",
    " \n",
    "print(classification_report(y_test, y_pred)) #시험결과로 모델 평가"
   ]
  },
  {
   "cell_type": "code",
   "execution_count": 15,
   "id": "d5a16f06",
   "metadata": {},
   "outputs": [
    {
     "name": "stdout",
     "output_type": "stream",
     "text": [
      "              precision    recall  f1-score   support\n",
      "\n",
      "           0       1.00      0.25      0.40        16\n",
      "           1       0.31      1.00      0.48        10\n",
      "           2       0.00      0.00      0.00        10\n",
      "\n",
      "    accuracy                           0.39        36\n",
      "   macro avg       0.44      0.42      0.29        36\n",
      "weighted avg       0.53      0.39      0.31        36\n",
      "\n"
     ]
    },
    {
     "name": "stderr",
     "output_type": "stream",
     "text": [
      "/opt/conda/lib/python3.9/site-packages/sklearn/metrics/_classification.py:1308: UndefinedMetricWarning: Precision and F-score are ill-defined and being set to 0.0 in labels with no predicted samples. Use `zero_division` parameter to control this behavior.\n",
      "  _warn_prf(average, modifier, msg_start, len(result))\n",
      "/opt/conda/lib/python3.9/site-packages/sklearn/metrics/_classification.py:1308: UndefinedMetricWarning: Precision and F-score are ill-defined and being set to 0.0 in labels with no predicted samples. Use `zero_division` parameter to control this behavior.\n",
      "  _warn_prf(average, modifier, msg_start, len(result))\n",
      "/opt/conda/lib/python3.9/site-packages/sklearn/metrics/_classification.py:1308: UndefinedMetricWarning: Precision and F-score are ill-defined and being set to 0.0 in labels with no predicted samples. Use `zero_division` parameter to control this behavior.\n",
      "  _warn_prf(average, modifier, msg_start, len(result))\n"
     ]
    }
   ],
   "source": [
    "#SGD Classifier 사용하여 학습하고 모델 평가\n",
    "from sklearn.linear_model import SGDClassifier\n",
    "#SGDClassifier 사용하기 위한 임포트\n",
    "\n",
    "sgd_model = SGDClassifier(random_state=32) #SGD Classifier 객체 생성\n",
    "sgd_model.fit(X_train, y_train) #학습\n",
    "y_pred = sgd_model.predict(X_test) #시험결과\n",
    "\n",
    "print(classification_report(y_test, y_pred)) #시험결과로 모델 평가"
   ]
  },
  {
   "cell_type": "code",
   "execution_count": null,
   "id": "050ada4b",
   "metadata": {},
   "outputs": [],
   "source": [
    "#와인의 경우 랜덤 포레스트 모델 사용시 정확도가 가장 좋았다."
   ]
  }
 ],
 "metadata": {
  "kernelspec": {
   "display_name": "Python 3 (ipykernel)",
   "language": "python",
   "name": "python3"
  },
  "language_info": {
   "codemirror_mode": {
    "name": "ipython",
    "version": 3
   },
   "file_extension": ".py",
   "mimetype": "text/x-python",
   "name": "python",
   "nbconvert_exporter": "python",
   "pygments_lexer": "ipython3",
   "version": "3.9.7"
  }
 },
 "nbformat": 4,
 "nbformat_minor": 5
}
