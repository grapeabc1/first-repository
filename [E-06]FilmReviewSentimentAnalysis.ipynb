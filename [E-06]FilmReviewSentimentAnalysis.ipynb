{
 "cells": [
  {
   "cell_type": "code",
   "execution_count": 191,
   "id": "da253801",
   "metadata": {},
   "outputs": [
    {
     "name": "stdout",
     "output_type": "stream",
     "text": [
      "ln: failed to create symbolic link '/aiffel/aiffel/sentiment_classification/data/ratings_test.txt': File exists\r\n",
      "ln: failed to create symbolic link '/aiffel/aiffel/sentiment_classification/data/ratings_train.txt': File exists\r\n"
     ]
    }
   ],
   "source": [
    "! ln -s ~/data/*.txt ~/aiffel/sentiment_classification/data"
   ]
  },
  {
   "cell_type": "code",
   "execution_count": 192,
   "id": "91026600",
   "metadata": {},
   "outputs": [
    {
     "data": {
      "text/html": [
       "<div>\n",
       "<style scoped>\n",
       "    .dataframe tbody tr th:only-of-type {\n",
       "        vertical-align: middle;\n",
       "    }\n",
       "\n",
       "    .dataframe tbody tr th {\n",
       "        vertical-align: top;\n",
       "    }\n",
       "\n",
       "    .dataframe thead th {\n",
       "        text-align: right;\n",
       "    }\n",
       "</style>\n",
       "<table border=\"1\" class=\"dataframe\">\n",
       "  <thead>\n",
       "    <tr style=\"text-align: right;\">\n",
       "      <th></th>\n",
       "      <th>id</th>\n",
       "      <th>document</th>\n",
       "      <th>label</th>\n",
       "    </tr>\n",
       "  </thead>\n",
       "  <tbody>\n",
       "    <tr>\n",
       "      <th>0</th>\n",
       "      <td>9976970</td>\n",
       "      <td>아 더빙.. 진짜 짜증나네요 목소리</td>\n",
       "      <td>0</td>\n",
       "    </tr>\n",
       "    <tr>\n",
       "      <th>1</th>\n",
       "      <td>3819312</td>\n",
       "      <td>흠...포스터보고 초딩영화줄....오버연기조차 가볍지 않구나</td>\n",
       "      <td>1</td>\n",
       "    </tr>\n",
       "    <tr>\n",
       "      <th>2</th>\n",
       "      <td>10265843</td>\n",
       "      <td>너무재밓었다그래서보는것을추천한다</td>\n",
       "      <td>0</td>\n",
       "    </tr>\n",
       "    <tr>\n",
       "      <th>3</th>\n",
       "      <td>9045019</td>\n",
       "      <td>교도소 이야기구먼 ..솔직히 재미는 없다..평점 조정</td>\n",
       "      <td>0</td>\n",
       "    </tr>\n",
       "    <tr>\n",
       "      <th>4</th>\n",
       "      <td>6483659</td>\n",
       "      <td>사이몬페그의 익살스런 연기가 돋보였던 영화!스파이더맨에서 늙어보이기만 했던 커스틴 ...</td>\n",
       "      <td>1</td>\n",
       "    </tr>\n",
       "  </tbody>\n",
       "</table>\n",
       "</div>"
      ],
      "text/plain": [
       "         id                                           document  label\n",
       "0   9976970                                아 더빙.. 진짜 짜증나네요 목소리      0\n",
       "1   3819312                  흠...포스터보고 초딩영화줄....오버연기조차 가볍지 않구나      1\n",
       "2  10265843                                  너무재밓었다그래서보는것을추천한다      0\n",
       "3   9045019                      교도소 이야기구먼 ..솔직히 재미는 없다..평점 조정      0\n",
       "4   6483659  사이몬페그의 익살스런 연기가 돋보였던 영화!스파이더맨에서 늙어보이기만 했던 커스틴 ...      1"
      ]
     },
     "execution_count": 192,
     "metadata": {},
     "output_type": "execute_result"
    }
   ],
   "source": [
    "#영화리뷰 감상분석 도전하기\n",
    "#데이터준비와 확인\n",
    "\n",
    "import pandas as pd\n",
    "\n",
    "# 데이터를 읽어봅시다. \n",
    "train_data = pd.read_table('~/aiffel/sentiment_classification/data/ratings_train.txt')\n",
    "test_data = pd.read_table('~/aiffel/sentiment_classification/data/ratings_test.txt')\n",
    "\n",
    "train_data.head()"
   ]
  },
  {
   "cell_type": "code",
   "execution_count": 194,
   "id": "92d5903a",
   "metadata": {},
   "outputs": [],
   "source": [
    "#데이터로더 구성\n",
    "#실습 때 다루었던 IMDB 데이터셋은 텍스트를 가공하여 imdb.data_loader() 메서드를 호출하면 \n",
    "#숫자 인덱스로 변환된 텍스트와 word_to_index 딕셔너리까지 친절하게 제공합니다\n",
    "\n",
    "\n",
    "#그러나 이번에 다루게 될 nsmc 데이터셋은 전혀 가공되지 않은 텍스트 파일로 이루어져 있습니다. \n",
    "#이것을 읽어서 imdb.data_loader()와 동일하게 동작하는 자신만의 data_loader를 만들어 보는 것으로 시작합니다. \n",
    "#data_loader 안에서는 다음을 수행해야 합니다.\n",
    "\n",
    "#데이터의 중복 제거\n",
    "#NaN 결측치 제거\n",
    "#한국어 토크나이저로 토큰화\n",
    "#불용어(Stopwords) 제거\n",
    "#사전word_to_index 구성\n",
    "#텍스트 스트링을 사전 인덱스 스트링으로 변환\n",
    "#X_train, y_train, X_test, y_test, word_to_index 리턴\n",
    "\n",
    "\n",
    "\n",
    "from konlpy.tag import Mecab\n",
    "import numpy as np\n",
    "from collections import Counter\n",
    "\n",
    "tokenizer = Mecab()\n",
    "stopwords = ['의','가','이','은','들','는','좀','잘','걍','과','도','를','으로','자','에','와','한','하다']\n",
    "\n",
    "def load_data(train_data, test_data, num_words=10000):\n",
    "    train_data.drop_duplicates(subset=['document'], inplace=True)\n",
    "    train_data = train_data.dropna(how = 'any')\n",
    "    \n",
    "    \n",
    "    test_data.drop_duplicates(subset=['document'], inplace=True)\n",
    "    test_data = test_data.dropna(how = 'any')\n",
    "    \n",
    "    \n",
    "    X_train = []\n",
    "    for sentence in train_data['document']:\n",
    "        temp_X = tokenizer.morphs(sentence) # 토큰화\n",
    "        temp_X = [word for word in temp_X if not word in stopwords] # 불용어 제거\n",
    "        X_train.append(temp_X)\n",
    "\n",
    "    X_test = []\n",
    "    for sentence in test_data['document']:\n",
    "        temp_X = tokenizer.morphs(sentence) # 토큰화\n",
    "        temp_X = [word for word in temp_X if not word in stopwords] # 불용어 제거\n",
    "        X_test.append(temp_X)\n",
    "    \n",
    "    words = np.concatenate(X_train).tolist()\n",
    "    counter = Counter(words)\n",
    "    counter = counter.most_common(10000-4)\n",
    "    vocab = ['<PAD>', '<BOS>', '<UNK>', '<UNSED>'] + [key for key, _ in counter]\n",
    "    word_to_index = {word:index for index, word in enumerate(vocab)}\n",
    "        \n",
    "    def wordlist_to_indexlist(wordlist):\n",
    "        return [word_to_index[word] if word in word_to_index else word_to_index['<UNK>'] for word in wordlist]\n",
    "        \n",
    "    X_train = list(map(wordlist_to_indexlist, X_train))\n",
    "    X_test = list(map(wordlist_to_indexlist, X_test))\n",
    "        \n",
    "    return X_train, np.array(list(train_data['label'])), X_test, np.array(list(test_data['label'])), word_to_index\n",
    "    \n",
    "X_train, y_train, X_test, y_test, word_to_index = load_data(train_data, test_data)"
   ]
  },
  {
   "cell_type": "code",
   "execution_count": 187,
   "id": "aec1f638",
   "metadata": {},
   "outputs": [],
   "source": [
    "#word_to_index[\"<PAD>\"] = 0\n",
    "#word_to_index[\"<BOS>\"] = 1\n",
    "#word_to_index[\"<UNK>\"] = 2  # unknown"
   ]
  },
  {
   "cell_type": "code",
   "execution_count": 195,
   "id": "0b0a32ee",
   "metadata": {},
   "outputs": [],
   "source": [
    "index_to_word = {index:word for word, index in word_to_index.items()}"
   ]
  },
  {
   "cell_type": "code",
   "execution_count": 201,
   "id": "1e9f0473",
   "metadata": {},
   "outputs": [
    {
     "name": "stdout",
     "output_type": "stream",
     "text": [
      "영화\n"
     ]
    }
   ],
   "source": [
    "print(index_to_word[5])"
   ]
  },
  {
   "cell_type": "code",
   "execution_count": 204,
   "id": "06e65486",
   "metadata": {},
   "outputs": [],
   "source": [
    "# 문장 1개를 활용할 딕셔너리와 함께 주면, 단어 인덱스 리스트 벡터로 변환해 주는 함수입니다. \n",
    "# 단, 모든 문장은 <BOS>로 시작하는 것으로 합니다. \n",
    "def get_encoded_sentence(sentence, word_to_index):\n",
    "    return [word_to_index['<BOS>']]+[word_to_index[word] if word in word_to_index else word_to_index['<UNK>'] for word in sentence.split()]\n",
    "\n",
    "# 여러 개의 문장 리스트를 한꺼번에 단어 인덱스 리스트 벡터로 encode해 주는 함수입니다. \n",
    "def get_encoded_sentences(sentences, word_to_index):\n",
    "    return [get_encoded_sentence(sentence, word_to_index) for sentence in sentences]\n",
    "\n",
    "# 숫자 벡터로 encode된 문장을 원래대로 decode하는 함수입니다. \n",
    "def get_decoded_sentence(encoded_sentence, index_to_word):\n",
    "    return ' '.join(index_to_word[index] if index in index_to_word else '<UNK>' for index in encoded_sentence[1:])  #[1:]를 통해 <BOS>를 제외\n",
    "\n",
    "# 여러 개의 숫자 벡터로 encode된 문장을 한꺼번에 원래대로 decode하는 함수입니다. \n",
    "def get_decoded_sentences(encoded_sentences, index_to_word):\n",
    "    return [get_decoded_sentence(encoded_sentence, index_to_word) for encoded_sentence in encoded_sentences]"
   ]
  },
  {
   "cell_type": "code",
   "execution_count": null,
   "id": "d2723316",
   "metadata": {},
   "outputs": [],
   "source": []
  },
  {
   "cell_type": "code",
   "execution_count": 205,
   "id": "38119a84",
   "metadata": {},
   "outputs": [],
   "source": [
    "# 3. 모델 구성을 위한 데이터 분석 및 가공"
   ]
  },
  {
   "cell_type": "code",
   "execution_count": 206,
   "id": "30a30ccc",
   "metadata": {},
   "outputs": [
    {
     "name": "stdout",
     "output_type": "stream",
     "text": [
      "문장길이 평균 :  15.96940191154864\n",
      "문장길이 최대 :  116\n",
      "문장길이 표준편차 :  12.843571191092\n",
      "pad_sequences maxlen :  41\n",
      "전체 문장의 0.9342988343341575%가 maxlen 설정값 이내에 포함됩니다. \n"
     ]
    }
   ],
   "source": [
    "#데이터셋 내 문장 길이 분포\n",
    "#적절한 최대 문장 길이 지정\n",
    "\n",
    "total_data_text = list(X_train) + list(X_test)\n",
    "# 텍스트데이터 문장길이의 리스트를 생성한 후\n",
    "num_tokens = [len(tokens) for tokens in total_data_text]\n",
    "num_tokens = np.array(num_tokens)\n",
    "# 문장길이의 평균값, 최대값, 표준편차를 계산해 본다. \n",
    "print('문장길이 평균 : ', np.mean(num_tokens))\n",
    "print('문장길이 최대 : ', np.max(num_tokens))\n",
    "print('문장길이 표준편차 : ', np.std(num_tokens))\n",
    "\n",
    "# 예를들어, 최대 길이를 (평균 + 2*표준편차)로 한다면,  \n",
    "max_tokens = np.mean(num_tokens) + 2 * np.std(num_tokens)\n",
    "maxlen = int(max_tokens)\n",
    "print('pad_sequences maxlen : ', maxlen)\n",
    "print('전체 문장의 {}%가 maxlen 설정값 이내에 포함됩니다. '.format(np.sum(num_tokens < max_tokens) / len(num_tokens)))"
   ]
  },
  {
   "cell_type": "code",
   "execution_count": 208,
   "id": "184387d8",
   "metadata": {},
   "outputs": [
    {
     "name": "stdout",
     "output_type": "stream",
     "text": [
      "(146182, 41)\n"
     ]
    }
   ],
   "source": [
    "#keras.preprocessing.sequnce.pad_sequnences을 활용한 패딩 추가\n",
    "\n",
    "import tensorflow as tf\n",
    "\n",
    "X_train = tf.keras.preprocessing.sequence.pad_sequences(X_train,\n",
    "                                                        value=word_to_index['<PAD>'],\n",
    "                                                        padding='pre',\n",
    "                                                        maxlen=maxlen)\n",
    "\n",
    "X_test = tf.keras.preprocessing.sequence.pad_sequences(X_test,\n",
    "                                                       value=word_to_index['<PAD>'],\n",
    "                                                       padding='pre',\n",
    "                                                       maxlen=maxlen)\n",
    "\n",
    "print(X_train.shape)"
   ]
  },
  {
   "cell_type": "code",
   "execution_count": 209,
   "id": "305b3f44",
   "metadata": {},
   "outputs": [],
   "source": [
    "# 4. 모델 구성 및 validation set 구성\n",
    "\n",
    "#모델은 3가지 이상 다양하게 구성하여 실험해 보세요."
   ]
  },
  {
   "cell_type": "code",
   "execution_count": 210,
   "id": "61980022",
   "metadata": {},
   "outputs": [],
   "source": [
    "# validation set으로 46182 쓰고 훈련용으로 100000 사용할 예정 "
   ]
  },
  {
   "cell_type": "code",
   "execution_count": 211,
   "id": "072dc4fe",
   "metadata": {},
   "outputs": [
    {
     "name": "stdout",
     "output_type": "stream",
     "text": [
      "Model: \"sequential_22\"\n",
      "_________________________________________________________________\n",
      "Layer (type)                 Output Shape              Param #   \n",
      "=================================================================\n",
      "embedding_22 (Embedding)     (None, None, 10)          100000    \n",
      "_________________________________________________________________\n",
      "lstm_7 (LSTM)                (None, 8)                 608       \n",
      "_________________________________________________________________\n",
      "dense_44 (Dense)             (None, 8)                 72        \n",
      "_________________________________________________________________\n",
      "dense_45 (Dense)             (None, 1)                 9         \n",
      "=================================================================\n",
      "Total params: 100,689\n",
      "Trainable params: 100,689\n",
      "Non-trainable params: 0\n",
      "_________________________________________________________________\n"
     ]
    }
   ],
   "source": [
    "#RNN 모델\n",
    "\n",
    "vocab_size = 10000  # 어휘 사전의 크기입니다\n",
    "word_vector_dim = 10  # 단어 하나를 표현하는 임베딩 벡터의 차원수입니다. \n",
    "\n",
    "model_rnn = tf.keras.Sequential()\n",
    "model_rnn.add(tf.keras.layers.Embedding(vocab_size, word_vector_dim, input_shape=(None,)))\n",
    "model_rnn.add(tf.keras.layers.LSTM(8))   # 가장 널리 쓰이는 RNN인 LSTM 레이어를 사용하였습니다. 이때 LSTM state 벡터의 차원수는 8로 하였습니다. (변경 가능)\n",
    "model_rnn.add(tf.keras.layers.Dense(8, activation='relu'))\n",
    "model_rnn.add(tf.keras.layers.Dense(1, activation='sigmoid'))  # 최종 출력은 긍정/부정을 나타내는 1dim 입니다.\n",
    "\n",
    "model_rnn.summary()"
   ]
  },
  {
   "cell_type": "code",
   "execution_count": 212,
   "id": "9a864870",
   "metadata": {},
   "outputs": [
    {
     "name": "stdout",
     "output_type": "stream",
     "text": [
      "Model: \"sequential_23\"\n",
      "_________________________________________________________________\n",
      "Layer (type)                 Output Shape              Param #   \n",
      "=================================================================\n",
      "embedding_23 (Embedding)     (None, None, 16)          160000    \n",
      "_________________________________________________________________\n",
      "conv1d_18 (Conv1D)           (None, None, 16)          1808      \n",
      "_________________________________________________________________\n",
      "max_pooling1d_9 (MaxPooling1 (None, None, 16)          0         \n",
      "_________________________________________________________________\n",
      "conv1d_19 (Conv1D)           (None, None, 16)          1808      \n",
      "_________________________________________________________________\n",
      "global_max_pooling1d_15 (Glo (None, 16)                0         \n",
      "_________________________________________________________________\n",
      "dense_46 (Dense)             (None, 8)                 136       \n",
      "_________________________________________________________________\n",
      "dense_47 (Dense)             (None, 1)                 9         \n",
      "=================================================================\n",
      "Total params: 163,761\n",
      "Trainable params: 163,761\n",
      "Non-trainable params: 0\n",
      "_________________________________________________________________\n"
     ]
    }
   ],
   "source": [
    "#CNN 모델\n",
    "\n",
    "vocab_size = 10000  # 어휘 사전의 크기입니다\n",
    "word_vector_dim = 16   # 단어 하나를 표현하는 임베딩 벡터의 차원 수입니다. \n",
    "\n",
    "model_cnn = tf.keras.Sequential()\n",
    "model_cnn.add(tf.keras.layers.Embedding(vocab_size, word_vector_dim, input_shape=(None,)))\n",
    "model_cnn.add(tf.keras.layers.Conv1D(16, 7, activation='relu'))\n",
    "model_cnn.add(tf.keras.layers.MaxPooling1D(5))\n",
    "model_cnn.add(tf.keras.layers.Conv1D(16, 7, activation='relu'))\n",
    "model_cnn.add(tf.keras.layers.GlobalMaxPooling1D())\n",
    "model_cnn.add(tf.keras.layers.Dense(8, activation='relu'))\n",
    "model_cnn.add(tf.keras.layers.Dense(1, activation='sigmoid'))  # 최종 출력은 긍정/부정을 나타내는 1dim 입니다.\n",
    "\n",
    "model_cnn.summary()"
   ]
  },
  {
   "cell_type": "code",
   "execution_count": 213,
   "id": "449845c8",
   "metadata": {},
   "outputs": [
    {
     "name": "stdout",
     "output_type": "stream",
     "text": [
      "Model: \"sequential_24\"\n",
      "_________________________________________________________________\n",
      "Layer (type)                 Output Shape              Param #   \n",
      "=================================================================\n",
      "embedding_24 (Embedding)     (None, None, 10)          100000    \n",
      "_________________________________________________________________\n",
      "global_max_pooling1d_16 (Glo (None, 10)                0         \n",
      "_________________________________________________________________\n",
      "dense_48 (Dense)             (None, 8)                 88        \n",
      "_________________________________________________________________\n",
      "dense_49 (Dense)             (None, 1)                 9         \n",
      "=================================================================\n",
      "Total params: 100,097\n",
      "Trainable params: 100,097\n",
      "Non-trainable params: 0\n",
      "_________________________________________________________________\n"
     ]
    }
   ],
   "source": [
    "#globalmaxpooling1d() 레이어 하나만 사용\n",
    "\n",
    "vocab_size = 10000  # 어휘 사전의 크기입니다\n",
    "word_vector_dim = 10   # 단어 하나를 표현하는 임베딩 벡터의 차원 수입니다. \n",
    "\n",
    "model_gmp1d = tf.keras.Sequential()\n",
    "model_gmp1d.add(tf.keras.layers.Embedding(vocab_size, word_vector_dim, input_shape=(None,)))\n",
    "model_gmp1d.add(tf.keras.layers.GlobalMaxPooling1D())\n",
    "model_gmp1d.add(tf.keras.layers.Dense(8, activation='relu'))\n",
    "model_gmp1d.add(tf.keras.layers.Dense(1, activation='sigmoid'))  # 최종 출력은 긍정/부정을 나타내는 1dim 입니다.\n",
    "\n",
    "model_gmp1d.summary()"
   ]
  },
  {
   "cell_type": "code",
   "execution_count": 214,
   "id": "580e4662",
   "metadata": {},
   "outputs": [
    {
     "name": "stdout",
     "output_type": "stream",
     "text": [
      "(100000, 41)\n",
      "(100000,)\n"
     ]
    }
   ],
   "source": [
    "# 모델 훈련전 데이터셋에서 검증셋 분리\n",
    "\n",
    "# validation set 46182건 분리\n",
    "X_val = X_train[:46182]   \n",
    "y_val = y_train[:46182]\n",
    "\n",
    "# validation set을 제외한 나머지 100000건\n",
    "partial_X_train = X_train[46182:]  \n",
    "partial_y_train = y_train[46182:]\n",
    "\n",
    "print(partial_X_train.shape)\n",
    "print(partial_y_train.shape)"
   ]
  },
  {
   "cell_type": "code",
   "execution_count": 215,
   "id": "b19d41ec",
   "metadata": {},
   "outputs": [],
   "source": [
    "# 5. 모델 훈련 개시"
   ]
  },
  {
   "cell_type": "code",
   "execution_count": 216,
   "id": "98ee993f",
   "metadata": {},
   "outputs": [
    {
     "name": "stdout",
     "output_type": "stream",
     "text": [
      "Epoch 1/5\n",
      "196/196 [==============================] - 3s 8ms/step - loss: 0.5331 - accuracy: 0.7508 - val_loss: 0.3870 - val_accuracy: 0.8345\n",
      "Epoch 2/5\n",
      "196/196 [==============================] - 1s 6ms/step - loss: 0.3540 - accuracy: 0.8510 - val_loss: 0.3531 - val_accuracy: 0.8474\n",
      "Epoch 3/5\n",
      "196/196 [==============================] - 1s 6ms/step - loss: 0.3277 - accuracy: 0.8624 - val_loss: 0.3531 - val_accuracy: 0.8476\n",
      "Epoch 4/5\n",
      "196/196 [==============================] - 1s 6ms/step - loss: 0.3131 - accuracy: 0.8695 - val_loss: 0.3525 - val_accuracy: 0.8471\n",
      "Epoch 5/5\n",
      "196/196 [==============================] - 1s 6ms/step - loss: 0.3059 - accuracy: 0.8740 - val_loss: 0.3605 - val_accuracy: 0.8431\n"
     ]
    }
   ],
   "source": [
    "#rnn모델 훈련\n",
    "model_rnn.compile(optimizer='adam',\n",
    "              loss='binary_crossentropy',\n",
    "              metrics=['accuracy'])\n",
    "              \n",
    "epochs=5   \n",
    "\n",
    "history = model_rnn.fit(partial_X_train,\n",
    "                    partial_y_train,\n",
    "                    epochs=epochs,\n",
    "                    batch_size=512,\n",
    "                    validation_data=(X_val, y_val),\n",
    "                    verbose=1)"
   ]
  },
  {
   "cell_type": "code",
   "execution_count": 217,
   "id": "dbcb2026",
   "metadata": {},
   "outputs": [
    {
     "name": "stdout",
     "output_type": "stream",
     "text": [
      "Epoch 1/5\n",
      "196/196 [==============================] - 2s 7ms/step - loss: 0.5058 - accuracy: 0.7495 - val_loss: 0.3579 - val_accuracy: 0.8424\n",
      "Epoch 2/5\n",
      "196/196 [==============================] - 1s 5ms/step - loss: 0.3285 - accuracy: 0.8600 - val_loss: 0.3437 - val_accuracy: 0.8480\n",
      "Epoch 3/5\n",
      "196/196 [==============================] - 1s 6ms/step - loss: 0.2890 - accuracy: 0.8810 - val_loss: 0.3419 - val_accuracy: 0.8493\n",
      "Epoch 4/5\n",
      "196/196 [==============================] - 1s 5ms/step - loss: 0.2557 - accuracy: 0.8970 - val_loss: 0.3545 - val_accuracy: 0.8502\n",
      "Epoch 5/5\n",
      "196/196 [==============================] - 1s 5ms/step - loss: 0.2216 - accuracy: 0.9145 - val_loss: 0.3705 - val_accuracy: 0.8481\n"
     ]
    }
   ],
   "source": [
    "model_cnn.compile(optimizer='adam',\n",
    "              loss='binary_crossentropy',\n",
    "              metrics=['accuracy'])\n",
    "              \n",
    "epochs=5   \n",
    "\n",
    "history = model_cnn.fit(partial_X_train,\n",
    "                    partial_y_train,\n",
    "                    epochs=epochs,\n",
    "                    batch_size=512,\n",
    "                    validation_data=(X_val, y_val),\n",
    "                    verbose=1)"
   ]
  },
  {
   "cell_type": "code",
   "execution_count": 218,
   "id": "1ae54460",
   "metadata": {},
   "outputs": [
    {
     "name": "stdout",
     "output_type": "stream",
     "text": [
      "Epoch 1/5\n",
      "196/196 [==============================] - 1s 4ms/step - loss: 0.6419 - accuracy: 0.6622 - val_loss: 0.5418 - val_accuracy: 0.7938\n",
      "Epoch 2/5\n",
      "196/196 [==============================] - 1s 4ms/step - loss: 0.4537 - accuracy: 0.8218 - val_loss: 0.4015 - val_accuracy: 0.8284\n",
      "Epoch 3/5\n",
      "196/196 [==============================] - 1s 4ms/step - loss: 0.3656 - accuracy: 0.8469 - val_loss: 0.3722 - val_accuracy: 0.8365\n",
      "Epoch 4/5\n",
      "196/196 [==============================] - 1s 4ms/step - loss: 0.3302 - accuracy: 0.8617 - val_loss: 0.3660 - val_accuracy: 0.8396\n",
      "Epoch 5/5\n",
      "196/196 [==============================] - 1s 4ms/step - loss: 0.3077 - accuracy: 0.8718 - val_loss: 0.3667 - val_accuracy: 0.8403\n"
     ]
    }
   ],
   "source": [
    "##globalmaxpooling1d() 레이어 하나만 사용한 모델 훈련\n",
    "model_gmp1d.compile(optimizer='adam',\n",
    "              loss='binary_crossentropy',\n",
    "              metrics=['accuracy'])\n",
    "              \n",
    "epochs=5 \n",
    "\n",
    "history = model_gmp1d.fit(partial_X_train,\n",
    "                    partial_y_train,\n",
    "                    epochs=epochs,\n",
    "                    batch_size=512,\n",
    "                    validation_data=(X_val, y_val),\n",
    "                    verbose=1)"
   ]
  },
  {
   "cell_type": "code",
   "execution_count": 163,
   "id": "c1133c83",
   "metadata": {},
   "outputs": [
    {
     "name": "stdout",
     "output_type": "stream",
     "text": [
      "RNN\n",
      "1517/1517 - 3s - loss: 0.3830 - accuracy: 0.8321\n",
      "[0.38301920890808105, 0.8320593237876892]\n"
     ]
    }
   ],
   "source": [
    "#학습이 끝난 모델을 테스트셋으로 평가\n",
    "\n",
    "#rnn\n",
    "print(\"RNN\")\n",
    "results_rnn = model_rnn.evaluate(X_test,  y_test, verbose=2)\n",
    "print(results_rnn)"
   ]
  },
  {
   "cell_type": "code",
   "execution_count": 219,
   "id": "04869285",
   "metadata": {},
   "outputs": [
    {
     "name": "stdout",
     "output_type": "stream",
     "text": [
      "CNN\n",
      "1537/1537 - 2s - loss: 0.3799 - accuracy: 0.8454\n",
      "[0.3798815906047821, 0.8453526496887207]\n"
     ]
    }
   ],
   "source": [
    "#cnn\n",
    "print(\"CNN\")\n",
    "results_cnn = model_cnn.evaluate(X_test,  y_test, verbose=2)\n",
    "print(results_cnn)"
   ]
  },
  {
   "cell_type": "code",
   "execution_count": 220,
   "id": "e6350014",
   "metadata": {},
   "outputs": [
    {
     "name": "stdout",
     "output_type": "stream",
     "text": [
      "globalmaxpooling1d() 레이어 하나만 사용한 모델\n",
      "1537/1537 - 2s - loss: 0.3781 - accuracy: 0.8349\n",
      "[0.3781122863292694, 0.8349370360374451]\n"
     ]
    }
   ],
   "source": [
    "#globalmaxpooling1d() 레이어 하나만 사용한 모델\n",
    "print(\"globalmaxpooling1d() 레이어 하나만 사용한 모델\")\n",
    "results_gmp1d = model_gmp1d.evaluate(X_test,  y_test, verbose=2)\n",
    "print(results_gmp1d)"
   ]
  },
  {
   "cell_type": "code",
   "execution_count": 221,
   "id": "b6155904",
   "metadata": {},
   "outputs": [],
   "source": [
    "#6. Loss, Accuracy 그래프 시각화"
   ]
  },
  {
   "cell_type": "code",
   "execution_count": 222,
   "id": "6ff7157b",
   "metadata": {},
   "outputs": [
    {
     "name": "stdout",
     "output_type": "stream",
     "text": [
      "dict_keys(['loss', 'accuracy', 'val_loss', 'val_accuracy'])\n"
     ]
    }
   ],
   "source": [
    "history_dict = history.history\n",
    "print(history_dict.keys()) # epoch에 따른 그래프를 그려볼 수 있는 항목들"
   ]
  },
  {
   "cell_type": "code",
   "execution_count": 223,
   "id": "3e41d63d",
   "metadata": {},
   "outputs": [
    {
     "data": {
      "image/png": "[encoded data removed]",
      "text/plain": [
       "<Figure size 432x288 with 1 Axes>"
      ]
     },
     "metadata": {
      "needs_background": "light"
     },
     "output_type": "display_data"
    }
   ],
   "source": [
    "import matplotlib.pyplot as plt\n",
    "\n",
    "acc = history_dict['accuracy']\n",
    "val_acc = history_dict['val_accuracy']\n",
    "loss = history_dict['loss']\n",
    "val_loss = history_dict['val_loss']\n",
    "\n",
    "epochs = range(1, len(acc) + 1)\n",
    "\n",
    "# \"bo\"는 \"파란색 점\"입니다\n",
    "plt.plot(epochs, loss, 'bo', label='Training loss')\n",
    "# b는 \"파란 실선\"입니다\n",
    "plt.plot(epochs, val_loss, 'b', label='Validation loss')\n",
    "plt.title('Training and validation loss')\n",
    "plt.xlabel('Epochs')\n",
    "plt.ylabel('Loss')\n",
    "plt.legend()\n",
    "\n",
    "plt.show()"
   ]
  },
  {
   "cell_type": "code",
   "execution_count": 224,
   "id": "12c273c7",
   "metadata": {},
   "outputs": [],
   "source": [
    "#loss 그래프 분석:\n",
    "#epoch 3을 기준으로 tloss와 vloss의 차이가 벌어지면서 vloss가 tloss보다 많이 높아졌으니까 \n",
    "#epoch는 3으로 설정하는게 더 적절해보임"
   ]
  },
  {
   "cell_type": "code",
   "execution_count": 225,
   "id": "1ae6bd43",
   "metadata": {},
   "outputs": [
    {
     "data": {
      "image/png": "[encoded data removed]",
      "text/plain": [
       "<Figure size 432x288 with 1 Axes>"
      ]
     },
     "metadata": {
      "needs_background": "light"
     },
     "output_type": "display_data"
    }
   ],
   "source": [
    "plt.clf()   # 그림을 초기화합니다\n",
    "\n",
    "plt.plot(epochs, acc, 'bo', label='Training acc')\n",
    "plt.plot(epochs, val_acc, 'b', label='Validation acc')\n",
    "plt.title('Training and validation accuracy')\n",
    "plt.xlabel('Epochs')\n",
    "plt.ylabel('Accuracy')\n",
    "plt.legend()\n",
    "\n",
    "plt.show()"
   ]
  },
  {
   "cell_type": "code",
   "execution_count": 226,
   "id": "a68b0ecb",
   "metadata": {},
   "outputs": [],
   "source": [
    "#accuray 그래프 분석:\n",
    "#loss 그래프와 같은 이유로 epoch 5보단 2~3이 더 적절해보임"
   ]
  },
  {
   "cell_type": "code",
   "execution_count": 227,
   "id": "d865f592",
   "metadata": {},
   "outputs": [],
   "source": [
    "# 7. 학습된 Embedding 레이어 분석"
   ]
  },
  {
   "cell_type": "code",
   "execution_count": 228,
   "id": "1379382c",
   "metadata": {},
   "outputs": [
    {
     "name": "stdout",
     "output_type": "stream",
     "text": [
      "(10000, 10)\n"
     ]
    }
   ],
   "source": [
    "embedding_layer = model_rnn.layers[0]\n",
    "weights = embedding_layer.get_weights()[0]\n",
    "print(weights.shape)    # shape: (vocab_size, embedding_dim)"
   ]
  },
  {
   "cell_type": "code",
   "execution_count": 229,
   "id": "0ab34317",
   "metadata": {},
   "outputs": [],
   "source": [
    "import os\n",
    "import gensim\n",
    "from gensim.models.keyedvectors import Word2VecKeyedVectors\n",
    "from tensorflow.keras.initializers import Constant\n",
    "\n",
    "\n",
    "# 학습한 Embedding 파라미터를 파일에 써서 저장합니다. \n",
    "word2vec_file_path = os.getenv('HOME')+'/aiffel/sentiment_classification/data/word2vec.txt'\n",
    "f = open(word2vec_file_path, 'w')\n",
    "f.write('{} {}\\n'.format(vocab_size-4, word_vector_dim))  # 몇개의 벡터를 얼마 사이즈로 기재할지 타이틀을 씁니다.\n",
    "\n",
    "# 단어 개수(에서 특수문자 4개는 제외하고)만큼의 워드 벡터를 파일에 기록합니다. \n",
    "vectors = model_gmp1d.get_weights()[0]\n",
    "for i in range(4, vocab_size):\n",
    "    f.write('{} {}\\n'.format(index_to_word[i], ' '.join(map(str, list(vectors[i, :])))))\n",
    "f.close()"
   ]
  },
  {
   "cell_type": "code",
   "execution_count": 233,
   "id": "caf037a8",
   "metadata": {},
   "outputs": [
    {
     "data": {
      "text/plain": [
       "array([-0.05552001, -0.09984111, -0.08703337,  0.03690083,  0.00574128,\n",
       "       -0.09733456, -0.08841748, -0.08387419, -0.03985668, -0.01217147],\n",
       "      dtype=float32)"
      ]
     },
     "execution_count": 233,
     "metadata": {},
     "output_type": "execute_result"
    }
   ],
   "source": [
    "#gensim에서 제공하는 패키지를 이용해, \n",
    "#위에 남긴 임베딩 파라미터를 읽어서 word vector로 활용\n",
    "\n",
    "from gensim.models.keyedvectors import Word2VecKeyedVectors\n",
    "\n",
    "word_vectors = Word2VecKeyedVectors.load_word2vec_format(word2vec_file_path, binary=False)\n",
    "vector = word_vectors['사람']\n",
    "vector"
   ]
  },
  {
   "cell_type": "code",
   "execution_count": 236,
   "id": "b70eefb1",
   "metadata": {},
   "outputs": [
    {
     "data": {
      "text/plain": [
       "[('!!!', 0.9871779680252075),\n",
       " ('아요', 0.9844964146614075),\n",
       " ('할머니', 0.982246994972229),\n",
       " ('호흡', 0.9783604145050049),\n",
       " ('행동', 0.9766379594802856),\n",
       " ('떠나', 0.9681214094161987),\n",
       " ('무엇', 0.9670673608779907),\n",
       " ('왕', 0.9664388298988342),\n",
       " ('!!', 0.9657636880874634),\n",
       " ('목소리', 0.9646223783493042)]"
      ]
     },
     "execution_count": 236,
     "metadata": {},
     "output_type": "execute_result"
    }
   ],
   "source": [
    "word_vectors.similar_by_word(\"사람\")"
   ]
  },
  {
   "cell_type": "code",
   "execution_count": 234,
   "id": "f0b56403",
   "metadata": {},
   "outputs": [
    {
     "data": {
      "text/plain": [
       "[('창조', 0.9450905323028564),\n",
       " ('4', 0.9300074577331543),\n",
       " ('보단', 0.9289112687110901),\n",
       " ('성형', 0.91628098487854),\n",
       " ('먼지', 0.9060079455375671),\n",
       " ('얘', 0.9044432044029236),\n",
       " ('세이', 0.9039097428321838),\n",
       " ('.;', 0.9004266262054443),\n",
       " ('대우', 0.8975449204444885),\n",
       " ('질러', 0.8941645622253418)]"
      ]
     },
     "execution_count": 234,
     "metadata": {},
     "output_type": "execute_result"
    }
   ],
   "source": [
    "word_vectors.similar_by_word(\"시간\")"
   ]
  },
  {
   "cell_type": "code",
   "execution_count": 235,
   "id": "3c1b5243",
   "metadata": {},
   "outputs": [
    {
     "data": {
      "text/plain": [
       "[('발리', 0.9793580174446106),\n",
       " ('호불호', 0.9781672358512878),\n",
       " ('러닝', 0.9727414846420288),\n",
       " ('떳', 0.9689446091651917),\n",
       " ('결국', 0.9686387181282043),\n",
       " ('밝혀', 0.9618575572967529),\n",
       " ('네', 0.9554423689842224),\n",
       " ('기대', 0.9524935483932495),\n",
       " ('단역', 0.9462688565254211),\n",
       " ('타임', 0.9448453187942505)]"
      ]
     },
     "execution_count": 235,
     "metadata": {},
     "output_type": "execute_result"
    }
   ],
   "source": [
    "word_vectors.similar_by_word(\"이해\")"
   ]
  },
  {
   "cell_type": "code",
   "execution_count": null,
   "id": "cae12a6d",
   "metadata": {},
   "outputs": [],
   "source": [
    "# 학습된 임베딩 레이어는 별로 정확하지 않은 것 같다."
   ]
  },
  {
   "cell_type": "code",
   "execution_count": null,
   "id": "19722189",
   "metadata": {},
   "outputs": [],
   "source": [
    "# 8. 한국어 Word2Vec 임베딩 활용하여 성능 개선"
   ]
  },
  {
   "cell_type": "code",
   "execution_count": 245,
   "id": "66c83e07",
   "metadata": {},
   "outputs": [
    {
     "name": "stderr",
     "output_type": "stream",
     "text": [
      "/tmp/ipykernel_3527/3526420923.py:6: DeprecationWarning: Call to deprecated `similar_by_word` (Method will be removed in 4.0.0, use self.wv.similar_by_word() instead).\n",
      "  word2vec.similar_by_word(\"사람\")\n"
     ]
    },
    {
     "data": {
      "text/plain": [
       "[('젊은이', 0.6494427919387817),\n",
       " ('여인', 0.6287257671356201),\n",
       " ('백성', 0.6063710451126099),\n",
       " ('포졸', 0.6043275594711304),\n",
       " ('죄인', 0.5960500836372375),\n",
       " ('선비', 0.5868039131164551),\n",
       " ('부녀자', 0.5654411315917969),\n",
       " ('죄수', 0.5639811754226685),\n",
       " ('구경꾼', 0.5620019435882568),\n",
       " ('손님', 0.5589558482170105)]"
      ]
     },
     "execution_count": 245,
     "metadata": {},
     "output_type": "execute_result"
    }
   ],
   "source": [
    "from gensim.models import KeyedVectors\n",
    "\n",
    "word2vec_path = os.getenv('HOME')+'/aiffel/sentiment_classification/data/ko.bin'\n",
    "word2vec = gensim.models.Word2Vec.load(word2vec_path)\n",
    "\n",
    "word2vec.similar_by_word(\"사람\")"
   ]
  },
  {
   "cell_type": "code",
   "execution_count": 246,
   "id": "cfc17534",
   "metadata": {},
   "outputs": [
    {
     "name": "stderr",
     "output_type": "stream",
     "text": [
      "/tmp/ipykernel_3527/4202315454.py:1: DeprecationWarning: Call to deprecated `similar_by_word` (Method will be removed in 4.0.0, use self.wv.similar_by_word() instead).\n",
      "  word2vec.similar_by_word(\"시간\")\n"
     ]
    },
    {
     "data": {
      "text/plain": [
       "[('분간', 0.599348783493042),\n",
       " ('간격', 0.5879659652709961),\n",
       " ('일주일', 0.5773798227310181),\n",
       " ('장시간', 0.5595555305480957),\n",
       " ('기간', 0.5561516880989075),\n",
       " ('시일', 0.5550214052200317),\n",
       " ('분만', 0.5545178055763245),\n",
       " ('며칠', 0.5476520657539368),\n",
       " ('여분', 0.5410358905792236),\n",
       " ('시간대', 0.5361416935920715)]"
      ]
     },
     "execution_count": 246,
     "metadata": {},
     "output_type": "execute_result"
    }
   ],
   "source": [
    "word2vec.similar_by_word(\"시간\")"
   ]
  },
  {
   "cell_type": "code",
   "execution_count": 247,
   "id": "d8c7fb61",
   "metadata": {},
   "outputs": [
    {
     "name": "stderr",
     "output_type": "stream",
     "text": [
      "/tmp/ipykernel_3527/2816887174.py:1: DeprecationWarning: Call to deprecated `similar_by_word` (Method will be removed in 4.0.0, use self.wv.similar_by_word() instead).\n",
      "  word2vec.similar_by_word(\"이해\")\n"
     ]
    },
    {
     "data": {
      "text/plain": [
       "[('파악', 0.6464853286743164),\n",
       " ('인식', 0.6374833583831787),\n",
       " ('설명', 0.6089094877243042),\n",
       " ('인지', 0.5984542369842529),\n",
       " ('해석', 0.5830858945846558),\n",
       " ('자각', 0.5620999336242676),\n",
       " ('탐구', 0.5595905780792236),\n",
       " ('통찰', 0.5560247898101807),\n",
       " ('표현', 0.5544334650039673),\n",
       " ('의사소통', 0.5483694672584534)]"
      ]
     },
     "execution_count": 247,
     "metadata": {},
     "output_type": "execute_result"
    }
   ],
   "source": [
    "word2vec.similar_by_word(\"이해\")"
   ]
  },
  {
   "cell_type": "code",
   "execution_count": null,
   "id": "ddadc746",
   "metadata": {},
   "outputs": [],
   "source": [
    "#사람,시간,이해에 대한 키워드에 대해 확실히 알고 있는 것 같은 결과가 나왔다."
   ]
  },
  {
   "cell_type": "code",
   "execution_count": 250,
   "id": "6f80abbc",
   "metadata": {},
   "outputs": [
    {
     "name": "stderr",
     "output_type": "stream",
     "text": [
      "/tmp/ipykernel_3527/2172419220.py:12: DeprecationWarning: Call to deprecated `__contains__` (Method will be removed in 4.0.0, use self.wv.__contains__() instead).\n",
      "  if index_to_word[i] in word2vec:\n",
      "/tmp/ipykernel_3527/2172419220.py:13: DeprecationWarning: Call to deprecated `__getitem__` (Method will be removed in 4.0.0, use self.wv.__getitem__() instead).\n",
      "  embedding_matrix[i] = word2vec[index_to_word[i]]\n"
     ]
    }
   ],
   "source": [
    "#정말 똑똑한 이 임베딩 레이어로 바꿔서 다시 학습시켜보자\n",
    "\n",
    "from tensorflow.keras.initializers import Constant\n",
    "\n",
    "vocab_size = 10000     #어휘 사전의 크기(10,000개의 단어)\n",
    "word_vector_dim = 200  #워드 벡터의 차원수\n",
    "\n",
    "embedding_matrix = np.random.rand(vocab_size, word_vector_dim)\n",
    "\n",
    "#embedding_matrix에 Word2Vec 워드벡터를 단어 하나씩 차례대로 카피\n",
    "for i in range(4,vocab_size):\n",
    "    if index_to_word[i] in word2vec:\n",
    "        embedding_matrix[i] = word2vec[index_to_word[i]]"
   ]
  },
  {
   "cell_type": "code",
   "execution_count": 304,
   "id": "ee462654",
   "metadata": {},
   "outputs": [
    {
     "name": "stdout",
     "output_type": "stream",
     "text": [
      "Model: \"sequential_31\"\n",
      "_________________________________________________________________\n",
      "Layer (type)                 Output Shape              Param #   \n",
      "=================================================================\n",
      "embedding_31 (Embedding)     (None, None, 200)         2000000   \n",
      "_________________________________________________________________\n",
      "conv1d_24 (Conv1D)           (None, None, 16)          22416     \n",
      "_________________________________________________________________\n",
      "max_pooling1d_12 (MaxPooling (None, None, 16)          0         \n",
      "_________________________________________________________________\n",
      "conv1d_25 (Conv1D)           (None, None, 16)          1808      \n",
      "_________________________________________________________________\n",
      "global_max_pooling1d_19 (Glo (None, 16)                0         \n",
      "_________________________________________________________________\n",
      "dense_58 (Dense)             (None, 8)                 136       \n",
      "_________________________________________________________________\n",
      "dense_59 (Dense)             (None, 1)                 9         \n",
      "=================================================================\n",
      "Total params: 2,024,369\n",
      "Trainable params: 2,024,369\n",
      "Non-trainable params: 0\n",
      "_________________________________________________________________\n"
     ]
    }
   ],
   "source": [
    "#모델 다시 생성\n",
    "\n",
    "model = tf.keras.Sequential()\n",
    "model.add(tf.keras.layers.Embedding(vocab_size, word_vector_dim, input_shape=(None,)))\n",
    "model.add(tf.keras.layers.Conv1D(16, 7, activation='relu'))\n",
    "model.add(tf.keras.layers.MaxPooling1D(5))\n",
    "model.add(tf.keras.layers.Conv1D(16, 7, activation='relu'))\n",
    "model.add(tf.keras.layers.GlobalMaxPooling1D())\n",
    "model.add(tf.keras.layers.Dense(8, activation='relu'))\n",
    "model.add(tf.keras.layers.Dense(1, activation='sigmoid'))  # 최종 출력은 긍정/부정을 나타내는 1dim 입니다.\n",
    "\n",
    "model.summary()"
   ]
  },
  {
   "cell_type": "code",
   "execution_count": 305,
   "id": "752e81a3",
   "metadata": {},
   "outputs": [
    {
     "name": "stdout",
     "output_type": "stream",
     "text": [
      "Epoch 1/3\n",
      "196/196 [==============================] - 2s 8ms/step - loss: 0.4415 - accuracy: 0.7951 - val_loss: 0.3421 - val_accuracy: 0.8518\n",
      "Epoch 2/3\n",
      "196/196 [==============================] - 1s 7ms/step - loss: 0.2986 - accuracy: 0.8760 - val_loss: 0.3376 - val_accuracy: 0.8545\n",
      "Epoch 3/3\n",
      "196/196 [==============================] - 1s 7ms/step - loss: 0.2330 - accuracy: 0.9092 - val_loss: 0.3468 - val_accuracy: 0.8549\n"
     ]
    }
   ],
   "source": [
    "# 다시 훈련\n",
    "\n",
    "model.compile(optimizer='adam',\n",
    "              loss='binary_crossentropy',\n",
    "              metrics=['accuracy'])\n",
    "              \n",
    "epochs=3 \n",
    "\n",
    "history = model.fit(partial_X_train,\n",
    "                    partial_y_train,\n",
    "                    epochs=epochs,\n",
    "                    batch_size=512,\n",
    "                    validation_data=(X_val, y_val),\n",
    "                    verbose=1)"
   ]
  },
  {
   "cell_type": "code",
   "execution_count": 306,
   "id": "96b3e0b8",
   "metadata": {},
   "outputs": [
    {
     "name": "stdout",
     "output_type": "stream",
     "text": [
      "똑똑한 임베딩 레이어 사용한 모델\n",
      "1537/1537 - 3s - loss: 0.3594 - accuracy: 0.8503\n",
      "[0.3593931496143341, 0.8503163456916809]\n"
     ]
    }
   ],
   "source": [
    "#훈련 끝난 모델을 테스트셋으로 평가\n",
    "\n",
    "print(\"똑똑한 임베딩 레이어 사용한 모델\")\n",
    "results = model.evaluate(X_test,  y_test, verbose=2)\n",
    "print(results)"
   ]
  },
  {
   "cell_type": "code",
   "execution_count": 307,
   "id": "572585c0",
   "metadata": {},
   "outputs": [],
   "source": [
    "#시각화 분석"
   ]
  },
  {
   "cell_type": "code",
   "execution_count": 308,
   "id": "7549903a",
   "metadata": {},
   "outputs": [
    {
     "name": "stdout",
     "output_type": "stream",
     "text": [
      "dict_keys(['loss', 'accuracy', 'val_loss', 'val_accuracy'])\n"
     ]
    }
   ],
   "source": [
    "history_dict = history.history\n",
    "print(history_dict.keys()) # epoch에 따른 그래프를 그려볼 수 있는 항목들"
   ]
  },
  {
   "cell_type": "code",
   "execution_count": 309,
   "id": "5cfb400f",
   "metadata": {},
   "outputs": [
    {
     "data": {
      "image/png": "[encoded data removed]",
      "text/plain": [
       "<Figure size 432x288 with 1 Axes>"
      ]
     },
     "metadata": {
      "needs_background": "light"
     },
     "output_type": "display_data"
    }
   ],
   "source": [
    "import matplotlib.pyplot as plt\n",
    "\n",
    "acc = history_dict['accuracy']\n",
    "val_acc = history_dict['val_accuracy']\n",
    "loss = history_dict['loss']\n",
    "val_loss = history_dict['val_loss']\n",
    "\n",
    "epochs = range(1, len(acc) + 1)\n",
    "\n",
    "# \"bo\"는 \"파란색 점\"입니다\n",
    "plt.plot(epochs, loss, 'bo', label='Training loss')\n",
    "# b는 \"파란 실선\"입니다\n",
    "plt.plot(epochs, val_loss, 'b', label='Validation loss')\n",
    "plt.title('Training and validation loss')\n",
    "plt.xlabel('Epochs')\n",
    "plt.ylabel('Loss')\n",
    "plt.legend()\n",
    "\n",
    "plt.show()"
   ]
  },
  {
   "cell_type": "code",
   "execution_count": 310,
   "id": "00e18d7b",
   "metadata": {},
   "outputs": [
    {
     "data": {
      "image/png": "[encoded data removed]",
      "text/plain": [
       "<Figure size 432x288 with 1 Axes>"
      ]
     },
     "metadata": {
      "needs_background": "light"
     },
     "output_type": "display_data"
    }
   ],
   "source": [
    "plt.clf()   # 그림을 초기화합니다\n",
    "\n",
    "plt.plot(epochs, acc, 'bo', label='Training acc')\n",
    "plt.plot(epochs, val_acc, 'b', label='Validation acc')\n",
    "plt.title('Training and validation accuracy')\n",
    "plt.xlabel('Epochs')\n",
    "plt.ylabel('Accuracy')\n",
    "plt.legend()\n",
    "\n",
    "plt.show()"
   ]
  },
  {
   "cell_type": "code",
   "execution_count": null,
   "id": "f450ebcc",
   "metadata": {},
   "outputs": [],
   "source": [
    "#마지막에 똑똑한 임베딩 레이어로 바꿨지만 정확도가 0.83~0.84 정도가 나왔는데\n",
    "# epochs가 커질수록 훈련셋과 검증셋의 사이 간격이 크게 벌어지는 것이 시각화 그래프로 확인되어\n",
    "# epochs 를 줄이자 정확도가 0.85 정도로 올라갔다."
   ]
  }
 ],
 "metadata": {
  "kernelspec": {
   "display_name": "Python 3 (ipykernel)",
   "language": "python",
   "name": "python3"
  },
  "language_info": {
   "codemirror_mode": {
    "name": "ipython",
    "version": 3
   },
   "file_extension": ".py",
   "mimetype": "text/x-python",
   "name": "python",
   "nbconvert_exporter": "python",
   "pygments_lexer": "ipython3",
   "version": "3.9.7"
  }
 },
 "nbformat": 4,
 "nbformat_minor": 5
}
