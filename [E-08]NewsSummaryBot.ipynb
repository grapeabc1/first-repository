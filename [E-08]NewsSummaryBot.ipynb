{
 "cells": [
  {
   "cell_type": "code",
   "execution_count": 45,
   "id": "820cc918",
   "metadata": {},
   "outputs": [],
   "source": [
    "# NLTK 패키지에서 불용어 사전을 다운로드하고, 데이터 전처리를 위한 나머지 패키지도 함께 불러오기"
   ]
  },
  {
   "cell_type": "code",
   "execution_count": 46,
   "id": "8e344d24",
   "metadata": {},
   "outputs": [
    {
     "name": "stdout",
     "output_type": "stream",
     "text": [
      "=3\n"
     ]
    },
    {
     "name": "stderr",
     "output_type": "stream",
     "text": [
      "[nltk_data] Downloading package stopwords to /aiffel/nltk_data...\n",
      "[nltk_data]   Package stopwords is already up-to-date!\n"
     ]
    }
   ],
   "source": [
    "import nltk\n",
    "nltk.download('stopwords')\n",
    "\n",
    "import numpy as np\n",
    "import pandas as pd\n",
    "import os\n",
    "import re\n",
    "import matplotlib.pyplot as plt\n",
    "from nltk.corpus import stopwords\n",
    "from bs4 import BeautifulSoup \n",
    "from tensorflow.keras.preprocessing.text import Tokenizer \n",
    "from tensorflow.keras.preprocessing.sequence import pad_sequences\n",
    "import urllib.request\n",
    "import warnings\n",
    "warnings.filterwarnings(\"ignore\", category=UserWarning, module='bs4')\n",
    "\n",
    "print('=3')"
   ]
  },
  {
   "cell_type": "code",
   "execution_count": 47,
   "id": "c8ad2fdf",
   "metadata": {},
   "outputs": [],
   "source": [
    "#링크에서 다운로드 받은 데이터(Reviews.csv)는 총 568,454개의 샘플을 갖고 있어요. \n",
    "#시간상 여기서는 모든 샘플을 사용하지는 않고, 간단히 10만 개의 샘플만 사용"
   ]
  },
  {
   "cell_type": "code",
   "execution_count": 24,
   "id": "77c78704",
   "metadata": {},
   "outputs": [
    {
     "name": "stdout",
     "output_type": "stream",
     "text": [
      "전체 샘플수 : 100000\n"
     ]
    }
   ],
   "source": [
    "data = pd.read_csv(os.getenv(\"HOME\")+\"/aiffel/news_summarization/data/Reviews.csv\", nrows=100000)\n",
    "print('전체 샘플수 :', (len(data)))"
   ]
  },
  {
   "cell_type": "code",
   "execution_count": 25,
   "id": "9f1aaba0",
   "metadata": {},
   "outputs": [
    {
     "data": {
      "text/html": [
       "<div>\n",
       "<style scoped>\n",
       "    .dataframe tbody tr th:only-of-type {\n",
       "        vertical-align: middle;\n",
       "    }\n",
       "\n",
       "    .dataframe tbody tr th {\n",
       "        vertical-align: top;\n",
       "    }\n",
       "\n",
       "    .dataframe thead th {\n",
       "        text-align: right;\n",
       "    }\n",
       "</style>\n",
       "<table border=\"1\" class=\"dataframe\">\n",
       "  <thead>\n",
       "    <tr style=\"text-align: right;\">\n",
       "      <th></th>\n",
       "      <th>Id</th>\n",
       "      <th>ProductId</th>\n",
       "      <th>UserId</th>\n",
       "      <th>ProfileName</th>\n",
       "      <th>HelpfulnessNumerator</th>\n",
       "      <th>HelpfulnessDenominator</th>\n",
       "      <th>Score</th>\n",
       "      <th>Time</th>\n",
       "      <th>Summary</th>\n",
       "      <th>Text</th>\n",
       "    </tr>\n",
       "  </thead>\n",
       "  <tbody>\n",
       "    <tr>\n",
       "      <th>0</th>\n",
       "      <td>1</td>\n",
       "      <td>B001E4KFG0</td>\n",
       "      <td>A3SGXH7AUHU8GW</td>\n",
       "      <td>delmartian</td>\n",
       "      <td>1</td>\n",
       "      <td>1</td>\n",
       "      <td>5</td>\n",
       "      <td>1303862400</td>\n",
       "      <td>Good Quality Dog Food</td>\n",
       "      <td>I have bought several of the Vitality canned d...</td>\n",
       "    </tr>\n",
       "    <tr>\n",
       "      <th>1</th>\n",
       "      <td>2</td>\n",
       "      <td>B00813GRG4</td>\n",
       "      <td>A1D87F6ZCVE5NK</td>\n",
       "      <td>dll pa</td>\n",
       "      <td>0</td>\n",
       "      <td>0</td>\n",
       "      <td>1</td>\n",
       "      <td>1346976000</td>\n",
       "      <td>Not as Advertised</td>\n",
       "      <td>Product arrived labeled as Jumbo Salted Peanut...</td>\n",
       "    </tr>\n",
       "    <tr>\n",
       "      <th>2</th>\n",
       "      <td>3</td>\n",
       "      <td>B000LQOCH0</td>\n",
       "      <td>ABXLMWJIXXAIN</td>\n",
       "      <td>Natalia Corres \"Natalia Corres\"</td>\n",
       "      <td>1</td>\n",
       "      <td>1</td>\n",
       "      <td>4</td>\n",
       "      <td>1219017600</td>\n",
       "      <td>\"Delight\" says it all</td>\n",
       "      <td>This is a confection that has been around a fe...</td>\n",
       "    </tr>\n",
       "    <tr>\n",
       "      <th>3</th>\n",
       "      <td>4</td>\n",
       "      <td>B000UA0QIQ</td>\n",
       "      <td>A395BORC6FGVXV</td>\n",
       "      <td>Karl</td>\n",
       "      <td>3</td>\n",
       "      <td>3</td>\n",
       "      <td>2</td>\n",
       "      <td>1307923200</td>\n",
       "      <td>Cough Medicine</td>\n",
       "      <td>If you are looking for the secret ingredient i...</td>\n",
       "    </tr>\n",
       "    <tr>\n",
       "      <th>4</th>\n",
       "      <td>5</td>\n",
       "      <td>B006K2ZZ7K</td>\n",
       "      <td>A1UQRSCLF8GW1T</td>\n",
       "      <td>Michael D. Bigham \"M. Wassir\"</td>\n",
       "      <td>0</td>\n",
       "      <td>0</td>\n",
       "      <td>5</td>\n",
       "      <td>1350777600</td>\n",
       "      <td>Great taffy</td>\n",
       "      <td>Great taffy at a great price.  There was a wid...</td>\n",
       "    </tr>\n",
       "  </tbody>\n",
       "</table>\n",
       "</div>"
      ],
      "text/plain": [
       "   Id   ProductId          UserId                      ProfileName  \\\n",
       "0   1  B001E4KFG0  A3SGXH7AUHU8GW                       delmartian   \n",
       "1   2  B00813GRG4  A1D87F6ZCVE5NK                           dll pa   \n",
       "2   3  B000LQOCH0   ABXLMWJIXXAIN  Natalia Corres \"Natalia Corres\"   \n",
       "3   4  B000UA0QIQ  A395BORC6FGVXV                             Karl   \n",
       "4   5  B006K2ZZ7K  A1UQRSCLF8GW1T    Michael D. Bigham \"M. Wassir\"   \n",
       "\n",
       "   HelpfulnessNumerator  HelpfulnessDenominator  Score        Time  \\\n",
       "0                     1                       1      5  1303862400   \n",
       "1                     0                       0      1  1346976000   \n",
       "2                     1                       1      4  1219017600   \n",
       "3                     3                       3      2  1307923200   \n",
       "4                     0                       0      5  1350777600   \n",
       "\n",
       "                 Summary                                               Text  \n",
       "0  Good Quality Dog Food  I have bought several of the Vitality canned d...  \n",
       "1      Not as Advertised  Product arrived labeled as Jumbo Salted Peanut...  \n",
       "2  \"Delight\" says it all  This is a confection that has been around a fe...  \n",
       "3         Cough Medicine  If you are looking for the secret ingredient i...  \n",
       "4            Great taffy  Great taffy at a great price.  There was a wid...  "
      ]
     },
     "execution_count": 25,
     "metadata": {},
     "output_type": "execute_result"
    }
   ],
   "source": [
    "#데이터 확인\n",
    "data.head()"
   ]
  },
  {
   "cell_type": "code",
   "execution_count": 26,
   "id": "24ad9139",
   "metadata": {
    "scrolled": false
   },
   "outputs": [
    {
     "data": {
      "text/html": [
       "<div>\n",
       "<style scoped>\n",
       "    .dataframe tbody tr th:only-of-type {\n",
       "        vertical-align: middle;\n",
       "    }\n",
       "\n",
       "    .dataframe tbody tr th {\n",
       "        vertical-align: top;\n",
       "    }\n",
       "\n",
       "    .dataframe thead th {\n",
       "        text-align: right;\n",
       "    }\n",
       "</style>\n",
       "<table border=\"1\" class=\"dataframe\">\n",
       "  <thead>\n",
       "    <tr style=\"text-align: right;\">\n",
       "      <th></th>\n",
       "      <th>Text</th>\n",
       "      <th>Summary</th>\n",
       "    </tr>\n",
       "  </thead>\n",
       "  <tbody>\n",
       "    <tr>\n",
       "      <th>94275</th>\n",
       "      <td>Cookies were tasty, but half of them were brok...</td>\n",
       "      <td>Tasty but too many broken cookies</td>\n",
       "    </tr>\n",
       "    <tr>\n",
       "      <th>10000</th>\n",
       "      <td>I purchased this formula but was worried after...</td>\n",
       "      <td>If you're worried about consitpation....</td>\n",
       "    </tr>\n",
       "    <tr>\n",
       "      <th>96890</th>\n",
       "      <td>Please do your research on pet foods and what ...</td>\n",
       "      <td>Please avoid!!</td>\n",
       "    </tr>\n",
       "    <tr>\n",
       "      <th>27936</th>\n",
       "      <td>I keep trying to find a hot chocolate I like b...</td>\n",
       "      <td>My favorite hot chocolate.  5 stars</td>\n",
       "    </tr>\n",
       "    <tr>\n",
       "      <th>88099</th>\n",
       "      <td>Beets!!!  How many of you out there have babie...</td>\n",
       "      <td>Great, tasty nutrients in one easy to deliver ...</td>\n",
       "    </tr>\n",
       "    <tr>\n",
       "      <th>53618</th>\n",
       "      <td>This is the best shake I've tasted by far. I s...</td>\n",
       "      <td>Yummy!</td>\n",
       "    </tr>\n",
       "    <tr>\n",
       "      <th>47033</th>\n",
       "      <td>I buy this cereal by the case because my local...</td>\n",
       "      <td>The best cereal ever!</td>\n",
       "    </tr>\n",
       "    <tr>\n",
       "      <th>64046</th>\n",
       "      <td>very good and filling, perfect for a quick sna...</td>\n",
       "      <td>very good and filling</td>\n",
       "    </tr>\n",
       "    <tr>\n",
       "      <th>39241</th>\n",
       "      <td>I have tried many decaf green teas, both organ...</td>\n",
       "      <td>Simply the best!</td>\n",
       "    </tr>\n",
       "    <tr>\n",
       "      <th>77230</th>\n",
       "      <td>My dog seems to like this just fine and dandy....</td>\n",
       "      <td>Guess I won't buy again</td>\n",
       "    </tr>\n",
       "    <tr>\n",
       "      <th>78657</th>\n",
       "      <td>I don't know if it was the case of chips we re...</td>\n",
       "      <td>Bags O' Salt with chips added.</td>\n",
       "    </tr>\n",
       "    <tr>\n",
       "      <th>7344</th>\n",
       "      <td>Jamacian me crazy is sooo good. My husband who...</td>\n",
       "      <td>Mmmmmmmm good</td>\n",
       "    </tr>\n",
       "    <tr>\n",
       "      <th>51167</th>\n",
       "      <td>This is good Brown rice. I've never had instan...</td>\n",
       "      <td>Rice is good</td>\n",
       "    </tr>\n",
       "    <tr>\n",
       "      <th>5292</th>\n",
       "      <td>Childhood nostagia all over again! I LOVE pean...</td>\n",
       "      <td>Simply perfect!</td>\n",
       "    </tr>\n",
       "    <tr>\n",
       "      <th>85400</th>\n",
       "      <td>This is pretty good jerky, it goes really well...</td>\n",
       "      <td>Tasty</td>\n",
       "    </tr>\n",
       "  </tbody>\n",
       "</table>\n",
       "</div>"
      ],
      "text/plain": [
       "                                                    Text  \\\n",
       "94275  Cookies were tasty, but half of them were brok...   \n",
       "10000  I purchased this formula but was worried after...   \n",
       "96890  Please do your research on pet foods and what ...   \n",
       "27936  I keep trying to find a hot chocolate I like b...   \n",
       "88099  Beets!!!  How many of you out there have babie...   \n",
       "53618  This is the best shake I've tasted by far. I s...   \n",
       "47033  I buy this cereal by the case because my local...   \n",
       "64046  very good and filling, perfect for a quick sna...   \n",
       "39241  I have tried many decaf green teas, both organ...   \n",
       "77230  My dog seems to like this just fine and dandy....   \n",
       "78657  I don't know if it was the case of chips we re...   \n",
       "7344   Jamacian me crazy is sooo good. My husband who...   \n",
       "51167  This is good Brown rice. I've never had instan...   \n",
       "5292   Childhood nostagia all over again! I LOVE pean...   \n",
       "85400  This is pretty good jerky, it goes really well...   \n",
       "\n",
       "                                                 Summary  \n",
       "94275                  Tasty but too many broken cookies  \n",
       "10000           If you're worried about consitpation....  \n",
       "96890                                     Please avoid!!  \n",
       "27936                My favorite hot chocolate.  5 stars  \n",
       "88099  Great, tasty nutrients in one easy to deliver ...  \n",
       "53618                                             Yummy!  \n",
       "47033                              The best cereal ever!  \n",
       "64046                              very good and filling  \n",
       "39241                                   Simply the best!  \n",
       "77230                            Guess I won't buy again  \n",
       "78657                     Bags O' Salt with chips added.  \n",
       "7344                                       Mmmmmmmm good  \n",
       "51167                                       Rice is good  \n",
       "5292                                     Simply perfect!  \n",
       "85400                                              Tasty  "
      ]
     },
     "execution_count": 26,
     "metadata": {},
     "output_type": "execute_result"
    }
   ],
   "source": [
    "#데이터를 확인해보니 열이 너무 많음, summary와 text만 사용할꺼니 이 2개만 다시 불러와서 저장\n",
    "\n",
    "data = data[['Text', 'Summary']]\n",
    "#0~4까지 총 5개 보기\n",
    "data.head()\n",
    "\n",
    "#랜덤한 샘플 15개 보기\n",
    "data.sample(15)"
   ]
  },
  {
   "cell_type": "code",
   "execution_count": 27,
   "id": "50ed1442",
   "metadata": {},
   "outputs": [],
   "source": [
    "#위 자료에 Text를 입력 받으면 Summary를 출력할 수 있도록 인공지능을 훈련시킬것임.\n",
    "#즉 text가 입력 데이터, Summary가 라벨 또는 타겟 데이터라고 할 수 있겠다."
   ]
  },
  {
   "cell_type": "code",
   "execution_count": 28,
   "id": "5f64ff63",
   "metadata": {},
   "outputs": [],
   "source": [
    "#데이터 전처리"
   ]
  },
  {
   "cell_type": "code",
   "execution_count": 29,
   "id": "b55cbd08",
   "metadata": {},
   "outputs": [],
   "source": [
    "#데이터를 불러왔으니 데이터 전처리 할 차례\n",
    "#빈칸으로 존재하는 null데이터랑 의미는 같지만 다른 식으로 작성된 글들은 중복 항목과 같기 때문에 학습에 방해가 된다.\n",
    "#따라서 제거해야한다."
   ]
  },
  {
   "cell_type": "code",
   "execution_count": 30,
   "id": "df43e2ea",
   "metadata": {},
   "outputs": [],
   "source": [
    "#일단 중복데이터 제거"
   ]
  },
  {
   "cell_type": "code",
   "execution_count": 31,
   "id": "85011a4c",
   "metadata": {},
   "outputs": [
    {
     "name": "stdout",
     "output_type": "stream",
     "text": [
      "<class 'pandas.core.frame.DataFrame'>\n",
      "Text 열에서 중복을 배제한 유일한 샘플의 수 : 88426\n",
      "Summary 열에서 중복을 배제한 유일한 샘플의 수 : 72348\n"
     ]
    }
   ],
   "source": [
    "print(type(data)) #pandas.core.frame.datafram 인스턴스로 확인\n",
    "print('Text 열에서 중복을 배제한 유일한 샘플의 수 :', data['Text'].nunique()) # 데이터 프레임 객체의 메소드\n",
    "print('Summary 열에서 중복을 배제한 유일한 샘플의 수 :', data['Summary'].nunique()) #데이터 프레임 객체의 메소드"
   ]
  },
  {
   "cell_type": "code",
   "execution_count": 32,
   "id": "eee9e3b1",
   "metadata": {},
   "outputs": [],
   "source": [
    "#summary 의 경우는 요약이기 때문에 다른 문장을 보고 요약했지만 같을 수도 있다. \n",
    "#하지만 Text 중복은 중복 샘플이라는 의미이므로 제거해아함."
   ]
  },
  {
   "cell_type": "code",
   "execution_count": 33,
   "id": "7c23e41e",
   "metadata": {},
   "outputs": [
    {
     "name": "stdout",
     "output_type": "stream",
     "text": [
      "전체 샘플수 : 88426\n"
     ]
    }
   ],
   "source": [
    "data.drop_duplicates(subset = ['Text'], inplace=True) #데이터프레임 메소드\n",
    "print('전체 샘플수 :', (len(data)))"
   ]
  },
  {
   "cell_type": "code",
   "execution_count": 34,
   "id": "bae5fd40",
   "metadata": {},
   "outputs": [],
   "source": [
    "#중복 데이터는 제거했지만, 그 중복데이터에 null값이 있었다면 중복되지 않은 null 값 1개도 제거해줘야하기 때문에 확인"
   ]
  },
  {
   "cell_type": "code",
   "execution_count": 35,
   "id": "efe585fe",
   "metadata": {},
   "outputs": [
    {
     "name": "stdout",
     "output_type": "stream",
     "text": [
      "Text       0\n",
      "Summary    1\n",
      "dtype: int64\n"
     ]
    }
   ],
   "source": [
    "print(data.isnull().sum()) # 마찬가지로 데이터 프레임 메소드"
   ]
  },
  {
   "cell_type": "code",
   "execution_count": 36,
   "id": "c9c8859a",
   "metadata": {},
   "outputs": [
    {
     "name": "stdout",
     "output_type": "stream",
     "text": [
      "전체 샘플수 : 88425\n"
     ]
    }
   ],
   "source": [
    "data.dropna(axis=0, inplace=True) #데이터프레임 메소드\n",
    "print('전체 샘플수 :', (len(data)))"
   ]
  },
  {
   "cell_type": "code",
   "execution_count": 37,
   "id": "a0b6d5ab",
   "metadata": {},
   "outputs": [],
   "source": [
    "#텍스트 정규화와 불용어 제거(데이터 전처리 중)\n",
    "#"
   ]
  },
  {
   "cell_type": "code",
   "execution_count": 38,
   "id": "d14f3587",
   "metadata": {},
   "outputs": [
    {
     "name": "stdout",
     "output_type": "stream",
     "text": [
      "정규화 사전의 수:  120\n"
     ]
    }
   ],
   "source": [
    "contractions = {\"ain't\": \"is not\", \"aren't\": \"are not\",\"can't\": \"cannot\", \"'cause\": \"because\", \"could've\": \"could have\", \"couldn't\": \"could not\",\n",
    "                           \"didn't\": \"did not\",  \"doesn't\": \"does not\", \"don't\": \"do not\", \"hadn't\": \"had not\", \"hasn't\": \"has not\", \"haven't\": \"have not\",\n",
    "                           \"he'd\": \"he would\",\"he'll\": \"he will\", \"he's\": \"he is\", \"how'd\": \"how did\", \"how'd'y\": \"how do you\", \"how'll\": \"how will\", \"how's\": \"how is\",\n",
    "                           \"I'd\": \"I would\", \"I'd've\": \"I would have\", \"I'll\": \"I will\", \"I'll've\": \"I will have\",\"I'm\": \"I am\", \"I've\": \"I have\", \"i'd\": \"i would\",\n",
    "                           \"i'd've\": \"i would have\", \"i'll\": \"i will\",  \"i'll've\": \"i will have\",\"i'm\": \"i am\", \"i've\": \"i have\", \"isn't\": \"is not\", \"it'd\": \"it would\",\n",
    "                           \"it'd've\": \"it would have\", \"it'll\": \"it will\", \"it'll've\": \"it will have\",\"it's\": \"it is\", \"let's\": \"let us\", \"ma'am\": \"madam\",\n",
    "                           \"mayn't\": \"may not\", \"might've\": \"might have\",\"mightn't\": \"might not\",\"mightn't've\": \"might not have\", \"must've\": \"must have\",\n",
    "                           \"mustn't\": \"must not\", \"mustn't've\": \"must not have\", \"needn't\": \"need not\", \"needn't've\": \"need not have\",\"o'clock\": \"of the clock\",\n",
    "                           \"oughtn't\": \"ought not\", \"oughtn't've\": \"ought not have\", \"shan't\": \"shall not\", \"sha'n't\": \"shall not\", \"shan't've\": \"shall not have\",\n",
    "                           \"she'd\": \"she would\", \"she'd've\": \"she would have\", \"she'll\": \"she will\", \"she'll've\": \"she will have\", \"she's\": \"she is\",\n",
    "                           \"should've\": \"should have\", \"shouldn't\": \"should not\", \"shouldn't've\": \"should not have\", \"so've\": \"so have\",\"so's\": \"so as\",\n",
    "                           \"this's\": \"this is\",\"that'd\": \"that would\", \"that'd've\": \"that would have\", \"that's\": \"that is\", \"there'd\": \"there would\",\n",
    "                           \"there'd've\": \"there would have\", \"there's\": \"there is\", \"here's\": \"here is\",\"they'd\": \"they would\", \"they'd've\": \"they would have\",\n",
    "                           \"they'll\": \"they will\", \"they'll've\": \"they will have\", \"they're\": \"they are\", \"they've\": \"they have\", \"to've\": \"to have\",\n",
    "                           \"wasn't\": \"was not\", \"we'd\": \"we would\", \"we'd've\": \"we would have\", \"we'll\": \"we will\", \"we'll've\": \"we will have\", \"we're\": \"we are\",\n",
    "                           \"we've\": \"we have\", \"weren't\": \"were not\", \"what'll\": \"what will\", \"what'll've\": \"what will have\", \"what're\": \"what are\",\n",
    "                           \"what's\": \"what is\", \"what've\": \"what have\", \"when's\": \"when is\", \"when've\": \"when have\", \"where'd\": \"where did\", \"where's\": \"where is\",\n",
    "                           \"where've\": \"where have\", \"who'll\": \"who will\", \"who'll've\": \"who will have\", \"who's\": \"who is\", \"who've\": \"who have\",\n",
    "                           \"why's\": \"why is\", \"why've\": \"why have\", \"will've\": \"will have\", \"won't\": \"will not\", \"won't've\": \"will not have\",\n",
    "                           \"would've\": \"would have\", \"wouldn't\": \"would not\", \"wouldn't've\": \"would not have\", \"y'all\": \"you all\",\n",
    "                           \"y'all'd\": \"you all would\",\"y'all'd've\": \"you all would have\",\"y'all're\": \"you all are\",\"y'all've\": \"you all have\",\n",
    "                           \"you'd\": \"you would\", \"you'd've\": \"you would have\", \"you'll\": \"you will\", \"you'll've\": \"you will have\",\n",
    "                           \"you're\": \"you are\", \"you've\": \"you have\"}\n",
    "\n",
    "print(\"정규화 사전의 수: \", len(contractions))"
   ]
  },
  {
   "cell_type": "code",
   "execution_count": 39,
   "id": "a16d80a9",
   "metadata": {},
   "outputs": [
    {
     "name": "stdout",
     "output_type": "stream",
     "text": [
      "불용어 개수 : 179\n",
      "['i', 'me', 'my', 'myself', 'we', 'our', 'ours', 'ourselves', 'you', \"you're\", \"you've\", \"you'll\", \"you'd\", 'your', 'yours', 'yourself', 'yourselves', 'he', 'him', 'his', 'himself', 'she', \"she's\", 'her', 'hers', 'herself', 'it', \"it's\", 'its', 'itself', 'they', 'them', 'their', 'theirs', 'themselves', 'what', 'which', 'who', 'whom', 'this', 'that', \"that'll\", 'these', 'those', 'am', 'is', 'are', 'was', 'were', 'be', 'been', 'being', 'have', 'has', 'had', 'having', 'do', 'does', 'did', 'doing', 'a', 'an', 'the', 'and', 'but', 'if', 'or', 'because', 'as', 'until', 'while', 'of', 'at', 'by', 'for', 'with', 'about', 'against', 'between', 'into', 'through', 'during', 'before', 'after', 'above', 'below', 'to', 'from', 'up', 'down', 'in', 'out', 'on', 'off', 'over', 'under', 'again', 'further', 'then', 'once', 'here', 'there', 'when', 'where', 'why', 'how', 'all', 'any', 'both', 'each', 'few', 'more', 'most', 'other', 'some', 'such', 'no', 'nor', 'not', 'only', 'own', 'same', 'so', 'than', 'too', 'very', 's', 't', 'can', 'will', 'just', 'don', \"don't\", 'should', \"should've\", 'now', 'd', 'll', 'm', 'o', 're', 've', 'y', 'ain', 'aren', \"aren't\", 'couldn', \"couldn't\", 'didn', \"didn't\", 'doesn', \"doesn't\", 'hadn', \"hadn't\", 'hasn', \"hasn't\", 'haven', \"haven't\", 'isn', \"isn't\", 'ma', 'mightn', \"mightn't\", 'mustn', \"mustn't\", 'needn', \"needn't\", 'shan', \"shan't\", 'shouldn', \"shouldn't\", 'wasn', \"wasn't\", 'weren', \"weren't\", 'won', \"won't\", 'wouldn', \"wouldn't\"]\n"
     ]
    }
   ],
   "source": [
    "#불용어 처리\n",
    "print('불용어 개수 :', len(stopwords.words('english') ))\n",
    "print(stopwords.words('english'))"
   ]
  },
  {
   "cell_type": "code",
   "execution_count": 40,
   "id": "161e734d",
   "metadata": {},
   "outputs": [],
   "source": [
    "#함수의 하단을 보면, NLTK를 이용해 불용어를 제거하는 파트가 있는데, \n",
    "#이는 Text 전처리 시에서만 호출하고 이미 상대적으로 문장 길이가 짧은 Summary 전처리할 때는 호출하지 않을 예정이에요.\n",
    "#Abstractive한 문장 요약 결과문이 자연스러운 문장이 되려면 이 불용어들이 Summary에는 남아 있는 게 더 좋을 것 같습니다. \n",
    "#이 처리를 위해서 함수의 인자로 remove_stopwords를 추가하고, if문을 추가했어요."
   ]
  },
  {
   "cell_type": "code",
   "execution_count": 41,
   "id": "9300b3dc",
   "metadata": {},
   "outputs": [
    {
     "name": "stdout",
     "output_type": "stream",
     "text": [
      "=3\n"
     ]
    }
   ],
   "source": [
    "# 데이터 전처리 함수\n",
    "def preprocess_sentence(sentence, remove_stopwords=True):\n",
    "    sentence = sentence.lower() # 텍스트 소문자화\n",
    "    sentence = BeautifulSoup(sentence, \"lxml\").text # <br />, <a href = ...> 등의 html 태그 제거\n",
    "    sentence = re.sub(r'\\([^)]*\\)', '', sentence) # 괄호로 닫힌 문자열 (...) 제거 Ex) my husband (and myself!) for => my husband for\n",
    "    sentence = re.sub('\"','', sentence) # 쌍따옴표 \" 제거\n",
    "    sentence = ' '.join([contractions[t] if t in contractions else t for t in sentence.split(\" \")]) # 약어 정규화\n",
    "    sentence = re.sub(r\"'s\\b\",\"\", sentence) # 소유격 제거. Ex) roland's -> roland\n",
    "    sentence = re.sub(\"[^a-zA-Z]\", \" \", sentence) # 영어 외 문자(숫자, 특수문자 등) 공백으로 변환\n",
    "    sentence = re.sub('[m]{2,}', 'mm', sentence) # m이 3개 이상이면 2개로 변경. Ex) ummmmmmm yeah -> umm yeah\n",
    "    \n",
    "    # 불용어 제거 (Text)\n",
    "    if remove_stopwords:\n",
    "        tokens = ' '.join(word for word in sentence.split() if not word in stopwords.words('english') if len(word) > 1)\n",
    "    # 불용어 미제거 (Summary) \n",
    "    #Abstractive한 문장 요약 결과문이 자연스러운 문장이 되려면 이 불용어들이 Summary에는 남아 있는 게 더 좋을 것 같습니다. \n",
    "    else:\n",
    "        tokens = ' '.join(word for word in sentence.split() if len(word) > 1)\n",
    "    return tokens\n",
    "print('=3')"
   ]
  },
  {
   "cell_type": "code",
   "execution_count": 42,
   "id": "10afc625",
   "metadata": {},
   "outputs": [
    {
     "name": "stdout",
     "output_type": "stream",
     "text": [
      "text:  everything bought great infact ordered twice third ordered wasfor mother father\n",
      "summary: great way to start the day\n"
     ]
    }
   ],
   "source": [
    "#만든 함수 테스트 전처리 전후결과 확인\n",
    "\n",
    "temp_text = 'Everything I bought was great, infact I ordered twice and the third ordered was<br />for my mother and father.'\n",
    "temp_summary = 'Great way to start (or finish) the day!!!'\n",
    "\n",
    "print(\"text: \", preprocess_sentence(temp_text))\n",
    "print(\"summary:\", preprocess_sentence(temp_summary, False))  # 불용어를 제거하지 않습니다."
   ]
  },
  {
   "cell_type": "code",
   "execution_count": 44,
   "id": "5a6415c9",
   "metadata": {},
   "outputs": [
    {
     "name": "stdout",
     "output_type": "stream",
     "text": [
      "Text 전처리 후 결과:  ['bought several vitality canned dog food products found good quality product looks like stew processed meat smells better labrador finicky appreciates product better', 'product arrived labeled jumbo salted peanuts peanuts actually small sized unsalted sure error vendor intended represent product jumbo', 'confection around centuries light pillowy citrus gelatin nuts case filberts cut tiny squares liberally coated powdered sugar tiny mouthful heaven chewy flavorful highly recommend yummy treat familiar story lewis lion witch wardrobe treat seduces edmund selling brother sisters witch', 'looking secret ingredient robitussin believe found got addition root beer extract ordered made cherry soda flavor medicinal', 'great taffy great price wide assortment yummy taffy delivery quick taffy lover deal']\n"
     ]
    }
   ],
   "source": [
    "# 만든 함수가 잘 작동하는 것을 확인했으니, 훈련 데이터 전체에 대해서 전처리 수행\n",
    "# text는 불용어 제거, summary의 경우에는 불용어 제거하지 않을 예정이므로 따로 진행\n",
    "\n",
    "clean_text = []\n",
    "# 전체 Text 데이터에 대한 전처리 : 10분 이상 시간이 걸릴 수 있습니다. \n",
    "for s in data['Text']:\n",
    "    clean_text.append(preprocess_sentence(s))\n",
    "\n",
    "# 전처리 후 출력\n",
    "print(\"Text 전처리 후 결과: \", clean_text[:5])"
   ]
  },
  {
   "cell_type": "code",
   "execution_count": 48,
   "id": "b6aa9c97",
   "metadata": {},
   "outputs": [
    {
     "name": "stdout",
     "output_type": "stream",
     "text": [
      "Summary 전처리 후 결과:  ['good quality dog food', 'not as advertised', 'delight says it all', 'cough medicine', 'great taffy']\n"
     ]
    }
   ],
   "source": [
    "# 이제 Summary에 대해서 전처리 함수를 호출해 줄 때는, \n",
    "# 불용어 제거를 수행하지 않는다는 의미에서 두 번째 인자로 False를 넣어줄게요.\n",
    "\n",
    "clean_summary = []\n",
    "# 전체 Summary 데이터에 대한 전처리 : 5분 이상 시간이 걸릴 수 있습니다. \n",
    "for s in data['Summary']:\n",
    "    clean_summary.append(preprocess_sentence(s, False))\n",
    "\n",
    "print(\"Summary 전처리 후 결과: \", clean_summary[:5])"
   ]
  },
  {
   "cell_type": "code",
   "execution_count": 49,
   "id": "b1ba8d75",
   "metadata": {},
   "outputs": [
    {
     "name": "stdout",
     "output_type": "stream",
     "text": [
      "=3\n"
     ]
    }
   ],
   "source": [
    "#이렇게 텍스트 정제 과정을 거친 후에는 다시 한번 빈 샘플이 생겼는지 확인해보는 것이 좋음\n",
    "data['Text'] = clean_text\n",
    "data['Summary'] = clean_summary\n",
    "\n",
    "# 빈 값을 Null 값으로 변환\n",
    "data.replace('', np.nan, inplace=True)\n",
    "print('=3')"
   ]
  },
  {
   "cell_type": "code",
   "execution_count": 50,
   "id": "30ed10ce",
   "metadata": {},
   "outputs": [
    {
     "data": {
      "text/plain": [
       "Text        0\n",
       "Summary    70\n",
       "dtype: int64"
      ]
     },
     "execution_count": 50,
     "metadata": {},
     "output_type": "execute_result"
    }
   ],
   "source": [
    "data.isnull().sum()"
   ]
  },
  {
   "cell_type": "code",
   "execution_count": 51,
   "id": "ecd1e0d9",
   "metadata": {},
   "outputs": [
    {
     "name": "stdout",
     "output_type": "stream",
     "text": [
      "전체 샘플수 : 88355\n"
     ]
    }
   ],
   "source": [
    "data.dropna(axis=0, inplace=True)\n",
    "print('전체 샘플수 :', (len(data)))"
   ]
  },
  {
   "cell_type": "code",
   "execution_count": 52,
   "id": "dc56e665",
   "metadata": {},
   "outputs": [],
   "source": [
    "#기본적인 정제는 끝났고 학습에 사용할 데이터 크기를 결정하고, 문장의 시작과 끝을 표시해줘야 함"
   ]
  },
  {
   "cell_type": "code",
   "execution_count": 53,
   "id": "ff00bf31",
   "metadata": {},
   "outputs": [],
   "source": [
    "#샘플의 최대 길이 정하기"
   ]
  },
  {
   "cell_type": "code",
   "execution_count": 54,
   "id": "0d24b66b",
   "metadata": {},
   "outputs": [],
   "source": [
    "#Text와 Summary의 최소, 최대, 평균 길이를 구하고 또한 길이 분포를 시각화해서 볼게요.#"
   ]
  },
  {
   "cell_type": "code",
   "execution_count": 55,
   "id": "0eb0581d",
   "metadata": {},
   "outputs": [
    {
     "name": "stdout",
     "output_type": "stream",
     "text": [
      "텍스트의 최소 길이 : 2\n",
      "텍스트의 최대 길이 : 1235\n",
      "텍스트의 평균 길이 : 38.792428272310566\n",
      "요약의 최소 길이 : 1\n",
      "요약의 최대 길이 : 28\n",
      "요약의 평균 길이 : 4.010729443721352\n"
     ]
    },
    {
     "data": {
      "image/png": "[encoded data removed]",
      "text/plain": [
       "<Figure size 432x288 with 2 Axes>"
      ]
     },
     "metadata": {
      "needs_background": "light"
     },
     "output_type": "display_data"
    },
    {
     "data": {
      "image/png": "[encoded data removed]",
      "text/plain": [
       "<Figure size 432x288 with 1 Axes>"
      ]
     },
     "metadata": {
      "needs_background": "light"
     },
     "output_type": "display_data"
    },
    {
     "data": {
      "image/png": "[encoded data removed]",
      "text/plain": [
       "<Figure size 432x288 with 1 Axes>"
      ]
     },
     "metadata": {
      "needs_background": "light"
     },
     "output_type": "display_data"
    }
   ],
   "source": [
    "# 길이 분포 출력\n",
    "import matplotlib.pyplot as plt\n",
    "\n",
    "text_len = [len(s.split()) for s in data['Text']]\n",
    "summary_len = [len(s.split()) for s in data['Summary']]\n",
    "\n",
    "print('텍스트의 최소 길이 : {}'.format(np.min(text_len)))\n",
    "print('텍스트의 최대 길이 : {}'.format(np.max(text_len)))\n",
    "print('텍스트의 평균 길이 : {}'.format(np.mean(text_len)))\n",
    "print('요약의 최소 길이 : {}'.format(np.min(summary_len)))\n",
    "print('요약의 최대 길이 : {}'.format(np.max(summary_len)))\n",
    "print('요약의 평균 길이 : {}'.format(np.mean(summary_len)))\n",
    "\n",
    "plt.subplot(1,2,1)\n",
    "plt.boxplot(text_len)\n",
    "plt.title('Text')\n",
    "plt.subplot(1,2,2)\n",
    "plt.boxplot(summary_len)\n",
    "plt.title('Summary')\n",
    "plt.tight_layout()\n",
    "plt.show()\n",
    "\n",
    "plt.title('Text')\n",
    "plt.hist(text_len, bins = 40)\n",
    "plt.xlabel('length of samples')\n",
    "plt.ylabel('number of samples')\n",
    "plt.show()\n",
    "\n",
    "plt.title('Summary')\n",
    "plt.hist(summary_len, bins = 40)\n",
    "plt.xlabel('length of samples')\n",
    "plt.ylabel('number of samples')\n",
    "plt.show()"
   ]
  },
  {
   "cell_type": "code",
   "execution_count": 56,
   "id": "0dc1f109",
   "metadata": {},
   "outputs": [],
   "source": [
    "# 많은 양의 데이터를 다룰때는 위처럼 그래프 시각화가 도움됨\n",
    "# 시각화된 그래프로 결과를 확인해보니 텍스트의 경우 최소길이 최대길이 차이가 크지만 \n",
    "# 평균길이는 38이고 대부분 100 내외 길이를 가지고 있음\n",
    "\n",
    "#요약의 경우는 최소1 최대28 평균길이 4로 텍스트에 비해 길이가 상대적으로 짧고 대부분의 데이터가 10이하 길이를 가지고 있음"
   ]
  },
  {
   "cell_type": "code",
   "execution_count": 57,
   "id": "e9544891",
   "metadata": {},
   "outputs": [
    {
     "name": "stdout",
     "output_type": "stream",
     "text": [
      "=3\n"
     ]
    }
   ],
   "source": [
    "#위의 결과를 바탕으로 적절한 최대 길이 설정\n",
    "text_max_len = 50\n",
    "summary_max_len = 8\n",
    "print('=3')"
   ]
  },
  {
   "cell_type": "code",
   "execution_count": 58,
   "id": "73fe6d0f",
   "metadata": {},
   "outputs": [
    {
     "name": "stdout",
     "output_type": "stream",
     "text": [
      "=3\n"
     ]
    }
   ],
   "source": [
    "#최대길이를 제대로 설정했는지 확인을 위한 함수\n",
    "def below_threshold_len(max_len, nested_list):\n",
    "  cnt = 0\n",
    "  for s in nested_list:\n",
    "    if(len(s.split()) <= max_len):\n",
    "        cnt = cnt + 1\n",
    "  print('전체 샘플 중 길이가 %s 이하인 샘플의 비율: %s'%(max_len, (cnt / len(nested_list))))\n",
    "print('=3')"
   ]
  },
  {
   "cell_type": "code",
   "execution_count": 59,
   "id": "e5c29a5d",
   "metadata": {},
   "outputs": [],
   "source": [
    "#위 함수로 확인"
   ]
  },
  {
   "cell_type": "code",
   "execution_count": 60,
   "id": "f7fb9dc6",
   "metadata": {},
   "outputs": [
    {
     "name": "stdout",
     "output_type": "stream",
     "text": [
      "전체 샘플수 : 65818\n"
     ]
    }
   ],
   "source": [
    "#정제방식은 정해진 길이로 자르는 것이아닌 정해진 길이 이상이면 제외하는 방법으로 정제\n",
    "\n",
    "data = data[data['Text'].apply(lambda x: len(x.split()) <= text_max_len)]\n",
    "data = data[data['Summary'].apply(lambda x: len(x.split()) <= summary_max_len)]\n",
    "print('전체 샘플수 :', (len(data)))"
   ]
  },
  {
   "cell_type": "code",
   "execution_count": null,
   "id": "50167e16",
   "metadata": {},
   "outputs": [],
   "source": [
    "#시작 토큰과 종료 토큰 추가하기"
   ]
  },
  {
   "cell_type": "code",
   "execution_count": null,
   "id": "b03dd8fe",
   "metadata": {},
   "outputs": [],
   "source": [
    "#디코더는 시작 토큰을 입력받아 문장을 생성하기 시작하고, 종료 토큰을 예측한 순간에 문장 생성을 멈춘다.\n",
    "#seq2seq 훈련을 위해서는 디코더의 입력과 레이블에 시작 토큰과 종료 토큰을 추가할 필요가 있다.\n",
    "\n",
    "#시작 토큰 sostoken\n",
    "#종료 토큰 eostoken\n",
    "#디코더 입력에 해당하면서 시작 토큰이 맨 앞에 있는 문장의 이름 decoder_input\n",
    "#디코더의 출력 또는 레이블에 해당되면서 종료 토큰이 맨 뒤에 붙는 문장의 이름 decoder_target"
   ]
  },
  {
   "cell_type": "code",
   "execution_count": 61,
   "id": "d4c7863d",
   "metadata": {},
   "outputs": [
    {
     "data": {
      "text/html": [
       "<div>\n",
       "<style scoped>\n",
       "    .dataframe tbody tr th:only-of-type {\n",
       "        vertical-align: middle;\n",
       "    }\n",
       "\n",
       "    .dataframe tbody tr th {\n",
       "        vertical-align: top;\n",
       "    }\n",
       "\n",
       "    .dataframe thead th {\n",
       "        text-align: right;\n",
       "    }\n",
       "</style>\n",
       "<table border=\"1\" class=\"dataframe\">\n",
       "  <thead>\n",
       "    <tr style=\"text-align: right;\">\n",
       "      <th></th>\n",
       "      <th>Text</th>\n",
       "      <th>Summary</th>\n",
       "      <th>decoder_input</th>\n",
       "      <th>decoder_target</th>\n",
       "    </tr>\n",
       "  </thead>\n",
       "  <tbody>\n",
       "    <tr>\n",
       "      <th>0</th>\n",
       "      <td>bought several vitality canned dog food produc...</td>\n",
       "      <td>good quality dog food</td>\n",
       "      <td>sostoken good quality dog food</td>\n",
       "      <td>good quality dog food eostoken</td>\n",
       "    </tr>\n",
       "    <tr>\n",
       "      <th>1</th>\n",
       "      <td>product arrived labeled jumbo salted peanuts p...</td>\n",
       "      <td>not as advertised</td>\n",
       "      <td>sostoken not as advertised</td>\n",
       "      <td>not as advertised eostoken</td>\n",
       "    </tr>\n",
       "    <tr>\n",
       "      <th>2</th>\n",
       "      <td>confection around centuries light pillowy citr...</td>\n",
       "      <td>delight says it all</td>\n",
       "      <td>sostoken delight says it all</td>\n",
       "      <td>delight says it all eostoken</td>\n",
       "    </tr>\n",
       "    <tr>\n",
       "      <th>3</th>\n",
       "      <td>looking secret ingredient robitussin believe f...</td>\n",
       "      <td>cough medicine</td>\n",
       "      <td>sostoken cough medicine</td>\n",
       "      <td>cough medicine eostoken</td>\n",
       "    </tr>\n",
       "    <tr>\n",
       "      <th>4</th>\n",
       "      <td>great taffy great price wide assortment yummy ...</td>\n",
       "      <td>great taffy</td>\n",
       "      <td>sostoken great taffy</td>\n",
       "      <td>great taffy eostoken</td>\n",
       "    </tr>\n",
       "  </tbody>\n",
       "</table>\n",
       "</div>"
      ],
      "text/plain": [
       "                                                Text                Summary  \\\n",
       "0  bought several vitality canned dog food produc...  good quality dog food   \n",
       "1  product arrived labeled jumbo salted peanuts p...      not as advertised   \n",
       "2  confection around centuries light pillowy citr...    delight says it all   \n",
       "3  looking secret ingredient robitussin believe f...         cough medicine   \n",
       "4  great taffy great price wide assortment yummy ...            great taffy   \n",
       "\n",
       "                    decoder_input                  decoder_target  \n",
       "0  sostoken good quality dog food  good quality dog food eostoken  \n",
       "1      sostoken not as advertised      not as advertised eostoken  \n",
       "2    sostoken delight says it all    delight says it all eostoken  \n",
       "3         sostoken cough medicine         cough medicine eostoken  \n",
       "4            sostoken great taffy            great taffy eostoken  "
      ]
     },
     "execution_count": 61,
     "metadata": {},
     "output_type": "execute_result"
    }
   ],
   "source": [
    "# 요약 데이터에는 시작 토큰과 종료 토큰을 추가한다.\n",
    "data['decoder_input'] = data['Summary'].apply(lambda x : 'sostoken '+ x)\n",
    "data['decoder_target'] = data['Summary'].apply(lambda x : x + ' eostoken')\n",
    "data.head()"
   ]
  },
  {
   "cell_type": "code",
   "execution_count": 63,
   "id": "e86ee56c",
   "metadata": {},
   "outputs": [
    {
     "name": "stdout",
     "output_type": "stream",
     "text": [
      "=3\n"
     ]
    }
   ],
   "source": [
    "# 인코더의 입력, 디코더의 입력과 레이블을 각각 다시 numpy 타입으로 저장\n",
    "\n",
    "encoder_input = np.array(data['Text']) # 인코더의 입력\n",
    "decoder_input = np.array(data['decoder_input']) # 디코더의 입력\n",
    "decoder_target = np.array(data['decoder_target']) # 디코더의 레이블\n",
    "print('=3')"
   ]
  },
  {
   "cell_type": "code",
   "execution_count": null,
   "id": "20609ed9",
   "metadata": {},
   "outputs": [],
   "source": [
    "# 이제 훈련 데이터와 테스트 데이터를 분리\n",
    "\n",
    "#훈련 데이터와 테스트 데이터를 분리하는 방법은 분리 패키지를 사용하는 방법, \n",
    "# 또는 직접 코딩을 통해서 분리하는 방법 등 여러 가지 방법이 있을 텐데 여기서는 직접 해볼게요"
   ]
  },
  {
   "cell_type": "code",
   "execution_count": null,
   "id": "c53675d4",
   "metadata": {},
   "outputs": [],
   "source": [
    "#우선, encoder_input과 크기와 형태가 같은 순서가 섞인 정수 시퀀스를 만들어줄게요."
   ]
  },
  {
   "cell_type": "code",
   "execution_count": 64,
   "id": "da7645f0",
   "metadata": {},
   "outputs": [
    {
     "name": "stdout",
     "output_type": "stream",
     "text": [
      "[60169 40346 33864 ... 64413   359  8426]\n"
     ]
    }
   ],
   "source": [
    "indices = np.arange(encoder_input.shape[0])\n",
    "np.random.shuffle(indices)\n",
    "print(indices)"
   ]
  },
  {
   "cell_type": "code",
   "execution_count": null,
   "id": "1d38bbdf",
   "metadata": {},
   "outputs": [],
   "source": [
    "# 이 정수 시퀀스를 이용해 다시 데이터의 샘플 순서를 정의해 주면 잘 섞인 샘플이 되겠죠."
   ]
  },
  {
   "cell_type": "code",
   "execution_count": 65,
   "id": "67d35312",
   "metadata": {},
   "outputs": [
    {
     "name": "stdout",
     "output_type": "stream",
     "text": [
      "=3\n"
     ]
    }
   ],
   "source": [
    "encoder_input = encoder_input[indices]\n",
    "decoder_input = decoder_input[indices]\n",
    "decoder_target = decoder_target[indices]\n",
    "print('=3')"
   ]
  },
  {
   "cell_type": "code",
   "execution_count": 66,
   "id": "ceb16ee9",
   "metadata": {},
   "outputs": [
    {
     "name": "stdout",
     "output_type": "stream",
     "text": [
      "테스트 데이터의 수 : 13163\n"
     ]
    }
   ],
   "source": [
    "#이제 섞인 데이터를 8:2의 비율로 훈련 데이터와 테스트 데이터로 분리해 줄게요. \n",
    "#전체 데이터의 크기에서 0.2를 곱해서 테스트 데이터의 크기를 정의\n",
    "\n",
    "n_of_val = int(len(encoder_input)*0.2)\n",
    "print('테스트 데이터의 수 :', n_of_val)"
   ]
  },
  {
   "cell_type": "code",
   "execution_count": 67,
   "id": "35efda76",
   "metadata": {},
   "outputs": [
    {
     "name": "stdout",
     "output_type": "stream",
     "text": [
      "훈련 데이터의 개수 : 52655\n",
      "훈련 레이블의 개수 : 52655\n",
      "테스트 데이터의 개수 : 13163\n",
      "테스트 레이블의 개수 : 13163\n"
     ]
    }
   ],
   "source": [
    "# 이렇게 정의한 테스트 데이터의 개수를 이용해 전체 데이터를 양분할게요. :표시의 위치에 주의\n",
    "\n",
    "encoder_input_train = encoder_input[:-n_of_val]\n",
    "decoder_input_train = decoder_input[:-n_of_val]\n",
    "decoder_target_train = decoder_target[:-n_of_val]\n",
    "\n",
    "encoder_input_test = encoder_input[-n_of_val:]\n",
    "decoder_input_test = decoder_input[-n_of_val:]\n",
    "decoder_target_test = decoder_target[-n_of_val:]\n",
    "\n",
    "print('훈련 데이터의 개수 :', len(encoder_input_train))\n",
    "print('훈련 레이블의 개수 :', len(decoder_input_train))\n",
    "print('테스트 데이터의 개수 :', len(encoder_input_test))\n",
    "print('테스트 레이블의 개수 :', len(decoder_input_test))"
   ]
  },
  {
   "cell_type": "code",
   "execution_count": null,
   "id": "5f7f59e2",
   "metadata": {},
   "outputs": [],
   "source": [
    "# 데이터 전처리하기 (3) 정수 인코딩"
   ]
  },
  {
   "cell_type": "code",
   "execution_count": null,
   "id": "0e684a66",
   "metadata": {},
   "outputs": [],
   "source": [
    "#이제 기계가 텍스트를 숫자로 처리할 수 있도록 훈련 데이터와 테스트 데이터의 단어들을 모두 정수로 바꾸어 주어야 해요\n",
    "# 이를 위해서는 각 단어에 고유한 정수를 맵핑하는 작업이 필요해요. 이 과정을 단어 집합(vocabulary) 을 만든다고 표현"
   ]
  },
  {
   "cell_type": "code",
   "execution_count": null,
   "id": "13181b59",
   "metadata": {},
   "outputs": [],
   "source": [
    "#훈련 데이터에 대해서 단어 집합을 만들어볼게요. 우선, 원문에 해당되는 encoder_input_train에 대해서 단어 집합을 만들게요.\n",
    "#Keras의 토크나이저를 사용하면, 입력된 훈련 데이터로부터 단어 집합을 만들 수 있어요."
   ]
  },
  {
   "cell_type": "code",
   "execution_count": 68,
   "id": "8b51f655",
   "metadata": {},
   "outputs": [
    {
     "name": "stdout",
     "output_type": "stream",
     "text": [
      "=3\n"
     ]
    }
   ],
   "source": [
    "src_tokenizer = Tokenizer() # 토크나이저 정의\n",
    "src_tokenizer.fit_on_texts(encoder_input_train) # 입력된 데이터로부터 단어 집합 생성\n",
    "print('=3')"
   ]
  },
  {
   "cell_type": "code",
   "execution_count": 69,
   "id": "83e12bfd",
   "metadata": {},
   "outputs": [],
   "source": [
    "#제 단어 집합이 생성되는 동시에 각 단어에 고유한 정수가 부여되었어요. 현재 생성된 단어 집합은 src_tokenizer.word_index에 저장\n",
    "#그런데 우리는 이렇게 만든 단어 집합에 있는 모든 단어를 사용하는 것이 아니라, 빈도수가 낮은 단어들은 훈련 데이터에서 제외하고 진행\n",
    "#등장 빈도수가 7회 미만인 단어들이 이 데이터에서 얼만큼의 비중을 차지하는지 확인\n",
    "#src_tokenizer.word_counts.items()에는 단어와 각 단어의 등장 빈도수가 저장돼 있는데, 이를 통해서 통계적인 정보를 얻을 수 있어요"
   ]
  },
  {
   "cell_type": "code",
   "execution_count": 70,
   "id": "ecb1cb38",
   "metadata": {},
   "outputs": [
    {
     "name": "stdout",
     "output_type": "stream",
     "text": [
      "단어 집합(vocabulary)의 크기 : 31957\n",
      "등장 빈도가 6번 이하인 희귀 단어의 수: 23715\n",
      "단어 집합에서 희귀 단어를 제외시킬 경우의 단어 집합의 크기 8242\n",
      "단어 집합에서 희귀 단어의 비율: 74.20909346934944\n",
      "전체 등장 빈도에서 희귀 단어 등장 빈도 비율: 3.382130396318911\n"
     ]
    }
   ],
   "source": [
    "threshold = 7\n",
    "total_cnt = len(src_tokenizer.word_index) # 단어의 수\n",
    "rare_cnt = 0 # 등장 빈도수가 threshold보다 작은 단어의 개수를 카운트\n",
    "total_freq = 0 # 훈련 데이터의 전체 단어 빈도수 총 합\n",
    "rare_freq = 0 # 등장 빈도수가 threshold보다 작은 단어의 등장 빈도수의 총 합\n",
    "\n",
    "# 단어와 빈도수의 쌍(pair)을 key와 value로 받는다.\n",
    "for key, value in src_tokenizer.word_counts.items():\n",
    "    total_freq = total_freq + value\n",
    "\n",
    "    # 단어의 등장 빈도수가 threshold보다 작으면\n",
    "    if(value < threshold):\n",
    "        rare_cnt = rare_cnt + 1\n",
    "        rare_freq = rare_freq + value\n",
    "\n",
    "print('단어 집합(vocabulary)의 크기 :', total_cnt)\n",
    "print('등장 빈도가 %s번 이하인 희귀 단어의 수: %s'%(threshold - 1, rare_cnt))\n",
    "print('단어 집합에서 희귀 단어를 제외시킬 경우의 단어 집합의 크기 %s'%(total_cnt - rare_cnt))\n",
    "print(\"단어 집합에서 희귀 단어의 비율:\", (rare_cnt / total_cnt)*100)\n",
    "print(\"전체 등장 빈도에서 희귀 단어 등장 빈도 비율:\", (rare_freq / total_freq)*100)"
   ]
  },
  {
   "cell_type": "code",
   "execution_count": null,
   "id": "d3dc0bb3",
   "metadata": {},
   "outputs": [],
   "source": [
    "#3만 여개의 단어가 있지만\n",
    "#등장 빈도가  7회 미만 즉 6회 이하인 단어들은 단어 집합에서 무려 70% 이상을 차지\n",
    "#하지만 실제로 훈련 데이터에서 등장 빈도로 차지하는 비중은 상대적으로 적은 수치인 3.39%밖에 되지 않음\n",
    "#그래서 등장 빈도가 6회 이하인 단어들은 정수 인코딩 과정에서 빼고, 훈련 데이터에서 제거"
   ]
  },
  {
   "cell_type": "code",
   "execution_count": 71,
   "id": "f2e377aa",
   "metadata": {},
   "outputs": [
    {
     "name": "stdout",
     "output_type": "stream",
     "text": [
      "=3\n"
     ]
    }
   ],
   "source": [
    "src_vocab = 8000\n",
    "src_tokenizer = Tokenizer(num_words=src_vocab) # 단어 집합의 크기를 8,000으로 제한\n",
    "src_tokenizer.fit_on_texts(encoder_input_train) # 단어 집합 재생성\n",
    "print('=3')"
   ]
  },
  {
   "cell_type": "code",
   "execution_count": null,
   "id": "16421902",
   "metadata": {},
   "outputs": [],
   "source": [
    "#texts_to_sequences()는 생성된 단어 집합에 기반하여 입력으로 주어진 텍스트 데이터의 단어들을 \n",
    "#모두 정수로 변환하는 정수 인코딩을 수행해요. 현재 단어 집합의 크기를 8,000으로 제한했으니까 \n",
    "#이제 8,000이 넘는 숫자들은 정수 인코딩 후에는 데이터에 존재하지 않아요.\n",
    "\n"
   ]
  },
  {
   "cell_type": "code",
   "execution_count": 72,
   "id": "ea9b9b1d",
   "metadata": {},
   "outputs": [
    {
     "name": "stdout",
     "output_type": "stream",
     "text": [
      "[[101, 1666, 403, 291, 73, 145, 175, 1438, 795, 654], [6, 380, 1942, 18, 25, 1195, 28, 504, 673, 147, 589, 147, 64, 29, 5911, 1145, 147, 600, 214, 643, 203, 18, 3385, 1855, 267, 56, 29, 959, 544, 162, 137, 1152], [166, 7, 614, 548, 142, 2314, 56, 114, 289, 73, 142, 95, 624, 314, 4, 231, 1, 1093, 1918, 153, 305, 142, 12, 99, 37, 13, 45, 111, 7, 56, 185, 209, 36, 948, 342, 541, 519]]\n"
     ]
    }
   ],
   "source": [
    "# 텍스트 시퀀스를 정수 시퀀스로 변환\n",
    "encoder_input_train = src_tokenizer.texts_to_sequences(encoder_input_train) \n",
    "encoder_input_test = src_tokenizer.texts_to_sequences(encoder_input_test)\n",
    "\n",
    "# 잘 진행되었는지 샘플 출력\n",
    "print(encoder_input_train[:3])"
   ]
  },
  {
   "cell_type": "code",
   "execution_count": null,
   "id": "67251e1f",
   "metadata": {},
   "outputs": [],
   "source": [
    "#Summary 데이터에 대해서도 동일한 작업을 수행할게요. \n",
    "#케라스의 토크나이저를 사용하여 decoder_input_train을 입력으로 전체 단어 집합과 각 단어에 대한 빈도수를 계산"
   ]
  },
  {
   "cell_type": "code",
   "execution_count": 73,
   "id": "a169400e",
   "metadata": {},
   "outputs": [
    {
     "name": "stdout",
     "output_type": "stream",
     "text": [
      "=3\n"
     ]
    }
   ],
   "source": [
    "tar_tokenizer = Tokenizer()\n",
    "tar_tokenizer.fit_on_texts(decoder_input_train)\n",
    "print('=3')"
   ]
  },
  {
   "cell_type": "code",
   "execution_count": null,
   "id": "df17c639",
   "metadata": {},
   "outputs": [],
   "source": [
    "#이제 단어 집합이 생성되는 동시에 각 단어에 고유한 정수가 부여되었어요. \n",
    "#이는 tar_tokenizer.word_index에 저장되어 있어요. \n",
    "#tar_tokenizer.word_counts.items()에는 단어와 각 단어의 등장 빈도수가 저장돼 있는데, 이를 통해서 통계적인 정보를 얻어서, \n",
    "#등장 빈도수가 6회 미만인 단어들이 이 데이터에서 얼만큼의 비중을 차지하는지 확인"
   ]
  },
  {
   "cell_type": "code",
   "execution_count": 74,
   "id": "01eda615",
   "metadata": {},
   "outputs": [
    {
     "name": "stdout",
     "output_type": "stream",
     "text": [
      "단어 집합(vocabulary)의 크기 : 10460\n",
      "등장 빈도가 5번 이하인 희귀 단어의 수: 8075\n",
      "단어 집합에서 희귀 단어를 제외시킬 경우의 단어 집합의 크기 2385\n",
      "단어 집합에서 희귀 단어의 비율: 77.19885277246654\n",
      "전체 등장 빈도에서 희귀 단어 등장 빈도 비율: 5.859554989040518\n"
     ]
    }
   ],
   "source": [
    "threshold = 6\n",
    "total_cnt = len(tar_tokenizer.word_index) # 단어의 수\n",
    "rare_cnt = 0 # 등장 빈도수가 threshold보다 작은 단어의 개수를 카운트\n",
    "total_freq = 0 # 훈련 데이터의 전체 단어 빈도수 총 합\n",
    "rare_freq = 0 # 등장 빈도수가 threshold보다 작은 단어의 등장 빈도수의 총 합\n",
    "\n",
    "# 단어와 빈도수의 쌍(pair)을 key와 value로 받는다.\n",
    "for key, value in tar_tokenizer.word_counts.items():\n",
    "    total_freq = total_freq + value\n",
    "\n",
    "    # 단어의 등장 빈도수가 threshold보다 작으면\n",
    "    if(value < threshold):\n",
    "        rare_cnt = rare_cnt + 1\n",
    "        rare_freq = rare_freq + value\n",
    "\n",
    "print('단어 집합(vocabulary)의 크기 :', total_cnt)\n",
    "print('등장 빈도가 %s번 이하인 희귀 단어의 수: %s'%(threshold - 1, rare_cnt))\n",
    "print('단어 집합에서 희귀 단어를 제외시킬 경우의 단어 집합의 크기 %s'%(total_cnt - rare_cnt))\n",
    "print(\"단어 집합에서 희귀 단어의 비율:\", (rare_cnt / total_cnt)*100)\n",
    "print(\"전체 등장 빈도에서 희귀 단어 등장 빈도 비율:\", (rare_freq / total_freq)*100)"
   ]
  },
  {
   "cell_type": "code",
   "execution_count": null,
   "id": "2bd7594d",
   "metadata": {},
   "outputs": [],
   "source": [
    "#등장 빈도가 5회 이하인 단어들은 단어 집합에서 약 77%를 차지하고 있네요. \n",
    "#하지만 실제로 훈련 데이터에서 등장 빈도로 차지하는 비중은 상대적으로 매우 적은 수치인 5.87%밖에 되지 않아요. \n",
    "#아까 했던 것과 동일하게 이 단어들은 모두 제거할게요. 어림잡아 2,000을 단어 집합의 크기로 제한할게요.\n"
   ]
  },
  {
   "cell_type": "code",
   "execution_count": 75,
   "id": "0f25fe35",
   "metadata": {},
   "outputs": [
    {
     "name": "stdout",
     "output_type": "stream",
     "text": [
      "input\n",
      "input  [[1, 720, 129, 3, 13], [1, 3, 72], [1, 350, 116, 111, 59, 4], [1, 550, 15, 109, 3, 8, 1808], [1, 59, 3]]\n",
      "target\n",
      "decoder  [[720, 129, 3, 13, 2], [3, 72, 2], [350, 116, 111, 59, 4, 2], [550, 15, 109, 3, 8, 1808, 2], [59, 3, 2]]\n"
     ]
    }
   ],
   "source": [
    "tar_vocab = 2000\n",
    "tar_tokenizer = Tokenizer(num_words=tar_vocab) \n",
    "tar_tokenizer.fit_on_texts(decoder_input_train)\n",
    "tar_tokenizer.fit_on_texts(decoder_target_train)\n",
    "\n",
    "# 텍스트 시퀀스를 정수 시퀀스로 변환\n",
    "decoder_input_train = tar_tokenizer.texts_to_sequences(decoder_input_train) \n",
    "decoder_target_train = tar_tokenizer.texts_to_sequences(decoder_target_train)\n",
    "decoder_input_test = tar_tokenizer.texts_to_sequences(decoder_input_test)\n",
    "decoder_target_test = tar_tokenizer.texts_to_sequences(decoder_target_test)\n",
    "\n",
    "# 잘 변환되었는지 확인\n",
    "print('input')\n",
    "print('input ',decoder_input_train[:5])\n",
    "print('target')\n",
    "print('decoder ',decoder_target_train[:5])"
   ]
  },
  {
   "cell_type": "code",
   "execution_count": null,
   "id": "79fc856d",
   "metadata": {},
   "outputs": [],
   "source": [
    "#정상적으로 정수 인코딩 작업이 끝났어요. \n",
    "#현재 decoder_input_train과 decoder_target_train에는 더 이상 숫자 2,000이 넘는 숫자들은 존재하지 않아요.\n",
    "#그런데 다음 작업인 패딩 하기로 넘어가기 전에 한 가지 점검해야 할 것이 있어요."
   ]
  },
  {
   "cell_type": "code",
   "execution_count": null,
   "id": "0f79ba22",
   "metadata": {},
   "outputs": [],
   "source": [
    "#전체 데이터에서 빈도수가 낮은 단어가 삭제되었다는 것은 \n",
    "#빈도수가 낮은 단어만으로 구성되었던 샘플들은 이제 빈 샘플이 되었을 가능성이 있다.\n",
    "# 이 현상은 길이가 상대적으로 길었던 원문(Text)의 경우에는 문제가 별로 없겠지만, 애초에 \n",
    "# 평균 길이가 4밖에 되지 않았던 요약문(Summary)의 경우에는 이 현상이 굉장히 두드러졌을 가능성이 높겠죠"
   ]
  },
  {
   "cell_type": "code",
   "execution_count": null,
   "id": "c1941162",
   "metadata": {},
   "outputs": [],
   "source": [
    "#요약문에서 길이가 0이 된 샘플들의 인덱스를 받아와볼게요. \n",
    "#여기서 주의할 점은 요약문인 decoder_input에는 sostoken 또는 decoder_target에는 eostoken이 추가된 상태이고, \n",
    "#이 두 토큰은 모든 샘플에서 등장하므로 빈도수가 샘플 수와 동일하게 매우 높으므로 단어 집합 제한에도 삭제되지 않아요."
   ]
  },
  {
   "cell_type": "code",
   "execution_count": null,
   "id": "d72847ff",
   "metadata": {},
   "outputs": [],
   "source": [
    "#그래서 이제 길이가 0이 된 요약문의 실제 길이는 1로 나올 거예요. \n",
    "#길이 0이 된 decoder_input에는 sostoken, decoder_target에는 eostoken만 남아 있을 테니까요"
   ]
  },
  {
   "cell_type": "code",
   "execution_count": null,
   "id": "84b04c4e",
   "metadata": {},
   "outputs": [],
   "source": [
    "#훈련 데이터와 테스트 데이터에 대해서 요약문의 길이가 1인 경우의 인덱스를 \n",
    "#각각 drop_train과 drop_test에 라는 변수에 저장해볼게요. 이 샘플들은 모두 삭제할 거예요."
   ]
  },
  {
   "cell_type": "code",
   "execution_count": 76,
   "id": "fdc0321c",
   "metadata": {},
   "outputs": [
    {
     "name": "stdout",
     "output_type": "stream",
     "text": [
      "삭제할 훈련 데이터의 개수 : 1275\n",
      "삭제할 테스트 데이터의 개수 : 344\n",
      "훈련 데이터의 개수 : 51380\n",
      "훈련 레이블의 개수 : 51380\n",
      "테스트 데이터의 개수 : 12819\n",
      "테스트 레이블의 개수 : 12819\n"
     ]
    }
   ],
   "source": [
    "drop_train = [index for index, sentence in enumerate(decoder_input_train) if len(sentence) == 1]\n",
    "drop_test = [index for index, sentence in enumerate(decoder_input_test) if len(sentence) == 1]\n",
    "\n",
    "print('삭제할 훈련 데이터의 개수 :', len(drop_train))\n",
    "print('삭제할 테스트 데이터의 개수 :', len(drop_test))\n",
    "\n",
    "encoder_input_train = [sentence for index, sentence in enumerate(encoder_input_train) if index not in drop_train]\n",
    "decoder_input_train = [sentence for index, sentence in enumerate(decoder_input_train) if index not in drop_train]\n",
    "decoder_target_train = [sentence for index, sentence in enumerate(decoder_target_train) if index not in drop_train]\n",
    "\n",
    "encoder_input_test = [sentence for index, sentence in enumerate(encoder_input_test) if index not in drop_test]\n",
    "decoder_input_test = [sentence for index, sentence in enumerate(decoder_input_test) if index not in drop_test]\n",
    "decoder_target_test = [sentence for index, sentence in enumerate(decoder_target_test) if index not in drop_test]\n",
    "\n",
    "print('훈련 데이터의 개수 :', len(encoder_input_train))\n",
    "print('훈련 레이블의 개수 :', len(decoder_input_train))\n",
    "print('테스트 데이터의 개수 :', len(encoder_input_test))\n",
    "print('테스트 레이블의 개수 :', len(decoder_input_test))"
   ]
  },
  {
   "cell_type": "code",
   "execution_count": null,
   "id": "057a86be",
   "metadata": {},
   "outputs": [],
   "source": [
    "#훈련 데이터와 테스트 데이터 모두 일정량의 샘플들이 제거된 것을 확인할 수 있어요. \n",
    "#이제 거의 다 왔어요."
   ]
  },
  {
   "cell_type": "code",
   "execution_count": null,
   "id": "c9374949",
   "metadata": {},
   "outputs": [],
   "source": [
    "#패딩하기"
   ]
  },
  {
   "cell_type": "code",
   "execution_count": null,
   "id": "4382206d",
   "metadata": {},
   "outputs": [],
   "source": [
    "#텍스트 시퀀스를 정수 시퀀스로 변환했다면, \n",
    "#이제 서로 다른 길이의 샘플들을 병렬 처리하기 위해 같은 길이로 맞춰주는 패딩 작업을 해주어야 해야 해요."
   ]
  },
  {
   "cell_type": "code",
   "execution_count": null,
   "id": "bdb45fe7",
   "metadata": {},
   "outputs": [],
   "source": [
    "#아까 정해두었던 최대 길이로 패딩 해 줄 거에요. \n",
    "#최대 길이보다 짧은 데이터들은 뒤의 공간에 숫자 0을 넣어 최대 길이로 길이를 맞춰줄게요."
   ]
  },
  {
   "cell_type": "code",
   "execution_count": 77,
   "id": "625b9250",
   "metadata": {},
   "outputs": [
    {
     "name": "stdout",
     "output_type": "stream",
     "text": [
      "=3\n"
     ]
    }
   ],
   "source": [
    "encoder_input_train = pad_sequences(encoder_input_train, maxlen=text_max_len, padding='post')\n",
    "encoder_input_test = pad_sequences(encoder_input_test, maxlen=text_max_len, padding='post')\n",
    "decoder_input_train = pad_sequences(decoder_input_train, maxlen=summary_max_len, padding='post')\n",
    "decoder_target_train = pad_sequences(decoder_target_train, maxlen=summary_max_len, padding='post')\n",
    "decoder_input_test = pad_sequences(decoder_input_test, maxlen=summary_max_len, padding='post')\n",
    "decoder_target_test = pad_sequences(decoder_target_test, maxlen=summary_max_len, padding='post')\n",
    "print('=3')"
   ]
  },
  {
   "cell_type": "code",
   "execution_count": null,
   "id": "f4e96b1a",
   "metadata": {},
   "outputs": [],
   "source": [
    "#모델 설계하기"
   ]
  },
  {
   "cell_type": "code",
   "execution_count": 78,
   "id": "06307ebd",
   "metadata": {},
   "outputs": [
    {
     "name": "stdout",
     "output_type": "stream",
     "text": [
      "WARNING:tensorflow:Layer lstm will not use cuDNN kernels since it doesn't meet the criteria. It will use a generic GPU kernel as fallback when running on GPU.\n",
      "WARNING:tensorflow:Layer lstm_1 will not use cuDNN kernels since it doesn't meet the criteria. It will use a generic GPU kernel as fallback when running on GPU.\n",
      "WARNING:tensorflow:Layer lstm_2 will not use cuDNN kernels since it doesn't meet the criteria. It will use a generic GPU kernel as fallback when running on GPU.\n"
     ]
    }
   ],
   "source": [
    "from tensorflow.keras.layers import Input, LSTM, Embedding, Dense, Concatenate, TimeDistributed\n",
    "from tensorflow.keras.models import Model\n",
    "from tensorflow.keras.callbacks import EarlyStopping, ModelCheckpoint\n",
    "\n",
    "\n",
    "# 인코더 설계 시작\n",
    "embedding_dim = 128\n",
    "hidden_size = 256\n",
    "\n",
    "# 인코더\n",
    "encoder_inputs = Input(shape=(text_max_len,))\n",
    "\n",
    "# 인코더의 임베딩 층\n",
    "enc_emb = Embedding(src_vocab, embedding_dim)(encoder_inputs)\n",
    "\n",
    "# 인코더의 LSTM 1\n",
    "encoder_lstm1 = LSTM(hidden_size, return_sequences=True, return_state=True ,dropout = 0.4, recurrent_dropout = 0.4)\n",
    "encoder_output1, state_h1, state_c1 = encoder_lstm1(enc_emb)\n",
    "\n",
    "# 인코더의 LSTM 2\n",
    "encoder_lstm2 = LSTM(hidden_size, return_sequences=True, return_state=True, dropout=0.4, recurrent_dropout=0.4)\n",
    "encoder_output2, state_h2, state_c2 = encoder_lstm2(encoder_output1)\n",
    "\n",
    "# 인코더의 LSTM 3\n",
    "encoder_lstm3 = LSTM(hidden_size, return_state=True, return_sequences=True, dropout=0.4, recurrent_dropout=0.4)\n",
    "encoder_outputs, state_h, state_c= encoder_lstm3(encoder_output2)"
   ]
  },
  {
   "cell_type": "code",
   "execution_count": null,
   "id": "20c82727",
   "metadata": {},
   "outputs": [],
   "source": [
    "#디코더 설계"
   ]
  },
  {
   "cell_type": "code",
   "execution_count": 79,
   "id": "2e633aaa",
   "metadata": {},
   "outputs": [
    {
     "name": "stdout",
     "output_type": "stream",
     "text": [
      "WARNING:tensorflow:Layer lstm_3 will not use cuDNN kernels since it doesn't meet the criteria. It will use a generic GPU kernel as fallback when running on GPU.\n"
     ]
    }
   ],
   "source": [
    "# 디코더 설계\n",
    "decoder_inputs = Input(shape=(None,))\n",
    "\n",
    "# 디코더의 임베딩 층\n",
    "dec_emb_layer = Embedding(tar_vocab, embedding_dim)\n",
    "dec_emb = dec_emb_layer(decoder_inputs)\n",
    "\n",
    "# 디코더의 LSTM\n",
    "decoder_lstm = LSTM(hidden_size, return_sequences=True, return_state=True, dropout=0.4, recurrent_dropout=0.2)\n",
    "decoder_outputs, _, _ = decoder_lstm(dec_emb, initial_state=[state_h, state_c])"
   ]
  },
  {
   "cell_type": "code",
   "execution_count": 80,
   "id": "08b8f963",
   "metadata": {},
   "outputs": [],
   "source": [
    "#디코더의 임베딩 층과 LSTM을 설계하는 것은 인코더와 거의 동일해요. \n",
    "#하지만 LSTM의 입력을 정의할 때, \n",
    "#initial_state의 인자값으로 인코더의 hidden state와 cell state의 값을 넣어줘야 해요."
   ]
  },
  {
   "cell_type": "code",
   "execution_count": null,
   "id": "824eed5f",
   "metadata": {},
   "outputs": [],
   "source": [
    "#디코더의 출력층을 설계해볼게요"
   ]
  },
  {
   "cell_type": "code",
   "execution_count": 81,
   "id": "7061a46f",
   "metadata": {},
   "outputs": [
    {
     "name": "stdout",
     "output_type": "stream",
     "text": [
      "Model: \"model\"\n",
      "__________________________________________________________________________________________________\n",
      "Layer (type)                    Output Shape         Param #     Connected to                     \n",
      "==================================================================================================\n",
      "input_1 (InputLayer)            [(None, 50)]         0                                            \n",
      "__________________________________________________________________________________________________\n",
      "embedding (Embedding)           (None, 50, 128)      1024000     input_1[0][0]                    \n",
      "__________________________________________________________________________________________________\n",
      "lstm (LSTM)                     [(None, 50, 256), (N 394240      embedding[0][0]                  \n",
      "__________________________________________________________________________________________________\n",
      "input_2 (InputLayer)            [(None, None)]       0                                            \n",
      "__________________________________________________________________________________________________\n",
      "lstm_1 (LSTM)                   [(None, 50, 256), (N 525312      lstm[0][0]                       \n",
      "__________________________________________________________________________________________________\n",
      "embedding_1 (Embedding)         (None, None, 128)    256000      input_2[0][0]                    \n",
      "__________________________________________________________________________________________________\n",
      "lstm_2 (LSTM)                   [(None, 50, 256), (N 525312      lstm_1[0][0]                     \n",
      "__________________________________________________________________________________________________\n",
      "lstm_3 (LSTM)                   [(None, None, 256),  394240      embedding_1[0][0]                \n",
      "                                                                 lstm_2[0][1]                     \n",
      "                                                                 lstm_2[0][2]                     \n",
      "__________________________________________________________________________________________________\n",
      "dense (Dense)                   (None, None, 2000)   514000      lstm_3[0][0]                     \n",
      "==================================================================================================\n",
      "Total params: 3,633,104\n",
      "Trainable params: 3,633,104\n",
      "Non-trainable params: 0\n",
      "__________________________________________________________________________________________________\n"
     ]
    }
   ],
   "source": [
    "# 디코더의 출력층\n",
    "decoder_softmax_layer = Dense(tar_vocab, activation='softmax')\n",
    "decoder_softmax_outputs = decoder_softmax_layer(decoder_outputs) \n",
    "\n",
    "# 모델 정의\n",
    "model = Model([encoder_inputs, decoder_inputs], decoder_softmax_outputs)\n",
    "model.summary()"
   ]
  },
  {
   "cell_type": "code",
   "execution_count": null,
   "id": "ed97e5ef",
   "metadata": {},
   "outputs": [],
   "source": [
    "#디코더의 출력층에서는 Summary의 단어장인 tar_vocab의 수많은 선택지 중 \n",
    "#하나의 단어를 선택하는 다중 클래스 분류 문제를 풀어야 해요. \n",
    "#그렇기 때문에 Dense의 인자로 tar_vocab을 주고, 활성화 함수로 소프트맥스 함수를 사용하고 있어요."
   ]
  },
  {
   "cell_type": "code",
   "execution_count": null,
   "id": "c89291d9",
   "metadata": {},
   "outputs": [],
   "source": [
    "#지금까지 설계한 것은 인코더의 hidden state와 cell state를 \n",
    "#디코더의 초기 state로 사용하는 가장 기본적인 seq2seq에요. \n",
    "#그런데 디코더의 출력층을 설계를 살짝 바꿔서 성능을 높일 수 있는 방법이 있어요! \n",
    "#바로 어텐션 메커니즘이에요."
   ]
  },
  {
   "cell_type": "code",
   "execution_count": null,
   "id": "c077056c",
   "metadata": {},
   "outputs": [],
   "source": [
    "#어텐션 메커니즘\n",
    "#"
   ]
  },
  {
   "cell_type": "code",
   "execution_count": null,
   "id": "79464f8e",
   "metadata": {},
   "outputs": [],
   "source": [
    "#어텐션 메커니즘을 수행하는 어텐션 함수를 설계하는 것은 \n",
    "#또 다른 새로운 신경망을 설계해야 한다는 뜻이에요. \n",
    "#어텐션 함수를 설계해보는 것은 다음 기회로 미루기로 하고, \n",
    "#여기서는 TensorFlow에 이미 구현된 어텐션 함수를 가져와서 \n",
    "#디코더의 출력층에 어떤 방식으로 결합하는지 배워볼게요."
   ]
  },
  {
   "cell_type": "code",
   "execution_count": null,
   "id": "ed8ce368",
   "metadata": {},
   "outputs": [],
   "source": [
    "#참고로 여기서 사용하는 어텐션 함수는 Bahdanau 스타일의 어텐션입니다. \n",
    "#이 어텐션에 대한 자세한 설명은 텐서플로우 홈페이지를 참고하세요"
   ]
  },
  {
   "cell_type": "code",
   "execution_count": null,
   "id": "a5544422",
   "metadata": {},
   "outputs": [],
   "source": [
    "#아래와 같이 어텐션 층을 만들고, 위에서 설계한 디코더의 출력층을 수정해 봅시다."
   ]
  },
  {
   "cell_type": "code",
   "execution_count": 82,
   "id": "4417cec3",
   "metadata": {},
   "outputs": [
    {
     "name": "stdout",
     "output_type": "stream",
     "text": [
      "Model: \"model_1\"\n",
      "__________________________________________________________________________________________________\n",
      "Layer (type)                    Output Shape         Param #     Connected to                     \n",
      "==================================================================================================\n",
      "input_1 (InputLayer)            [(None, 50)]         0                                            \n",
      "__________________________________________________________________________________________________\n",
      "embedding (Embedding)           (None, 50, 128)      1024000     input_1[0][0]                    \n",
      "__________________________________________________________________________________________________\n",
      "lstm (LSTM)                     [(None, 50, 256), (N 394240      embedding[0][0]                  \n",
      "__________________________________________________________________________________________________\n",
      "input_2 (InputLayer)            [(None, None)]       0                                            \n",
      "__________________________________________________________________________________________________\n",
      "lstm_1 (LSTM)                   [(None, 50, 256), (N 525312      lstm[0][0]                       \n",
      "__________________________________________________________________________________________________\n",
      "embedding_1 (Embedding)         (None, None, 128)    256000      input_2[0][0]                    \n",
      "__________________________________________________________________________________________________\n",
      "lstm_2 (LSTM)                   [(None, 50, 256), (N 525312      lstm_1[0][0]                     \n",
      "__________________________________________________________________________________________________\n",
      "lstm_3 (LSTM)                   [(None, None, 256),  394240      embedding_1[0][0]                \n",
      "                                                                 lstm_2[0][1]                     \n",
      "                                                                 lstm_2[0][2]                     \n",
      "__________________________________________________________________________________________________\n",
      "attention_layer (AdditiveAttent (None, None, 256)    256         lstm_3[0][0]                     \n",
      "                                                                 lstm_2[0][0]                     \n",
      "__________________________________________________________________________________________________\n",
      "concat_layer (Concatenate)      (None, None, 512)    0           lstm_3[0][0]                     \n",
      "                                                                 attention_layer[0][0]            \n",
      "__________________________________________________________________________________________________\n",
      "dense_1 (Dense)                 (None, None, 2000)   1026000     concat_layer[0][0]               \n",
      "==================================================================================================\n",
      "Total params: 4,145,360\n",
      "Trainable params: 4,145,360\n",
      "Non-trainable params: 0\n",
      "__________________________________________________________________________________________________\n"
     ]
    }
   ],
   "source": [
    "from tensorflow.keras.layers import AdditiveAttention\n",
    "\n",
    "# 어텐션 층(어텐션 함수)\n",
    "attn_layer = AdditiveAttention(name='attention_layer')\n",
    "\n",
    "# 인코더와 디코더의 모든 time step의 hidden state를 어텐션 층에 전달하고 결과를 리턴\n",
    "attn_out = attn_layer([decoder_outputs, encoder_outputs])\n",
    "\n",
    "\n",
    "# 어텐션의 결과와 디코더의 hidden state들을 연결\n",
    "decoder_concat_input = Concatenate(axis=-1, name='concat_layer')([decoder_outputs, attn_out])\n",
    "\n",
    "# 디코더의 출력층\n",
    "decoder_softmax_layer = Dense(tar_vocab, activation='softmax')\n",
    "decoder_softmax_outputs = decoder_softmax_layer(decoder_concat_input)\n",
    "\n",
    "# 모델 정의\n",
    "model = Model([encoder_inputs, decoder_inputs], decoder_softmax_outputs)\n",
    "model.summary()"
   ]
  },
  {
   "cell_type": "code",
   "execution_count": null,
   "id": "71e441e4",
   "metadata": {},
   "outputs": [],
   "source": [
    "#위의 코드는 인코더의 hidden state들과 디코더의 hidden state들을 어텐션 함수의 입력으로 사용하고, \n",
    "#어텐션 함수가 리턴한 값을 예측 시에 디코더의 hidden state와 함께 활용하는 형태로 작동"
   ]
  },
  {
   "cell_type": "code",
   "execution_count": null,
   "id": "f60bbc6f",
   "metadata": {},
   "outputs": [],
   "source": [
    "#모델 훈련하기"
   ]
  },
  {
   "cell_type": "code",
   "execution_count": 83,
   "id": "6828ab61",
   "metadata": {},
   "outputs": [
    {
     "name": "stdout",
     "output_type": "stream",
     "text": [
      "Epoch 1/50\n",
      "201/201 [==============================] - 195s 913ms/step - loss: 2.7082 - val_loss: 2.4235\n",
      "Epoch 2/50\n",
      "201/201 [==============================] - 183s 912ms/step - loss: 2.3676 - val_loss: 2.2731\n",
      "Epoch 3/50\n",
      "201/201 [==============================] - 183s 912ms/step - loss: 2.2326 - val_loss: 2.1482\n",
      "Epoch 4/50\n",
      "201/201 [==============================] - 183s 908ms/step - loss: 2.1160 - val_loss: 2.0650\n",
      "Epoch 5/50\n",
      "201/201 [==============================] - 183s 910ms/step - loss: 2.0332 - val_loss: 2.0143\n",
      "Epoch 6/50\n",
      "201/201 [==============================] - 184s 917ms/step - loss: 1.9706 - val_loss: 1.9712\n",
      "Epoch 7/50\n",
      "201/201 [==============================] - 183s 911ms/step - loss: 1.9190 - val_loss: 1.9393\n",
      "Epoch 8/50\n",
      "201/201 [==============================] - 182s 908ms/step - loss: 1.8728 - val_loss: 1.9119\n",
      "Epoch 9/50\n",
      "201/201 [==============================] - 184s 914ms/step - loss: 1.8318 - val_loss: 1.8973\n",
      "Epoch 10/50\n",
      "201/201 [==============================] - 182s 907ms/step - loss: 1.7941 - val_loss: 1.8820\n",
      "Epoch 11/50\n",
      "201/201 [==============================] - 180s 894ms/step - loss: 1.7613 - val_loss: 1.8679\n",
      "Epoch 12/50\n",
      "201/201 [==============================] - 180s 895ms/step - loss: 1.7295 - val_loss: 1.8581\n",
      "Epoch 13/50\n",
      "201/201 [==============================] - 179s 891ms/step - loss: 1.7007 - val_loss: 1.8522\n",
      "Epoch 14/50\n",
      "201/201 [==============================] - 180s 897ms/step - loss: 1.6734 - val_loss: 1.8498\n",
      "Epoch 15/50\n",
      "201/201 [==============================] - 184s 913ms/step - loss: 1.6464 - val_loss: 1.8440\n",
      "Epoch 16/50\n",
      "201/201 [==============================] - 183s 910ms/step - loss: 1.6240 - val_loss: 1.8412\n",
      "Epoch 17/50\n",
      "201/201 [==============================] - 182s 908ms/step - loss: 1.6009 - val_loss: 1.8394\n",
      "Epoch 18/50\n",
      "201/201 [==============================] - 182s 908ms/step - loss: 1.5800 - val_loss: 1.8426\n",
      "Epoch 19/50\n",
      "201/201 [==============================] - 183s 912ms/step - loss: 1.5585 - val_loss: 1.8408\n",
      "Epoch 00019: early stopping\n"
     ]
    }
   ],
   "source": [
    "model.compile(optimizer='rmsprop', loss='sparse_categorical_crossentropy')\n",
    "es = EarlyStopping(monitor='val_loss', patience=2, verbose=1)\n",
    "history = model.fit(x=[encoder_input_train, decoder_input_train], y=decoder_target_train, \\\n",
    "          validation_data=([encoder_input_test, decoder_input_test], decoder_target_test), \\\n",
    "          batch_size=256, callbacks=[es], epochs=50)"
   ]
  },
  {
   "cell_type": "code",
   "execution_count": 84,
   "id": "4c5b9c4d",
   "metadata": {},
   "outputs": [
    {
     "data": {
      "image/png": "[encoded data removed]",
      "text/plain": [
       "<Figure size 432x288 with 1 Axes>"
      ]
     },
     "metadata": {
      "needs_background": "light"
     },
     "output_type": "display_data"
    }
   ],
   "source": [
    "plt.plot(history.history['loss'], label='train')\n",
    "plt.plot(history.history['val_loss'], label='test')\n",
    "plt.legend()\n",
    "plt.show()"
   ]
  },
  {
   "cell_type": "code",
   "execution_count": null,
   "id": "1761f335",
   "metadata": {},
   "outputs": [],
   "source": [
    "#인퍼런스 모델 구현하기"
   ]
  },
  {
   "cell_type": "code",
   "execution_count": null,
   "id": "1f809a0e",
   "metadata": {},
   "outputs": [],
   "source": [
    "#테스트 단계에서는 정수 인덱스 행렬로 존재하던 텍스트 데이터를 실제 데이터로 복원해야 하므로, \n",
    "#필요한 3개의 사전을 아래와 같이 미리 준비해 둡니다."
   ]
  },
  {
   "cell_type": "code",
   "execution_count": 85,
   "id": "fa17c270",
   "metadata": {},
   "outputs": [
    {
     "name": "stdout",
     "output_type": "stream",
     "text": [
      "=3\n"
     ]
    }
   ],
   "source": [
    "src_index_to_word = src_tokenizer.index_word # 원문 단어 집합에서 정수 -> 단어를 얻음\n",
    "tar_word_to_index = tar_tokenizer.word_index # 요약 단어 집합에서 단어 -> 정수를 얻음\n",
    "tar_index_to_word = tar_tokenizer.index_word # 요약 단어 집합에서 정수 -> 단어를 얻음\n",
    "\n",
    "print('=3')"
   ]
  },
  {
   "cell_type": "code",
   "execution_count": null,
   "id": "7c9e799c",
   "metadata": {},
   "outputs": [],
   "source": [
    "#seq2seq는 훈련할 때와 실제 동작할 때(인퍼런스 단계)의 방식이 다르므로 \n",
    "#그에 맞게 모델 설계를 별개로 진행해야 한다는 것\n",
    "\n",
    "#훈련 단계에서는 디코더의 입력부에 정답이 되는 문장 전체를 한꺼번에 넣고 디코더의 출력과 한 번에 비교할 수 있으므로, \n",
    "#인코더와 디코더를 엮은 통짜 모델 하나만 준비\n",
    "\n",
    "#그러나 정답 문장이 없는 인퍼런스 단계에서는 만들어야 할 문장의 길이만큼 디코더가 반복 구조로 동작해야 하기 때문에\n",
    "#부득이하게 인퍼런스를 위한 모델 설계를 별도로 해주어야 합니다. \n",
    "#이때는 인코더 모델과 디코더 모델을 분리해서 설계합니다."
   ]
  },
  {
   "cell_type": "code",
   "execution_count": 86,
   "id": "74c08df1",
   "metadata": {},
   "outputs": [
    {
     "name": "stdout",
     "output_type": "stream",
     "text": [
      "=3\n"
     ]
    }
   ],
   "source": [
    "# 인코더 설계\n",
    "encoder_model = Model(inputs=encoder_inputs, outputs=[encoder_outputs, state_h, state_c])\n",
    "\n",
    "# 이전 시점의 상태들을 저장하는 텐서\n",
    "decoder_state_input_h = Input(shape=(hidden_size,))\n",
    "decoder_state_input_c = Input(shape=(hidden_size,))\n",
    "\n",
    "dec_emb2 = dec_emb_layer(decoder_inputs)\n",
    "\n",
    "# 문장의 다음 단어를 예측하기 위해서 초기 상태(initial_state)를 이전 시점의 상태로 사용. 이는 뒤의 함수 decode_sequence()에 구현\n",
    "# 훈련 과정에서와 달리 LSTM의 리턴하는 은닉 상태와 셀 상태인 state_h와 state_c를 버리지 않음.\n",
    "decoder_outputs2, state_h2, state_c2 = decoder_lstm(dec_emb2, initial_state=[decoder_state_input_h, decoder_state_input_c])\n",
    "\n",
    "print('=3')"
   ]
  },
  {
   "cell_type": "code",
   "execution_count": null,
   "id": "88e6ab9f",
   "metadata": {},
   "outputs": [],
   "source": [
    "#어텐션 메커니즘을 사용하는 출력층을 설계"
   ]
  },
  {
   "cell_type": "code",
   "execution_count": 87,
   "id": "07286f75",
   "metadata": {},
   "outputs": [
    {
     "name": "stdout",
     "output_type": "stream",
     "text": [
      "=3\n"
     ]
    }
   ],
   "source": [
    "# 어텐션 함수\n",
    "decoder_hidden_state_input = Input(shape=(text_max_len, hidden_size))\n",
    "attn_out_inf = attn_layer([decoder_outputs2, decoder_hidden_state_input])\n",
    "decoder_inf_concat = Concatenate(axis=-1, name='concat')([decoder_outputs2, attn_out_inf])\n",
    "\n",
    "# 디코더의 출력층\n",
    "decoder_outputs2 = decoder_softmax_layer(decoder_inf_concat) \n",
    "\n",
    "# 최종 디코더 모델\n",
    "decoder_model = Model(\n",
    "    [decoder_inputs] + [decoder_hidden_state_input,decoder_state_input_h, decoder_state_input_c],\n",
    "    [decoder_outputs2] + [state_h2, state_c2])\n",
    "\n",
    "print('=3')"
   ]
  },
  {
   "cell_type": "code",
   "execution_count": null,
   "id": "37d0220b",
   "metadata": {},
   "outputs": [],
   "source": [
    "#인퍼런스 단계에서 단어 시퀀스를 완성하는 함수를 만들어주세요."
   ]
  },
  {
   "cell_type": "code",
   "execution_count": 88,
   "id": "5a553961",
   "metadata": {},
   "outputs": [
    {
     "name": "stdout",
     "output_type": "stream",
     "text": [
      "=3\n"
     ]
    }
   ],
   "source": [
    "def decode_sequence(input_seq):\n",
    "    # 입력으로부터 인코더의 상태를 얻음\n",
    "    e_out, e_h, e_c = encoder_model.predict(input_seq)\n",
    "\n",
    "     # <SOS>에 해당하는 토큰 생성\n",
    "    target_seq = np.zeros((1,1))\n",
    "    target_seq[0, 0] = tar_word_to_index['sostoken']\n",
    "\n",
    "    stop_condition = False\n",
    "    decoded_sentence = ''\n",
    "    while not stop_condition: # stop_condition이 True가 될 때까지 루프 반복\n",
    "\n",
    "        output_tokens, h, c = decoder_model.predict([target_seq] + [e_out, e_h, e_c])\n",
    "        sampled_token_index = np.argmax(output_tokens[0, -1, :])\n",
    "        sampled_token = tar_index_to_word[sampled_token_index]\n",
    "\n",
    "        if (sampled_token!='eostoken'):\n",
    "            decoded_sentence += ' '+sampled_token\n",
    "\n",
    "        #  <eos>에 도달하거나 최대 길이를 넘으면 중단.\n",
    "        if (sampled_token == 'eostoken'  or len(decoded_sentence.split()) >= (summary_max_len-1)):\n",
    "            stop_condition = True\n",
    "\n",
    "        # 길이가 1인 타겟 시퀀스를 업데이트\n",
    "        target_seq = np.zeros((1,1))\n",
    "        target_seq[0, 0] = sampled_token_index\n",
    "\n",
    "        # 상태를 업데이트 합니다.\n",
    "        e_h, e_c = h, c\n",
    "\n",
    "    return decoded_sentence\n",
    "print('=3')"
   ]
  },
  {
   "cell_type": "code",
   "execution_count": null,
   "id": "847ebebf",
   "metadata": {},
   "outputs": [],
   "source": [
    "# 모델 테스트하기"
   ]
  },
  {
   "cell_type": "code",
   "execution_count": null,
   "id": "7b154886",
   "metadata": {},
   "outputs": [],
   "source": [
    "#테스트 단계에서는 정수 시퀀스를 텍스트 시퀀스로 변환하여 결과를 확인하는 것이 편하겠죠. \n",
    "#주어진 정수 시퀀스를 텍스트 시퀀스로 변환하는 함수를 만들어볼게요. \n",
    "#함수를 만들 때, Text의 정수 시퀀스에서는 패딩을 위해 사용되는 숫자 0을 제외하고 \n",
    "#Summary의 정수 시퀀스에서는 숫자 0, 시작 토큰의 인덱스, 종료 토큰의 인덱스를 출력에서 제외하도록 만들 거예요."
   ]
  },
  {
   "cell_type": "code",
   "execution_count": 90,
   "id": "c6520b00",
   "metadata": {},
   "outputs": [
    {
     "name": "stdout",
     "output_type": "stream",
     "text": [
      "=3\n"
     ]
    }
   ],
   "source": [
    "# 원문의 정수 시퀀스를 텍스트 시퀀스로 변환\n",
    "def seq2text(input_seq):\n",
    "    temp=''\n",
    "    for i in input_seq:\n",
    "        if (i!=0):\n",
    "            temp = temp + src_index_to_word[i]+' '\n",
    "    return temp\n",
    "\n",
    "# 요약문의 정수 시퀀스를 텍스트 시퀀스로 변환\n",
    "def seq2summary(input_seq):\n",
    "    temp=''\n",
    "    for i in input_seq:\n",
    "        if ((i!=0 and i!=tar_word_to_index['sostoken']) and i!=tar_word_to_index['eostoken']):\n",
    "            temp = temp + tar_index_to_word[i] + ' '\n",
    "    return temp\n",
    "\n",
    "print('=3')"
   ]
  },
  {
   "cell_type": "code",
   "execution_count": 91,
   "id": "7bc01554",
   "metadata": {},
   "outputs": [],
   "source": [
    "# 테스트 데이터 약 50개의 샘플에 대해서 실제 요약과 예측된 요약을 비교"
   ]
  },
  {
   "cell_type": "code",
   "execution_count": 92,
   "id": "74b0ce3e",
   "metadata": {},
   "outputs": [
    {
     "name": "stdout",
     "output_type": "stream",
     "text": [
      "원문 : dinner last night good like pea soup little thicker next time think add tad less water seemed little thin directed taste great added cubed ham winner \n",
      "실제 요약 : wonderful flavor \n",
      "예측 요약 :  good stuff\n",
      "\n",
      "\n",
      "원문 : really like coffee people cannot taste difference use lot creamer sugar flavorings drink coffee favorite another house loves order bulk subscribe save never run get pretty cheap \n",
      "실제 요약 : coffee in bulk \n",
      "예측 요약 :  great coffee\n",
      "\n",
      "\n",
      "원문 : like flakes lot however looking strong honey flavor lightly sweetened crushed used crumb topping chicken casserole also used make peanut butter cereal bars sweetness recipe thicker flake traditional corn flakes crunchy rather crispy continue purchasing breakfast recipes well \n",
      "실제 요약 : very lightly sweetened \n",
      "예측 요약 :  great taste\n",
      "\n",
      "\n",
      "원문 : delicious sweet double delight coconut milk chocolate treat friends love taste \n",
      "실제 요약 : coconut with milk chocolate \n",
      "예측 요약 :  great\n",
      "\n",
      "\n",
      "원문 : tea tastes great lasts long time bags could even find value like wal mart \n",
      "실제 요약 : great tea \n",
      "예측 요약 :  great tea\n",
      "\n",
      "\n",
      "원문 : yeast extract listed ingredient sounds right specifically chips contain yeast extract chemical level derived different source toxic properties kettle still advertises products containing msg chips safe people msg sensitivities \n",
      "실제 요약 : the organic label is misleading \n",
      "예측 요약 :  not the best\n",
      "\n",
      "\n",
      "원문 : best chips ever unsalted low sodium diet critical allowing husband eat chips natural low fat great extra bonus additionally best flavor really taste potato flavor salt would choose chips chip market today salted chips well unsalted chips hard find stores thank amazon selling \n",
      "실제 요약 : potato chips \n",
      "예측 요약 :  best chips ever\n",
      "\n",
      "\n",
      "원문 : received gift xmas really liked insanity sauce rot ever finish sauces really great year since receiving kept stock dave products would recommend anyone enjoys spicy food wood crate fall apart though affect rating \n",
      "실제 요약 : great gift \n",
      "예측 요약 :  hot hot sauce\n",
      "\n",
      "\n",
      "원문 : product never received money returned four ignored probably never order anything twang amazon also spread word sites \n",
      "실제 요약 : poor customer service \n",
      "예측 요약 :  never have\n",
      "\n",
      "\n",
      "원문 : opened tried cashews soon gone flavors sea salt black pepper complement well sea salt presents rounded subtle salt sensation ordinary table salt onion spice natural flavor listed ingredients list doubt excellent finish eat contents whole container one sitting may find bit salty noticeable eating \n",
      "실제 요약 : great twist on cashews \n",
      "예측 요약 :  too salty\n",
      "\n",
      "\n",
      "원문 : got first round gift elated find amazon wonderful \n",
      "실제 요약 : amazing \n",
      "예측 요약 :  gift\n",
      "\n",
      "\n",
      "원문 : use product daily significantly helped reducing cold continue buy product recommend \n",
      "실제 요약 : great product \n",
      "예측 요약 :  great product\n",
      "\n",
      "\n",
      "원문 : high told oatmeal great lower tried many oatmeals hated one came along really good recommend highly also particular grandson also loves really good try \n",
      "실제 요약 : cannot believe how good this is \n",
      "예측 요약 :  great product\n",
      "\n",
      "\n",
      "원문 : absolutely best bagged popcorn ever tasted whole family loves freshness texture taste popcorn made finest ingredients natural ingredients make popcorn best available market done share taste tasting hope come varieties purchased chicago mix simply kettle far \n",
      "실제 요약 : my favorite by far \n",
      "예측 요약 :  best popcorn ever\n",
      "\n",
      "\n",
      "원문 : good cereal taste bit strong husband daughter absolutely love husband new favorite \n",
      "실제 요약 : good cereal \n",
      "예측 요약 :  great taste\n",
      "\n",
      "\n",
      "원문 : like many nana cookies sweet make flavor one loaded chocolate lots chocolate chips along cocoa powder cookie tasty filling try one glass cold milk nearby \n",
      "실제 요약 : extremely chocolately \n",
      "예측 요약 :  good\n",
      "\n",
      "\n",
      "원문 : stuff pretty dang hot best flavor sauce comes dropper best used pot beans rice chili want try stuff chip something better half hour deal burn intense \n",
      "실제 요약 : hot stuff \n",
      "예측 요약 :  hot sauce\n",
      "\n",
      "\n",
      "원문 : used use splenda course blue pink stuff agave syrup perfect brewed gallons iced green peach tea drop two cottage cheese fruit toasted almonds price best amazon rather local health food stores brand great quality free shipping packs \n",
      "실제 요약 : agave syrup amazon \n",
      "예측 요약 :  great product\n",
      "\n",
      "\n",
      "원문 : drink tea part everyday ritual drink tea understand particularly love jasmine tea light flavor nice smell also great perk order three pack use tea work home hope enjoy product much \n",
      "실제 요약 : great tea plain and simple \n",
      "예측 요약 :  great tea\n",
      "\n",
      "\n",
      "원문 : cheez mozzarella lighter taste regular cheez pretty good really remind mozzarella know pizza cheese nothing special bad either come think way feel regular cheez next mood cheez probably get regular version \n",
      "실제 요약 : good but not great \n",
      "예측 요약 :  not good\n",
      "\n",
      "\n",
      "원문 : also grew east coast may still readily available ate pancakes ice cream pumpkin pie mom also used baking none matches thick richness syrup taste whenever gone back east stocked \n",
      "실제 요약 : the best for cooking and eating \n",
      "예측 요약 :  best have found\n",
      "\n",
      "\n",
      "원문 : great easy use product pasta steaks tried tomato truffle well good experience well good cooking getting great gourmet taste truffle without paying high price truffles \n",
      "실제 요약 : great and easy to use truffles \n",
      "예측 요약 :  great product\n",
      "\n",
      "\n",
      "원문 : much less buck per package costs easily make tastier breading entire family gave star rating much flavor texture added pork chops certainly easy take much fix breading saving extra couple minutes worth lack flavor opinion unfortunately would recommend product likely stay away shake bake products \n",
      "실제 요약 : bland and not worth it \n",
      "예측 요약 :  good but not great\n",
      "\n",
      "\n",
      "원문 : one year old pup absolutely loves things without busy buddy bone course spends much time busy buddy bone \n",
      "실제 요약 : yummy for my doggie \n",
      "예측 요약 :  my loves these\n",
      "\n",
      "\n",
      "원문 : great taste soggy mushy almost thinking real pasta works well baked cold \n",
      "실제 요약 : amazing taste \n",
      "예측 요약 :  good product\n",
      "\n",
      "\n",
      "원문 : morning part dolce gusto tests caffe good strong flavor even good got cold continue buying flavor also like coffee milk capsules lay around take space definitely repeat flavor reminds nespresso flavor used favorite \n",
      "실제 요약 : very very good \n",
      "예측 요약 :  great coffee\n",
      "\n",
      "\n",
      "원문 : sold product great cats really yr old cat keep vet feels unknown source grains may continue vomit food cat real old like mine suggest trying grain free food cats carnivores grains fillers types foods stars fast shipping \n",
      "실제 요약 : to grains \n",
      "예측 요약 :  great food\n",
      "\n",
      "\n",
      "원문 : love hot teas never tried chai someone suggested one perfect time bit sugar little milk added wonderful flavor overpoweringly spicy right also fine without milk milk smooth spices bit buy couple six pack boxes time pretty sure couple cups every night addiction \n",
      "실제 요약 : am addicted \n",
      "예측 요약 :  best chai tea ever\n",
      "\n",
      "\n",
      "원문 : treats best found training rescue dog basic commands small easy reward dog loves \n",
      "실제 요약 : best treats for training \n",
      "예측 요약 :  great for training\n",
      "\n",
      "\n",
      "원문 : drink tea right morning walk makes difference feel love know something good also refreshing \n",
      "실제 요약 : love this tea \n",
      "예측 요약 :  great tea\n",
      "\n",
      "\n",
      "원문 : bought wife couldnt believe outcome fluffy moist delectable whole family enjoyed half store price yes usually buy mix certain high end store taste outcome least equal better value stars save mom cooking sorry \n",
      "실제 요약 : great taste and product value \n",
      "예측 요약 :  great product\n",
      "\n",
      "\n",
      "원문 : actually skeptical product fan velveeta mac cheese pretty tasty broccoli side though husband put equivalent broccoli dust mix taste broccoli still liked consistency pasta akin pilaf rice regular pasta nice change pace would definitely buy year old loved \n",
      "실제 요약 : pretty yummy \n",
      "예측 요약 :  great alternative to regular\n",
      "\n",
      "\n",
      "원문 : love green mountain coffee tastes great keurig best price yet would definitely continue buy usually go box per month found economical purchase \n",
      "실제 요약 : price is right \n",
      "예측 요약 :  great coffee\n",
      "\n",
      "\n",
      "원문 : different coffee drink like soda coffee chilled mine like little soda fizz much coffee flavor good robust find overly sweet like reviewers love drink like okay \n",
      "실제 요약 : did not love this \n",
      "예측 요약 :  not too strong\n",
      "\n",
      "\n",
      "원문 : wow terrible bad actually onto amazon tell everyone bad even buy kill someone today terrible even close enough food assuming taste test food right also fresh mixer seriously package contains cooked chicken good years fresh sure chemicals added get wrong love chemicals food labeled fresh fail \n",
      "실제 요약 : stars \n",
      "예측 요약 :  awful\n",
      "\n",
      "\n",
      "원문 : allergic wheat tried many different brands types wheat free gluten free pasta tinkyada brand rice pastas best found taste similar standard white pasta rice pasta tends mushy texture even undercooked rinsed tinkyada normal texture \n",
      "실제 요약 : best gluten free pasta ever \n"
     ]
    },
    {
     "name": "stdout",
     "output_type": "stream",
     "text": [
      "예측 요약 :  great pasta\n",
      "\n",
      "\n",
      "원문 : years ago husband began drinking pg tea good flavor strings buying local co op price friend sent link amazon saw subscription perfect tea great comes door want thanks amazon \n",
      "실제 요약 : tea \n",
      "예측 요약 :  great tea\n",
      "\n",
      "\n",
      "원문 : love coffee like strong coffee right order \n",
      "실제 요약 : delish \n",
      "예측 요약 :  great coffee\n",
      "\n",
      "\n",
      "원문 : find cereal good plain like grocery stores around carry particular type bran anymore idea like plain always add bananas berries eat every morning \n",
      "실제 요약 : delicious plain fiber \n",
      "예측 요약 :  great cereal\n",
      "\n",
      "\n",
      "원문 : learned many toxic ingredients preservatives dog food dog treats found zuke great healthy resource dogs little mini treats small enough natural make dogs fat yet delicious enough still feel like getting treat sure keep bag tightly closed get dry hard \n",
      "실제 요약 : healthy delicious treat \n",
      "예측 요약 :  great treats for dogs\n",
      "\n",
      "\n",
      "원문 : far best deep ever top safe used indoors \n",
      "실제 요약 : excellent deep \n",
      "예측 요약 :  best mustard ever\n",
      "\n",
      "\n",
      "원문 : incredible product calories per great alternative soft drinks much calories per lost weight making switch cola thank peace tea cannot wait unsweetened one becomes available amazon calories peace tea green tea ginseng honey ounce cans \n",
      "실제 요약 : good and good for you \n",
      "예측 요약 :  great taste\n",
      "\n",
      "\n",
      "원문 : bought whole pack liked izze grapefruit sparkling juice great disappointment first taste taste like natural pomegranate \n",
      "실제 요약 : tastes like cough syrup \n",
      "예측 요약 :  not good\n",
      "\n",
      "\n",
      "원문 : pro product great made great pies even better top ice cream con shipping cost product ordered jars cost ship hawaii could gone post office shipped rd price shipping cost posted order know much going charge late \n",
      "실제 요약 : was \n",
      "예측 요약 :  great product\n",
      "\n",
      "\n",
      "원문 : melitta rich product delicious treat comparable coffees much higher price tag plus decaffeinated version sacrifice flavour highly recommended \n",
      "실제 요약 : excellent quality and value \n",
      "예측 요약 :  great coffee\n",
      "\n",
      "\n",
      "원문 : favorite coffee happy find amazon available area \n",
      "실제 요약 : melitta decaf coffee \n",
      "예측 요약 :  great coffee\n",
      "\n",
      "\n",
      "원문 : lightly scented clear shampoo highly concentrated look feel smell like dandruff shampoo clean crisp odor lingers smells like clean hair compared head shoulders little common dandruff exist healthy scalp great looking hair remain bang buck costs little bit goes long way smart purchase \n",
      "실제 요약 : superb shampoo \n",
      "예측 요약 :  works well\n",
      "\n",
      "\n",
      "원문 : pecan meal like bran flakes pecans thought ground pecans name would indicate container came light first clue exactly whole pecan nut meat meal flaky price might clue suppose since per pound price pecans places \n",
      "실제 요약 : not what it seems \n",
      "예측 요약 :  great cereal\n",
      "\n",
      "\n",
      "원문 : opened weruva carton cans dented throw away even though box buyer beware \n",
      "실제 요약 : horrible packaging \n",
      "예측 요약 :  dented cans\n",
      "\n",
      "\n",
      "원문 : strength tea ok quite english breakfast taste looking may unlike english breakfast blends used one make entirely teas east africa assam tea included furthermore others mentioned tea fine powder definitely full leaves \n",
      "실제 요약 : not my cup of tea \n",
      "예측 요약 :  not the same\n",
      "\n",
      "\n"
     ]
    }
   ],
   "source": [
    "for i in range(50, 100):\n",
    "    print(\"원문 :\", seq2text(encoder_input_test[i]))\n",
    "    print(\"실제 요약 :\", seq2summary(decoder_input_test[i]))\n",
    "    print(\"예측 요약 :\", decode_sequence(encoder_input_test[i].reshape(1, text_max_len)))\n",
    "    print(\"\\n\")"
   ]
  },
  {
   "cell_type": "code",
   "execution_count": null,
   "id": "525c7109",
   "metadata": {},
   "outputs": [],
   "source": [
    "#많은 결과가 출력이 되는데, \n",
    "#기존의 요약과는 다른 요약을 출력하면서도 원문의 내용을 담고 있는 의미 있는 요약들이 보이네요\n",
    "#심지어 일부 요약의 경우에는 원문에 없던 단어를 사용해서 요약을 하기도 하고 있어요. \n",
    "#워드 임베딩과 RNN의 콜라보로 이뤄낸 신기한 성과"
   ]
  },
  {
   "cell_type": "code",
   "execution_count": null,
   "id": "6b7d7a1d",
   "metadata": {},
   "outputs": [],
   "source": [
    "#물론 슬프게도 그다지 좋지 않은 요약의 예도 꽤나 보이기도 하네요. \n",
    "#성능을 개선하기 위해서는 seq2seq와 어텐션의 자체의 조합을 좀 더 좋게 수정하는 방법도 있고, \n",
    "#빔 서치(beam search), 사전 훈련된 워드 임베딩(pre-trained word embedding), \n",
    "#또는 인코더 - 디코더 자체의 구조를 새로이 변경한 하는 트랜스포머(Transformer)와 같은 \n",
    "#여러 개선 방안들이 존재합니다. \n",
    "#이런 방안들에 대해서도 향후 살펴보게 될 것입니다."
   ]
  },
  {
   "cell_type": "code",
   "execution_count": null,
   "id": "76fff1b8",
   "metadata": {},
   "outputs": [],
   "source": [
    "#추출적 요약해보기"
   ]
  },
  {
   "cell_type": "code",
   "execution_count": null,
   "id": "467e9edc",
   "metadata": {},
   "outputs": [],
   "source": [
    "#패키지 Summa에서는 추출적 요약을 위한 모듈인 summarize를 제공하고 있어 아주 간단하게 실습\n",
    "#영화 매트릭스 시놉시스를 요약해보면서 summarize 사용법을 익혀보기"
   ]
  },
  {
   "cell_type": "code",
   "execution_count": null,
   "id": "c46b1347",
   "metadata": {},
   "outputs": [],
   "source": [
    "#데이터 다운로드하기"
   ]
  },
  {
   "cell_type": "code",
   "execution_count": 93,
   "id": "95d12c2e",
   "metadata": {},
   "outputs": [],
   "source": [
    "import requests\n",
    "from summa.summarizer import summarize"
   ]
  },
  {
   "cell_type": "code",
   "execution_count": null,
   "id": "7506d8c9",
   "metadata": {},
   "outputs": [],
   "source": [
    "#매트릭스 시놉시스를 다운"
   ]
  },
  {
   "cell_type": "code",
   "execution_count": 94,
   "id": "56fbd74b",
   "metadata": {},
   "outputs": [],
   "source": [
    "text = requests.get('http://rare-technologies.com/the_matrix_synopsis.txt').text"
   ]
  },
  {
   "cell_type": "code",
   "execution_count": null,
   "id": "25435aa5",
   "metadata": {},
   "outputs": [],
   "source": [
    "#이제 text에는 매트릭스 시놉시스가 문자열로 저장돼 있어요. \n",
    "#출력 결과가 아주 길기 때문에 일부만 출력해보고, 잘 저장이 되었는지 확인"
   ]
  },
  {
   "cell_type": "code",
   "execution_count": 95,
   "id": "8ad49421",
   "metadata": {},
   "outputs": [
    {
     "name": "stdout",
     "output_type": "stream",
     "text": [
      "The screen is filled with green, cascading code which gives way to the title, The Matrix.\r\n",
      "\r\n",
      "A phone rings and text appears on the screen: \"Call trans opt: received. 2-19-98 13:24:18 REC: Log>\" As a conversation takes place between Trinity (Carrie-Anne Moss) and Cypher (Joe Pantoliano), two free humans, a table of random green numbers are being scanned and individual numbers selected, creating a series of digits not unlike an ordinary phone number, as if a code is being deciphered or a call is being traced.\r\n",
      "\r\n",
      "Trinity discusses some unknown person. Cypher taunts Trinity, suggesting she enjoys watching him. Trinity counters that \"Morpheus (Laurence Fishburne) says he may be 'the One',\" just as the sound of a number being selected alerts Trinity that someone may be tracing their call. She ends the call.\r\n",
      "\r\n",
      "Armed policemen move down a darkened, decrepit hallway in the Heart O' the City Hotel, their flashlight beam bouncing just ahead of them. They come to room 303, kick down the door and find a woman dressed in black, facing away from them. It's Trinity. She brings her hands up from the laptop she's working on at their command.\r\n",
      "\r\n",
      "Outside the hotel a car drives up and three agents appear in neatly pressed black suits. They are Agent Smith (Hugo Weaving), Agent Brown (Paul Goddard), and Agent Jones (Robert Taylor). Agent Smith and the presiding police lieutenant argue. Agent Smith admonishes the policeman that they were given specific orders to contact the agents first, for their\n"
     ]
    }
   ],
   "source": [
    "print(text[:1500])"
   ]
  },
  {
   "cell_type": "code",
   "execution_count": null,
   "id": "1128cf64",
   "metadata": {},
   "outputs": [],
   "source": [
    "#summarize 사용하기\n",
    "\n",
    "#text (str) : 요약할 테스트.\n",
    "#ratio (float, optional) – 요약문에서 원본에서 선택되는 문장 비율. 0~1 사이값\n",
    "#words (int or None, optional) – 출력에 포함할 단어 수.\n",
    "#만약, ratio와 함께 두 파라미터가 모두 제공되는 경우 ratio는 무시한다.\n",
    "#split (bool, optional) – True면 문장 list / False는 조인(join)된 문자열을 반환"
   ]
  },
  {
   "cell_type": "code",
   "execution_count": null,
   "id": "212dcdcf",
   "metadata": {},
   "outputs": [],
   "source": [
    "#Summa의 summarize는 문장 토큰화를 별도로 하지 않더라도 내부적으로 문장 토큰화를 수행해요. \n",
    "#그렇기 때문에 문장 구분이 되어있지 않은 원문을 바로 입력으로 넣을 수 있어요. \n",
    "#비율을 적게 주어서 요약문으로 선택되는 문장의 개수를 줄여볼게요. \n",
    "#원문의 0.005%만을 출력하도록 설정했어요."
   ]
  },
  {
   "cell_type": "code",
   "execution_count": 96,
   "id": "079d0643",
   "metadata": {},
   "outputs": [
    {
     "name": "stdout",
     "output_type": "stream",
     "text": [
      "Summary:\n",
      "Morpheus, Trinity, Neo, Apoc, Switch, Mouse and Cypher are jacked into the Matrix.\n",
      "Trinity brings the helicopter down to the floor that Morpheus is on and Neo opens fire on the three Agents.\n"
     ]
    }
   ],
   "source": [
    "print('Summary:')\n",
    "print(summarize(text, ratio=0.005))"
   ]
  },
  {
   "cell_type": "code",
   "execution_count": null,
   "id": "6f8da2b3",
   "metadata": {},
   "outputs": [],
   "source": [
    "#만약 리스트로 출력 결과를 받고 싶다면 split 인자의 값을 True로 하면 돼요."
   ]
  },
  {
   "cell_type": "code",
   "execution_count": 97,
   "id": "72efeb21",
   "metadata": {},
   "outputs": [
    {
     "name": "stdout",
     "output_type": "stream",
     "text": [
      "Summary:\n",
      "['Morpheus, Trinity, Neo, Apoc, Switch, Mouse and Cypher are jacked into the Matrix.', 'Trinity brings the helicopter down to the floor that Morpheus is on and Neo opens fire on the three Agents.']\n"
     ]
    }
   ],
   "source": [
    "print('Summary:')\n",
    "print(summarize(text, ratio=0.005, split=True))"
   ]
  },
  {
   "cell_type": "code",
   "execution_count": null,
   "id": "2c9b8a28",
   "metadata": {},
   "outputs": [],
   "source": [
    "#단어의 수로 요약문의 크기를 조절할 수도 있어요. 단어를 50개만 선택하도록 해보세요."
   ]
  },
  {
   "cell_type": "code",
   "execution_count": 98,
   "id": "0cc51a62",
   "metadata": {},
   "outputs": [
    {
     "name": "stdout",
     "output_type": "stream",
     "text": [
      "Summary:\n",
      "Trinity takes Neo to Morpheus.\n",
      "Morpheus, Trinity, Neo, Apoc, Switch, Mouse and Cypher are jacked into the Matrix.\n",
      "Trinity brings the helicopter down to the floor that Morpheus is on and Neo opens fire on the three Agents.\n"
     ]
    }
   ],
   "source": [
    "print('Summary:')\n",
    "print(summarize(text, words=50))"
   ]
  },
  {
   "cell_type": "code",
   "execution_count": null,
   "id": "bb084a61",
   "metadata": {},
   "outputs": [],
   "source": []
  },
  {
   "cell_type": "code",
   "execution_count": null,
   "id": "37291b7a",
   "metadata": {},
   "outputs": [],
   "source": []
  },
  {
   "cell_type": "code",
   "execution_count": null,
   "id": "e0f138a6",
   "metadata": {},
   "outputs": [],
   "source": []
  },
  {
   "cell_type": "code",
   "execution_count": null,
   "id": "a3ad3197",
   "metadata": {},
   "outputs": [],
   "source": []
  },
  {
   "cell_type": "code",
   "execution_count": null,
   "id": "4720f5c3",
   "metadata": {},
   "outputs": [],
   "source": []
  },
  {
   "cell_type": "code",
   "execution_count": null,
   "id": "21b470fb",
   "metadata": {},
   "outputs": [],
   "source": []
  }
 ],
 "metadata": {
  "kernelspec": {
   "display_name": "Python 3 (ipykernel)",
   "language": "python",
   "name": "python3"
  },
  "language_info": {
   "codemirror_mode": {
    "name": "ipython",
    "version": 3
   },
   "file_extension": ".py",
   "mimetype": "text/x-python",
   "name": "python",
   "nbconvert_exporter": "python",
   "pygments_lexer": "ipython3",
   "version": "3.9.7"
  }
 },
 "nbformat": 4,
 "nbformat_minor": 5
}
