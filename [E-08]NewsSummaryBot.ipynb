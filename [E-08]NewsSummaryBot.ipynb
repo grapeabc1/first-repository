{
 "cells": [
  {
   "cell_type": "code",
   "execution_count": null,
   "id": "ba39fae8",
   "metadata": {},
   "outputs": [],
   "source": [
    "#필요한 패키지 임포트"
   ]
  },
  {
   "cell_type": "code",
   "execution_count": 1,
   "id": "fbd0e16e",
   "metadata": {},
   "outputs": [
    {
     "name": "stderr",
     "output_type": "stream",
     "text": [
      "[nltk_data] Downloading package stopwords to /aiffel/nltk_data...\n",
      "[nltk_data]   Package stopwords is already up-to-date!\n"
     ]
    }
   ],
   "source": [
    "import nltk #불용어 사전\n",
    "nltk.download('stopwords')\n",
    "\n",
    "import numpy as np\n",
    "import pandas as pd\n",
    "import os\n",
    "import re\n",
    "import matplotlib.pyplot as plt\n",
    "from nltk.corpus import stopwords\n",
    "from bs4 import BeautifulSoup \n",
    "from tensorflow.keras.preprocessing.text import Tokenizer \n",
    "from tensorflow.keras.preprocessing.sequence import pad_sequences\n",
    "import urllib.request\n",
    "import warnings\n",
    "warnings.filterwarnings(\"ignore\", category=UserWarning, module='bs4')"
   ]
  },
  {
   "cell_type": "code",
   "execution_count": null,
   "id": "41225d93",
   "metadata": {},
   "outputs": [],
   "source": [
    "#데이터 수집하기"
   ]
  },
  {
   "cell_type": "code",
   "execution_count": 2,
   "id": "df0167e7",
   "metadata": {},
   "outputs": [],
   "source": [
    "urllib.request.urlretrieve(\"https://raw.githubusercontent.com/sunnysai12345/News_Summary/master/news_summary_more.csv\", filename=\"news_summary_more.csv\")\n",
    "data = pd.read_csv('news_summary_more.csv', encoding='iso-8859-1')"
   ]
  },
  {
   "cell_type": "code",
   "execution_count": null,
   "id": "deacecce",
   "metadata": {},
   "outputs": [],
   "source": [
    "#수집한 데이터 확인"
   ]
  },
  {
   "cell_type": "code",
   "execution_count": 3,
   "id": "37b5d27d",
   "metadata": {},
   "outputs": [
    {
     "data": {
      "text/html": [
       "<div>\n",
       "<style scoped>\n",
       "    .dataframe tbody tr th:only-of-type {\n",
       "        vertical-align: middle;\n",
       "    }\n",
       "\n",
       "    .dataframe tbody tr th {\n",
       "        vertical-align: top;\n",
       "    }\n",
       "\n",
       "    .dataframe thead th {\n",
       "        text-align: right;\n",
       "    }\n",
       "</style>\n",
       "<table border=\"1\" class=\"dataframe\">\n",
       "  <thead>\n",
       "    <tr style=\"text-align: right;\">\n",
       "      <th></th>\n",
       "      <th>headlines</th>\n",
       "      <th>text</th>\n",
       "    </tr>\n",
       "  </thead>\n",
       "  <tbody>\n",
       "    <tr>\n",
       "      <th>44250</th>\n",
       "      <td>'Punish a Muslim Day' letters circulated acros...</td>\n",
       "      <td>Letters encouraging people to take part in \"Pu...</td>\n",
       "    </tr>\n",
       "    <tr>\n",
       "      <th>19279</th>\n",
       "      <td>England trail by 21 runs after Pujara scores 1...</td>\n",
       "      <td>England ended Day 2 of the fourth Test at 6/0 ...</td>\n",
       "    </tr>\n",
       "    <tr>\n",
       "      <th>63304</th>\n",
       "      <td>India's first Test captain played Ranji till 6...</td>\n",
       "      <td>India's first-ever Test captain, Cottari Kanak...</td>\n",
       "    </tr>\n",
       "    <tr>\n",
       "      <th>75287</th>\n",
       "      <td>Dr Kafeel made scapegoat in Gorakhpur tragedy:...</td>\n",
       "      <td>AIIMS' resident doctors have condemned the sac...</td>\n",
       "    </tr>\n",
       "    <tr>\n",
       "      <th>72946</th>\n",
       "      <td>Quantum teleportation achieved underwater for ...</td>\n",
       "      <td>In a first, Chinese scientists have successful...</td>\n",
       "    </tr>\n",
       "    <tr>\n",
       "      <th>30921</th>\n",
       "      <td>Kareena, Kartik to star in Karan Johar's produ...</td>\n",
       "      <td>According to reports, Kareena Kapoor and Karti...</td>\n",
       "    </tr>\n",
       "    <tr>\n",
       "      <th>43433</th>\n",
       "      <td>BJP uses anger, we use love: Congress Prez Ra...</td>\n",
       "      <td>Addressing his first Congress plenary session ...</td>\n",
       "    </tr>\n",
       "    <tr>\n",
       "      <th>22367</th>\n",
       "      <td>Apple gets patent for Face ID feature on Mac</td>\n",
       "      <td>Apple has received a patent to incorporate the...</td>\n",
       "    </tr>\n",
       "    <tr>\n",
       "      <th>71626</th>\n",
       "      <td>Have more kids or we will need to employ robot...</td>\n",
       "      <td>Andhra Pradesh CM N Chandrababu Naidu on Monda...</td>\n",
       "    </tr>\n",
       "    <tr>\n",
       "      <th>86181</th>\n",
       "      <td>India's top IT firms received 37% less H-1B vi...</td>\n",
       "      <td>Top seven India-based outsourcing companies in...</td>\n",
       "    </tr>\n",
       "  </tbody>\n",
       "</table>\n",
       "</div>"
      ],
      "text/plain": [
       "                                               headlines  \\\n",
       "44250  'Punish a Muslim Day' letters circulated acros...   \n",
       "19279  England trail by 21 runs after Pujara scores 1...   \n",
       "63304  India's first Test captain played Ranji till 6...   \n",
       "75287  Dr Kafeel made scapegoat in Gorakhpur tragedy:...   \n",
       "72946  Quantum teleportation achieved underwater for ...   \n",
       "30921  Kareena, Kartik to star in Karan Johar's produ...   \n",
       "43433   BJP uses anger, we use love: Congress Prez Ra...   \n",
       "22367       Apple gets patent for Face ID feature on Mac   \n",
       "71626  Have more kids or we will need to employ robot...   \n",
       "86181  India's top IT firms received 37% less H-1B vi...   \n",
       "\n",
       "                                                    text  \n",
       "44250  Letters encouraging people to take part in \"Pu...  \n",
       "19279  England ended Day 2 of the fourth Test at 6/0 ...  \n",
       "63304  India's first-ever Test captain, Cottari Kanak...  \n",
       "75287  AIIMS' resident doctors have condemned the sac...  \n",
       "72946  In a first, Chinese scientists have successful...  \n",
       "30921  According to reports, Kareena Kapoor and Karti...  \n",
       "43433  Addressing his first Congress plenary session ...  \n",
       "22367  Apple has received a patent to incorporate the...  \n",
       "71626  Andhra Pradesh CM N Chandrababu Naidu on Monda...  \n",
       "86181  Top seven India-based outsourcing companies in...  "
      ]
     },
     "execution_count": 3,
     "metadata": {},
     "output_type": "execute_result"
    }
   ],
   "source": [
    "data.sample(10)"
   ]
  },
  {
   "cell_type": "code",
   "execution_count": 7,
   "id": "c10eada2",
   "metadata": {},
   "outputs": [
    {
     "name": "stdout",
     "output_type": "stream",
     "text": [
      "전체 샘플수 : 98401\n"
     ]
    }
   ],
   "source": [
    "#전체 샘플 수 확인\n",
    "print('전체 샘플수 :', (len(data)))"
   ]
  },
  {
   "cell_type": "code",
   "execution_count": null,
   "id": "6dbe456a",
   "metadata": {},
   "outputs": [],
   "source": [
    "#1. 추상적 요약"
   ]
  },
  {
   "cell_type": "code",
   "execution_count": null,
   "id": "bb25a07b",
   "metadata": {},
   "outputs": [],
   "source": [
    "# 데이터 전처리(추상적 요약)"
   ]
  },
  {
   "cell_type": "code",
   "execution_count": null,
   "id": "0ff1c3c7",
   "metadata": {},
   "outputs": [],
   "source": [
    "# 중복 데이터 제거"
   ]
  },
  {
   "cell_type": "code",
   "execution_count": 4,
   "id": "89985eeb",
   "metadata": {},
   "outputs": [
    {
     "name": "stdout",
     "output_type": "stream",
     "text": [
      "<class 'pandas.core.frame.DataFrame'>\n"
     ]
    }
   ],
   "source": [
    "print(type(data))"
   ]
  },
  {
   "cell_type": "code",
   "execution_count": 6,
   "id": "ea34df61",
   "metadata": {},
   "outputs": [
    {
     "name": "stdout",
     "output_type": "stream",
     "text": [
      "text 열에서 중복을 배제한 유일한 샘플의 수 : 98360\n",
      "headlines 열에서 중복을 배제한 유일한 샘플의 수 : 98280\n"
     ]
    }
   ],
   "source": [
    "# 지정된 축의 고유한 요소 수를 계산하는 nunique 메소드 활용\n",
    "print('text 열에서 중복을 배제한 유일한 샘플의 수 :', data['text'].nunique())\n",
    "print('headlines 열에서 중복을 배제한 유일한 샘플의 수 :', data['headlines'].nunique())"
   ]
  },
  {
   "cell_type": "code",
   "execution_count": null,
   "id": "264db5a1",
   "metadata": {},
   "outputs": [],
   "source": [
    "#headlines은 요약문이니까 다른 text를 보고 요약했지만 같을 수도 있다.\n",
    "#하지만 text 중복은 명백히 중복 샘플이라는 의미이므로 제거"
   ]
  },
  {
   "cell_type": "code",
   "execution_count": 9,
   "id": "54ea4a0c",
   "metadata": {},
   "outputs": [
    {
     "name": "stdout",
     "output_type": "stream",
     "text": [
      "전체 샘플수 : 98360\n"
     ]
    }
   ],
   "source": [
    "#중복 데이터 제거하는 drop_duplicates 메소드 활용\n",
    "data.drop_duplicates(subset = ['text'], inplace=True)\n",
    "print('전체 샘플수 :', (len(data)))"
   ]
  },
  {
   "cell_type": "code",
   "execution_count": null,
   "id": "2803deed",
   "metadata": {},
   "outputs": [],
   "source": [
    "#중복 데이터는 제거했지만, \n",
    "#그 중복 데이터에 null 값이 있었다면 중복되지 않은 null 값 1개도 제거해줘야 하기 때문에\n",
    "#null값을 확인"
   ]
  },
  {
   "cell_type": "code",
   "execution_count": 10,
   "id": "ecfd5ec6",
   "metadata": {},
   "outputs": [
    {
     "name": "stdout",
     "output_type": "stream",
     "text": [
      "headlines    0\n",
      "text         0\n",
      "dtype: int64\n"
     ]
    }
   ],
   "source": [
    "#null 값을 확인하는 메소드 isnull 활용\n",
    "\n",
    "print(data.isnull().sum())"
   ]
  },
  {
   "cell_type": "code",
   "execution_count": null,
   "id": "e0294548",
   "metadata": {},
   "outputs": [],
   "source": [
    "#null 값은 없기에 dropna 메소드를 활용하여 null 값을 제거해 줄 필요는 없다."
   ]
  },
  {
   "cell_type": "code",
   "execution_count": null,
   "id": "54c4f237",
   "metadata": {},
   "outputs": [],
   "source": [
    "#중복 샘플 제거 완료, null 값도 없으니 \n",
    "#데이터 정규화 및 불용어 처리 진행"
   ]
  },
  {
   "cell_type": "code",
   "execution_count": null,
   "id": "acf1efb6",
   "metadata": {},
   "outputs": [],
   "source": [
    "#데이터 정규화"
   ]
  },
  {
   "cell_type": "code",
   "execution_count": 12,
   "id": "c042feac",
   "metadata": {},
   "outputs": [],
   "source": [
    "#정규화 사전 준비\n",
    "contractions = {\"ain't\": \"is not\", \"aren't\": \"are not\",\"can't\": \"cannot\", \"'cause\": \"because\", \"could've\": \"could have\", \"couldn't\": \"could not\",\n",
    "                           \"didn't\": \"did not\",  \"doesn't\": \"does not\", \"don't\": \"do not\", \"hadn't\": \"had not\", \"hasn't\": \"has not\", \"haven't\": \"have not\",\n",
    "                           \"he'd\": \"he would\",\"he'll\": \"he will\", \"he's\": \"he is\", \"how'd\": \"how did\", \"how'd'y\": \"how do you\", \"how'll\": \"how will\", \"how's\": \"how is\",\n",
    "                           \"I'd\": \"I would\", \"I'd've\": \"I would have\", \"I'll\": \"I will\", \"I'll've\": \"I will have\",\"I'm\": \"I am\", \"I've\": \"I have\", \"i'd\": \"i would\",\n",
    "                           \"i'd've\": \"i would have\", \"i'll\": \"i will\",  \"i'll've\": \"i will have\",\"i'm\": \"i am\", \"i've\": \"i have\", \"isn't\": \"is not\", \"it'd\": \"it would\",\n",
    "                           \"it'd've\": \"it would have\", \"it'll\": \"it will\", \"it'll've\": \"it will have\",\"it's\": \"it is\", \"let's\": \"let us\", \"ma'am\": \"madam\",\n",
    "                           \"mayn't\": \"may not\", \"might've\": \"might have\",\"mightn't\": \"might not\",\"mightn't've\": \"might not have\", \"must've\": \"must have\",\n",
    "                           \"mustn't\": \"must not\", \"mustn't've\": \"must not have\", \"needn't\": \"need not\", \"needn't've\": \"need not have\",\"o'clock\": \"of the clock\",\n",
    "                           \"oughtn't\": \"ought not\", \"oughtn't've\": \"ought not have\", \"shan't\": \"shall not\", \"sha'n't\": \"shall not\", \"shan't've\": \"shall not have\",\n",
    "                           \"she'd\": \"she would\", \"she'd've\": \"she would have\", \"she'll\": \"she will\", \"she'll've\": \"she will have\", \"she's\": \"she is\",\n",
    "                           \"should've\": \"should have\", \"shouldn't\": \"should not\", \"shouldn't've\": \"should not have\", \"so've\": \"so have\",\"so's\": \"so as\",\n",
    "                           \"this's\": \"this is\",\"that'd\": \"that would\", \"that'd've\": \"that would have\", \"that's\": \"that is\", \"there'd\": \"there would\",\n",
    "                           \"there'd've\": \"there would have\", \"there's\": \"there is\", \"here's\": \"here is\",\"they'd\": \"they would\", \"they'd've\": \"they would have\",\n",
    "                           \"they'll\": \"they will\", \"they'll've\": \"they will have\", \"they're\": \"they are\", \"they've\": \"they have\", \"to've\": \"to have\",\n",
    "                           \"wasn't\": \"was not\", \"we'd\": \"we would\", \"we'd've\": \"we would have\", \"we'll\": \"we will\", \"we'll've\": \"we will have\", \"we're\": \"we are\",\n",
    "                           \"we've\": \"we have\", \"weren't\": \"were not\", \"what'll\": \"what will\", \"what'll've\": \"what will have\", \"what're\": \"what are\",\n",
    "                           \"what's\": \"what is\", \"what've\": \"what have\", \"when's\": \"when is\", \"when've\": \"when have\", \"where'd\": \"where did\", \"where's\": \"where is\",\n",
    "                           \"where've\": \"where have\", \"who'll\": \"who will\", \"who'll've\": \"who will have\", \"who's\": \"who is\", \"who've\": \"who have\",\n",
    "                           \"why's\": \"why is\", \"why've\": \"why have\", \"will've\": \"will have\", \"won't\": \"will not\", \"won't've\": \"will not have\",\n",
    "                           \"would've\": \"would have\", \"wouldn't\": \"would not\", \"wouldn't've\": \"would not have\", \"y'all\": \"you all\",\n",
    "                           \"y'all'd\": \"you all would\",\"y'all'd've\": \"you all would have\",\"y'all're\": \"you all are\",\"y'all've\": \"you all have\",\n",
    "                           \"you'd\": \"you would\", \"you'd've\": \"you would have\", \"you'll\": \"you will\", \"you'll've\": \"you will have\",\n",
    "                           \"you're\": \"you are\", \"you've\": \"you have\"}"
   ]
  },
  {
   "cell_type": "code",
   "execution_count": 13,
   "id": "23b5a3cd",
   "metadata": {},
   "outputs": [
    {
     "name": "stdout",
     "output_type": "stream",
     "text": [
      "['i', 'me', 'my', 'myself', 'we', 'our', 'ours', 'ourselves', 'you', \"you're\", \"you've\", \"you'll\", \"you'd\", 'your', 'yours', 'yourself', 'yourselves', 'he', 'him', 'his', 'himself', 'she', \"she's\", 'her', 'hers', 'herself', 'it', \"it's\", 'its', 'itself', 'they', 'them', 'their', 'theirs', 'themselves', 'what', 'which', 'who', 'whom', 'this', 'that', \"that'll\", 'these', 'those', 'am', 'is', 'are', 'was', 'were', 'be', 'been', 'being', 'have', 'has', 'had', 'having', 'do', 'does', 'did', 'doing', 'a', 'an', 'the', 'and', 'but', 'if', 'or', 'because', 'as', 'until', 'while', 'of', 'at', 'by', 'for', 'with', 'about', 'against', 'between', 'into', 'through', 'during', 'before', 'after', 'above', 'below', 'to', 'from', 'up', 'down', 'in', 'out', 'on', 'off', 'over', 'under', 'again', 'further', 'then', 'once', 'here', 'there', 'when', 'where', 'why', 'how', 'all', 'any', 'both', 'each', 'few', 'more', 'most', 'other', 'some', 'such', 'no', 'nor', 'not', 'only', 'own', 'same', 'so', 'than', 'too', 'very', 's', 't', 'can', 'will', 'just', 'don', \"don't\", 'should', \"should've\", 'now', 'd', 'll', 'm', 'o', 're', 've', 'y', 'ain', 'aren', \"aren't\", 'couldn', \"couldn't\", 'didn', \"didn't\", 'doesn', \"doesn't\", 'hadn', \"hadn't\", 'hasn', \"hasn't\", 'haven', \"haven't\", 'isn', \"isn't\", 'ma', 'mightn', \"mightn't\", 'mustn', \"mustn't\", 'needn', \"needn't\", 'shan', \"shan't\", 'shouldn', \"shouldn't\", 'wasn', \"wasn't\", 'weren', \"weren't\", 'won', \"won't\", 'wouldn', \"wouldn't\"]\n"
     ]
    }
   ],
   "source": [
    "#불용어 사전 확인\n",
    "print(stopwords.words('english'))"
   ]
  },
  {
   "cell_type": "code",
   "execution_count": 15,
   "id": "e329c20e",
   "metadata": {},
   "outputs": [],
   "source": [
    "#정규화 및 불용어 제거를 진행할 데이터 전처리 함수\n",
    "\n",
    "def preprocess_sentence(sentence, remove_stopwords=True):\n",
    "    sentence = sentence.lower() # 텍스트 소문자화\n",
    "    sentence = BeautifulSoup(sentence, \"lxml\").text # <br />, <a href = ...> 등의 html 태그 제거\n",
    "    sentence = re.sub(r'\\([^)]*\\)', '', sentence) # 괄호로 닫힌 문자열 (...) 제거 Ex) my husband (and myself!) for => my husband for\n",
    "    sentence = re.sub('\"','', sentence) # 쌍따옴표 \" 제거\n",
    "    sentence = ' '.join([contractions[t] if t in contractions else t for t in sentence.split(\" \")]) # 약어 정규화\n",
    "    sentence = re.sub(r\"'s\\b\",\"\", sentence) # 소유격 제거. Ex) roland's -> roland\n",
    "    sentence = re.sub(\"[^a-zA-Z]\", \" \", sentence) # 영어 외 문자(숫자, 특수문자 등) 공백으로 변환\n",
    "    sentence = re.sub('[m]{2,}', 'mm', sentence) # m이 3개 이상이면 2개로 변경. Ex) ummmmmmm yeah -> umm yeah\n",
    "    \n",
    "    # 불용어 제거 (Text)\n",
    "    if remove_stopwords:\n",
    "        tokens = ' '.join(word for word in sentence.split() if not word in stopwords.words('english') if len(word) > 1)\n",
    "    # 불용어 미제거 (Summary) \n",
    "    #Abstractive한 문장 요약 결과문이 자연스러운 문장이 되려면 이 불용어들이 Summary에는 남아 있는 게 더 좋을 것 같습니다. \n",
    "    else:\n",
    "        tokens = ' '.join(word for word in sentence.split() if len(word) > 1)\n",
    "    return tokens"
   ]
  },
  {
   "cell_type": "code",
   "execution_count": 16,
   "id": "04f87e58",
   "metadata": {},
   "outputs": [
    {
     "name": "stdout",
     "output_type": "stream",
     "text": [
      "text:  everything bought great infact ordered twice third ordered wasfor mother father\n",
      "summary: great way to start the day\n"
     ]
    }
   ],
   "source": [
    "#만든 함수 테스트 전처리 전후결과 확인\n",
    "\n",
    "temp_text = 'Everything I bought was great, infact I ordered twice and the third ordered was<br />for my mother and father.'\n",
    "temp_summary = 'Great way to start (or finish) the day!!!'\n",
    "\n",
    "print(\"text: \", preprocess_sentence(temp_text))\n",
    "print(\"summary:\", preprocess_sentence(temp_summary, False))  # 불용어를 제거하지 않습니다."
   ]
  },
  {
   "cell_type": "code",
   "execution_count": null,
   "id": "aeaada91",
   "metadata": {},
   "outputs": [],
   "source": [
    "# 만든 함수가 잘 작동하는 것을 확인했으니, 훈련 데이터 전체에 대해서 전처리 수행\n",
    "# text는 불용어 제거, headlines의 경우에는 불용어 제거하지 않을 예정이므로 따로 진행"
   ]
  },
  {
   "cell_type": "code",
   "execution_count": 17,
   "id": "960568db",
   "metadata": {},
   "outputs": [
    {
     "name": "stdout",
     "output_type": "stream",
     "text": [
      "Text 전처리 후 결과:  ['saurav kant alumnus upgrad iiit pg program machine learning artificial intelligence sr systems engineer infosys almost years work experience program upgrad degree career support helped transition data scientist tech mahindra salary hike upgrad online power learning powered lakh careers', 'kunal shah credit card bill payment platform cred gave users chance win free food swiggy one year pranav kaushik delhi techie bagged reward spending cred coins users get one cred coin per rupee bill paid used avail rewards brands like ixigo bookmyshow ubereats cult fit', 'new zealand defeated india wickets fourth odi hamilton thursday win first match five match odi series india lost international match rohit sharma captaincy consecutive victories dating back march match witnessed india getting seventh lowest total odi cricket history', 'aegon life iterm insurance plan customers enjoy tax benefits premiums paid save taxes plan provides life cover age years also customers options insure critical illnesses disability accidental death benefit rider life cover age years', 'speaking sexual harassment allegations rajkumar hirani sonam kapoor said known hirani many years true metoo movement get derailed metoo movement always believe woman case need reserve judgment added hirani accused assistant worked sanju']\n"
     ]
    }
   ],
   "source": [
    "# 전체 text 데이터에 대한 전처리\n",
    "\n",
    "clean_text = []\n",
    "\n",
    "for s in data['text']:\n",
    "    clean_text.append(preprocess_sentence(s))\n",
    "\n",
    "# 전처리 후 출력\n",
    "print(\"text 전처리 후 결과: \", clean_text[:5])"
   ]
  },
  {
   "cell_type": "code",
   "execution_count": 18,
   "id": "ebfb8627",
   "metadata": {},
   "outputs": [
    {
     "name": "stdout",
     "output_type": "stream",
     "text": [
      "headlines 전처리 후 결과:  ['upgrad learner switches to career in ml al with salary hike', 'delhi techie wins free food from swiggy for one year on cred', 'new zealand end rohit sharma led india match winning streak', 'aegon life iterm insurance plan helps customers save tax', 'have known hirani for yrs what if metoo claims are not true sonam']\n"
     ]
    }
   ],
   "source": [
    "# 전체 headlines 데이터에 대한 전처리\n",
    "\n",
    "clean_headlines = []\n",
    "\n",
    "for s in data['headlines']:\n",
    "    clean_headlines.append(preprocess_sentence(s, False)) #headlines은 불용어 제거하지 않음\n",
    "\n",
    "print(\"headlines 전처리 후 결과: \", clean_headlines[:5])"
   ]
  },
  {
   "cell_type": "code",
   "execution_count": 56,
   "id": "664542d9",
   "metadata": {},
   "outputs": [
    {
     "ename": "ValueError",
     "evalue": "Length of values (98360) does not match length of index (33533)",
     "output_type": "error",
     "traceback": [
      "\u001b[0;31m---------------------------------------------------------------------------\u001b[0m",
      "\u001b[0;31mValueError\u001b[0m                                Traceback (most recent call last)",
      "\u001b[0;32m/tmp/ipykernel_3403/2075737726.py\u001b[0m in \u001b[0;36m<module>\u001b[0;34m\u001b[0m\n\u001b[1;32m      1\u001b[0m \u001b[0;31m# 데이터 정제 과정을 거쳤으니 다시 한번 빈 샘플이 생겼는지 확인해보기\u001b[0m\u001b[0;34m\u001b[0m\u001b[0;34m\u001b[0m\u001b[0m\n\u001b[1;32m      2\u001b[0m \u001b[0;34m\u001b[0m\u001b[0m\n\u001b[0;32m----> 3\u001b[0;31m \u001b[0mdata\u001b[0m\u001b[0;34m[\u001b[0m\u001b[0;34m'text'\u001b[0m\u001b[0;34m]\u001b[0m \u001b[0;34m=\u001b[0m \u001b[0mclean_text\u001b[0m\u001b[0;34m\u001b[0m\u001b[0;34m\u001b[0m\u001b[0m\n\u001b[0m\u001b[1;32m      4\u001b[0m \u001b[0mdata\u001b[0m\u001b[0;34m[\u001b[0m\u001b[0;34m'headlines'\u001b[0m\u001b[0;34m]\u001b[0m \u001b[0;34m=\u001b[0m \u001b[0mclean_headlines\u001b[0m\u001b[0;34m\u001b[0m\u001b[0;34m\u001b[0m\u001b[0m\n\u001b[1;32m      5\u001b[0m \u001b[0;34m\u001b[0m\u001b[0m\n",
      "\u001b[0;32m/opt/conda/lib/python3.9/site-packages/pandas/core/frame.py\u001b[0m in \u001b[0;36m__setitem__\u001b[0;34m(self, key, value)\u001b[0m\n\u001b[1;32m   3610\u001b[0m         \u001b[0;32melse\u001b[0m\u001b[0;34m:\u001b[0m\u001b[0;34m\u001b[0m\u001b[0;34m\u001b[0m\u001b[0m\n\u001b[1;32m   3611\u001b[0m             \u001b[0;31m# set column\u001b[0m\u001b[0;34m\u001b[0m\u001b[0;34m\u001b[0m\u001b[0m\n\u001b[0;32m-> 3612\u001b[0;31m             \u001b[0mself\u001b[0m\u001b[0;34m.\u001b[0m\u001b[0m_set_item\u001b[0m\u001b[0;34m(\u001b[0m\u001b[0mkey\u001b[0m\u001b[0;34m,\u001b[0m \u001b[0mvalue\u001b[0m\u001b[0;34m)\u001b[0m\u001b[0;34m\u001b[0m\u001b[0;34m\u001b[0m\u001b[0m\n\u001b[0m\u001b[1;32m   3613\u001b[0m \u001b[0;34m\u001b[0m\u001b[0m\n\u001b[1;32m   3614\u001b[0m     \u001b[0;32mdef\u001b[0m \u001b[0m_setitem_slice\u001b[0m\u001b[0;34m(\u001b[0m\u001b[0mself\u001b[0m\u001b[0;34m,\u001b[0m \u001b[0mkey\u001b[0m\u001b[0;34m:\u001b[0m \u001b[0mslice\u001b[0m\u001b[0;34m,\u001b[0m \u001b[0mvalue\u001b[0m\u001b[0;34m)\u001b[0m\u001b[0;34m:\u001b[0m\u001b[0;34m\u001b[0m\u001b[0;34m\u001b[0m\u001b[0m\n",
      "\u001b[0;32m/opt/conda/lib/python3.9/site-packages/pandas/core/frame.py\u001b[0m in \u001b[0;36m_set_item\u001b[0;34m(self, key, value)\u001b[0m\n\u001b[1;32m   3782\u001b[0m         \u001b[0mensure\u001b[0m \u001b[0mhomogeneity\u001b[0m\u001b[0;34m.\u001b[0m\u001b[0;34m\u001b[0m\u001b[0;34m\u001b[0m\u001b[0m\n\u001b[1;32m   3783\u001b[0m         \"\"\"\n\u001b[0;32m-> 3784\u001b[0;31m         \u001b[0mvalue\u001b[0m \u001b[0;34m=\u001b[0m \u001b[0mself\u001b[0m\u001b[0;34m.\u001b[0m\u001b[0m_sanitize_column\u001b[0m\u001b[0;34m(\u001b[0m\u001b[0mvalue\u001b[0m\u001b[0;34m)\u001b[0m\u001b[0;34m\u001b[0m\u001b[0;34m\u001b[0m\u001b[0m\n\u001b[0m\u001b[1;32m   3785\u001b[0m \u001b[0;34m\u001b[0m\u001b[0m\n\u001b[1;32m   3786\u001b[0m         if (\n",
      "\u001b[0;32m/opt/conda/lib/python3.9/site-packages/pandas/core/frame.py\u001b[0m in \u001b[0;36m_sanitize_column\u001b[0;34m(self, value)\u001b[0m\n\u001b[1;32m   4507\u001b[0m \u001b[0;34m\u001b[0m\u001b[0m\n\u001b[1;32m   4508\u001b[0m         \u001b[0;32mif\u001b[0m \u001b[0mis_list_like\u001b[0m\u001b[0;34m(\u001b[0m\u001b[0mvalue\u001b[0m\u001b[0;34m)\u001b[0m\u001b[0;34m:\u001b[0m\u001b[0;34m\u001b[0m\u001b[0;34m\u001b[0m\u001b[0m\n\u001b[0;32m-> 4509\u001b[0;31m             \u001b[0mcom\u001b[0m\u001b[0;34m.\u001b[0m\u001b[0mrequire_length_match\u001b[0m\u001b[0;34m(\u001b[0m\u001b[0mvalue\u001b[0m\u001b[0;34m,\u001b[0m \u001b[0mself\u001b[0m\u001b[0;34m.\u001b[0m\u001b[0mindex\u001b[0m\u001b[0;34m)\u001b[0m\u001b[0;34m\u001b[0m\u001b[0;34m\u001b[0m\u001b[0m\n\u001b[0m\u001b[1;32m   4510\u001b[0m         \u001b[0;32mreturn\u001b[0m \u001b[0msanitize_array\u001b[0m\u001b[0;34m(\u001b[0m\u001b[0mvalue\u001b[0m\u001b[0;34m,\u001b[0m \u001b[0mself\u001b[0m\u001b[0;34m.\u001b[0m\u001b[0mindex\u001b[0m\u001b[0;34m,\u001b[0m \u001b[0mcopy\u001b[0m\u001b[0;34m=\u001b[0m\u001b[0;32mTrue\u001b[0m\u001b[0;34m,\u001b[0m \u001b[0mallow_2d\u001b[0m\u001b[0;34m=\u001b[0m\u001b[0;32mTrue\u001b[0m\u001b[0;34m)\u001b[0m\u001b[0;34m\u001b[0m\u001b[0;34m\u001b[0m\u001b[0m\n\u001b[1;32m   4511\u001b[0m \u001b[0;34m\u001b[0m\u001b[0m\n",
      "\u001b[0;32m/opt/conda/lib/python3.9/site-packages/pandas/core/common.py\u001b[0m in \u001b[0;36mrequire_length_match\u001b[0;34m(data, index)\u001b[0m\n\u001b[1;32m    529\u001b[0m     \"\"\"\n\u001b[1;32m    530\u001b[0m     \u001b[0;32mif\u001b[0m \u001b[0mlen\u001b[0m\u001b[0;34m(\u001b[0m\u001b[0mdata\u001b[0m\u001b[0;34m)\u001b[0m \u001b[0;34m!=\u001b[0m \u001b[0mlen\u001b[0m\u001b[0;34m(\u001b[0m\u001b[0mindex\u001b[0m\u001b[0;34m)\u001b[0m\u001b[0;34m:\u001b[0m\u001b[0;34m\u001b[0m\u001b[0;34m\u001b[0m\u001b[0m\n\u001b[0;32m--> 531\u001b[0;31m         raise ValueError(\n\u001b[0m\u001b[1;32m    532\u001b[0m             \u001b[0;34m\"Length of values \"\u001b[0m\u001b[0;34m\u001b[0m\u001b[0;34m\u001b[0m\u001b[0m\n\u001b[1;32m    533\u001b[0m             \u001b[0;34mf\"({len(data)}) \"\u001b[0m\u001b[0;34m\u001b[0m\u001b[0;34m\u001b[0m\u001b[0m\n",
      "\u001b[0;31mValueError\u001b[0m: Length of values (98360) does not match length of index (33533)"
     ]
    }
   ],
   "source": [
    "# 데이터 정제 과정을 거쳤으니 다시 한번 빈 샘플이 생겼는지 확인해보기\n",
    "\n",
    "data['text'] = clean_text\n",
    "data['headlines'] = clean_headlines\n",
    "\n",
    "# 빈 값을 Null 값으로 변환\n",
    "data.replace('', np.nan, inplace=True)"
   ]
  },
  {
   "cell_type": "code",
   "execution_count": 20,
   "id": "83da2d9b",
   "metadata": {},
   "outputs": [
    {
     "data": {
      "text/plain": [
       "headlines    0\n",
       "text         0\n",
       "headliens    0\n",
       "dtype: int64"
      ]
     },
     "execution_count": 20,
     "metadata": {},
     "output_type": "execute_result"
    }
   ],
   "source": [
    "data.isnull().sum()"
   ]
  },
  {
   "cell_type": "code",
   "execution_count": null,
   "id": "6dddc131",
   "metadata": {},
   "outputs": [],
   "source": [
    "#null 값은 없기에 dropna 메소드를 활용하여 null 값을 제거해 줄 필요는 없다."
   ]
  },
  {
   "cell_type": "code",
   "execution_count": null,
   "id": "10cfe8cc",
   "metadata": {},
   "outputs": [],
   "source": [
    "#기본적인 정제는 끝났으니 학습에 사용할 데이터 크기를 결정하고 문장의 시작과 끝 표시를 진행"
   ]
  },
  {
   "cell_type": "code",
   "execution_count": null,
   "id": "50392d92",
   "metadata": {},
   "outputs": [],
   "source": [
    "#샘플의 최대 길이 정하기"
   ]
  },
  {
   "cell_type": "code",
   "execution_count": null,
   "id": "0bcd3fe8",
   "metadata": {},
   "outputs": [],
   "source": [
    "#text와 headlines의 최소, 최대, 평균 길이를 구하고 또한 길이 분포를 시각화해서 확인"
   ]
  },
  {
   "cell_type": "code",
   "execution_count": 21,
   "id": "af4dffd2",
   "metadata": {},
   "outputs": [
    {
     "name": "stdout",
     "output_type": "stream",
     "text": [
      "텍스트의 최소 길이 : 1\n",
      "텍스트의 최대 길이 : 60\n",
      "텍스트의 평균 길이 : 35.09968483123221\n",
      "요약의 최소 길이 : 1\n",
      "요약의 최대 길이 : 18\n",
      "요약의 평균 길이 : 9.553660024400163\n"
     ]
    },
    {
     "data": {
      "image/png": "[encoded data removed]",
      "text/plain": [
       "<Figure size 432x288 with 2 Axes>"
      ]
     },
     "metadata": {
      "needs_background": "light"
     },
     "output_type": "display_data"
    },
    {
     "data": {
      "image/png": "[encoded data removed]",
      "text/plain": [
       "<Figure size 432x288 with 1 Axes>"
      ]
     },
     "metadata": {
      "needs_background": "light"
     },
     "output_type": "display_data"
    },
    {
     "data": {
      "image/png": "[encoded data removed]",
      "text/plain": [
       "<Figure size 432x288 with 1 Axes>"
      ]
     },
     "metadata": {
      "needs_background": "light"
     },
     "output_type": "display_data"
    }
   ],
   "source": [
    "# 길이 분포 출력\n",
    "import matplotlib.pyplot as plt\n",
    "\n",
    "text_len = [len(s.split()) for s in data['text']]\n",
    "headlines_len = [len(s.split()) for s in data['headlines']]\n",
    "\n",
    "print('텍스트의 최소 길이 : {}'.format(np.min(text_len)))\n",
    "print('텍스트의 최대 길이 : {}'.format(np.max(text_len)))\n",
    "print('텍스트의 평균 길이 : {}'.format(np.mean(text_len)))\n",
    "print('요약의 최소 길이 : {}'.format(np.min(headlines_len)))\n",
    "print('요약의 최대 길이 : {}'.format(np.max(headlines_len)))\n",
    "print('요약의 평균 길이 : {}'.format(np.mean(headlines_len)))\n",
    "\n",
    "plt.subplot(1,2,1)\n",
    "plt.boxplot(text_len)\n",
    "plt.title('text')\n",
    "plt.subplot(1,2,2)\n",
    "plt.boxplot(headlines_len)\n",
    "plt.title('headlines')\n",
    "plt.tight_layout()\n",
    "plt.show()\n",
    "\n",
    "plt.title('text')\n",
    "plt.hist(text_len, bins = 40)\n",
    "plt.xlabel('length of samples')\n",
    "plt.ylabel('number of samples')\n",
    "plt.show()\n",
    "\n",
    "plt.title('headlines')\n",
    "plt.hist(headlines_len, bins = 40)\n",
    "plt.xlabel('length of samples')\n",
    "plt.ylabel('number of samples')\n",
    "plt.show()"
   ]
  },
  {
   "cell_type": "code",
   "execution_count": null,
   "id": "65714b7f",
   "metadata": {},
   "outputs": [],
   "source": [
    "#text, headlines 길이 모두 평균 길이를 중심으로 가까운 위치의 샘플들을 가장 많이 가지고 있음"
   ]
  },
  {
   "cell_type": "code",
   "execution_count": 50,
   "id": "8bc9f4b7",
   "metadata": {},
   "outputs": [],
   "source": [
    "#위의 결과를 바탕으로 적절한 최대최소 길이 설정\n",
    "text_min_len = 32\n",
    "text_max_len = 38\n",
    "headlines_min_len = 9\n",
    "headlines_max_len = 10"
   ]
  },
  {
   "cell_type": "code",
   "execution_count": 51,
   "id": "68e61e96",
   "metadata": {},
   "outputs": [
    {
     "name": "stdout",
     "output_type": "stream",
     "text": [
      "=3\n"
     ]
    }
   ],
   "source": [
    "#최대최소길이를 제대로 설정했는지 확인을 위한 함수\n",
    "def below_threshold_len(min_len, max_len, nested_list):\n",
    "  cnt = 0\n",
    "  for s in nested_list:\n",
    "    if(min_len <= len(s.split()) <= max_len):\n",
    "        cnt = cnt + 1\n",
    "  print('전체 샘플 중 길이가 %s이상 %s 이하인 샘플의 비율: %s'%(min_len, max_len, (cnt / len(nested_list))))"
   ]
  },
  {
   "cell_type": "code",
   "execution_count": 52,
   "id": "9290c643",
   "metadata": {},
   "outputs": [
    {
     "name": "stdout",
     "output_type": "stream",
     "text": [
      "전체 샘플 중 길이가 32이상 38 이하인 샘플의 비율: 0.843087069168564\n",
      "전체 샘플 중 길이가 9이상 10 이하인 샘플의 비율: 0.6241658161262463\n"
     ]
    }
   ],
   "source": [
    "#위에서 정의한 최대최소길이 확인 함수를 활용해 설정한 임의의 길이가 몇%의 샘플까지 포함하는지 확인\n",
    "below_threshold_len(text_min_len, text_max_len, data['text'])\n",
    "below_threshold_len(headlines_min_len, headlines_max_len, data['headlines'])"
   ]
  },
  {
   "cell_type": "code",
   "execution_count": 53,
   "id": "1482c5ae",
   "metadata": {},
   "outputs": [
    {
     "name": "stdout",
     "output_type": "stream",
     "text": [
      "전체 샘플수 : 33533\n"
     ]
    }
   ],
   "source": [
    "#정제방식은 정해진 길이로 자르는 것이아닌 정해진 길이 이상이면 제외하는 방법으로 정제\n",
    "\n",
    "data = data[data['text'].apply(lambda x: text_min_len <= len(x.split()) <= text_max_len)]\n",
    "data = data[data['headlines'].apply(lambda x: headlines_min_len <= len(x.split()) <= headlines_max_len)]\n",
    "print('전체 샘플수 :', (len(data)))"
   ]
  },
  {
   "cell_type": "code",
   "execution_count": 54,
   "id": "57fdc5cf",
   "metadata": {},
   "outputs": [],
   "source": [
    "#시작 토큰과 종료 토큰 추가하기"
   ]
  },
  {
   "cell_type": "code",
   "execution_count": null,
   "id": "7592f914",
   "metadata": {},
   "outputs": [],
   "source": [
    "#디코더는 시작 토큰을 입력받아 문장을 생성하기 시작하고, 종료 토큰을 예측한 순간에 문장 생성을 멈춘다.\n",
    "#seq2seq 훈련을 위해서는 디코더의 입력과 레이블에 시작 토큰과 종료 토큰을 추가할 필요가 있다.\n",
    "\n",
    "#시작 토큰 sostoken\n",
    "#종료 토큰 eostoken\n",
    "#디코더 입력에 해당하면서 시작 토큰이 맨 앞에 있는 문장의 이름 decoder_input\n",
    "#디코더의 출력 또는 레이블에 해당되면서 종료 토큰이 맨 뒤에 붙는 문장의 이름 decoder_target"
   ]
  },
  {
   "cell_type": "code",
   "execution_count": 55,
   "id": "243a93af",
   "metadata": {},
   "outputs": [
    {
     "data": {
      "text/html": [
       "<div>\n",
       "<style scoped>\n",
       "    .dataframe tbody tr th:only-of-type {\n",
       "        vertical-align: middle;\n",
       "    }\n",
       "\n",
       "    .dataframe tbody tr th {\n",
       "        vertical-align: top;\n",
       "    }\n",
       "\n",
       "    .dataframe thead th {\n",
       "        text-align: right;\n",
       "    }\n",
       "</style>\n",
       "<table border=\"1\" class=\"dataframe\">\n",
       "  <thead>\n",
       "    <tr style=\"text-align: right;\">\n",
       "      <th></th>\n",
       "      <th>headlines</th>\n",
       "      <th>text</th>\n",
       "      <th>headliens</th>\n",
       "      <th>decoder_input</th>\n",
       "      <th>decoder_target</th>\n",
       "    </tr>\n",
       "  </thead>\n",
       "  <tbody>\n",
       "    <tr>\n",
       "      <th>2</th>\n",
       "      <td>New Zealand end Rohit Sharma-led India's 12-ma...</td>\n",
       "      <td>new zealand defeated india wickets fourth odi ...</td>\n",
       "      <td>new zealand end rohit sharma led india match w...</td>\n",
       "      <td>sostoken New Zealand end Rohit Sharma-led Indi...</td>\n",
       "      <td>New Zealand end Rohit Sharma-led India's 12-ma...</td>\n",
       "    </tr>\n",
       "    <tr>\n",
       "      <th>3</th>\n",
       "      <td>Aegon life iTerm insurance plan helps customer...</td>\n",
       "      <td>aegon life iterm insurance plan customers enjo...</td>\n",
       "      <td>aegon life iterm insurance plan helps customer...</td>\n",
       "      <td>sostoken Aegon life iTerm insurance plan helps...</td>\n",
       "      <td>Aegon life iTerm insurance plan helps customer...</td>\n",
       "    </tr>\n",
       "    <tr>\n",
       "      <th>5</th>\n",
       "      <td>Rahat Fateh Ali Khan denies getting notice for...</td>\n",
       "      <td>pakistani singer rahat fateh ali khan denied r...</td>\n",
       "      <td>rahat fateh ali khan denies getting notice for...</td>\n",
       "      <td>sostoken Rahat Fateh Ali Khan denies getting n...</td>\n",
       "      <td>Rahat Fateh Ali Khan denies getting notice for...</td>\n",
       "    </tr>\n",
       "    <tr>\n",
       "      <th>10</th>\n",
       "      <td>UP cousins fed human excreta for friendship wi...</td>\n",
       "      <td>two minor cousins uttar pradesh gorakhpur alle...</td>\n",
       "      <td>up cousins fed human excreta for friendship wi...</td>\n",
       "      <td>sostoken UP cousins fed human excreta for frie...</td>\n",
       "      <td>UP cousins fed human excreta for friendship wi...</td>\n",
       "    </tr>\n",
       "    <tr>\n",
       "      <th>16</th>\n",
       "      <td>Karan Johar, Tabu turn showstoppers on opening...</td>\n",
       "      <td>filmmaker karan johar actress tabu turned show...</td>\n",
       "      <td>karan johar tabu turn showstoppers on opening ...</td>\n",
       "      <td>sostoken Karan Johar, Tabu turn showstoppers o...</td>\n",
       "      <td>Karan Johar, Tabu turn showstoppers on opening...</td>\n",
       "    </tr>\n",
       "  </tbody>\n",
       "</table>\n",
       "</div>"
      ],
      "text/plain": [
       "                                            headlines  \\\n",
       "2   New Zealand end Rohit Sharma-led India's 12-ma...   \n",
       "3   Aegon life iTerm insurance plan helps customer...   \n",
       "5   Rahat Fateh Ali Khan denies getting notice for...   \n",
       "10  UP cousins fed human excreta for friendship wi...   \n",
       "16  Karan Johar, Tabu turn showstoppers on opening...   \n",
       "\n",
       "                                                 text  \\\n",
       "2   new zealand defeated india wickets fourth odi ...   \n",
       "3   aegon life iterm insurance plan customers enjo...   \n",
       "5   pakistani singer rahat fateh ali khan denied r...   \n",
       "10  two minor cousins uttar pradesh gorakhpur alle...   \n",
       "16  filmmaker karan johar actress tabu turned show...   \n",
       "\n",
       "                                            headliens  \\\n",
       "2   new zealand end rohit sharma led india match w...   \n",
       "3   aegon life iterm insurance plan helps customer...   \n",
       "5   rahat fateh ali khan denies getting notice for...   \n",
       "10  up cousins fed human excreta for friendship wi...   \n",
       "16  karan johar tabu turn showstoppers on opening ...   \n",
       "\n",
       "                                        decoder_input  \\\n",
       "2   sostoken New Zealand end Rohit Sharma-led Indi...   \n",
       "3   sostoken Aegon life iTerm insurance plan helps...   \n",
       "5   sostoken Rahat Fateh Ali Khan denies getting n...   \n",
       "10  sostoken UP cousins fed human excreta for frie...   \n",
       "16  sostoken Karan Johar, Tabu turn showstoppers o...   \n",
       "\n",
       "                                       decoder_target  \n",
       "2   New Zealand end Rohit Sharma-led India's 12-ma...  \n",
       "3   Aegon life iTerm insurance plan helps customer...  \n",
       "5   Rahat Fateh Ali Khan denies getting notice for...  \n",
       "10  UP cousins fed human excreta for friendship wi...  \n",
       "16  Karan Johar, Tabu turn showstoppers on opening...  "
      ]
     },
     "execution_count": 55,
     "metadata": {},
     "output_type": "execute_result"
    }
   ],
   "source": [
    "# 요약 데이터에는 시작 토큰과 종료 토큰을 추가한다.\n",
    "data['decoder_input'] = data['headlines'].apply(lambda x : 'sostoken '+ x)\n",
    "data['decoder_target'] = data['headlines'].apply(lambda x : x + ' eostoken')\n",
    "data.head()"
   ]
  },
  {
   "cell_type": "code",
   "execution_count": 57,
   "id": "617d1471",
   "metadata": {},
   "outputs": [],
   "source": [
    "# 인코더의 입력, 디코더의 입력과 레이블을 각각 다시 numpy 타입으로 저장\n",
    "\n",
    "encoder_input = np.array(data['text']) # 인코더의 입력\n",
    "decoder_input = np.array(data['decoder_input']) # 디코더의 입력\n",
    "decoder_target = np.array(data['decoder_target']) # 디코더의 레이블"
   ]
  },
  {
   "cell_type": "code",
   "execution_count": null,
   "id": "e0db7fb0",
   "metadata": {},
   "outputs": [],
   "source": [
    "#훈련 데이터와 테스트 데이터를 분리"
   ]
  },
  {
   "cell_type": "code",
   "execution_count": null,
   "id": "fe8cf589",
   "metadata": {},
   "outputs": [],
   "source": [
    "#우선, encoder_input과 크기와 형태가 같은 순서가 섞인 정수 시퀀스 만들기"
   ]
  },
  {
   "cell_type": "code",
   "execution_count": 58,
   "id": "4eae6450",
   "metadata": {},
   "outputs": [
    {
     "name": "stdout",
     "output_type": "stream",
     "text": [
      "[17410 11868 19310 ... 29148 32381 23788]\n"
     ]
    }
   ],
   "source": [
    "indices = np.arange(encoder_input.shape[0])\n",
    "np.random.shuffle(indices)\n",
    "print(indices)"
   ]
  },
  {
   "cell_type": "code",
   "execution_count": null,
   "id": "ba3e4f08",
   "metadata": {},
   "outputs": [],
   "source": [
    "# 이 정수 시퀀스를 이용해 다시 데이터의 샘플 순서를 정의해 잘 섞인 샘플로 만들기"
   ]
  },
  {
   "cell_type": "code",
   "execution_count": 59,
   "id": "ffe66168",
   "metadata": {},
   "outputs": [],
   "source": [
    "encoder_input = encoder_input[indices]\n",
    "decoder_input = decoder_input[indices]\n",
    "decoder_target = decoder_target[indices]"
   ]
  },
  {
   "cell_type": "code",
   "execution_count": 60,
   "id": "6e2e6eb2",
   "metadata": {},
   "outputs": [
    {
     "name": "stdout",
     "output_type": "stream",
     "text": [
      "테스트 데이터의 수 : 6706\n"
     ]
    }
   ],
   "source": [
    "#이제 섞인 데이터를 8:2의 비율로 훈련 데이터와 테스트 데이터로 분리. \n",
    "\n",
    "n_of_val = int(len(encoder_input)*0.2) #전체 데이터의 크기에서 0.2를 곱해서 테스트 데이터의 크기를 정의\n",
    "print('테스트 데이터의 수 :', n_of_val)"
   ]
  },
  {
   "cell_type": "code",
   "execution_count": 61,
   "id": "aa9586f2",
   "metadata": {},
   "outputs": [
    {
     "name": "stdout",
     "output_type": "stream",
     "text": [
      "훈련 데이터의 개수 : 26827\n",
      "훈련 레이블의 개수 : 26827\n",
      "테스트 데이터의 개수 : 6706\n",
      "테스트 레이블의 개수 : 6706\n"
     ]
    }
   ],
   "source": [
    "# 이렇게 정의한 테스트 데이터의 개수를 이용해 전체 데이터를 양분\n",
    "\n",
    "encoder_input_train = encoder_input[:-n_of_val]\n",
    "decoder_input_train = decoder_input[:-n_of_val]\n",
    "decoder_target_train = decoder_target[:-n_of_val]\n",
    "\n",
    "encoder_input_test = encoder_input[-n_of_val:]\n",
    "decoder_input_test = decoder_input[-n_of_val:]\n",
    "decoder_target_test = decoder_target[-n_of_val:]\n",
    "\n",
    "print('훈련 데이터의 개수 :', len(encoder_input_train))\n",
    "print('훈련 레이블의 개수 :', len(decoder_input_train))\n",
    "print('테스트 데이터의 개수 :', len(encoder_input_test))\n",
    "print('테스트 레이블의 개수 :', len(decoder_input_test))"
   ]
  },
  {
   "cell_type": "code",
   "execution_count": null,
   "id": "98ee19ba",
   "metadata": {},
   "outputs": [],
   "source": [
    "#정수 인코딩"
   ]
  },
  {
   "cell_type": "code",
   "execution_count": 62,
   "id": "96dc1ab0",
   "metadata": {},
   "outputs": [],
   "source": [
    "#이제 기계가 텍스트를 숫자로 처리할 수 있도록 훈련 데이터와 테스트 데이터의 단어들을 모두 정수로 바꾸는 작업 진행"
   ]
  },
  {
   "cell_type": "code",
   "execution_count": null,
   "id": "ee2a8e6b",
   "metadata": {},
   "outputs": [],
   "source": [
    "#훈련 데이터에 대해서 단어 집합 만들기. 우선 원문에 해당되는 encoder_input_train에 대해서 단어 집합 생성"
   ]
  },
  {
   "cell_type": "code",
   "execution_count": 63,
   "id": "6e93b6f7",
   "metadata": {},
   "outputs": [
    {
     "name": "stdout",
     "output_type": "stream",
     "text": [
      "=3\n"
     ]
    }
   ],
   "source": [
    "#Keras의 토크나이저를 사용\n",
    "\n",
    "src_tokenizer = Tokenizer() # 토크나이저 정의\n",
    "src_tokenizer.fit_on_texts(encoder_input_train) # 입력된 데이터로부터 단어 집합 생성"
   ]
  },
  {
   "cell_type": "code",
   "execution_count": null,
   "id": "ab1992b8",
   "metadata": {},
   "outputs": [],
   "source": [
    "#위의 과정으로 단어 집합이 생성되는 동시에 각 단어에 고유한 정수가 부여\n",
    "#현재 생성된 단어 집합은 src_tokenizer.word_index에 저장\n",
    "#하지만 이렇게 만든 단어 집합에 있는 모든 단어를 사용하지 않고, 빈도수가 낮은 단어들은 제외하고 진행\n",
    "#따라서 빈도수가 7회 미만인 단어들이 이 데이터에서 얼마만큼의 비중을 차지하는지 확인\n",
    "#src_tokenizer.word_counts.items()에는 단어와 각 단어의 등장 빈도수가 저장되어 있어 이를 통해 통계적인 정보를 얻기"
   ]
  },
  {
   "cell_type": "code",
   "execution_count": 64,
   "id": "2818d892",
   "metadata": {},
   "outputs": [
    {
     "name": "stdout",
     "output_type": "stream",
     "text": [
      "단어 집합(vocabulary)의 크기 : 43440\n",
      "등장 빈도가 6번 이하인 희귀 단어의 수: 30643\n",
      "단어 집합에서 희귀 단어를 제외시킬 경우의 단어 집합의 크기 12797\n",
      "단어 집합에서 희귀 단어의 비율: 70.54097605893186\n",
      "전체 등장 빈도에서 희귀 단어 등장 빈도 비율: 6.732182082246194\n"
     ]
    }
   ],
   "source": [
    "threshold = 7\n",
    "total_cnt = len(src_tokenizer.word_index) # 단어의 수\n",
    "rare_cnt = 0 # 등장 빈도수가 threshold보다 작은 단어의 개수를 카운트\n",
    "total_freq = 0 # 훈련 데이터의 전체 단어 빈도수 총 합\n",
    "rare_freq = 0 # 등장 빈도수가 threshold보다 작은 단어의 등장 빈도수의 총 합\n",
    "\n",
    "# 단어와 빈도수의 쌍(pair)을 key와 value로 받는다.\n",
    "for key, value in src_tokenizer.word_counts.items():\n",
    "    total_freq = total_freq + value\n",
    "\n",
    "    # 단어의 등장 빈도수가 threshold보다 작으면\n",
    "    if(value < threshold):\n",
    "        rare_cnt = rare_cnt + 1\n",
    "        rare_freq = rare_freq + value\n",
    "\n",
    "print('단어 집합(vocabulary)의 크기 :', total_cnt)\n",
    "print('등장 빈도가 %s번 이하인 희귀 단어의 수: %s'%(threshold - 1, rare_cnt))\n",
    "print('단어 집합에서 희귀 단어를 제외시킬 경우의 단어 집합의 크기 %s'%(total_cnt - rare_cnt))\n",
    "print(\"단어 집합에서 희귀 단어의 비율:\", (rare_cnt / total_cnt)*100)\n",
    "print(\"전체 등장 빈도에서 희귀 단어 등장 빈도 비율:\", (rare_freq / total_freq)*100)"
   ]
  },
  {
   "cell_type": "code",
   "execution_count": null,
   "id": "f071ebf6",
   "metadata": {},
   "outputs": [],
   "source": [
    "##################################################################################################\n",
    "#3만 여개의 단어가 있지만\n",
    "#등장 빈도가  7회 미만 즉 6회 이하인 단어들은 단어 집합에서 무려 70% 이상을 차지\n",
    "#하지만 실제로 훈련 데이터에서 등장 빈도로 차지하는 비중은 상대적으로 적은 수치인 3.39%밖에 되지 않음\n",
    "#그래서 등장 빈도가 6회 이하인 단어들은 정수 인코딩 과정에서 빼고, 훈련 데이터에서 제거"
   ]
  },
  {
   "cell_type": "code",
   "execution_count": 65,
   "id": "1a4ada52",
   "metadata": {},
   "outputs": [
    {
     "name": "stdout",
     "output_type": "stream",
     "text": [
      "=3\n"
     ]
    }
   ],
   "source": [
    "src_vocab = 12000\n",
    "src_tokenizer = Tokenizer(num_words=src_vocab) # 단어 집합의 크기를 12,000으로 제한\n",
    "src_tokenizer.fit_on_texts(encoder_input_train) # 단어 집합 재생성\n",
    "print('=3')"
   ]
  },
  {
   "cell_type": "code",
   "execution_count": 66,
   "id": "5dbb3495",
   "metadata": {},
   "outputs": [],
   "source": [
    "#texts_to_sequences()는 생성된 단어 집합에 기반하여 입력으로 주어진 텍스트 데이터의 단어들을 모두 정수로 변환하는 정수 인코딩을 수행\n",
    "#현재 단어 집합의 크기를 12,000으로 제한했으니까 이제 12,000이 넘는 숫자들은 정수 인코딩 후에는 데이터에 존재하지 않음"
   ]
  },
  {
   "cell_type": "code",
   "execution_count": 67,
   "id": "cef5099e",
   "metadata": {},
   "outputs": [
    {
     "name": "stdout",
     "output_type": "stream",
     "text": [
      "[[188, 2838, 249, 7905, 1860, 428, 174, 495, 570, 453, 2224, 3144, 5345, 607, 662, 7905, 7906, 7907, 53, 365, 22, 1308, 7907, 1641, 624, 5345, 395, 1278, 583], [253, 712, 95, 1605, 2394, 479, 58, 11, 133, 4829, 694, 5, 54, 315, 3731, 11751, 2750, 253, 370, 20, 102, 210, 6, 3189, 3096, 678, 4030, 54, 43, 2394, 479, 467, 662, 11, 31, 112, 3], [7908, 6536, 1669, 220, 24, 270, 92, 11752, 5346, 9598, 679, 6536, 1669, 746, 6115, 1617, 65, 3016, 9598, 1, 2275, 2590, 7908, 188, 197, 218, 6536, 1669, 220, 563, 6537]]\n"
     ]
    }
   ],
   "source": [
    "# 텍스트 시퀀스를 정수 시퀀스로 변환\n",
    "encoder_input_train = src_tokenizer.texts_to_sequences(encoder_input_train) \n",
    "encoder_input_test = src_tokenizer.texts_to_sequences(encoder_input_test)\n",
    "\n",
    "# 잘 진행되었는지 샘플 출력\n",
    "print(encoder_input_train[:3])"
   ]
  },
  {
   "cell_type": "code",
   "execution_count": null,
   "id": "72f2fa72",
   "metadata": {},
   "outputs": [],
   "source": [
    "#Summary 데이터에 대해서도 동일한 작업 진행\n",
    "#케라스의 토크나이저를 사용하여 decoder_input_train을 입력으로 전체 단어 집합과 각 단어에 대한 빈도수를 계산"
   ]
  },
  {
   "cell_type": "code",
   "execution_count": 68,
   "id": "dd0a8cbe",
   "metadata": {},
   "outputs": [
    {
     "name": "stdout",
     "output_type": "stream",
     "text": [
      "=3\n"
     ]
    }
   ],
   "source": [
    "tar_tokenizer = Tokenizer()\n",
    "tar_tokenizer.fit_on_texts(decoder_input_train)\n",
    "print('=3')"
   ]
  },
  {
   "cell_type": "code",
   "execution_count": 69,
   "id": "ee8d46ae",
   "metadata": {},
   "outputs": [],
   "source": [
    "#위의 과정으로 단어 집합이 생성되는 동시에 각 단어에 고유한 정수가 부여\n",
    "#현재 생성된 단어 집합은 tar_tokenizer.word_index에 저장\n",
    "#하지만 이렇게 만든 단어 집합에 있는 모든 단어를 사용하지 않고, 빈도수가 낮은 단어들은 제외하고 진행\n",
    "#따라서 빈도수가 6회 미만인 단어들이 이 데이터에서 얼마만큼의 비중을 차지하는지 확인\n",
    "#tar_tokenizer.word_counts.items()에는 단어와 각 단어의 등장 빈도수가 저장되어 있어 이를 통해 통계적인 정보를 얻기"
   ]
  },
  {
   "cell_type": "code",
   "execution_count": 70,
   "id": "06e6165d",
   "metadata": {},
   "outputs": [
    {
     "name": "stdout",
     "output_type": "stream",
     "text": [
      "단어 집합(vocabulary)의 크기 : 24782\n",
      "등장 빈도가 5번 이하인 희귀 단어의 수: 18788\n",
      "단어 집합에서 희귀 단어를 제외시킬 경우의 단어 집합의 크기 5994\n",
      "단어 집합에서 희귀 단어의 비율: 75.81309014607376\n",
      "전체 등장 빈도에서 희귀 단어 등장 빈도 비율: 11.480780911062908\n"
     ]
    }
   ],
   "source": [
    "threshold = 6\n",
    "total_cnt = len(tar_tokenizer.word_index) # 단어의 수\n",
    "rare_cnt = 0 # 등장 빈도수가 threshold보다 작은 단어의 개수를 카운트\n",
    "total_freq = 0 # 훈련 데이터의 전체 단어 빈도수 총 합\n",
    "rare_freq = 0 # 등장 빈도수가 threshold보다 작은 단어의 등장 빈도수의 총 합\n",
    "\n",
    "# 단어와 빈도수의 쌍(pair)을 key와 value로 받는다.\n",
    "for key, value in tar_tokenizer.word_counts.items():\n",
    "    total_freq = total_freq + value\n",
    "\n",
    "    # 단어의 등장 빈도수가 threshold보다 작으면\n",
    "    if(value < threshold):\n",
    "        rare_cnt = rare_cnt + 1\n",
    "        rare_freq = rare_freq + value\n",
    "\n",
    "print('단어 집합(vocabulary)의 크기 :', total_cnt)\n",
    "print('등장 빈도가 %s번 이하인 희귀 단어의 수: %s'%(threshold - 1, rare_cnt))\n",
    "print('단어 집합에서 희귀 단어를 제외시킬 경우의 단어 집합의 크기 %s'%(total_cnt - rare_cnt))\n",
    "print(\"단어 집합에서 희귀 단어의 비율:\", (rare_cnt / total_cnt)*100)\n",
    "print(\"전체 등장 빈도에서 희귀 단어 등장 빈도 비율:\", (rare_freq / total_freq)*100)"
   ]
  },
  {
   "cell_type": "code",
   "execution_count": null,
   "id": "8f038aae",
   "metadata": {},
   "outputs": [],
   "source": [
    "####################################################################################\n",
    "#등장 빈도가 5회 이하인 단어들은 단어 집합에서 약 77%를 차지하고 있네요. \n",
    "#하지만 실제로 훈련 데이터에서 등장 빈도로 차지하는 비중은 상대적으로 매우 적은 수치인 5.87%밖에 되지 않아요. \n",
    "#아까 했던 것과 동일하게 이 단어들은 모두 제거할게요. 어림잡아 2,000을 단어 집합의 크기로 제한할게요."
   ]
  },
  {
   "cell_type": "code",
   "execution_count": 71,
   "id": "6a35092f",
   "metadata": {},
   "outputs": [
    {
     "name": "stdout",
     "output_type": "stream",
     "text": [
      "input\n",
      "input  [[1, 519, 141, 6, 3024, 2212], [1, 1050, 1778, 193, 267, 40, 457, 4787, 6, 13, 440, 179, 471], [1, 4361, 1779, 3, 908, 27, 12, 25, 166], [1, 1780, 183, 788, 56, 12, 325, 66], [1, 696, 1930, 4788, 2426, 15, 297, 4, 109, 251, 2213]]\n",
      "target\n",
      "decoder  [[519, 141, 6, 3024, 2212, 2], [1050, 1778, 193, 267, 40, 457, 4787, 6, 13, 440, 179, 471, 2], [4361, 1779, 3, 908, 27, 12, 25, 166, 2], [1780, 183, 788, 56, 12, 325, 66, 2], [696, 1930, 4788, 2426, 15, 297, 4, 109, 251, 2213, 2]]\n"
     ]
    }
   ],
   "source": [
    "tar_vocab = 5000\n",
    "tar_tokenizer = Tokenizer(num_words=tar_vocab) \n",
    "tar_tokenizer.fit_on_texts(decoder_input_train)\n",
    "tar_tokenizer.fit_on_texts(decoder_target_train)\n",
    "\n",
    "# 텍스트 시퀀스를 정수 시퀀스로 변환\n",
    "decoder_input_train = tar_tokenizer.texts_to_sequences(decoder_input_train) \n",
    "decoder_target_train = tar_tokenizer.texts_to_sequences(decoder_target_train)\n",
    "decoder_input_test = tar_tokenizer.texts_to_sequences(decoder_input_test)\n",
    "decoder_target_test = tar_tokenizer.texts_to_sequences(decoder_target_test)\n",
    "\n",
    "# 잘 변환되었는지 확인\n",
    "print('input')\n",
    "print('input ',decoder_input_train[:5])\n",
    "print('target')\n",
    "print('decoder ',decoder_target_train[:5])"
   ]
  },
  {
   "cell_type": "code",
   "execution_count": null,
   "id": "1d8a5d4e",
   "metadata": {},
   "outputs": [],
   "source": [
    "##################################################################################\n",
    "#정상적으로 정수 인코딩 작업 완료\n",
    "#현재 decoder_input_train과 decoder_target_train에는 더 이상 숫자 5,000이 넘는 숫자들은 존재하지 않음"
   ]
  },
  {
   "cell_type": "code",
   "execution_count": null,
   "id": "14038370",
   "metadata": {},
   "outputs": [],
   "source": [
    "#패딩 작업으로 넘어가기 전 빈도수가 낮은 단어 삭제로 인해 빈 샘플이 생겼을 가능성이 있기 때문에 확인하여 제거 진행 필요\n",
    "#주의할 점은 decoder_input에는 sostoken, decoder_target에는 eostoken이 추가된 상태라서 길이가 0이 된 요약문의 실제길이는 1"
   ]
  },
  {
   "cell_type": "code",
   "execution_count": 72,
   "id": "49de8b9b",
   "metadata": {},
   "outputs": [
    {
     "name": "stdout",
     "output_type": "stream",
     "text": [
      "삭제할 훈련 데이터의 개수 : 0\n",
      "삭제할 테스트 데이터의 개수 : 0\n",
      "훈련 데이터의 개수 : 26827\n",
      "훈련 레이블의 개수 : 26827\n",
      "테스트 데이터의 개수 : 6706\n",
      "테스트 레이블의 개수 : 6706\n"
     ]
    }
   ],
   "source": [
    "drop_train = [index for index, sentence in enumerate(decoder_input_train) if len(sentence) == 1]\n",
    "drop_test = [index for index, sentence in enumerate(decoder_input_test) if len(sentence) == 1]\n",
    "\n",
    "print('삭제할 훈련 데이터의 개수 :', len(drop_train))\n",
    "print('삭제할 테스트 데이터의 개수 :', len(drop_test))\n",
    "\n",
    "encoder_input_train = [sentence for index, sentence in enumerate(encoder_input_train) if index not in drop_train]\n",
    "decoder_input_train = [sentence for index, sentence in enumerate(decoder_input_train) if index not in drop_train]\n",
    "decoder_target_train = [sentence for index, sentence in enumerate(decoder_target_train) if index not in drop_train]\n",
    "\n",
    "encoder_input_test = [sentence for index, sentence in enumerate(encoder_input_test) if index not in drop_test]\n",
    "decoder_input_test = [sentence for index, sentence in enumerate(decoder_input_test) if index not in drop_test]\n",
    "decoder_target_test = [sentence for index, sentence in enumerate(decoder_target_test) if index not in drop_test]\n",
    "\n",
    "print('훈련 데이터의 개수 :', len(encoder_input_train))\n",
    "print('훈련 레이블의 개수 :', len(decoder_input_train))\n",
    "print('테스트 데이터의 개수 :', len(encoder_input_test))\n",
    "print('테스트 레이블의 개수 :', len(decoder_input_test))"
   ]
  },
  {
   "cell_type": "code",
   "execution_count": null,
   "id": "9e31f8d1",
   "metadata": {},
   "outputs": [],
   "source": [
    "#우리가 사용한 데이터의 경우 headline 도 꽤 긴 문장이어서 빈 샘플이 발생하지 않은 것 같음"
   ]
  },
  {
   "cell_type": "code",
   "execution_count": null,
   "id": "e4f335b3",
   "metadata": {},
   "outputs": [],
   "source": [
    "#패딩하기\n",
    "#서로 다른 길이의 샘플들을 병렬 처리하기 위해 같은 길이로 맞춰주는 패딩 작업 필요"
   ]
  },
  {
   "cell_type": "code",
   "execution_count": 74,
   "id": "9b6d71e8",
   "metadata": {},
   "outputs": [],
   "source": [
    "#최대 길이보다 짧은 데이터들은 뒤의 공간에 숫자 0을 넣어 최대 길이로 길이를 맞춤\n",
    "encoder_input_train = pad_sequences(encoder_input_train, maxlen=text_max_len, padding='post')\n",
    "encoder_input_test = pad_sequences(encoder_input_test, maxlen=text_max_len, padding='post')\n",
    "decoder_input_train = pad_sequences(decoder_input_train, maxlen=headlines_max_len, padding='post')\n",
    "decoder_target_train = pad_sequences(decoder_target_train, maxlen=headlines_max_len, padding='post')\n",
    "decoder_input_test = pad_sequences(decoder_input_test, maxlen=headlines_max_len, padding='post')\n",
    "decoder_target_test = pad_sequences(decoder_target_test, maxlen=headlines_max_len, padding='post')"
   ]
  },
  {
   "cell_type": "code",
   "execution_count": null,
   "id": "879d3cce",
   "metadata": {},
   "outputs": [],
   "source": [
    "#모델 설계하기"
   ]
  },
  {
   "cell_type": "code",
   "execution_count": 75,
   "id": "b4d0f062",
   "metadata": {},
   "outputs": [
    {
     "name": "stdout",
     "output_type": "stream",
     "text": [
      "WARNING:tensorflow:Layer lstm will not use cuDNN kernels since it doesn't meet the criteria. It will use a generic GPU kernel as fallback when running on GPU.\n",
      "WARNING:tensorflow:Layer lstm_1 will not use cuDNN kernels since it doesn't meet the criteria. It will use a generic GPU kernel as fallback when running on GPU.\n",
      "WARNING:tensorflow:Layer lstm_2 will not use cuDNN kernels since it doesn't meet the criteria. It will use a generic GPU kernel as fallback when running on GPU.\n"
     ]
    }
   ],
   "source": [
    "from tensorflow.keras.layers import Input, LSTM, Embedding, Dense, Concatenate, TimeDistributed\n",
    "from tensorflow.keras.models import Model\n",
    "from tensorflow.keras.callbacks import EarlyStopping, ModelCheckpoint\n",
    "\n",
    "\n",
    "# 인코더 설계 시작\n",
    "embedding_dim = 128\n",
    "hidden_size = 256\n",
    "\n",
    "# 인코더\n",
    "encoder_inputs = Input(shape=(text_max_len,))\n",
    "\n",
    "# 인코더의 임베딩 층\n",
    "enc_emb = Embedding(src_vocab, embedding_dim)(encoder_inputs)\n",
    "\n",
    "# 인코더의 LSTM 1\n",
    "encoder_lstm1 = LSTM(hidden_size, return_sequences=True, return_state=True ,dropout = 0.4, recurrent_dropout = 0.4)\n",
    "encoder_output1, state_h1, state_c1 = encoder_lstm1(enc_emb)\n",
    "\n",
    "# 인코더의 LSTM 2\n",
    "encoder_lstm2 = LSTM(hidden_size, return_sequences=True, return_state=True, dropout=0.4, recurrent_dropout=0.4)\n",
    "encoder_output2, state_h2, state_c2 = encoder_lstm2(encoder_output1)\n",
    "\n",
    "# 인코더의 LSTM 3\n",
    "encoder_lstm3 = LSTM(hidden_size, return_state=True, return_sequences=True, dropout=0.4, recurrent_dropout=0.4)\n",
    "encoder_outputs, state_h, state_c= encoder_lstm3(encoder_output2)"
   ]
  },
  {
   "cell_type": "code",
   "execution_count": 76,
   "id": "84ea0ee1",
   "metadata": {},
   "outputs": [
    {
     "name": "stdout",
     "output_type": "stream",
     "text": [
      "WARNING:tensorflow:Layer lstm_3 will not use cuDNN kernels since it doesn't meet the criteria. It will use a generic GPU kernel as fallback when running on GPU.\n"
     ]
    }
   ],
   "source": [
    "# 디코더 설계\n",
    "decoder_inputs = Input(shape=(None,))\n",
    "\n",
    "# 디코더의 임베딩 층\n",
    "dec_emb_layer = Embedding(tar_vocab, embedding_dim)\n",
    "dec_emb = dec_emb_layer(decoder_inputs)\n",
    "\n",
    "# 디코더의 LSTM\n",
    "decoder_lstm = LSTM(hidden_size, return_sequences=True, return_state=True, dropout=0.4, recurrent_dropout=0.2)\n",
    "decoder_outputs, _, _ = decoder_lstm(dec_emb, initial_state=[state_h, state_c])\n",
    "\n",
    "#디코더의 임베딩 층과 LSTM을 설계하는 것은 인코더와 거의 동일\n",
    "#하지만 LSTM의 입력을 정의할 때,\n",
    "#initial_state의 인자값으로 인코더의 hidden state와 cell state의 값을 넣어줘야 함"
   ]
  },
  {
   "cell_type": "code",
   "execution_count": 77,
   "id": "a217bc60",
   "metadata": {},
   "outputs": [
    {
     "name": "stdout",
     "output_type": "stream",
     "text": [
      "Model: \"model\"\n",
      "__________________________________________________________________________________________________\n",
      "Layer (type)                    Output Shape         Param #     Connected to                     \n",
      "==================================================================================================\n",
      "input_1 (InputLayer)            [(None, 38)]         0                                            \n",
      "__________________________________________________________________________________________________\n",
      "embedding (Embedding)           (None, 38, 128)      1536000     input_1[0][0]                    \n",
      "__________________________________________________________________________________________________\n",
      "lstm (LSTM)                     [(None, 38, 256), (N 394240      embedding[0][0]                  \n",
      "__________________________________________________________________________________________________\n",
      "input_2 (InputLayer)            [(None, None)]       0                                            \n",
      "__________________________________________________________________________________________________\n",
      "lstm_1 (LSTM)                   [(None, 38, 256), (N 525312      lstm[0][0]                       \n",
      "__________________________________________________________________________________________________\n",
      "embedding_1 (Embedding)         (None, None, 128)    640000      input_2[0][0]                    \n",
      "__________________________________________________________________________________________________\n",
      "lstm_2 (LSTM)                   [(None, 38, 256), (N 525312      lstm_1[0][0]                     \n",
      "__________________________________________________________________________________________________\n",
      "lstm_3 (LSTM)                   [(None, None, 256),  394240      embedding_1[0][0]                \n",
      "                                                                 lstm_2[0][1]                     \n",
      "                                                                 lstm_2[0][2]                     \n",
      "__________________________________________________________________________________________________\n",
      "dense (Dense)                   (None, None, 5000)   1285000     lstm_3[0][0]                     \n",
      "==================================================================================================\n",
      "Total params: 5,300,104\n",
      "Trainable params: 5,300,104\n",
      "Non-trainable params: 0\n",
      "__________________________________________________________________________________________________\n"
     ]
    }
   ],
   "source": [
    "# 디코더의 출력층\n",
    "decoder_softmax_layer = Dense(tar_vocab, activation='softmax')\n",
    "decoder_softmax_outputs = decoder_softmax_layer(decoder_outputs) \n",
    "\n",
    "# 모델 정의\n",
    "model = Model([encoder_inputs, decoder_inputs], decoder_softmax_outputs)\n",
    "model.summary()"
   ]
  },
  {
   "cell_type": "code",
   "execution_count": null,
   "id": "21e26f44",
   "metadata": {},
   "outputs": [],
   "source": [
    "#어텐션 메커니즘"
   ]
  },
  {
   "cell_type": "code",
   "execution_count": 78,
   "id": "83684a01",
   "metadata": {},
   "outputs": [
    {
     "name": "stdout",
     "output_type": "stream",
     "text": [
      "Model: \"model_1\"\n",
      "__________________________________________________________________________________________________\n",
      "Layer (type)                    Output Shape         Param #     Connected to                     \n",
      "==================================================================================================\n",
      "input_1 (InputLayer)            [(None, 38)]         0                                            \n",
      "__________________________________________________________________________________________________\n",
      "embedding (Embedding)           (None, 38, 128)      1536000     input_1[0][0]                    \n",
      "__________________________________________________________________________________________________\n",
      "lstm (LSTM)                     [(None, 38, 256), (N 394240      embedding[0][0]                  \n",
      "__________________________________________________________________________________________________\n",
      "input_2 (InputLayer)            [(None, None)]       0                                            \n",
      "__________________________________________________________________________________________________\n",
      "lstm_1 (LSTM)                   [(None, 38, 256), (N 525312      lstm[0][0]                       \n",
      "__________________________________________________________________________________________________\n",
      "embedding_1 (Embedding)         (None, None, 128)    640000      input_2[0][0]                    \n",
      "__________________________________________________________________________________________________\n",
      "lstm_2 (LSTM)                   [(None, 38, 256), (N 525312      lstm_1[0][0]                     \n",
      "__________________________________________________________________________________________________\n",
      "lstm_3 (LSTM)                   [(None, None, 256),  394240      embedding_1[0][0]                \n",
      "                                                                 lstm_2[0][1]                     \n",
      "                                                                 lstm_2[0][2]                     \n",
      "__________________________________________________________________________________________________\n",
      "attention_layer (AdditiveAttent (None, None, 256)    256         lstm_3[0][0]                     \n",
      "                                                                 lstm_2[0][0]                     \n",
      "__________________________________________________________________________________________________\n",
      "concat_layer (Concatenate)      (None, None, 512)    0           lstm_3[0][0]                     \n",
      "                                                                 attention_layer[0][0]            \n",
      "__________________________________________________________________________________________________\n",
      "dense_1 (Dense)                 (None, None, 5000)   2565000     concat_layer[0][0]               \n",
      "==================================================================================================\n",
      "Total params: 6,580,360\n",
      "Trainable params: 6,580,360\n",
      "Non-trainable params: 0\n",
      "__________________________________________________________________________________________________\n"
     ]
    }
   ],
   "source": [
    "from tensorflow.keras.layers import AdditiveAttention\n",
    "\n",
    "# 어텐션 층(어텐션 함수)\n",
    "attn_layer = AdditiveAttention(name='attention_layer')\n",
    "\n",
    "# 인코더와 디코더의 모든 time step의 hidden state를 어텐션 층에 전달하고 결과를 리턴\n",
    "attn_out = attn_layer([decoder_outputs, encoder_outputs])\n",
    "\n",
    "\n",
    "# 어텐션의 결과와 디코더의 hidden state들을 연결\n",
    "decoder_concat_input = Concatenate(axis=-1, name='concat_layer')([decoder_outputs, attn_out])\n",
    "\n",
    "# 디코더의 출력층\n",
    "decoder_softmax_layer = Dense(tar_vocab, activation='softmax')\n",
    "decoder_softmax_outputs = decoder_softmax_layer(decoder_concat_input)\n",
    "\n",
    "# 모델 정의\n",
    "model = Model([encoder_inputs, decoder_inputs], decoder_softmax_outputs)\n",
    "model.summary()"
   ]
  },
  {
   "cell_type": "code",
   "execution_count": null,
   "id": "1782773f",
   "metadata": {},
   "outputs": [],
   "source": [
    "#모델 훈련하기"
   ]
  },
  {
   "cell_type": "code",
   "execution_count": 79,
   "id": "f0fd66b5",
   "metadata": {},
   "outputs": [
    {
     "name": "stdout",
     "output_type": "stream",
     "text": [
      "Epoch 1/50\n",
      "105/105 [==============================] - 64s 531ms/step - loss: 6.2287 - val_loss: 5.8293\n",
      "Epoch 2/50\n",
      "105/105 [==============================] - 55s 522ms/step - loss: 5.8054 - val_loss: 5.5676\n",
      "Epoch 3/50\n",
      "105/105 [==============================] - 55s 524ms/step - loss: 5.5953 - val_loss: 5.4484\n",
      "Epoch 4/50\n",
      "105/105 [==============================] - 54s 518ms/step - loss: 5.4158 - val_loss: 5.2627\n",
      "Epoch 5/50\n",
      "105/105 [==============================] - 55s 520ms/step - loss: 5.2215 - val_loss: 5.1486\n",
      "Epoch 6/50\n",
      "105/105 [==============================] - 54s 517ms/step - loss: 5.0541 - val_loss: 5.0075\n",
      "Epoch 7/50\n",
      "105/105 [==============================] - 54s 516ms/step - loss: 4.8985 - val_loss: 4.9086\n",
      "Epoch 8/50\n",
      "105/105 [==============================] - 54s 512ms/step - loss: 4.7548 - val_loss: 4.8359\n",
      "Epoch 9/50\n",
      "105/105 [==============================] - 54s 512ms/step - loss: 4.6243 - val_loss: 4.7610\n",
      "Epoch 10/50\n",
      "105/105 [==============================] - 54s 517ms/step - loss: 4.5020 - val_loss: 4.7062\n",
      "Epoch 11/50\n",
      "105/105 [==============================] - 53s 508ms/step - loss: 4.3875 - val_loss: 4.6624\n",
      "Epoch 12/50\n",
      "105/105 [==============================] - 54s 513ms/step - loss: 4.2803 - val_loss: 4.6105\n",
      "Epoch 13/50\n",
      "105/105 [==============================] - 54s 510ms/step - loss: 4.1793 - val_loss: 4.5876\n",
      "Epoch 14/50\n",
      "105/105 [==============================] - 54s 512ms/step - loss: 4.0794 - val_loss: 4.5550\n",
      "Epoch 15/50\n",
      "105/105 [==============================] - 54s 512ms/step - loss: 3.9880 - val_loss: 4.5373\n",
      "Epoch 16/50\n",
      "105/105 [==============================] - 54s 513ms/step - loss: 3.9005 - val_loss: 4.5107\n",
      "Epoch 17/50\n",
      "105/105 [==============================] - 53s 509ms/step - loss: 3.8170 - val_loss: 4.4862\n",
      "Epoch 18/50\n",
      "105/105 [==============================] - 54s 510ms/step - loss: 3.7364 - val_loss: 4.4798\n",
      "Epoch 19/50\n",
      "105/105 [==============================] - 54s 512ms/step - loss: 3.6573 - val_loss: 4.4852\n",
      "Epoch 20/50\n",
      "105/105 [==============================] - 54s 513ms/step - loss: 3.5833 - val_loss: 4.4666\n",
      "Epoch 21/50\n",
      "105/105 [==============================] - 53s 509ms/step - loss: 3.5111 - val_loss: 4.4556\n",
      "Epoch 22/50\n",
      "105/105 [==============================] - 54s 513ms/step - loss: 3.4406 - val_loss: 4.4600\n",
      "Epoch 23/50\n",
      "105/105 [==============================] - 55s 521ms/step - loss: 3.3732 - val_loss: 4.4484\n",
      "Epoch 24/50\n",
      "105/105 [==============================] - 56s 535ms/step - loss: 3.3093 - val_loss: 4.4525\n",
      "Epoch 25/50\n",
      "105/105 [==============================] - 55s 524ms/step - loss: 3.2461 - val_loss: 4.4487\n",
      "Epoch 00025: early stopping\n"
     ]
    }
   ],
   "source": [
    "model.compile(optimizer='rmsprop', loss='sparse_categorical_crossentropy')\n",
    "es = EarlyStopping(monitor='val_loss', patience=2, verbose=1)\n",
    "history = model.fit(x=[encoder_input_train, decoder_input_train], y=decoder_target_train, \\\n",
    "          validation_data=([encoder_input_test, decoder_input_test], decoder_target_test), \\\n",
    "          batch_size=256, callbacks=[es], epochs=50)"
   ]
  },
  {
   "cell_type": "code",
   "execution_count": 80,
   "id": "ab256e03",
   "metadata": {},
   "outputs": [
    {
     "data": {
      "image/png": "[encoded data removed]",
      "text/plain": [
       "<Figure size 432x288 with 1 Axes>"
      ]
     },
     "metadata": {
      "needs_background": "light"
     },
     "output_type": "display_data"
    }
   ],
   "source": [
    "plt.plot(history.history['loss'], label='train')\n",
    "plt.plot(history.history['val_loss'], label='test')\n",
    "plt.legend()\n",
    "plt.show()"
   ]
  },
  {
   "cell_type": "code",
   "execution_count": null,
   "id": "a880be6f",
   "metadata": {},
   "outputs": [],
   "source": [
    "#인퍼런스 모델 구현하기"
   ]
  },
  {
   "cell_type": "code",
   "execution_count": null,
   "id": "dccfae97",
   "metadata": {},
   "outputs": [],
   "source": [
    "#테스트 단계에서는 정수 인덱스 행렬로 존재하던 텍스트 데이터를 실제 데이터로 복원해야 하므로, \n",
    "#필요한 3개의 사전을 아래와 같이 미리 준비"
   ]
  },
  {
   "cell_type": "code",
   "execution_count": 81,
   "id": "161099f5",
   "metadata": {},
   "outputs": [],
   "source": [
    "src_index_to_word = src_tokenizer.index_word # 원문 단어 집합에서 정수 -> 단어를 얻음\n",
    "tar_word_to_index = tar_tokenizer.word_index # 요약 단어 집합에서 단어 -> 정수를 얻음\n",
    "tar_index_to_word = tar_tokenizer.index_word # 요약 단어 집합에서 정수 -> 단어를 얻음\n"
   ]
  },
  {
   "cell_type": "code",
   "execution_count": null,
   "id": "40d1ffba",
   "metadata": {},
   "outputs": [],
   "source": [
    "#seq2seq는 훈련할 때와 실제 동작할 때(인퍼런스 단계)의 방식이 다르므로 그에 맞게 모델 설계를 별개로 진행"
   ]
  },
  {
   "cell_type": "code",
   "execution_count": 82,
   "id": "e11165ed",
   "metadata": {},
   "outputs": [],
   "source": [
    "# 인코더 설계\n",
    "encoder_model = Model(inputs=encoder_inputs, outputs=[encoder_outputs, state_h, state_c])\n",
    "\n",
    "# 이전 시점의 상태들을 저장하는 텐서\n",
    "decoder_state_input_h = Input(shape=(hidden_size,))\n",
    "decoder_state_input_c = Input(shape=(hidden_size,))\n",
    "\n",
    "dec_emb2 = dec_emb_layer(decoder_inputs)\n",
    "\n",
    "# 문장의 다음 단어를 예측하기 위해서 초기 상태(initial_state)를 이전 시점의 상태로 사용. 이는 뒤의 함수 decode_sequence()에 구현\n",
    "# 훈련 과정에서와 달리 LSTM의 리턴하는 은닉 상태와 셀 상태인 state_h와 state_c를 버리지 않음.\n",
    "decoder_outputs2, state_h2, state_c2 = decoder_lstm(dec_emb2, initial_state=[decoder_state_input_h, decoder_state_input_c])\n"
   ]
  },
  {
   "cell_type": "code",
   "execution_count": null,
   "id": "16abf2ce",
   "metadata": {},
   "outputs": [],
   "source": [
    "#어텐션 메커니즘을 사용하는 출력층을 설계"
   ]
  },
  {
   "cell_type": "code",
   "execution_count": 83,
   "id": "d8bd0f4b",
   "metadata": {},
   "outputs": [],
   "source": [
    "# 어텐션 함수\n",
    "decoder_hidden_state_input = Input(shape=(text_max_len, hidden_size))\n",
    "attn_out_inf = attn_layer([decoder_outputs2, decoder_hidden_state_input])\n",
    "decoder_inf_concat = Concatenate(axis=-1, name='concat')([decoder_outputs2, attn_out_inf])\n",
    "\n",
    "# 디코더의 출력층\n",
    "decoder_outputs2 = decoder_softmax_layer(decoder_inf_concat) \n",
    "\n",
    "# 최종 디코더 모델\n",
    "decoder_model = Model(\n",
    "    [decoder_inputs] + [decoder_hidden_state_input,decoder_state_input_h, decoder_state_input_c],\n",
    "    [decoder_outputs2] + [state_h2, state_c2])\n"
   ]
  },
  {
   "cell_type": "code",
   "execution_count": 87,
   "id": "95872d32",
   "metadata": {},
   "outputs": [],
   "source": [
    "#인퍼런스 단계에서 단어 시퀀스를 완성하는 함수\n",
    "\n",
    "def decode_sequence(input_seq):\n",
    "    # 입력으로부터 인코더의 상태를 얻음\n",
    "    e_out, e_h, e_c = encoder_model.predict(input_seq)\n",
    "\n",
    "     # <SOS>에 해당하는 토큰 생성\n",
    "    target_seq = np.zeros((1,1))\n",
    "    target_seq[0, 0] = tar_word_to_index['sostoken']\n",
    "\n",
    "    stop_condition = False\n",
    "    decoded_sentence = ''\n",
    "    while not stop_condition: # stop_condition이 True가 될 때까지 루프 반복\n",
    "\n",
    "        output_tokens, h, c = decoder_model.predict([target_seq] + [e_out, e_h, e_c])\n",
    "        sampled_token_index = np.argmax(output_tokens[0, -1, :])\n",
    "        sampled_token = tar_index_to_word[sampled_token_index]\n",
    "\n",
    "        if (sampled_token!='eostoken'):\n",
    "            decoded_sentence += ' '+sampled_token\n",
    "\n",
    "        #  <eos>에 도달하거나 최대 길이를 넘으면 중단.\n",
    "        if (sampled_token == 'eostoken'  or len(decoded_sentence.split()) >= (headlines_max_len-1)):\n",
    "            stop_condition = True\n",
    "\n",
    "        # 길이가 1인 타겟 시퀀스를 업데이트\n",
    "        target_seq = np.zeros((1,1))\n",
    "        target_seq[0, 0] = sampled_token_index\n",
    "\n",
    "        # 상태를 업데이트 합니다.\n",
    "        e_h, e_c = h, c\n",
    "\n",
    "    return decoded_sentence"
   ]
  },
  {
   "cell_type": "code",
   "execution_count": 88,
   "id": "89a2784d",
   "metadata": {},
   "outputs": [],
   "source": [
    "# 모델 테스트하기"
   ]
  },
  {
   "cell_type": "code",
   "execution_count": 89,
   "id": "835b1961",
   "metadata": {},
   "outputs": [],
   "source": [
    "#테스트 단계에서는 정수 시퀀스를 텍스트 시퀀스로 변환하여 결과를 확인"
   ]
  },
  {
   "cell_type": "code",
   "execution_count": 90,
   "id": "35ee3e8e",
   "metadata": {},
   "outputs": [],
   "source": [
    "# 원문의 정수 시퀀스를 텍스트 시퀀스로 변환\n",
    "# Text의 정수 시퀀스에서는 패딩을 위해 사용되는 숫자 0을 제외\n",
    "def seq2text(input_seq):\n",
    "    temp=''\n",
    "    for i in input_seq:\n",
    "        if (i!=0):\n",
    "            temp = temp + src_index_to_word[i]+' '\n",
    "    return temp\n",
    "\n",
    "# 헤드라인의 정수 시퀀스를 텍스트 시퀀스로 변환\n",
    "# 헤드라인의 정수 시퀀스에서는 숫자 0, 시작 토큰의 인덱스, 종료 토큰의 인덱스를 출력에서 제외\n",
    "def seq2summary(input_seq):\n",
    "    temp=''\n",
    "    for i in input_seq:\n",
    "        if ((i!=0 and i!=tar_word_to_index['sostoken']) and i!=tar_word_to_index['eostoken']):\n",
    "            temp = temp + tar_index_to_word[i] + ' '\n",
    "    return temp\n"
   ]
  },
  {
   "cell_type": "code",
   "execution_count": 91,
   "id": "0414c5d8",
   "metadata": {},
   "outputs": [],
   "source": [
    "# 테스트 데이터 약 50개의 샘플에 대해서 실제 요약과 예측된 요약을 비교"
   ]
  },
  {
   "cell_type": "code",
   "execution_count": 92,
   "id": "f183ea22",
   "metadata": {},
   "outputs": [
    {
     "name": "stdout",
     "output_type": "stream",
     "text": [
      "원문 : flight operations suspended nearly hour delhi indira gandhi international airport sunday pilot reported spotted drone area three closed several flights diverted airport flight operations resumed getting clearance delhi police officials said \n",
      "실제 요약 : flight operations shut at delhi airport over drone \n",
      "예측 요약 :  passengers passengers stranded at airport after mumbai airport\n",
      "\n",
      "\n",
      "원문 : uk raise issue alleged persecution christians sikhs pm narendra modi commonwealth heads government meeting london follows demands uk mps bring issue citing details alleged punjab kerala apart india mps also cited persecution minorities pakistan bangladesh \n",
      "실제 요약 : uk to discuss of sikhs with india \n",
      "예측 요약 :  india to be from india pm modi\n",
      "\n",
      "\n",
      "원문 : year old pakistani model saturday found dead husband residence lahore body found hanging ceiling fan mother revealed mental stress scheduled meet cannot confirm stage whether committed suicide murdered said police \n",
      "실제 요약 : 26 year old pakistani model found dead at her residence \n",
      "예측 요약 :  man arrested for killing of girlfriend in\n",
      "\n",
      "\n",
      "원문 : following two catches india sri lanka wednesday former indian captain mahendra singh dhoni took tally catches equal kumar sangakkara record catches wicketkeeper cricket dhoni became second cricketer effect plus dismissals cricket wicketkeeper \n",
      "실제 요약 : dhoni equals record for most t20 catches by a \n",
      "예측 요약 :  becomes first ever to reach a international debut\n",
      "\n",
      "\n",
      "원문 : delhi high court wednesday ruled hospitals cannot hold patients hostage extract money unpaid bills ruling came patient son approached court claiming hospital holding father hostage outstanding dues since february also alleged hospital giving proper treatment father \n",
      "실제 요약 : hospitals can't hold patients hostage for unpaid bills hc \n",
      "예측 요약 :  hc orders plea to illegal on\n",
      "\n",
      "\n",
      "원문 : year old indian man mistakenly entered pakistan year ago handed indian authorities border man entered village near pakistan pakistani authorities revealed man arrested amount time spent custody security agencies \n",
      "실제 요약 : pak hands over indian who mistakenly border year ago \n",
      "예측 요약 :  indian man dies after being hit by\n",
      "\n",
      "\n",
      "원문 : picture actress priyanka chopra rumoured boyfriend american singer nick jonas vacation goa surfaced online seen priyanka cousin actress parineeti chopra friends picture nick arrived india priyanka last week also met mother madhu chopra mumbai \n",
      "실제 요약 : picture of priyanka and nick jonas from goa surfaces online \n",
      "예측 요약 :  priyanka shares pic with mother on her birthday\n",
      "\n",
      "\n",
      "원문 : young air personality wwe set become first female entire episode wwe raw year old also young classic championship tweeted tried write caption several times nothing truly relate much \n",
      "실제 요약 : woman to entire wwe episode for first time \n",
      "예측 요약 :  meghan markle to show at madame tussauds\n",
      "\n",
      "\n",
      "원문 : study us national institutes health found white fat mice serves reservoir immune cells called memory cells learn fight infections mice exposed memory cells seemed effective organs better releasing infection fighting chemicals \n",
      "실제 요약 : body stores cells to fight study \n",
      "예측 요약 :  us to be used to kill\n",
      "\n",
      "\n",
      "원문 : sania mirza czech partner defeated swiss taiwanese pair chan jan advance final miami open friday second final third mirza finished runners sydney international tournament january duo play final sunday \n",
      "실제 요약 : sania ex partner to reach open final \n",
      "예측 요약 :  wins first ever medal in the first time\n",
      "\n",
      "\n",
      "원문 : many engineers india unfit coding jobs according study assessment company minds study found engineers capable writing correct logic program minimum requirement job said engineers india cannot write code \n",
      "실제 요약 : 95 in india for jobs study \n",
      "예측 요약 :  indian to be with a\n",
      "\n",
      "\n",
      "원문 : rejection letter australian publisher poet charles gone viral letter calls work simply adding hate rival publisher ask interestingly works later published books including blue mountains australia \n",
      "실제 요약 : viral rejection letter from calls poem \n",
      "예측 요약 :  mcgregor responds to death for\n",
      "\n",
      "\n",
      "원문 : supreme court friday dismissed plea seeking nod week old pregnancy year old rape victim sc made decision taking note medical report stating abortion neither good girl foetus prohibited terminate pregnancy india weeks without court permission \n",
      "실제 요약 : abortion to 32 week pregnant 10 yr old rape victim \n",
      "예측 요약 :  sc rejects plea seeking abortion to rape rape case\n",
      "\n",
      "\n",
      "원문 : sri lanka england spinners taken wickets ongoing series far breaking record wickets spinners three test series previous record wickets set sri lanka new zealand spinners sri lanka spinner ongoing series highest wicket taker far wickets \n",
      "실제 요약 : england take 82 wickets to break 20 yr old record \n",
      "예측 요약 :  india to become 5th test test series in tests\n",
      "\n",
      "\n",
      "원문 : us based team suggested human genome functional another project claimed number researchers argued functional part couples would need produce children maintain stable world population harmful rates low end estimates \n",
      "실제 요약 : at least 75 of human dna is study \n",
      "예측 요약 :  researchers new cancer to be study\n",
      "\n",
      "\n",
      "원문 : reacting reports cash crunch states former finance minister chidambaram said ghost demonetisation come back government rbi said rbi statement rbi supplied sufficient cash must explain cash shortage asked atms still months demonetisation \n",
      "실제 요약 : of demonetisation is back to govt chidambaram \n",
      "예측 요약 :  rbi should be with banks with rbi\n",
      "\n",
      "\n",
      "원문 : declining pakistan invitation attend ceremony kartarpur corridor punjab cm captain amarinder singh said always dream visit place guru spent last years added hoped dream fulfilled relations two nations return normal \n",
      "실제 요약 : always dream to visit kartarpur punjab cm \n",
      "예측 요약 :  pakistan thanks pakistan for not attending pak\n",
      "\n",
      "\n",
      "원문 : european council president donald tusk told us president donald trump respect country allies many trump slammed nato military spending claimed benefits europe far us tusk remarks come ahead two day meeting nato members brussels beginning july \n",
      "실제 요약 : respect your allies you don't have many eu tells trump \n",
      "예측 요약 :  trump slams putin for his putin\n",
      "\n",
      "\n",
      "원문 : martin ceo world largest advertising public relations company said remains india said gst demonetisation nature short term pain long term gain added would say generally brand india strong shape modi got stronger \n",
      "실제 요약 : i remain very on india ceo martin \n",
      "예측 요약 :  we are not our ceo on rafale deal\n",
      "\n",
      "\n",
      "원문 : bengaluru police denied granting permission kya event scheduled saturday city police said informed event action taken takes place similar event wherein crowd sing popular song recently held delhi mumbai \n",
      "실제 요약 : b'luru cops deny permission for event \n",
      "예측 요약 :  police police to police police for traffic\n",
      "\n",
      "\n",
      "원문 : year old girl allegedly committed suicide inside delhi vihar police post mother claimed found hanging room three brothers locked another room police post victim mother alleged neighbour abducted adding wanted son marry daughter refused since minor \n",
      "실제 요약 : yr old girl commits suicide inside a delhi police post \n",
      "예측 요약 :  girl gangraped in delhi over raping minor girl\n",
      "\n",
      "\n",
      "원문 : aged years days rising pune supergiant spinner washington sundar become third youngest cricketer play ipl sundar picked franchise replacement injured ravichandran ashwin royal challengers bangalore sarfaraz khan played first ipl match aged years days youngest play league \n",
      "실제 요약 : 17 yr old becomes 3rd youngest to play ipl \n",
      "예측 요약 :  to play highest ever score in ipl 2018\n",
      "\n",
      "\n",
      "원문 : indian football teams participate upcoming asian games indian olympic association refused clearance took decision policy top eight finish teams previous edition qualifying first time since indian football team take part asian games \n",
      "실제 요약 : indian football teams denied by for asiad \n",
      "예측 요약 :  indian hockey team becomes 1st indian to cwg\n",
      "\n",
      "\n",
      "원문 : former facebook vp news feed adam appointed new head instagram following resignation instagram co founders kevin systrom mike last week design graduate new york university adam joined facebook design team founded instagram bought facebook billion \n",
      "실제 요약 : facebook's former news feed head named instagram head \n",
      "예측 요약 :  instagram instagram to make users for a time\n",
      "\n",
      "\n",
      "원문 : apparent dig congress chief rahul gandhi uttar pradesh cm yogi adityanath saturday said called accidental hindus revealing victory india faith victory ideology adityanath said addressing gathering inaugurating kumbh ayodhya \n",
      "실제 요약 : accidental hindus are now their up cm yogi \n"
     ]
    },
    {
     "name": "stdout",
     "output_type": "stream",
     "text": [
      "예측 요약 :  rahul gandhi is a of karnataka cm\n",
      "\n",
      "\n",
      "원문 : least people killed three lakh others evacuated china due floods past days according reports china national weather observatory issued alert third consecutive day sunday southern part country due summer season \n",
      "실제 요약 : south china floods kill 15 over 3 lakh people \n",
      "예측 요약 :  2 killed as explosion at in\n",
      "\n",
      "\n",
      "원문 : us city give several hundred low income residents month part program called economic empowerment demonstration program introduced year old mayor michael hoping eliminate city economic burden notably filed bankruptcy year \n",
      "실제 요약 : city to give poor residents over ã¢ââ¹30 000 a month \n",
      "예측 요약 :  uae to be closed for\n",
      "\n",
      "\n",
      "원문 : actress deepika padukone featured cover august edition women magazine actress wearing sports nike layered top belt red jacket dior hung shoulders deepika finished look pair heels christian \n",
      "실제 요약 : deepika padukone features on august cover of magazine \n",
      "예측 요약 :  deepika features on cover of magazine cover\n",
      "\n",
      "\n",
      "원문 : brihanmumbai municipal corporation asked remove licensed illegal stalls outside suburban railway stations cm devendra fadnavis said comes months elphinstone road station stampede caused death commuters officials said action would taken stalls within outside stations \n",
      "실제 요약 : all near mumbai rail stations to be removed \n",
      "예측 요약 :  delhi civic body to get from kamala mills\n",
      "\n",
      "\n",
      "원문 : union minister arun jaitley sunday visited family rss worker rajesh murdered allegedly cpi workers last week condemning incident jaitley said incidents suppress ideology kerala increase determination workers work operation added \n",
      "실제 요약 : arun jaitley visits rss house in kerala \n",
      "예측 요약 :  sc rejects death sentence for killing of\n",
      "\n",
      "\n",
      "원문 : astronauts aboard international space station grown space help scientists understand process root growth experiment scientists aim find factor critical root growth gravity water experiment found seek higher water critical gravity \n",
      "실제 요약 : in space to help study growth \n",
      "예측 요약 :  nasa captures planet that can be made\n",
      "\n",
      "\n",
      "원문 : co founder arrested unpaid dues client received monthly salary lakh family published details pay credit card expenses post response claims company funds post also shares rental agreement father \n",
      "실제 요약 : jailed co founder a salary of ã¢ââ¹2 lakh \n",
      "예측 요약 :  ed files complaint for cheating of\n",
      "\n",
      "\n",
      "원문 : actor dileep bail application malayalam actress abduction assault case dismissed local court kerala actor set approach state high court actor reportedly booked several ipc sections include charges gang rape kidnapping wrongful criminal conspiracy \n",
      "실제 요약 : to approach kerala hc after bail plea got dismissed \n",
      "예측 요약 :  alok rape granted bail in bihar shelter case\n",
      "\n",
      "\n",
      "원문 : south korean president moon jae said country power destroy north korea beyond recovery comes north korea test fired ballistic missile japan friday ruling possibility dialogue two nations jae warned reclusive state poses threat global peace stability \n",
      "실제 요약 : s korea threatens to n korea beyond \n",
      "예측 요약 :  us us to n korea nuclear test\n",
      "\n",
      "\n",
      "원문 : reacting rohit sharma hitting joint fastest hundred balls former indian cricketer virender sehwag tweeted rohit sharma hai easy meanwhile former cricketer vvs laxman tweeted stunning century rohit sharma ball may purple patch continue \n",
      "실제 요약 : hai sehwag on record ton \n",
      "예측 요약 :  dhoni is a tweets user on his birthday\n",
      "\n",
      "\n",
      "원문 : canadian electric utility power set pilot project using combination tesla home batteries batteries smart power grid experiment project serve houses users batteries test run expected go live february end last \n",
      "실제 요약 : tesla for power in canada \n",
      "예측 요약 :  startup makes water to check water\n",
      "\n",
      "\n",
      "원문 : india develop sri lanka loss making rajapaksa international airport called world airport india investment project expected handle million passengers ton cargo air traffic operations every year comes backdrop china developing project country \n",
      "실제 요약 : india to invest in 'world's in sri lanka \n",
      "예측 요약 :  india to become world's largest world world\n",
      "\n",
      "\n",
      "원문 : russian president vladimir putin announced online contest citizens suggest names new nuclear weapons peace envoy drowned america sanctions among names suggested people weapons government reportedly received suggestions website first hours contest announced \n",
      "실제 요약 : russia announces online contest to name new nuclear weapons \n",
      "예측 요약 :  us prez calls us prez over\n",
      "\n",
      "\n",
      "원문 : real madrid footballer cristiano ronaldo private yacht stopped searched armed customs officers coast near tuesday ronaldo vacation reportedly rented yacht onboard girlfriend relatives inspection apparently routine check performed vessels area \n",
      "실제 요약 : ronaldo's stopped at sea by tax officials \n",
      "예측 요약 :  nba player james to help his\n",
      "\n",
      "\n",
      "원문 : american international group board directors declined award ceo peter cash bonus work last year company financial performance however still receive total nearly million compensation according filing notably total compensation fell much \n",
      "실제 요약 : denies ceo a cash bonus after firm's performance \n",
      "예측 요약 :  bitcoin ceo ceo quits for crore\n",
      "\n",
      "\n",
      "원문 : uk prince harry fianc meghan markle asked donations charities instead wedding gifts get married next month mumbai mahila foundation charity women one seven charities chosen couple markle written charity time magazine visit mumbai last year \n",
      "실제 요약 : prince harry asks wedding guests to donate to mumbai ngo \n",
      "예측 요약 :  uk prince harry wedding wedding wedding for\n",
      "\n",
      "\n",
      "원문 : mumbai sessions court recently sentenced casting director named ghosh life imprisonment harassing raping year old actress also took inappropriate photos sent husband employer court imposed fine lakh ghosh pay lakh survivor compensation \n",
      "실제 요약 : casting director gets life term for raping sharing \n",
      "예측 요약 :  rape murder convict gets bail in jail\n",
      "\n",
      "\n",
      "원문 : passengers jaipur chandigarh jet airways flight stranded chandigarh airport tuesday airline left baggage behind according reports passengers told plane temperature increased due part luggage jaipur airline later passengers whose luggage \n",
      "실제 요약 : passengers stranded as jet flight bags due to heat \n",
      "예측 요약 :  passengers passengers sick after plane lands at airport\n",
      "\n",
      "\n",
      "원문 : photo sharing apps snapchat instagram temporarily removed feature platforms users spotted racial gif snapchat said said gif removed platform team look matter type content place instagram facebook owned app said \n",
      "실제 요약 : snapchat instagram pull out feature over racial slur \n",
      "예측 요약 :  dating app that users have a\n",
      "\n",
      "\n",
      "원문 : australian open joined wimbledon introducing final set next year competition according new rules come force january event matches tied final set move first player reach points difference two win contest \n",
      "실제 요약 : australian open introduces final set from next year \n",
      "예측 요약 :  what are the of the world cup\n",
      "\n",
      "\n",
      "원문 : bahrain discovered biggest oil field since started producing crude nearly years ago state media announced field discovered al bahrain basin new resource believed much bigger bahrain current reserves bahrain currently pumps around barrels oil day bahrain field \n",
      "실제 요약 : its biggest oil field in 90 years \n",
      "예측 요약 :  earth can be in earth earth in earth\n",
      "\n",
      "\n",
      "원문 : actor robert portrayed role minister magic four harry potter films passed away age confirmed family members passed away retirement home actors london also known starring bbc series things great small \n",
      "실제 요약 : actor passes away at \n",
      "예측 요약 :  anupam shares pic with his award\n",
      "\n",
      "\n",
      "원문 : bengaluru bulls beat gujarat fortune giants pro kabaddi season final mumbai saturday lift maiden trophy sides previous runner ups pro kabaddi league bengaluru second consecutive win team earlier beaten gujarat fortune giants qualifier \n",
      "실제 요약 : bengaluru beat gujarat to lift trophy \n",
      "예측 요약 :  wins best in world cup 2018\n",
      "\n",
      "\n",
      "원문 : suffering three straight losses champions league premier league manchester city claimed win tottenham saturday win manchester city three points away winning premier league title meanwhile chelsea scored three goals minutes overcome deficit register away win \n",
      "실제 요약 : manchester city beat 3 1 to end losing streak \n",
      "예측 요약 :  ronaldo scores goal in fifa world cup\n",
      "\n",
      "\n",
      "원문 : carat pink legacy diamond sold million geneva switzerland tuesday setting new per carat record stone kind auction house said south africa diamond likely cut diamond sold us luxury brand harry owned swiss group \n",
      "실제 요약 : 19 diamond sold for in sets per record \n"
     ]
    },
    {
     "name": "stdout",
     "output_type": "stream",
     "text": [
      "예측 요약 :  bitcoin sells for auction self worth car\n",
      "\n",
      "\n"
     ]
    }
   ],
   "source": [
    "for i in range(50, 100):\n",
    "    print(\"원문 :\", seq2text(encoder_input_test[i]))\n",
    "    print(\"실제 요약 :\", seq2summary(decoder_input_test[i]))\n",
    "    print(\"예측 요약 :\", decode_sequence(encoder_input_test[i].reshape(1, text_max_len)))\n",
    "    print(\"\\n\")"
   ]
  },
  {
   "cell_type": "code",
   "execution_count": null,
   "id": "6413a79d",
   "metadata": {},
   "outputs": [],
   "source": []
  },
  {
   "cell_type": "code",
   "execution_count": null,
   "id": "928698ca",
   "metadata": {},
   "outputs": [],
   "source": [
    "#추출적 요약해보기"
   ]
  },
  {
   "cell_type": "code",
   "execution_count": 115,
   "id": "d8b0d5a3",
   "metadata": {},
   "outputs": [],
   "source": [
    "#summarize 사용하기\n",
    "\n",
    "#text (str) : 요약할 테스트.\n",
    "#ratio (float, optional) – 요약문에서 원본에서 선택되는 문장 비율. 0~1 사이값\n",
    "#words (int or None, optional) – 출력에 포함할 단어 수.\n",
    "#만약, ratio와 함께 두 파라미터가 모두 제공되는 경우 ratio는 무시한다.\n",
    "#split (bool, optional) – True면 문장 list / False는 조인(join)된 문자열을 반환\n",
    "\n",
    "import requests\n",
    "from summa.summarizer import summarize"
   ]
  },
  {
   "cell_type": "code",
   "execution_count": 100,
   "id": "67730c4f",
   "metadata": {},
   "outputs": [
    {
     "name": "stdout",
     "output_type": "stream",
     "text": [
      "<class 'list'>\n",
      "<class 'str'>\n"
     ]
    }
   ],
   "source": [
    "#print(type(clean_text))\n",
    "#print(type(clean_text[0]))"
   ]
  },
  {
   "cell_type": "code",
   "execution_count": 99,
   "id": "7b43fbef",
   "metadata": {},
   "outputs": [],
   "source": [
    "clean_text_str = \"\\n\".join(map(str, clean_text))"
   ]
  },
  {
   "cell_type": "code",
   "execution_count": 116,
   "id": "eb523d5b",
   "metadata": {},
   "outputs": [
    {
     "name": "stdout",
     "output_type": "stream",
     "text": [
      "saurav kant alumnus upgrad iiit pg program machine learning artificial intelligence sr systems engineer infosys almost years work experience program upgrad degree career support helped transition data scientist tech mahindra salary hike upgrad online power learning powered lakh careers\n",
      "\n",
      "\n",
      "kunal shah credit card bill payment platform cred gave users chance win free food swiggy one year pranav kaushik delhi techie bagged reward spending cred coins users get one cred coin per rupee bill paid used avail rewards brands like ixigo bookmyshow ubereats cult fit\n",
      "\n",
      "\n",
      "new zealand defeated india wickets fourth odi hamilton thursday win first match five match odi series india lost international match rohit sharma captaincy consecutive victories dating back march match witnessed india getting seventh lowest total odi cricket history\n",
      "\n",
      "\n",
      "aegon life iterm insurance plan customers enjoy tax benefits premiums paid save taxes plan provides life cover age years also customers options insure critical illnesses disability accidental death benefit rider life cover age years\n",
      "\n",
      "\n",
      "speaking sexual harassment allegations rajkumar hirani sonam kapoor said known hirani many years true metoo movement get derailed metoo movement always believe woman case need reserve judgment added hirani accused assistant worked sanju\n",
      "\n",
      "\n"
     ]
    }
   ],
   "source": [
    "for i in range(5):\n",
    "    print(clean_text[i])\n",
    "    print(\"\\n\")"
   ]
  },
  {
   "cell_type": "code",
   "execution_count": 119,
   "id": "4fefa222",
   "metadata": {},
   "outputs": [
    {
     "name": "stdout",
     "output_type": "stream",
     "text": [
      "Extractive_headlines:\n",
      "\n"
     ]
    }
   ],
   "source": [
    "\n",
    "print('Extractive_headlines:')\n",
    "print(summarize(clean_text[2], words=50))"
   ]
  },
  {
   "cell_type": "code",
   "execution_count": 120,
   "id": "93c8d5fa",
   "metadata": {},
   "outputs": [
    {
     "data": {
      "text/plain": [
       "'pakistani singer rahat fateh ali khan denied receiving notice enforcement directorate allegedly smuggling foreign currency india would better authorities would served notice first publicised reads press release issued behalf rahat statement called allegation bizarre'"
      ]
     },
     "execution_count": 120,
     "metadata": {},
     "output_type": "execute_result"
    }
   ],
   "source": [
    "clean_text[5]"
   ]
  },
  {
   "cell_type": "code",
   "execution_count": 125,
   "id": "183e8829",
   "metadata": {},
   "outputs": [],
   "source": [
    "a = summarize(clean_text[5], words=100)"
   ]
  },
  {
   "cell_type": "code",
   "execution_count": 126,
   "id": "74ca139a",
   "metadata": {},
   "outputs": [
    {
     "data": {
      "text/plain": [
       "''"
      ]
     },
     "execution_count": 126,
     "metadata": {},
     "output_type": "execute_result"
    }
   ],
   "source": [
    "a"
   ]
  },
  {
   "cell_type": "code",
   "execution_count": null,
   "id": "c08af6ce",
   "metadata": {},
   "outputs": [],
   "source": []
  },
  {
   "cell_type": "code",
   "execution_count": null,
   "id": "c57ec4d5",
   "metadata": {},
   "outputs": [],
   "source": []
  },
  {
   "cell_type": "code",
   "execution_count": null,
   "id": "530e9d55",
   "metadata": {},
   "outputs": [],
   "source": []
  },
  {
   "cell_type": "code",
   "execution_count": null,
   "id": "223a4582",
   "metadata": {},
   "outputs": [],
   "source": []
  },
  {
   "cell_type": "code",
   "execution_count": null,
   "id": "16e57e37",
   "metadata": {},
   "outputs": [],
   "source": []
  },
  {
   "cell_type": "code",
   "execution_count": null,
   "id": "61ebc613",
   "metadata": {},
   "outputs": [],
   "source": []
  },
  {
   "cell_type": "code",
   "execution_count": null,
   "id": "d646378f",
   "metadata": {},
   "outputs": [],
   "source": []
  }
 ],
 "metadata": {
  "kernelspec": {
   "display_name": "Python 3 (ipykernel)",
   "language": "python",
   "name": "python3"
  },
  "language_info": {
   "codemirror_mode": {
    "name": "ipython",
    "version": 3
   },
   "file_extension": ".py",
   "mimetype": "text/x-python",
   "name": "python",
   "nbconvert_exporter": "python",
   "pygments_lexer": "ipython3",
   "version": "3.9.7"
  }
 },
 "nbformat": 4,
 "nbformat_minor": 5
}
