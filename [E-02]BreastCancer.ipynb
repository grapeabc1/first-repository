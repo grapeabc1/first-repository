{
 "cells": [
  {
   "cell_type": "code",
   "execution_count": null,
   "id": "0b54c2ba",
   "metadata": {},
   "outputs": [],
   "source": [
    "#유방암 여부 진단"
   ]
  },
  {
   "cell_type": "code",
   "execution_count": 2,
   "id": "80fbbac6",
   "metadata": {},
   "outputs": [],
   "source": [
    "#필요한 모듈 import하기\n",
    "from sklearn.datasets import load_digits #사이킷런에 있는 손글씨 데이터셋\n",
    "from sklearn.datasets import load_wine #사이킷런에 있는 와인 데이터셋\n",
    "from sklearn.datasets import load_breast_cancer #사이킷런에 있는 유방암 데이터셋\n",
    "\n",
    "from sklearn.model_selection import train_test_split #모델을 학습시킬 데이터와 검증할 데이터를 분리하는 함수쓰기 위함\n",
    "from sklearn.metrics import accuracy_score #모델 평가할 때 정확도 지표를 확인하는 기능 사용하기 위함\n",
    "from sklearn.metrics import classification_report \n",
    "#모델 평가를 위한 기능을 사용하기 위함, 정확도뿐만 아니라 recall,precision, f1-score도 확인 가능"
   ]
  },
  {
   "cell_type": "code",
   "execution_count": 3,
   "id": "b259eb0a",
   "metadata": {},
   "outputs": [],
   "source": [
    "#데이터 준비\n",
    "bc = load_breast_cancer()\n",
    "bc_data = bc.data\n",
    "bc_label = bc.target"
   ]
  },
  {
   "cell_type": "code",
   "execution_count": 4,
   "id": "0f73afc5",
   "metadata": {},
   "outputs": [],
   "source": [
    "#데이터 이해하기"
   ]
  },
  {
   "cell_type": "code",
   "execution_count": 7,
   "id": "99a0b63e",
   "metadata": {},
   "outputs": [
    {
     "name": "stdout",
     "output_type": "stream",
     "text": [
      "(569,)\n",
      ".. _breast_cancer_dataset:\n",
      "\n",
      "Breast cancer wisconsin (diagnostic) dataset\n",
      "--------------------------------------------\n",
      "\n",
      "**Data Set Characteristics:**\n",
      "\n",
      "    :Number of Instances: 569\n",
      "\n",
      "    :Number of Attributes: 30 numeric, predictive attributes and the class\n",
      "\n",
      "    :Attribute Information:\n",
      "        - radius (mean of distances from center to points on the perimeter)\n",
      "        - texture (standard deviation of gray-scale values)\n",
      "        - perimeter\n",
      "        - area\n",
      "        - smoothness (local variation in radius lengths)\n",
      "        - compactness (perimeter^2 / area - 1.0)\n",
      "        - concavity (severity of concave portions of the contour)\n",
      "        - concave points (number of concave portions of the contour)\n",
      "        - symmetry\n",
      "        - fractal dimension (\"coastline approximation\" - 1)\n",
      "\n",
      "        The mean, standard error, and \"worst\" or largest (mean of the three\n",
      "        worst/largest values) of these features were computed for each image,\n",
      "        resulting in 30 features.  For instance, field 0 is Mean Radius, field\n",
      "        10 is Radius SE, field 20 is Worst Radius.\n",
      "\n",
      "        - class:\n",
      "                - WDBC-Malignant\n",
      "                - WDBC-Benign\n",
      "\n",
      "    :Summary Statistics:\n",
      "\n",
      "    ===================================== ====== ======\n",
      "                                           Min    Max\n",
      "    ===================================== ====== ======\n",
      "    radius (mean):                        6.981  28.11\n",
      "    texture (mean):                       9.71   39.28\n",
      "    perimeter (mean):                     43.79  188.5\n",
      "    area (mean):                          143.5  2501.0\n",
      "    smoothness (mean):                    0.053  0.163\n",
      "    compactness (mean):                   0.019  0.345\n",
      "    concavity (mean):                     0.0    0.427\n",
      "    concave points (mean):                0.0    0.201\n",
      "    symmetry (mean):                      0.106  0.304\n",
      "    fractal dimension (mean):             0.05   0.097\n",
      "    radius (standard error):              0.112  2.873\n",
      "    texture (standard error):             0.36   4.885\n",
      "    perimeter (standard error):           0.757  21.98\n",
      "    area (standard error):                6.802  542.2\n",
      "    smoothness (standard error):          0.002  0.031\n",
      "    compactness (standard error):         0.002  0.135\n",
      "    concavity (standard error):           0.0    0.396\n",
      "    concave points (standard error):      0.0    0.053\n",
      "    symmetry (standard error):            0.008  0.079\n",
      "    fractal dimension (standard error):   0.001  0.03\n",
      "    radius (worst):                       7.93   36.04\n",
      "    texture (worst):                      12.02  49.54\n",
      "    perimeter (worst):                    50.41  251.2\n",
      "    area (worst):                         185.2  4254.0\n",
      "    smoothness (worst):                   0.071  0.223\n",
      "    compactness (worst):                  0.027  1.058\n",
      "    concavity (worst):                    0.0    1.252\n",
      "    concave points (worst):               0.0    0.291\n",
      "    symmetry (worst):                     0.156  0.664\n",
      "    fractal dimension (worst):            0.055  0.208\n",
      "    ===================================== ====== ======\n",
      "\n",
      "    :Missing Attribute Values: None\n",
      "\n",
      "    :Class Distribution: 212 - Malignant, 357 - Benign\n",
      "\n",
      "    :Creator:  Dr. William H. Wolberg, W. Nick Street, Olvi L. Mangasarian\n",
      "\n",
      "    :Donor: Nick Street\n",
      "\n",
      "    :Date: November, 1995\n",
      "\n",
      "This is a copy of UCI ML Breast Cancer Wisconsin (Diagnostic) datasets.\n",
      "https://goo.gl/U2Uwz2\n",
      "\n",
      "Features are computed from a digitized image of a fine needle\n",
      "aspirate (FNA) of a breast mass.  They describe\n",
      "characteristics of the cell nuclei present in the image.\n",
      "\n",
      "Separating plane described above was obtained using\n",
      "Multisurface Method-Tree (MSM-T) [K. P. Bennett, \"Decision Tree\n",
      "Construction Via Linear Programming.\" Proceedings of the 4th\n",
      "Midwest Artificial Intelligence and Cognitive Science Society,\n",
      "pp. 97-101, 1992], a classification method which uses linear\n",
      "programming to construct a decision tree.  Relevant features\n",
      "were selected using an exhaustive search in the space of 1-4\n",
      "features and 1-3 separating planes.\n",
      "\n",
      "The actual linear program used to obtain the separating plane\n",
      "in the 3-dimensional space is that described in:\n",
      "[K. P. Bennett and O. L. Mangasarian: \"Robust Linear\n",
      "Programming Discrimination of Two Linearly Inseparable Sets\",\n",
      "Optimization Methods and Software 1, 1992, 23-34].\n",
      "\n",
      "This database is also available through the UW CS ftp server:\n",
      "\n",
      "ftp ftp.cs.wisc.edu\n",
      "cd math-prog/cpo-dataset/machine-learn/WDBC/\n",
      "\n",
      ".. topic:: References\n",
      "\n",
      "   - W.N. Street, W.H. Wolberg and O.L. Mangasarian. Nuclear feature extraction \n",
      "     for breast tumor diagnosis. IS&T/SPIE 1993 International Symposium on \n",
      "     Electronic Imaging: Science and Technology, volume 1905, pages 861-870,\n",
      "     San Jose, CA, 1993.\n",
      "   - O.L. Mangasarian, W.N. Street and W.H. Wolberg. Breast cancer diagnosis and \n",
      "     prognosis via linear programming. Operations Research, 43(4), pages 570-577, \n",
      "     July-August 1995.\n",
      "   - W.H. Wolberg, W.N. Street, and O.L. Mangasarian. Machine learning techniques\n",
      "     to diagnose breast cancer from fine-needle aspirates. Cancer Letters 77 (1994) \n",
      "     163-171.\n"
     ]
    }
   ],
   "source": [
    "import pandas as pd\n",
    "\n",
    "bc_df = pd.DataFrame(data=bc_data, columns=bc.feature_names)\n",
    "bc_df # 칼럼을 Feature Data 로 지정하기\n",
    "\n",
    "bc_df[\"label\"] = bc.target\n",
    "bc_df # 라벨 칼럼을 추가해서 해당 행의 정답을 확인\n",
    "\n",
    "bc_label = bc.target #Target Names 출력해 보기\n",
    "print(bc_label.shape)\n",
    "bc_label #569개의 데이터가 들어있음\n",
    "\n",
    "print(bc.DESCR) # 데이터 Describe 해 보기"
   ]
  },
  {
   "cell_type": "code",
   "execution_count": 8,
   "id": "ccf22c53",
   "metadata": {},
   "outputs": [
    {
     "name": "stdout",
     "output_type": "stream",
     "text": [
      "X_train 개수:  455 , X_test 개수:  114\n"
     ]
    }
   ],
   "source": [
    "#train, test 데이터 분리\n",
    "\n",
    "from sklearn.model_selection import train_test_split\n",
    "\n",
    "X_train, X_test, y_train, y_test = train_test_split(bc_data, \n",
    "                                                    bc_label, \n",
    "                                                    test_size=0.2, \n",
    "                                                    random_state=7)\n",
    "\n",
    "print('X_train 개수: ', len(X_train),', X_test 개수: ', len(X_test))"
   ]
  },
  {
   "cell_type": "code",
   "execution_count": null,
   "id": "fe1f9cee",
   "metadata": {},
   "outputs": [],
   "source": [
    "#다양한 모델로 학습시켜보고 해당 모델 평가해보기"
   ]
  },
  {
   "cell_type": "code",
   "execution_count": 9,
   "id": "fe0186af",
   "metadata": {},
   "outputs": [
    {
     "name": "stdout",
     "output_type": "stream",
     "text": [
      "              precision    recall  f1-score   support\n",
      "\n",
      "           0       0.92      0.82      0.87        40\n",
      "           1       0.91      0.96      0.93        74\n",
      "\n",
      "    accuracy                           0.91       114\n",
      "   macro avg       0.91      0.89      0.90       114\n",
      "weighted avg       0.91      0.91      0.91       114\n",
      "\n"
     ]
    }
   ],
   "source": [
    "#Decision Tree 사용하여 학습하고 모델 평가\n",
    "from sklearn.tree import DecisionTreeClassifier\n",
    "#정답이 있고 그 정답을 맞추기 위해 학습하는 지도학습, 그리고 지도학습 중에서도 주어진 데이터가 \n",
    "#어떤 카테고리에 속하는지를 분류해야하니까 지도학습중에서도 분류할수있는 모델인 의사결정나무를 사용\n",
    "#하기 위한 임포트\n",
    "\n",
    "decision_tree = DecisionTreeClassifier(random_state=32) #의사결정나무 객체를 생성\n",
    "# print(decision_tree._estimator_type)\n",
    "\n",
    "decision_tree.fit(X_train, y_train) #의사결정나무에 훈련 데이터를 집어넣어 훈련시킨다.\n",
    "\n",
    "#이제 모델을 훈련시켰으니까 훈련된 모델을 시험해볼 차례다.\n",
    "#predict 메소드를 사용해 아까 따로 빼둔 테스트 데이터를 넣었을 때 잘 맞추는지 확인해본다.\n",
    "y_pred = decision_tree.predict(X_test) \n",
    "\n",
    "#테스트 데이터로 시험해본 결과로 모델을 평가해보기\n",
    "print(classification_report(y_test, y_pred))"
   ]
  },
  {
   "cell_type": "code",
   "execution_count": 10,
   "id": "2c8f6961",
   "metadata": {},
   "outputs": [
    {
     "name": "stdout",
     "output_type": "stream",
     "text": [
      "              precision    recall  f1-score   support\n",
      "\n",
      "           0       1.00      1.00      1.00        40\n",
      "           1       1.00      1.00      1.00        74\n",
      "\n",
      "    accuracy                           1.00       114\n",
      "   macro avg       1.00      1.00      1.00       114\n",
      "weighted avg       1.00      1.00      1.00       114\n",
      "\n"
     ]
    }
   ],
   "source": [
    "#Random Forest 사용하여 학습하고 모델 평가\n",
    "from sklearn.ensemble import RandomForestClassifier\n",
    "#Random Forest 사용하기 위한 임포트\n",
    "\n",
    "random_forest = RandomForestClassifier(random_state=32) #Random Forest 객체 생성\n",
    "random_forest.fit(X_train, y_train) #학습\n",
    "y_pred = random_forest.predict(X_test) #시험결과\n",
    "\n",
    "print(classification_report(y_test, y_pred)) #시험결과로 모델 평가"
   ]
  },
  {
   "cell_type": "code",
   "execution_count": 11,
   "id": "03255d37",
   "metadata": {},
   "outputs": [
    {
     "name": "stdout",
     "output_type": "stream",
     "text": [
      "              precision    recall  f1-score   support\n",
      "\n",
      "           0       1.00      0.72      0.84        40\n",
      "           1       0.87      1.00      0.93        74\n",
      "\n",
      "    accuracy                           0.90       114\n",
      "   macro avg       0.94      0.86      0.89       114\n",
      "weighted avg       0.92      0.90      0.90       114\n",
      "\n"
     ]
    }
   ],
   "source": [
    "#SVM 사용하여 학습하고 모델 평가\n",
    "from sklearn import svm\n",
    "#svm 사용하기 위한 임포트\n",
    "\n",
    "svm_model = svm.SVC(random_state=32) #svc 객체 생성\n",
    "svm_model.fit(X_train, y_train) #학습\n",
    "y_pred = svm_model.predict(X_test) #시험결과\n",
    " \n",
    "print(classification_report(y_test, y_pred)) #시험결과로 모델 평가"
   ]
  },
  {
   "cell_type": "code",
   "execution_count": 12,
   "id": "ddbb1527",
   "metadata": {},
   "outputs": [
    {
     "name": "stdout",
     "output_type": "stream",
     "text": [
      "              precision    recall  f1-score   support\n",
      "\n",
      "           0       1.00      0.70      0.82        40\n",
      "           1       0.86      1.00      0.92        74\n",
      "\n",
      "    accuracy                           0.89       114\n",
      "   macro avg       0.93      0.85      0.87       114\n",
      "weighted avg       0.91      0.89      0.89       114\n",
      "\n"
     ]
    }
   ],
   "source": [
    "#SGD Classifier 사용하여 학습하고 모델 평가\n",
    "from sklearn.linear_model import SGDClassifier\n",
    "#SGDClassifier 사용하기 위한 임포트\n",
    "\n",
    "sgd_model = SGDClassifier(random_state=32) #SGD Classifier 객체 생성\n",
    "sgd_model.fit(X_train, y_train) #학습\n",
    "y_pred = sgd_model.predict(X_test) #시험결과\n",
    "\n",
    "print(classification_report(y_test, y_pred)) #시험결과로 모델 평가"
   ]
  },
  {
   "cell_type": "code",
   "execution_count": 13,
   "id": "4c6e4f67",
   "metadata": {},
   "outputs": [
    {
     "name": "stdout",
     "output_type": "stream",
     "text": [
      "              precision    recall  f1-score   support\n",
      "\n",
      "           0       1.00      0.85      0.92        40\n",
      "           1       0.93      1.00      0.96        74\n",
      "\n",
      "    accuracy                           0.95       114\n",
      "   macro avg       0.96      0.93      0.94       114\n",
      "weighted avg       0.95      0.95      0.95       114\n",
      "\n"
     ]
    },
    {
     "name": "stderr",
     "output_type": "stream",
     "text": [
      "/opt/conda/lib/python3.9/site-packages/sklearn/linear_model/_logistic.py:814: ConvergenceWarning: lbfgs failed to converge (status=1):\n",
      "STOP: TOTAL NO. of ITERATIONS REACHED LIMIT.\n",
      "\n",
      "Increase the number of iterations (max_iter) or scale the data as shown in:\n",
      "    https://scikit-learn.org/stable/modules/preprocessing.html\n",
      "Please also refer to the documentation for alternative solver options:\n",
      "    https://scikit-learn.org/stable/modules/linear_model.html#logistic-regression\n",
      "  n_iter_i = _check_optimize_result(\n"
     ]
    }
   ],
   "source": [
    "#Logistic Regression 사용하여 학습하고 모델 평가\n",
    "from sklearn.linear_model import LogisticRegression\n",
    "#Logistic Regression 사용하기 위한 임포트\n",
    "\n",
    "logistic_model = LogisticRegression(random_state=32) #lLogistic Regression 객체 생성\n",
    "logistic_model.fit(X_train, y_train) #학습\n",
    "y_pred = logistic_model.predict(X_test) #시험결과\n",
    "\n",
    "print(classification_report(y_test, y_pred)) #시험결과로 모델 평가"
   ]
  },
  {
   "cell_type": "code",
   "execution_count": null,
   "id": "0c7b6753",
   "metadata": {},
   "outputs": [],
   "source": [
    "#유방암은 양성을 음성으로 판단하는 것이 적어야 하므로 recall 지표가 중요하다."
   ]
  }
 ],
 "metadata": {
  "kernelspec": {
   "display_name": "Python 3 (ipykernel)",
   "language": "python",
   "name": "python3"
  },
  "language_info": {
   "codemirror_mode": {
    "name": "ipython",
    "version": 3
   },
   "file_extension": ".py",
   "mimetype": "text/x-python",
   "name": "python",
   "nbconvert_exporter": "python",
   "pygments_lexer": "ipython3",
   "version": "3.9.7"
  }
 },
 "nbformat": 4,
 "nbformat_minor": 5
}
