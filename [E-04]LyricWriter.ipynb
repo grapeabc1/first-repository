{
 "cells": [
  {
   "cell_type": "code",
   "execution_count": null,
   "id": "ab3b870e",
   "metadata": {},
   "outputs": [],
   "source": []
  },
  {
   "cell_type": "code",
   "execution_count": 9,
   "id": "cbec239c",
   "metadata": {},
   "outputs": [
    {
     "name": "stdout",
     "output_type": "stream",
     "text": [
      "데이터 크기: 187088\n",
      "Examples:\n",
      " [\"Now I've heard there was a secret chord\", 'That David played, and it pleased the Lord', \"But you don't really care for music, do you?\", 'It goes like this', 'The fourth, the fifth', 'The minor fall, the major lift', 'The baffled king composing Hallelujah Hallelujah', 'Hallelujah', 'Hallelujah', 'Hallelujah Your faith was strong but you needed proof', 'You saw her bathing on the roof', 'Her beauty and the moonlight overthrew her', 'She tied you', 'To a kitchen chair', 'She broke your throne, and she cut your hair', 'And from your lips she drew the Hallelujah Hallelujah', 'Hallelujah', 'Hallelujah', 'Hallelujah You say I took the name in vain', \"I don't even know the name\", \"But if I did, well really, what's it to you?\", \"There's a blaze of light\", 'In every word', \"It doesn't matter which you heard\", 'The holy or the broken Hallelujah Hallelujah', 'Hallelujah', 'Hallelujah', \"Hallelujah I did my best, it wasn't much\", \"I couldn't feel, so I tried to touch\", \"I've told the truth, I didn't come to fool you\", 'And even though', 'It all went wrong', \"I'll stand before the Lord of Song\", 'With nothing on my tongue but Hallelujah Hallelujah', 'Hallelujah', 'Hallelujah', 'Hallelujah Hallelujah', 'Hallelujah', 'Hallelujah', 'Hallelujah Hallelujah', 'Hallelujah', 'Hallelujah', 'Hallelujah Hallelujah', 'Hallelujah', 'Hallelujah', 'Hallelujah', 'Hallelujah Suzanne takes you down to her place near the river', 'You can hear the boats go by, you can spend the night forever', \"And you know that she's half-crazy but that's why you want to be there\", 'And she feeds you tea and oranges that come all the way from China']\n"
     ]
    }
   ],
   "source": [
    "#2 데이터 읽어보기\n",
    "\n",
    "import glob\n",
    "import os\n",
    "\n",
    "txt_file_path = os.getenv('HOME')+'/aiffel/lyricist/data/lyrics/*' #데이터를 변수가 가리키게 한다.\n",
    "\n",
    "txt_list = glob.glob(txt_file_path) # 데이터의 위치를 가지고 있는 변수를 인자로 넣어 glob 함수를 쓴다.\n",
    "\n",
    "#txt_list 에는 glob으로 읽어온 파일 경로들이 순차적으로 저장된다.\n",
    "\n",
    "raw_corpus = [] #생 말뭉치\n",
    "\n",
    "# 여러개의 txt 파일을 모두 읽어서 raw_corpus 에 담습니다.\n",
    "for txt_file in txt_list:\n",
    "    with open(txt_file, \"r\") as f:\n",
    "        raw = f.read().splitlines()\n",
    "        raw_corpus.extend(raw)\n",
    "\n",
    "print(\"데이터 크기:\", len(raw_corpus))\n",
    "print(\"Examples:\\n\", raw_corpus[:50])"
   ]
  },
  {
   "cell_type": "code",
   "execution_count": 12,
   "id": "d28fa203",
   "metadata": {},
   "outputs": [],
   "source": [
    "# 데이터 정제\n",
    "\n",
    "# 데이터 정제 함수\n",
    "def preprocess_sentence(sentence):\n",
    "    sentence = sentence.lower().strip() # 1. 소문자로 바꾸고 양쪽 공백 지움, \n",
    "    sentence = re.sub(r\"([?.!,¿])\", r\" \\1 \", sentence) # 2. 특수문자 양쪽에 공백을 넣음\n",
    "    sentence = re.sub(r'[\" \"]+', \" \", sentence) # 3\n",
    "    sentence = re.sub(r\"[^a-zA-Z?.!,¿]+\", \" \", sentence) # 4\n",
    "    sentence = sentence.strip() # 5\n",
    "    sentence = '<start> ' + sentence + ' <end>' # 6\n",
    "    return sentence"
   ]
  },
  {
   "cell_type": "code",
   "execution_count": 39,
   "id": "47d1f5fa",
   "metadata": {},
   "outputs": [
    {
     "data": {
      "text/plain": [
       "['<start> now i ve heard there was a secret chord <end>',\n",
       " '<start> that david played , and it pleased the lord <end>',\n",
       " '<start> but you don t really care for music , do you ? <end>',\n",
       " '<start> it goes like this <end>',\n",
       " '<start> the fourth , the fifth <end>',\n",
       " '<start> the minor fall , the major lift <end>',\n",
       " '<start> the baffled king composing hallelujah hallelujah <end>',\n",
       " '<start> hallelujah <end>',\n",
       " '<start> hallelujah <end>',\n",
       " '<start> hallelujah your faith was strong but you needed proof <end>',\n",
       " '<start> you saw her bathing on the roof <end>',\n",
       " '<start> her beauty and the moonlight overthrew her <end>',\n",
       " '<start> she tied you <end>',\n",
       " '<start> to a kitchen chair <end>',\n",
       " '<start> she broke your throne , and she cut your hair <end>',\n",
       " '<start> and from your lips she drew the hallelujah hallelujah <end>',\n",
       " '<start> hallelujah <end>',\n",
       " '<start> hallelujah <end>',\n",
       " '<start> hallelujah you say i took the name in vain <end>',\n",
       " '<start> i don t even know the name <end>',\n",
       " '<start> there s a blaze of light <end>',\n",
       " '<start> in every word <end>',\n",
       " '<start> it doesn t matter which you heard <end>',\n",
       " '<start> the holy or the broken hallelujah hallelujah <end>',\n",
       " '<start> hallelujah <end>',\n",
       " '<start> hallelujah <end>',\n",
       " '<start> hallelujah i did my best , it wasn t much <end>',\n",
       " '<start> i couldn t feel , so i tried to touch <end>',\n",
       " '<start> i ve told the truth , i didn t come to fool you <end>',\n",
       " '<start> and even though <end>',\n",
       " '<start> it all went wrong <end>',\n",
       " '<start> i ll stand before the lord of song <end>',\n",
       " '<start> with nothing on my tongue but hallelujah hallelujah <end>',\n",
       " '<start> hallelujah <end>',\n",
       " '<start> hallelujah <end>',\n",
       " '<start> hallelujah hallelujah <end>',\n",
       " '<start> hallelujah <end>',\n",
       " '<start> hallelujah <end>',\n",
       " '<start> hallelujah hallelujah <end>',\n",
       " '<start> hallelujah <end>',\n",
       " '<start> hallelujah <end>',\n",
       " '<start> hallelujah hallelujah <end>',\n",
       " '<start> hallelujah <end>',\n",
       " '<start> hallelujah <end>',\n",
       " '<start> hallelujah <end>',\n",
       " '<start> hallelujah suzanne takes you down to her place near the river <end>',\n",
       " '<start> then he gets you on her wavelength <end>',\n",
       " '<start> and you know that she will trust you <end>',\n",
       " '<start> and he spent a long time watching from his lonely wooden tower <end>',\n",
       " '<start> and when he knew for certain only drowning men could see him <end>',\n",
       " '<start> but he himself was broken , long before the sky would open <end>',\n",
       " '<start> and you think you maybe you ll trust him <end>',\n",
       " '<start> she s wearing rags and feathers from salvation army counters <end>',\n",
       " '<start> and the sun pours down like honey on our lady of the harbor <end>',\n",
       " '<start> and she shows you where to look among the garbage and the flowers <end>',\n",
       " '<start> there are heroes in the seaweed , there are children in the morning <end>',\n",
       " '<start> they are leaning out for love and they wil lean that way forever <end>',\n",
       " '<start> and you know that you can trust her <end>',\n",
       " '<start> everybody rolls with their fingers crossed <end>',\n",
       " '<start> everybody knows the war is over <end>',\n",
       " '<start> everybody knows the good guys lost <end>',\n",
       " '<start> everybody knows the fight was fixed <end>',\n",
       " '<start> the poor stay poor , the rich get rich <end>',\n",
       " '<start> that s how it goes <end>',\n",
       " '<start> everybody knows everybody knows that the boat is leaking <end>',\n",
       " '<start> everybody knows that the captain lied <end>',\n",
       " '<start> everybody got this broken feeling <end>',\n",
       " '<start> like their father or their dog just died <end>',\n",
       " '<start> everybody talking to their pockets <end>',\n",
       " '<start> everybody wants a box of chocolates <end>',\n",
       " '<start> and a long stem rose <end>',\n",
       " '<start> everybody knows everybody knows that you love me baby <end>',\n",
       " '<start> everybody knows that you really do <end>',\n",
       " '<start> everybody knows that you ve been faithful <end>',\n",
       " '<start> ah , give or take a night or two <end>',\n",
       " '<start> everybody knows you ve been discreet <end>',\n",
       " '<start> but there were so many people you just had to meet <end>',\n",
       " '<start> without your clothes <end>',\n",
       " '<start> and everybody knows everybody knows , everybody knows <end>',\n",
       " '<start> that s how it goes <end>',\n",
       " '<start> everybody knows everybody knows , everybody knows <end>',\n",
       " '<start> that s how it goes <end>',\n",
       " '<start> everybody knows and everybody knows that it s now or never <end>',\n",
       " '<start> everybody knows that it s me or you <end>',\n",
       " '<start> and everybody knows that you live forever <end>',\n",
       " '<start> ah , when you ve done a line or two <end>',\n",
       " '<start> everybody knows the deal is rotten <end>',\n",
       " '<start> old black joe s still pickin cotton <end>',\n",
       " '<start> for your ribbons and bows <end>',\n",
       " '<start> and everybody knows and everybody knows that the plague is coming <end>',\n",
       " '<start> everybody knows that it s moving fast <end>',\n",
       " '<start> everybody knows that the naked man and woman <end>',\n",
       " '<start> are just a shining artifact of the past <end>',\n",
       " '<start> everybody knows the scene is dead <end>',\n",
       " '<start> but there s gonna be a meter on your bed <end>',\n",
       " '<start> that will disclose <end>',\n",
       " '<start> what everybody knows and everybody knows that you re in trouble <end>',\n",
       " '<start> everybody knows what you ve been through <end>',\n",
       " '<start> from the bloody cross on top of calvary <end>',\n",
       " '<start> to the beach of malibu <end>']"
      ]
     },
     "execution_count": 39,
     "metadata": {},
     "output_type": "execute_result"
    }
   ],
   "source": [
    "# 여기에 정제된 문장을 모을겁니다\n",
    "import re\n",
    "\n",
    "corpus = []\n",
    "\n",
    "for sentence in raw_corpus:\n",
    "    # 우리가 원하지 않는 문장은 건너뜁니다\n",
    "    if len(sentence) == 0: continue\n",
    "    if sentence[-1] == \":\": continue\n",
    "    \n",
    "    # 정제를 하고 담아주세요\n",
    "    preprocessed_sentence = preprocess_sentence(sentence)\n",
    "    #print(preprocessed_sentence)\n",
    "    if len(preprocessed_sentence.split()) > 15: continue\n",
    "        # 토큰화 했을 때 토큰의 개수가 15개를 넘어가는 문장을 제외하기 위해 추가\n",
    "    corpus.append(preprocessed_sentence) \n",
    "        \n",
    "# 정제된 결과를 10개만 확인해보죠\n",
    "corpus[:100]"
   ]
  },
  {
   "cell_type": "code",
   "execution_count": 40,
   "id": "15e16405",
   "metadata": {},
   "outputs": [
    {
     "name": "stdout",
     "output_type": "stream",
     "text": [
      "[[   2   50    4 ...    0    0    0]\n",
      " [   2   15 2967 ...    0    0    0]\n",
      " [   2   33    7 ...   46    3    0]\n",
      " ...\n",
      " [   2    4  118 ...    0    0    0]\n",
      " [   2  258  194 ...   12    3    0]\n",
      " [   2    7   34 ...    0    0    0]] <keras_preprocessing.text.Tokenizer object at 0x7f18eeca9430>\n"
     ]
    }
   ],
   "source": [
    "# 평가 데이터셋 분리\n",
    "\n",
    "#tokenize() 함수로 데이터를 Tensor로 변환한 후, \n",
    "#sklearn 모듈의 train_test_split() 함수를 사용해 훈련 데이터와 평가 데이터를 분리하도록 하겠습니다. \n",
    "#단어장의 크기는 12,000 이상 으로 설정하세요! 총 데이터의 20% 를 평가 데이터셋으로 사용해 주세요.\n",
    "\n",
    "#일단 tokenize()함수로 데이터를 tensor로 변환하자\n",
    "import tensorflow as tf\n",
    "\n",
    "def tokenize(corpus):\n",
    "    # 12000단어를 기억할 수 있는 tokenizer를 만들겁니다\n",
    "    # 우리는 이미 문장을 정제했으니 filters가 필요없어요\n",
    "    # 12000단어에 포함되지 못한 단어는 '<unk>'로 바꿀거에요\n",
    "    tokenizer = tf.keras.preprocessing.text.Tokenizer(\n",
    "        num_words=12000, #단어장 크기를 12000 이상으로 설정\n",
    "        filters=' ',\n",
    "        oov_token=\"<unk>\"\n",
    "    )\n",
    "    # corpus를 이용해 tokenizer 내부의 단어장을 완성합니다\n",
    "    tokenizer.fit_on_texts(corpus)\n",
    "    # 준비한 tokenizer를 이용해 corpus를 Tensor로 변환합니다\n",
    "    tensor = tokenizer.texts_to_sequences(corpus)   \n",
    "    # 입력 데이터의 시퀀스 길이를 일정하게 맞춰줍니다\n",
    "    # 만약 시퀀스가 짧다면 문장 뒤에 패딩을 붙여 길이를 맞춰줍니다.\n",
    "    # 문장 앞에 패딩을 붙여 길이를 맞추고 싶다면 padding='pre'를 사용합니다\n",
    "    tensor = tf.keras.preprocessing.sequence.pad_sequences(tensor, padding='post')  \n",
    "    \n",
    "    print(tensor,tokenizer)\n",
    "    return tensor, tokenizer\n",
    "\n",
    "tensor, tokenizer = tokenize(corpus)\n",
    "\n",
    "#enc_train, enc_val, dec_train, dec_val = <코드 작성>\n"
   ]
  },
  {
   "cell_type": "code",
   "execution_count": 41,
   "id": "4d82db31",
   "metadata": {},
   "outputs": [
    {
     "name": "stdout",
     "output_type": "stream",
     "text": [
      "[   2   50    4   95  303   62   53    9  946 6263    3    0    0    0]\n",
      "[  50    4   95  303   62   53    9  946 6263    3    0    0    0    0]\n"
     ]
    }
   ],
   "source": [
    "# tensor에서 마지막 토큰을 잘라내서 소스 문장을 생성합니다\n",
    "# 마지막 토큰은 <end>가 아니라 <pad>일 가능성이 높습니다.\n",
    "src_input = tensor[:, :-1]  \n",
    "# tensor에서 <start>를 잘라내서 타겟 문장을 생성합니다.\n",
    "tgt_input = tensor[:, 1:]    \n",
    "\n",
    "print(src_input[0])\n",
    "print(tgt_input[0])"
   ]
  },
  {
   "cell_type": "code",
   "execution_count": 42,
   "id": "6acb07cb",
   "metadata": {},
   "outputs": [],
   "source": [
    "from sklearn.model_selection import train_test_split\n",
    "\n",
    "enc_train, enc_val, dec_train, dec_val = train_test_split(src_input, tgt_input, test_size=0.2, shuffle=True, random_state=34)\n",
    "#test_size 0.2로 설정하여 총데이터의 20%를 평가 데이터셋으로 함."
   ]
  },
  {
   "cell_type": "code",
   "execution_count": 43,
   "id": "6b1d1eb4",
   "metadata": {},
   "outputs": [
    {
     "name": "stdout",
     "output_type": "stream",
     "text": [
      "Source Train: (124810, 14)\n",
      "Target Train: (124810, 14)\n"
     ]
    }
   ],
   "source": [
    "print(\"Source Train:\", enc_train.shape)\n",
    "print(\"Target Train:\", dec_train.shape)"
   ]
  },
  {
   "cell_type": "code",
   "execution_count": 31,
   "id": "cdd97bc6",
   "metadata": {},
   "outputs": [
    {
     "data": {
      "text/plain": [
       "<BatchDataset shapes: ((256, 16), (256, 16)), types: (tf.int32, tf.int32)>"
      ]
     },
     "execution_count": 31,
     "metadata": {},
     "output_type": "execute_result"
    }
   ],
   "source": [
    "BUFFER_SIZE = len(src_input)\n",
    "BATCH_SIZE = 256\n",
    "steps_per_epoch = len(src_input) // BATCH_SIZE\n",
    "\n",
    " # tokenizer가 구축한 단어사전 내 7000개와, 여기 포함되지 않은 0:<pad>를 포함하여 7001개\n",
    "VOCAB_SIZE = tokenizer.num_words + 1   \n",
    "\n",
    "# 준비한 데이터 소스로부터 데이터셋을 만듭니다\n",
    "# 데이터셋에 대해서는 아래 문서를 참고하세요\n",
    "# 자세히 알아둘수록 도움이 많이 되는 중요한 문서입니다\n",
    "# https://www.tensorflow.org/api_docs/python/tf/data/Dataset\n",
    "dataset = tf.data.Dataset.from_tensor_slices((src_input, tgt_input))\n",
    "dataset = dataset.shuffle(BUFFER_SIZE)\n",
    "dataset = dataset.batch(BATCH_SIZE, drop_remainder=True)\n",
    "dataset"
   ]
  },
  {
   "cell_type": "code",
   "execution_count": null,
   "id": "a33e8a2f",
   "metadata": {},
   "outputs": [],
   "source": [
    "#인공지능 학습시키기"
   ]
  },
  {
   "cell_type": "code",
   "execution_count": 46,
   "id": "fb522ce2",
   "metadata": {},
   "outputs": [],
   "source": [
    "class TextGenerator(tf.keras.Model):\n",
    "    def __init__(self, vocab_size, embedding_size, hidden_size):\n",
    "        super().__init__()\n",
    "        \n",
    "        self.embedding = tf.keras.layers.Embedding(vocab_size, embedding_size)\n",
    "        self.rnn_1 = tf.keras.layers.LSTM(hidden_size, return_sequences=True)\n",
    "        self.rnn_2 = tf.keras.layers.LSTM(hidden_size, return_sequences=True)\n",
    "        self.linear = tf.keras.layers.Dense(vocab_size)\n",
    "        \n",
    "    def call(self, x):\n",
    "        out = self.embedding(x)\n",
    "        out = self.rnn_1(out)\n",
    "        out = self.rnn_2(out)\n",
    "        out = self.linear(out)\n",
    "        \n",
    "        return out\n",
    "    \n",
    "embedding_size = 256\n",
    "hidden_size = 1024\n",
    "model = TextGenerator(tokenizer.num_words + 1, embedding_size , hidden_size)"
   ]
  },
  {
   "cell_type": "code",
   "execution_count": 47,
   "id": "b3a3add5",
   "metadata": {},
   "outputs": [
    {
     "data": {
      "text/plain": [
       "<tf.Tensor: shape=(256, 16, 12001), dtype=float32, numpy=\n",
       "array([[[ 1.17164234e-06,  1.20972487e-04,  1.04431456e-04, ...,\n",
       "          6.53773532e-05,  1.04869861e-04, -1.30705330e-05],\n",
       "        [ 1.00840763e-04,  1.83249183e-04,  1.16481257e-04, ...,\n",
       "          2.92054552e-04,  1.84165146e-05,  1.66536542e-04],\n",
       "        [ 8.25038805e-05,  4.31333727e-04,  8.25001262e-05, ...,\n",
       "          5.76565450e-04,  2.36233580e-04,  6.17871934e-04],\n",
       "        ...,\n",
       "        [ 9.97761730e-04, -8.72670033e-04, -1.19060546e-03, ...,\n",
       "          5.56268438e-04,  1.18770089e-03, -7.68412137e-04],\n",
       "        [ 1.23064406e-03, -1.01333077e-03, -1.23040203e-03, ...,\n",
       "          3.71474714e-04,  1.24352344e-03, -7.16245500e-04],\n",
       "        [ 1.44390448e-03, -1.11483317e-03, -1.25008239e-03, ...,\n",
       "          2.01608840e-04,  1.30733720e-03, -6.71924674e-04]],\n",
       "\n",
       "       [[ 1.17164234e-06,  1.20972487e-04,  1.04431456e-04, ...,\n",
       "          6.53773532e-05,  1.04869861e-04, -1.30705330e-05],\n",
       "        [ 1.57971735e-04,  2.24030053e-04,  4.35958093e-04, ...,\n",
       "          4.17705778e-05, -2.33169849e-04,  3.73123694e-05],\n",
       "        [ 3.80290177e-04,  4.03728103e-04,  5.75075392e-04, ...,\n",
       "         -2.96509417e-04, -7.79783062e-04, -1.40307980e-04],\n",
       "        ...,\n",
       "        [ 2.23028311e-03, -1.33201992e-03, -1.07527035e-03, ...,\n",
       "         -3.03586363e-04,  7.45248806e-04, -9.55847034e-04],\n",
       "        [ 2.32222280e-03, -1.35969627e-03, -1.14274304e-03, ...,\n",
       "         -3.39445280e-04,  8.90965515e-04, -9.29355447e-04],\n",
       "        [ 2.39842967e-03, -1.35649706e-03, -1.18570740e-03, ...,\n",
       "         -3.84204119e-04,  1.02882576e-03, -9.06770001e-04]],\n",
       "\n",
       "       [[ 1.17164234e-06,  1.20972487e-04,  1.04431456e-04, ...,\n",
       "          6.53773532e-05,  1.04869861e-04, -1.30705330e-05],\n",
       "        [ 1.00840763e-04,  1.83249183e-04,  1.16481257e-04, ...,\n",
       "          2.92054552e-04,  1.84165146e-05,  1.66536542e-04],\n",
       "        [ 7.75287117e-05,  3.53021518e-04, -5.86559436e-05, ...,\n",
       "          4.13245754e-04, -8.21261565e-05,  2.23650408e-04],\n",
       "        ...,\n",
       "        [ 8.40267399e-04, -9.48314046e-05,  2.54457991e-04, ...,\n",
       "         -1.62041353e-04,  8.78431718e-04,  5.63726680e-05],\n",
       "        [ 7.87682657e-04, -1.90604216e-04,  3.54997755e-05, ...,\n",
       "          6.20695791e-05,  1.14856381e-03, -4.06068139e-04],\n",
       "        [ 8.82921217e-04, -3.36900121e-04, -8.80470325e-05, ...,\n",
       "          1.64557117e-04,  1.20468286e-03, -6.28509384e-04]],\n",
       "\n",
       "       ...,\n",
       "\n",
       "       [[ 1.17164234e-06,  1.20972487e-04,  1.04431456e-04, ...,\n",
       "          6.53773532e-05,  1.04869861e-04, -1.30705330e-05],\n",
       "        [-4.65034027e-05,  1.69894949e-04,  4.42958437e-04, ...,\n",
       "          3.13756696e-04,  2.55204068e-04,  1.65230012e-05],\n",
       "        [ 6.74166658e-05,  3.23427666e-04,  9.45623731e-04, ...,\n",
       "          3.97065072e-04,  2.57628155e-04, -1.77872789e-04],\n",
       "        ...,\n",
       "        [ 1.00489962e-03, -8.32632824e-04, -1.35808310e-04, ...,\n",
       "         -2.48554454e-04,  2.93230914e-05, -1.03128969e-03],\n",
       "        [ 1.24484731e-03, -9.10083763e-04, -3.46702756e-04, ...,\n",
       "         -2.20937436e-04,  2.32138118e-04, -1.00790302e-03],\n",
       "        [ 1.45974639e-03, -9.68422042e-04, -5.23825001e-04, ...,\n",
       "         -2.23247451e-04,  4.33842739e-04, -9.79753328e-04]],\n",
       "\n",
       "       [[ 1.17164234e-06,  1.20972487e-04,  1.04431456e-04, ...,\n",
       "          6.53773532e-05,  1.04869861e-04, -1.30705330e-05],\n",
       "        [ 1.24385915e-04,  2.49328703e-04,  2.09334772e-04, ...,\n",
       "          1.45209953e-04, -3.75909876e-05,  3.93059832e-04],\n",
       "        [ 1.03191654e-04,  2.61737208e-04,  5.08202298e-04, ...,\n",
       "          1.27658277e-04,  1.37431300e-06,  3.50487971e-04],\n",
       "        ...,\n",
       "        [ 1.06519077e-03, -9.86337662e-04, -7.62777112e-04, ...,\n",
       "          9.17672878e-04,  4.55315807e-04, -6.21932209e-04],\n",
       "        [ 1.27476326e-03, -1.05220173e-03, -8.41818808e-04, ...,\n",
       "          7.62124604e-04,  5.91202290e-04, -6.05450885e-04],\n",
       "        [ 1.46304129e-03, -1.11151475e-03, -9.04904911e-04, ...,\n",
       "          5.74968057e-04,  7.25371880e-04, -5.89448726e-04]],\n",
       "\n",
       "       [[ 1.17164234e-06,  1.20972487e-04,  1.04431456e-04, ...,\n",
       "          6.53773532e-05,  1.04869861e-04, -1.30705330e-05],\n",
       "        [ 2.25838245e-04,  1.48694162e-04,  3.74629017e-04, ...,\n",
       "         -1.15466617e-04, -2.54344050e-05,  1.69248917e-04],\n",
       "        [ 1.29609252e-04,  4.97222354e-04,  4.03411541e-04, ...,\n",
       "         -1.24482540e-04, -1.37597133e-04,  3.49565584e-04],\n",
       "        ...,\n",
       "        [ 1.34914997e-03, -1.14435656e-03, -9.96440882e-04, ...,\n",
       "          4.50441526e-04,  3.53917480e-04, -7.15355854e-04],\n",
       "        [ 1.55100378e-03, -1.18586689e-03, -1.05573458e-03, ...,\n",
       "          2.94098951e-04,  5.51634817e-04, -7.05353916e-04],\n",
       "        [ 1.72993646e-03, -1.20803656e-03, -1.10079534e-03, ...,\n",
       "          1.51108543e-04,  7.41053023e-04, -6.96961302e-04]]],\n",
       "      dtype=float32)>"
      ]
     },
     "execution_count": 47,
     "metadata": {},
     "output_type": "execute_result"
    }
   ],
   "source": [
    "# 데이터셋에서 데이터 한 배치만 불러오는 방법입니다.\n",
    "# 지금은 동작 원리에 너무 빠져들지 마세요~\n",
    "for src_sample, tgt_sample in dataset.take(1): break\n",
    "\n",
    "# 한 배치만 불러온 데이터를 모델에 넣어봅니다\n",
    "model(src_sample)"
   ]
  },
  {
   "cell_type": "code",
   "execution_count": 48,
   "id": "bd1e637f",
   "metadata": {},
   "outputs": [
    {
     "name": "stdout",
     "output_type": "stream",
     "text": [
      "Model: \"text_generator\"\n",
      "_________________________________________________________________\n",
      "Layer (type)                 Output Shape              Param #   \n",
      "=================================================================\n",
      "embedding (Embedding)        multiple                  3072256   \n",
      "_________________________________________________________________\n",
      "lstm (LSTM)                  multiple                  5246976   \n",
      "_________________________________________________________________\n",
      "lstm_1 (LSTM)                multiple                  8392704   \n",
      "_________________________________________________________________\n",
      "dense (Dense)                multiple                  12301025  \n",
      "=================================================================\n",
      "Total params: 29,012,961\n",
      "Trainable params: 29,012,961\n",
      "Non-trainable params: 0\n",
      "_________________________________________________________________\n"
     ]
    }
   ],
   "source": [
    "model.summary()"
   ]
  },
  {
   "cell_type": "code",
   "execution_count": 55,
   "id": "bc6c4139",
   "metadata": {},
   "outputs": [
    {
     "name": "stdout",
     "output_type": "stream",
     "text": [
      "Epoch 1/10\n",
      "638/638 [==============================] - 126s 194ms/step - loss: 1.0350\n",
      "Epoch 2/10\n",
      "638/638 [==============================] - 123s 193ms/step - loss: 0.9975\n",
      "Epoch 3/10\n",
      "638/638 [==============================] - 123s 192ms/step - loss: 0.9773\n",
      "Epoch 4/10\n",
      "638/638 [==============================] - 122s 192ms/step - loss: 0.9593\n",
      "Epoch 5/10\n",
      "638/638 [==============================] - 122s 192ms/step - loss: 0.9431\n",
      "Epoch 6/10\n",
      "638/638 [==============================] - 122s 192ms/step - loss: 0.9278\n",
      "Epoch 7/10\n",
      "638/638 [==============================] - 123s 192ms/step - loss: 0.9141\n",
      "Epoch 8/10\n",
      "638/638 [==============================] - 123s 192ms/step - loss: 0.9017\n",
      "Epoch 9/10\n",
      "638/638 [==============================] - 123s 192ms/step - loss: 0.8902\n",
      "Epoch 10/10\n",
      "638/638 [==============================] - 123s 192ms/step - loss: 0.8797\n"
     ]
    },
    {
     "data": {
      "text/plain": [
       "<keras.callbacks.History at 0x7f1898214970>"
      ]
     },
     "execution_count": 55,
     "metadata": {},
     "output_type": "execute_result"
    }
   ],
   "source": [
    "# optimizer와 loss등은 차차 배웁니다\n",
    "# 혹시 미리 알고 싶다면 아래 문서를 참고하세요\n",
    "# https://www.tensorflow.org/api_docs/python/tf/keras/optimizers\n",
    "# https://www.tensorflow.org/api_docs/python/tf/keras/losses\n",
    "# 양이 상당히 많은 편이니 지금 보는 것은 추천하지 않습니다\n",
    "optimizer = tf.keras.optimizers.Adam()\n",
    "loss = tf.keras.losses.SparseCategoricalCrossentropy(\n",
    "    from_logits=True,\n",
    "    reduction='none'\n",
    ")\n",
    "\n",
    "model.compile(loss=loss, optimizer=optimizer)\n",
    "model.fit(dataset, epochs=10)"
   ]
  },
  {
   "cell_type": "code",
   "execution_count": 56,
   "id": "0e0972cc",
   "metadata": {},
   "outputs": [],
   "source": [
    "def generate_text(model, tokenizer, init_sentence=\"<start>\", max_len=20):\n",
    "    # 테스트를 위해서 입력받은 init_sentence도 텐서로 변환합니다\n",
    "    test_input = tokenizer.texts_to_sequences([init_sentence])\n",
    "    test_tensor = tf.convert_to_tensor(test_input, dtype=tf.int64)\n",
    "    end_token = tokenizer.word_index[\"<end>\"]\n",
    "\n",
    "    # 단어 하나씩 예측해 문장을 만듭니다\n",
    "    #    1. 입력받은 문장의 텐서를 입력합니다\n",
    "    #    2. 예측된 값 중 가장 높은 확률인 word index를 뽑아냅니다\n",
    "    #    3. 2에서 예측된 word index를 문장 뒤에 붙입니다\n",
    "    #    4. 모델이 <end>를 예측했거나, max_len에 도달했다면 문장 생성을 마칩니다\n",
    "    while True:\n",
    "        # 1\n",
    "        predict = model(test_tensor) \n",
    "        # 2\n",
    "        predict_word = tf.argmax(tf.nn.softmax(predict, axis=-1), axis=-1)[:, -1] \n",
    "        # 3 \n",
    "        test_tensor = tf.concat([test_tensor, tf.expand_dims(predict_word, axis=0)], axis=-1)\n",
    "        # 4\n",
    "        if predict_word.numpy()[0] == end_token: break\n",
    "        if test_tensor.shape[1] >= max_len: break\n",
    "\n",
    "    generated = \"\"\n",
    "    # tokenizer를 이용해 word index를 단어로 하나씩 변환합니다 \n",
    "    for word_index in test_tensor[0].numpy():\n",
    "        generated += tokenizer.index_word[word_index] + \" \"\n",
    "\n",
    "    return generated"
   ]
  },
  {
   "cell_type": "code",
   "execution_count": 57,
   "id": "9a9cdb6a",
   "metadata": {},
   "outputs": [
    {
     "data": {
      "text/plain": [
       "'<start> i love you , i like not his calling <end> '"
      ]
     },
     "execution_count": 57,
     "metadata": {},
     "output_type": "execute_result"
    }
   ],
   "source": [
    "generate_text(model, tokenizer, init_sentence=\"<start> i love\", max_len=20)"
   ]
  },
  {
   "cell_type": "code",
   "execution_count": null,
   "id": "3b903c9e",
   "metadata": {},
   "outputs": [],
   "source": []
  }
 ],
 "metadata": {
  "kernelspec": {
   "display_name": "Python 3 (ipykernel)",
   "language": "python",
   "name": "python3"
  },
  "language_info": {
   "codemirror_mode": {
    "name": "ipython",
    "version": 3
   },
   "file_extension": ".py",
   "mimetype": "text/x-python",
   "name": "python",
   "nbconvert_exporter": "python",
   "pygments_lexer": "ipython3",
   "version": "3.9.7"
  }
 },
 "nbformat": 4,
 "nbformat_minor": 5
}
