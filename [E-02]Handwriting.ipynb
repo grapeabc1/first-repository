{
 "cells": [
  {
   "cell_type": "code",
   "execution_count": null,
   "id": "ca5c0417",
   "metadata": {},
   "outputs": [],
   "source": [
    "# 손글씨 분류"
   ]
  },
  {
   "cell_type": "code",
   "execution_count": 63,
   "id": "77fdc54c",
   "metadata": {},
   "outputs": [],
   "source": [
    "#필요한 모듈 import하기\n",
    "from sklearn.datasets import load_digits #사이킷런에 있는 손글씨 데이터셋\n",
    "from sklearn.datasets import load_wine #사이킷런에 있는 와인 데이터셋\n",
    "from sklearn.datasets import load_breast_cancer #사이킷런에 있는 유방암 데이터셋\n",
    "\n",
    "from sklearn.model_selection import train_test_split #모델을 학습시킬 데이터와 검증할 데이터를 분리하는 함수쓰기 위함\n",
    "from sklearn.metrics import accuracy_score #모델 평가할 때 정확도 지표를 확인하는 기능 사용하기 위함\n",
    "from sklearn.metrics import classification_report \n",
    "#모델 평가를 위한 기능을 사용하기 위함, 정확도뿐만 아니라 recall,precision, f1-score도 확인 가능"
   ]
  },
  {
   "cell_type": "code",
   "execution_count": 71,
   "id": "941399de",
   "metadata": {},
   "outputs": [],
   "source": [
    "#데이터 준비\n",
    "handwriting = load_digits()\n",
    "handwriting_data = handwriting.data\n",
    "handwriting_label = handwriting.target"
   ]
  },
  {
   "cell_type": "code",
   "execution_count": null,
   "id": "86b8fbc1",
   "metadata": {},
   "outputs": [],
   "source": [
    "#데이터 이해하기"
   ]
  },
  {
   "cell_type": "code",
   "execution_count": 60,
   "id": "f41c32df",
   "metadata": {},
   "outputs": [
    {
     "name": "stdout",
     "output_type": "stream",
     "text": [
      "(1797,)\n",
      ".. _digits_dataset:\n",
      "\n",
      "Optical recognition of handwritten digits dataset\n",
      "--------------------------------------------------\n",
      "\n",
      "**Data Set Characteristics:**\n",
      "\n",
      "    :Number of Instances: 1797\n",
      "    :Number of Attributes: 64\n",
      "    :Attribute Information: 8x8 image of integer pixels in the range 0..16.\n",
      "    :Missing Attribute Values: None\n",
      "    :Creator: E. Alpaydin (alpaydin '@' boun.edu.tr)\n",
      "    :Date: July; 1998\n",
      "\n",
      "This is a copy of the test set of the UCI ML hand-written digits datasets\n",
      "https://archive.ics.uci.edu/ml/datasets/Optical+Recognition+of+Handwritten+Digits\n",
      "\n",
      "The data set contains images of hand-written digits: 10 classes where\n",
      "each class refers to a digit.\n",
      "\n",
      "Preprocessing programs made available by NIST were used to extract\n",
      "normalized bitmaps of handwritten digits from a preprinted form. From a\n",
      "total of 43 people, 30 contributed to the training set and different 13\n",
      "to the test set. 32x32 bitmaps are divided into nonoverlapping blocks of\n",
      "4x4 and the number of on pixels are counted in each block. This generates\n",
      "an input matrix of 8x8 where each element is an integer in the range\n",
      "0..16. This reduces dimensionality and gives invariance to small\n",
      "distortions.\n",
      "\n",
      "For info on NIST preprocessing routines, see M. D. Garris, J. L. Blue, G.\n",
      "T. Candela, D. L. Dimmick, J. Geist, P. J. Grother, S. A. Janet, and C.\n",
      "L. Wilson, NIST Form-Based Handprint Recognition System, NISTIR 5469,\n",
      "1994.\n",
      "\n",
      ".. topic:: References\n",
      "\n",
      "  - C. Kaynak (1995) Methods of Combining Multiple Classifiers and Their\n",
      "    Applications to Handwritten Digit Recognition, MSc Thesis, Institute of\n",
      "    Graduate Studies in Science and Engineering, Bogazici University.\n",
      "  - E. Alpaydin, C. Kaynak (1998) Cascading Classifiers, Kybernetika.\n",
      "  - Ken Tang and Ponnuthurai N. Suganthan and Xi Yao and A. Kai Qin.\n",
      "    Linear dimensionalityreduction using relevance weighted LDA. School of\n",
      "    Electrical and Electronic Engineering Nanyang Technological University.\n",
      "    2005.\n",
      "  - Claudio Gentile. A New Approximate Maximal Margin Classification\n",
      "    Algorithm. NIPS. 2000.\n",
      "\n"
     ]
    }
   ],
   "source": [
    "import pandas as pd\n",
    "\n",
    "handwriting_df = pd.DataFrame(data=handwriting_data, columns=handwriting.feature_names)\n",
    "handwriting_df # 칼럼을 Feature Data 로 지정하기\n",
    "\n",
    "handwriting_df[\"label\"] = handwriting.target\n",
    "handwriting_df # 라벨 칼럼을 추가해서 해당 행의 정답을 확인\n",
    "\n",
    "handwriting_label = handwriting.target #Target Names 출력해 보기\n",
    "print(handwriting_label.shape)\n",
    "handwriting_label #1797개의 데이터가 들어있고 각 값은 0~9로 나타나는 것을 확인\n",
    "\n",
    "print(handwriting.DESCR) # 데이터 Describe 해 보기"
   ]
  },
  {
   "cell_type": "code",
   "execution_count": 43,
   "id": "57885cf3",
   "metadata": {},
   "outputs": [
    {
     "name": "stdout",
     "output_type": "stream",
     "text": [
      "X_train 개수:  1437 , X_test 개수:  360\n"
     ]
    }
   ],
   "source": [
    "#train, test 데이터 분리\n",
    "\n",
    "from sklearn.model_selection import train_test_split\n",
    "\n",
    "X_train, X_test, y_train, y_test = train_test_split(handwriting_data, \n",
    "                                                    handwriting_label, \n",
    "                                                    test_size=0.2, \n",
    "                                                    random_state=7)\n",
    "\n",
    "print('X_train 개수: ', len(X_train),', X_test 개수: ', len(X_test))"
   ]
  },
  {
   "cell_type": "code",
   "execution_count": null,
   "id": "a6c20fe7",
   "metadata": {},
   "outputs": [],
   "source": [
    "#다양한 모델로 학습시켜보고 해당 모델 평가해보기"
   ]
  },
  {
   "cell_type": "code",
   "execution_count": 78,
   "id": "42c2f8cb",
   "metadata": {},
   "outputs": [
    {
     "name": "stdout",
     "output_type": "stream",
     "text": [
      "              precision    recall  f1-score   support\n",
      "\n",
      "           0       1.00      0.98      0.99        43\n",
      "           1       0.81      0.81      0.81        42\n",
      "           2       0.79      0.82      0.80        40\n",
      "           3       0.79      0.91      0.85        34\n",
      "           4       0.83      0.95      0.89        37\n",
      "           5       0.90      0.96      0.93        28\n",
      "           6       0.84      0.93      0.88        28\n",
      "           7       0.96      0.82      0.89        33\n",
      "           8       0.88      0.65      0.75        43\n",
      "           9       0.78      0.78      0.78        32\n",
      "\n",
      "    accuracy                           0.86       360\n",
      "   macro avg       0.86      0.86      0.86       360\n",
      "weighted avg       0.86      0.86      0.85       360\n",
      "\n"
     ]
    }
   ],
   "source": [
    "#Decision Tree 사용하여 학습하고 모델 평가\n",
    "from sklearn.tree import DecisionTreeClassifier\n",
    "#정답이 있고 그 정답을 맞추기 위해 학습하는 지도학습, 그리고 지도학습 중에서도 주어진 데이터가 \n",
    "#어떤 카테고리에 속하는지를 분류해야하니까 지도학습중에서도 분류할수있는 모델인 의사결정나무를 사용\n",
    "#하기 위한 임포트\n",
    "\n",
    "decision_tree = DecisionTreeClassifier(random_state=32) #의사결정나무 객체를 생성\n",
    "# print(decision_tree._estimator_type)\n",
    "\n",
    "decision_tree.fit(X_train, y_train) #의사결정나무에 훈련 데이터를 집어넣어 훈련시킨다.\n",
    "\n",
    "#이제 모델을 훈련시켰으니까 훈련된 모델을 시험해볼 차례다.\n",
    "#predict 메소드를 사용해 아까 따로 빼둔 테스트 데이터를 넣었을 때 잘 맞추는지 확인해본다.\n",
    "y_pred = decision_tree.predict(X_test) \n",
    "\n",
    "#테스트 데이터로 시험해본 결과로 모델을 평가해보기\n",
    "print(classification_report(y_test, y_pred))"
   ]
  },
  {
   "cell_type": "code",
   "execution_count": 79,
   "id": "e1c350c9",
   "metadata": {},
   "outputs": [
    {
     "name": "stdout",
     "output_type": "stream",
     "text": [
      "              precision    recall  f1-score   support\n",
      "\n",
      "           0       1.00      0.98      0.99        43\n",
      "           1       0.93      1.00      0.97        42\n",
      "           2       1.00      1.00      1.00        40\n",
      "           3       1.00      1.00      1.00        34\n",
      "           4       0.93      1.00      0.96        37\n",
      "           5       0.90      0.96      0.93        28\n",
      "           6       1.00      0.96      0.98        28\n",
      "           7       0.94      0.97      0.96        33\n",
      "           8       1.00      0.84      0.91        43\n",
      "           9       0.94      0.94      0.94        32\n",
      "\n",
      "    accuracy                           0.96       360\n",
      "   macro avg       0.96      0.96      0.96       360\n",
      "weighted avg       0.97      0.96      0.96       360\n",
      "\n"
     ]
    }
   ],
   "source": [
    "#Random Forest 사용하여 학습하고 모델 평가\n",
    "from sklearn.ensemble import RandomForestClassifier\n",
    "#Random Forest 사용하기 위한 임포트\n",
    "\n",
    "random_forest = RandomForestClassifier(random_state=32) #Random Forest 객체 생성\n",
    "random_forest.fit(X_train, y_train) #학습\n",
    "y_pred = random_forest.predict(X_test) #시험결과\n",
    "\n",
    "print(classification_report(y_test, y_pred)) #시험결과로 모델 평가"
   ]
  },
  {
   "cell_type": "code",
   "execution_count": 80,
   "id": "7905fbf1",
   "metadata": {},
   "outputs": [
    {
     "name": "stdout",
     "output_type": "stream",
     "text": [
      "              precision    recall  f1-score   support\n",
      "\n",
      "           0       1.00      1.00      1.00        43\n",
      "           1       0.95      1.00      0.98        42\n",
      "           2       1.00      1.00      1.00        40\n",
      "           3       1.00      1.00      1.00        34\n",
      "           4       1.00      1.00      1.00        37\n",
      "           5       0.93      1.00      0.97        28\n",
      "           6       1.00      1.00      1.00        28\n",
      "           7       1.00      1.00      1.00        33\n",
      "           8       1.00      0.93      0.96        43\n",
      "           9       1.00      0.97      0.98        32\n",
      "\n",
      "    accuracy                           0.99       360\n",
      "   macro avg       0.99      0.99      0.99       360\n",
      "weighted avg       0.99      0.99      0.99       360\n",
      "\n"
     ]
    }
   ],
   "source": [
    "#SVM 사용하여 학습하고 모델 평가\n",
    "from sklearn import svm\n",
    "#svm 사용하기 위한 임포트\n",
    "\n",
    "svm_model = svm.SVC(random_state=32) #svc 객체 생성\n",
    "svm_model.fit(X_train, y_train) #학습\n",
    "y_pred = svm_model.predict(X_test) #시험결과\n",
    " \n",
    "print(classification_report(y_test, y_pred)) #시험결과로 모델 평가"
   ]
  },
  {
   "cell_type": "code",
   "execution_count": 81,
   "id": "88a21f52",
   "metadata": {},
   "outputs": [
    {
     "name": "stdout",
     "output_type": "stream",
     "text": [
      "              precision    recall  f1-score   support\n",
      "\n",
      "           0       1.00      1.00      1.00        43\n",
      "           1       0.85      0.95      0.90        42\n",
      "           2       0.98      1.00      0.99        40\n",
      "           3       0.89      0.94      0.91        34\n",
      "           4       1.00      0.97      0.99        37\n",
      "           5       0.93      1.00      0.97        28\n",
      "           6       0.96      0.93      0.95        28\n",
      "           7       0.97      0.97      0.97        33\n",
      "           8       0.88      0.88      0.88        43\n",
      "           9       0.96      0.72      0.82        32\n",
      "\n",
      "    accuracy                           0.94       360\n",
      "   macro avg       0.94      0.94      0.94       360\n",
      "weighted avg       0.94      0.94      0.94       360\n",
      "\n"
     ]
    }
   ],
   "source": [
    "#SGD Classifier 사용하여 학습하고 모델 평가\n",
    "from sklearn.linear_model import SGDClassifier\n",
    "#SGDClassifier 사용하기 위한 임포트\n",
    "\n",
    "sgd_model = SGDClassifier(random_state=32) #SGD Classifier 객체 생성\n",
    "sgd_model.fit(X_train, y_train) #학습\n",
    "y_pred = sgd_model.predict(X_test) #시험결과\n",
    "\n",
    "print(classification_report(y_test, y_pred)) #시험결과로 모델 평가"
   ]
  },
  {
   "cell_type": "code",
   "execution_count": 82,
   "id": "6667e2dc",
   "metadata": {},
   "outputs": [
    {
     "name": "stdout",
     "output_type": "stream",
     "text": [
      "              precision    recall  f1-score   support\n",
      "\n",
      "           0       1.00      1.00      1.00        43\n",
      "           1       0.95      0.95      0.95        42\n",
      "           2       0.98      1.00      0.99        40\n",
      "           3       0.94      0.97      0.96        34\n",
      "           4       0.97      1.00      0.99        37\n",
      "           5       0.82      0.96      0.89        28\n",
      "           6       1.00      0.96      0.98        28\n",
      "           7       0.97      0.97      0.97        33\n",
      "           8       0.92      0.81      0.86        43\n",
      "           9       0.97      0.91      0.94        32\n",
      "\n",
      "    accuracy                           0.95       360\n",
      "   macro avg       0.95      0.95      0.95       360\n",
      "weighted avg       0.95      0.95      0.95       360\n",
      "\n"
     ]
    },
    {
     "name": "stderr",
     "output_type": "stream",
     "text": [
      "/opt/conda/lib/python3.9/site-packages/sklearn/linear_model/_logistic.py:814: ConvergenceWarning: lbfgs failed to converge (status=1):\n",
      "STOP: TOTAL NO. of ITERATIONS REACHED LIMIT.\n",
      "\n",
      "Increase the number of iterations (max_iter) or scale the data as shown in:\n",
      "    https://scikit-learn.org/stable/modules/preprocessing.html\n",
      "Please also refer to the documentation for alternative solver options:\n",
      "    https://scikit-learn.org/stable/modules/linear_model.html#logistic-regression\n",
      "  n_iter_i = _check_optimize_result(\n"
     ]
    }
   ],
   "source": [
    "#Logistic Regression 사용하여 학습하고 모델 평가\n",
    "from sklearn.linear_model import LogisticRegression\n",
    "#Logistic Regression 사용하기 위한 임포트\n",
    "\n",
    "logistic_model = LogisticRegression(random_state=32) #lLogistic Regression 객체 생성\n",
    "logistic_model.fit(X_train, y_train) #학습\n",
    "y_pred = logistic_model.predict(X_test) #시험결과\n",
    "\n",
    "print(classification_report(y_test, y_pred)) #시험결과로 모델 평가"
   ]
  },
  {
   "cell_type": "code",
   "execution_count": null,
   "id": "be8a3656",
   "metadata": {},
   "outputs": [],
   "source": [
    "#정확도 만으로 모델을 평가하기에는 신뢰성에 문제가 있을 수 있기 때문에\n",
    "#precision, recall 지표도 고려해야한다.\n",
    "#손글씨 분류는 svm 모델에서 가장 훈련이 잘되었다."
   ]
  }
 ],
 "metadata": {
  "kernelspec": {
   "display_name": "Python 3 (ipykernel)",
   "language": "python",
   "name": "python3"
  },
  "language_info": {
   "codemirror_mode": {
    "name": "ipython",
    "version": 3
   },
   "file_extension": ".py",
   "mimetype": "text/x-python",
   "name": "python",
   "nbconvert_exporter": "python",
   "pygments_lexer": "ipython3",
   "version": "3.9.7"
  }
 },
 "nbformat": 4,
 "nbformat_minor": 5
}
