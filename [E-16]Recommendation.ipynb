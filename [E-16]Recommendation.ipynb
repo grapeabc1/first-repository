{
 "cells": [
  {
   "cell_type": "code",
   "execution_count": 1,
   "id": "4bfd28bb",
   "metadata": {},
   "outputs": [],
   "source": [
    "import datetime as dt\n",
    "from pathlib import Path\n",
    "import os\n",
    "\n",
    "import numpy as np\n",
    "import pandas as pd\n",
    "import warnings\n",
    "warnings.filterwarnings('ignore')"
   ]
  },
  {
   "cell_type": "code",
   "execution_count": 2,
   "id": "956f810a",
   "metadata": {},
   "outputs": [
    {
     "name": "stdout",
     "output_type": "stream",
     "text": [
      "1.3.3\n",
      "2.6.0\n"
     ]
    }
   ],
   "source": [
    "import pandas\n",
    "import tensorflow\n",
    "\n",
    "print(pandas.__version__)\n",
    "print(tensorflow.__version__)"
   ]
  },
  {
   "cell_type": "code",
   "execution_count": 3,
   "id": "a62e46ed",
   "metadata": {},
   "outputs": [
    {
     "data": {
      "text/html": [
       "<div>\n",
       "<style scoped>\n",
       "    .dataframe tbody tr th:only-of-type {\n",
       "        vertical-align: middle;\n",
       "    }\n",
       "\n",
       "    .dataframe tbody tr th {\n",
       "        vertical-align: top;\n",
       "    }\n",
       "\n",
       "    .dataframe thead th {\n",
       "        text-align: right;\n",
       "    }\n",
       "</style>\n",
       "<table border=\"1\" class=\"dataframe\">\n",
       "  <thead>\n",
       "    <tr style=\"text-align: right;\">\n",
       "      <th></th>\n",
       "      <th>UserId</th>\n",
       "      <th>ItemId</th>\n",
       "      <th>Rating</th>\n",
       "      <th>Time</th>\n",
       "    </tr>\n",
       "  </thead>\n",
       "  <tbody>\n",
       "    <tr>\n",
       "      <th>31</th>\n",
       "      <td>1</td>\n",
       "      <td>3186</td>\n",
       "      <td>4</td>\n",
       "      <td>978300019</td>\n",
       "    </tr>\n",
       "    <tr>\n",
       "      <th>22</th>\n",
       "      <td>1</td>\n",
       "      <td>1270</td>\n",
       "      <td>5</td>\n",
       "      <td>978300055</td>\n",
       "    </tr>\n",
       "    <tr>\n",
       "      <th>27</th>\n",
       "      <td>1</td>\n",
       "      <td>1721</td>\n",
       "      <td>4</td>\n",
       "      <td>978300055</td>\n",
       "    </tr>\n",
       "    <tr>\n",
       "      <th>37</th>\n",
       "      <td>1</td>\n",
       "      <td>1022</td>\n",
       "      <td>5</td>\n",
       "      <td>978300055</td>\n",
       "    </tr>\n",
       "    <tr>\n",
       "      <th>24</th>\n",
       "      <td>1</td>\n",
       "      <td>2340</td>\n",
       "      <td>3</td>\n",
       "      <td>978300103</td>\n",
       "    </tr>\n",
       "    <tr>\n",
       "      <th>...</th>\n",
       "      <td>...</td>\n",
       "      <td>...</td>\n",
       "      <td>...</td>\n",
       "      <td>...</td>\n",
       "    </tr>\n",
       "    <tr>\n",
       "      <th>1000019</th>\n",
       "      <td>6040</td>\n",
       "      <td>2917</td>\n",
       "      <td>4</td>\n",
       "      <td>997454429</td>\n",
       "    </tr>\n",
       "    <tr>\n",
       "      <th>999988</th>\n",
       "      <td>6040</td>\n",
       "      <td>1921</td>\n",
       "      <td>4</td>\n",
       "      <td>997454464</td>\n",
       "    </tr>\n",
       "    <tr>\n",
       "      <th>1000172</th>\n",
       "      <td>6040</td>\n",
       "      <td>1784</td>\n",
       "      <td>3</td>\n",
       "      <td>997454464</td>\n",
       "    </tr>\n",
       "    <tr>\n",
       "      <th>1000167</th>\n",
       "      <td>6040</td>\n",
       "      <td>161</td>\n",
       "      <td>3</td>\n",
       "      <td>997454486</td>\n",
       "    </tr>\n",
       "    <tr>\n",
       "      <th>1000042</th>\n",
       "      <td>6040</td>\n",
       "      <td>1221</td>\n",
       "      <td>4</td>\n",
       "      <td>998315055</td>\n",
       "    </tr>\n",
       "  </tbody>\n",
       "</table>\n",
       "<p>1000209 rows × 4 columns</p>\n",
       "</div>"
      ],
      "text/plain": [
       "         UserId  ItemId  Rating       Time\n",
       "31            1    3186       4  978300019\n",
       "22            1    1270       5  978300055\n",
       "27            1    1721       4  978300055\n",
       "37            1    1022       5  978300055\n",
       "24            1    2340       3  978300103\n",
       "...         ...     ...     ...        ...\n",
       "1000019    6040    2917       4  997454429\n",
       "999988     6040    1921       4  997454464\n",
       "1000172    6040    1784       3  997454464\n",
       "1000167    6040     161       3  997454486\n",
       "1000042    6040    1221       4  998315055\n",
       "\n",
       "[1000209 rows x 4 columns]"
      ]
     },
     "execution_count": 3,
     "metadata": {},
     "output_type": "execute_result"
    }
   ],
   "source": [
    "data_path = Path(os.getenv('HOME')+'/aiffel/yoochoose/data/') \n",
    "train_path = data_path / 'ratings.dat'\n",
    "\n",
    "def load_data(data_path: Path, nrows=None):\n",
    "    data = pd.read_csv(data_path, sep='::', header=None, usecols=[0, 1, 2, 3], dtype={0: np.int32, 1: np.int32, 2: np.int32}, nrows=nrows)\n",
    "    data.columns = ['UserId', 'ItemId', 'Rating', 'Time']\n",
    "    return data\n",
    "\n",
    "data = load_data(train_path, None)\n",
    "data.sort_values(['UserId', 'Time'], inplace=True)  # data를 id와 시간 순서로 정렬해줍니다.\n",
    "data"
   ]
  },
  {
   "cell_type": "code",
   "execution_count": 4,
   "id": "f4e57294",
   "metadata": {},
   "outputs": [
    {
     "data": {
      "text/plain": [
       "(6040, 3706)"
      ]
     },
     "execution_count": 4,
     "metadata": {},
     "output_type": "execute_result"
    }
   ],
   "source": [
    "# 추천시스템을 구축할 때 가장 먼저 확인해 볼 것은 유저수(세션 수)와 아이템 수\n",
    "\n",
    "data['UserId'].nunique(), data['ItemId'].nunique()\n",
    "\n",
    "# 유저의 숫자가 약 6천 개, 아이템 숫자는 약 4천 개가 됩니다.\n",
    "# 이 수치가 유저의 수가 900만 명이라는 것은 아닙니다. 같은 유저가 여러 개의 세션을 만들 수도 있기 때문"
   ]
  },
  {
   "cell_type": "markdown",
   "id": "2406fbae",
   "metadata": {},
   "source": [
    "#### 여기서 이전 실습 내역과 가장 크게 다른 부분은 바로 SessionID 대신 UserID 항목이 들어갔다는 점입니다. 이 데이터셋은 명확한 1회 세션의 SessionID를 포함하지 않고 있습니다. 그래서 이번에는 UserID가 SessionID 역할을 해야 합니다.\n",
    "\n",
    "#### Rating 정보가 포함되어 있습니다. 이전 실습 내역에서는 이런 항목이 포함되어 있지 않았으므로, 무시하고 제외할 수 있습니다. 하지만, 직전에 봤던 영화가 맘에 들었는지가 비슷한 영화를 더 고르게 하는 것과 상관이 있을 수도 있습니다. 아울러, Rating이 낮은 데이터를 어떻게 처리할지도 고민해야 합니다.\n",
    "\n",
    "#### Time 항목에는 UTC time 가 포함되어, 1970년 1월 1일부터 경과된 초 단위 시간이 기재되어 있습니다.\n",
    "\n",
    "#### 위와 같은 정보를 바탕으로 오늘의 실습과정과 유사한 프로젝트 과정을 진행해 보겠습니다."
   ]
  },
  {
   "cell_type": "markdown",
   "id": "4d4fa556",
   "metadata": {},
   "source": [
    "# Step 1. 데이터의 전처리"
   ]
  },
  {
   "cell_type": "markdown",
   "id": "7394bc1d",
   "metadata": {},
   "source": [
    "### 위와 같이 간단히 구성해 본 데이터셋을 꼼꼼히 살펴보면서 항목별 기본 분석, session length, session time, cleaning 등의 작업을 진행합니다.\n",
    "### 특히, 이 데이터셋에서는 Session이 아닌 UserID 단위로 데이터가 생성되어 있으므로, 이를 Session 단위로 어떻게 해석할지에 주의합니다."
   ]
  },
  {
   "cell_type": "code",
   "execution_count": 5,
   "id": "a90167bf",
   "metadata": {},
   "outputs": [],
   "source": [
    "# Session Length"
   ]
  },
  {
   "cell_type": "code",
   "execution_count": 6,
   "id": "6fd042f0",
   "metadata": {},
   "outputs": [
    {
     "data": {
      "text/plain": [
       "UserId\n",
       "1        53\n",
       "2       129\n",
       "3        51\n",
       "4        21\n",
       "5       198\n",
       "       ... \n",
       "6036    888\n",
       "6037    202\n",
       "6038     20\n",
       "6039    123\n",
       "6040    341\n",
       "Length: 6040, dtype: int64"
      ]
     },
     "execution_count": 6,
     "metadata": {},
     "output_type": "execute_result"
    }
   ],
   "source": [
    "user_length = data.groupby('UserId').size()\n",
    "user_length"
   ]
  },
  {
   "cell_type": "code",
   "execution_count": 7,
   "id": "5a3d2bee",
   "metadata": {},
   "outputs": [
    {
     "data": {
      "text/plain": [
       "(96.0, 165.5975165562914)"
      ]
     },
     "execution_count": 7,
     "metadata": {},
     "output_type": "execute_result"
    }
   ],
   "source": [
    "user_length.median(), user_length.mean()"
   ]
  },
  {
   "cell_type": "code",
   "execution_count": 8,
   "id": "ff92e77e",
   "metadata": {},
   "outputs": [
    {
     "data": {
      "text/plain": [
       "(20, 2314)"
      ]
     },
     "execution_count": 8,
     "metadata": {},
     "output_type": "execute_result"
    }
   ],
   "source": [
    "user_length.min(), user_length.max()"
   ]
  },
  {
   "cell_type": "code",
   "execution_count": 9,
   "id": "01d4c56f",
   "metadata": {},
   "outputs": [
    {
     "data": {
      "text/plain": [
       "1343.181000000005"
      ]
     },
     "execution_count": 9,
     "metadata": {},
     "output_type": "execute_result"
    }
   ],
   "source": [
    "user_length.quantile(0.999)"
   ]
  },
  {
   "cell_type": "code",
   "execution_count": 10,
   "id": "c9704dbf",
   "metadata": {},
   "outputs": [
    {
     "data": {
      "text/html": [
       "<div>\n",
       "<style scoped>\n",
       "    .dataframe tbody tr th:only-of-type {\n",
       "        vertical-align: middle;\n",
       "    }\n",
       "\n",
       "    .dataframe tbody tr th {\n",
       "        vertical-align: top;\n",
       "    }\n",
       "\n",
       "    .dataframe thead th {\n",
       "        text-align: right;\n",
       "    }\n",
       "</style>\n",
       "<table border=\"1\" class=\"dataframe\">\n",
       "  <thead>\n",
       "    <tr style=\"text-align: right;\">\n",
       "      <th></th>\n",
       "      <th>UserId</th>\n",
       "      <th>ItemId</th>\n",
       "      <th>Rating</th>\n",
       "      <th>Time</th>\n",
       "    </tr>\n",
       "  </thead>\n",
       "  <tbody>\n",
       "    <tr>\n",
       "      <th>696969</th>\n",
       "      <td>4169</td>\n",
       "      <td>1268</td>\n",
       "      <td>5</td>\n",
       "      <td>965333392</td>\n",
       "    </tr>\n",
       "    <tr>\n",
       "      <th>697168</th>\n",
       "      <td>4169</td>\n",
       "      <td>2617</td>\n",
       "      <td>4</td>\n",
       "      <td>965333392</td>\n",
       "    </tr>\n",
       "    <tr>\n",
       "      <th>697185</th>\n",
       "      <td>4169</td>\n",
       "      <td>2628</td>\n",
       "      <td>4</td>\n",
       "      <td>965333392</td>\n",
       "    </tr>\n",
       "    <tr>\n",
       "      <th>697219</th>\n",
       "      <td>4169</td>\n",
       "      <td>2653</td>\n",
       "      <td>4</td>\n",
       "      <td>965333392</td>\n",
       "    </tr>\n",
       "    <tr>\n",
       "      <th>697275</th>\n",
       "      <td>4169</td>\n",
       "      <td>423</td>\n",
       "      <td>3</td>\n",
       "      <td>965333392</td>\n",
       "    </tr>\n",
       "    <tr>\n",
       "      <th>...</th>\n",
       "      <td>...</td>\n",
       "      <td>...</td>\n",
       "      <td>...</td>\n",
       "      <td>...</td>\n",
       "    </tr>\n",
       "    <tr>\n",
       "      <th>697882</th>\n",
       "      <td>4169</td>\n",
       "      <td>3754</td>\n",
       "      <td>2</td>\n",
       "      <td>1024174347</td>\n",
       "    </tr>\n",
       "    <tr>\n",
       "      <th>695702</th>\n",
       "      <td>4169</td>\n",
       "      <td>1413</td>\n",
       "      <td>3</td>\n",
       "      <td>1024175031</td>\n",
       "    </tr>\n",
       "    <tr>\n",
       "      <th>697358</th>\n",
       "      <td>4169</td>\n",
       "      <td>494</td>\n",
       "      <td>4</td>\n",
       "      <td>1024175760</td>\n",
       "    </tr>\n",
       "    <tr>\n",
       "      <th>695945</th>\n",
       "      <td>4169</td>\n",
       "      <td>1804</td>\n",
       "      <td>2</td>\n",
       "      <td>1024175783</td>\n",
       "    </tr>\n",
       "    <tr>\n",
       "      <th>696446</th>\n",
       "      <td>4169</td>\n",
       "      <td>1548</td>\n",
       "      <td>3</td>\n",
       "      <td>1024176337</td>\n",
       "    </tr>\n",
       "  </tbody>\n",
       "</table>\n",
       "<p>2314 rows × 4 columns</p>\n",
       "</div>"
      ],
      "text/plain": [
       "        UserId  ItemId  Rating        Time\n",
       "696969    4169    1268       5   965333392\n",
       "697168    4169    2617       4   965333392\n",
       "697185    4169    2628       4   965333392\n",
       "697219    4169    2653       4   965333392\n",
       "697275    4169     423       3   965333392\n",
       "...        ...     ...     ...         ...\n",
       "697882    4169    3754       2  1024174347\n",
       "695702    4169    1413       3  1024175031\n",
       "697358    4169     494       4  1024175760\n",
       "695945    4169    1804       2  1024175783\n",
       "696446    4169    1548       3  1024176337\n",
       "\n",
       "[2314 rows x 4 columns]"
      ]
     },
     "execution_count": 10,
     "metadata": {},
     "output_type": "execute_result"
    }
   ],
   "source": [
    "long_user = user_length[user_length==2314].index[0]\n",
    "data[data['UserId']==long_user]"
   ]
  },
  {
   "cell_type": "code",
   "execution_count": 11,
   "id": "10e9f6dd",
   "metadata": {},
   "outputs": [
    {
     "data": {
      "text/plain": [
       "20      0.014238\n",
       "21      0.029305\n",
       "22      0.042053\n",
       "23      0.055464\n",
       "24      0.068874\n",
       "          ...   \n",
       "1271    0.998179\n",
       "1277    0.998344\n",
       "1286    0.998510\n",
       "1302    0.998675\n",
       "1323    0.998841\n",
       "Length: 736, dtype: float64"
      ]
     },
     "execution_count": 11,
     "metadata": {},
     "output_type": "execute_result"
    }
   ],
   "source": [
    "length_count = user_length.groupby(user_length).size()\n",
    "length_percent_cumsum = length_count.cumsum() / length_count.sum()\n",
    "length_percent_cumsum_999 = length_percent_cumsum[length_percent_cumsum < 0.999]\n",
    "\n",
    "length_percent_cumsum_999"
   ]
  },
  {
   "cell_type": "code",
   "execution_count": 12,
   "id": "8826939c",
   "metadata": {},
   "outputs": [
    {
     "data": {
      "image/png": "[encoded data removed]",
      "text/plain": [
       "<Figure size 4320x720 with 1 Axes>"
      ]
     },
     "metadata": {
      "needs_background": "light"
     },
     "output_type": "display_data"
    }
   ],
   "source": [
    "import matplotlib.pyplot as plt\n",
    "\n",
    "plt.figure(figsize=(60, 10))\n",
    "plt.bar(x=length_percent_cumsum_999.index,\n",
    "        height=length_percent_cumsum_999, color='red')\n",
    "plt.xticks(length_percent_cumsum_999.index)\n",
    "plt.yticks(np.arange(0, 1.01, 0.05))\n",
    "plt.title('Cumsum Percentage Until 0.999', size=20)\n",
    "plt.show()"
   ]
  },
  {
   "cell_type": "code",
   "execution_count": 13,
   "id": "59809a73",
   "metadata": {},
   "outputs": [],
   "source": [
    "# Session time"
   ]
  },
  {
   "cell_type": "code",
   "execution_count": 14,
   "id": "88de83cb",
   "metadata": {},
   "outputs": [
    {
     "name": "stdout",
     "output_type": "stream",
     "text": [
      "956703932\n",
      "1046454590\n"
     ]
    }
   ],
   "source": [
    "oldest, latest = data['Time'].min(), data['Time'].max()\n",
    "print(oldest) \n",
    "print(latest)"
   ]
  },
  {
   "cell_type": "code",
   "execution_count": 15,
   "id": "84d70e9e",
   "metadata": {},
   "outputs": [
    {
     "data": {
      "text/plain": [
       "numpy.int64"
      ]
     },
     "execution_count": 15,
     "metadata": {},
     "output_type": "execute_result"
    }
   ],
   "source": [
    "type(latest)"
   ]
  },
  {
   "cell_type": "code",
   "execution_count": 16,
   "id": "14c1167a",
   "metadata": {},
   "outputs": [
    {
     "data": {
      "text/html": [
       "<div>\n",
       "<style scoped>\n",
       "    .dataframe tbody tr th:only-of-type {\n",
       "        vertical-align: middle;\n",
       "    }\n",
       "\n",
       "    .dataframe tbody tr th {\n",
       "        vertical-align: top;\n",
       "    }\n",
       "\n",
       "    .dataframe thead th {\n",
       "        text-align: right;\n",
       "    }\n",
       "</style>\n",
       "<table border=\"1\" class=\"dataframe\">\n",
       "  <thead>\n",
       "    <tr style=\"text-align: right;\">\n",
       "      <th></th>\n",
       "      <th>UserId</th>\n",
       "      <th>ItemId</th>\n",
       "      <th>Rating</th>\n",
       "      <th>Time</th>\n",
       "    </tr>\n",
       "  </thead>\n",
       "  <tbody>\n",
       "    <tr>\n",
       "      <th>28225</th>\n",
       "      <td>195</td>\n",
       "      <td>2808</td>\n",
       "      <td>3</td>\n",
       "      <td>1044220118</td>\n",
       "    </tr>\n",
       "    <tr>\n",
       "      <th>27759</th>\n",
       "      <td>195</td>\n",
       "      <td>1254</td>\n",
       "      <td>4</td>\n",
       "      <td>1044552222</td>\n",
       "    </tr>\n",
       "    <tr>\n",
       "      <th>27921</th>\n",
       "      <td>195</td>\n",
       "      <td>1456</td>\n",
       "      <td>2</td>\n",
       "      <td>1044662852</td>\n",
       "    </tr>\n",
       "    <tr>\n",
       "      <th>28443</th>\n",
       "      <td>195</td>\n",
       "      <td>468</td>\n",
       "      <td>3</td>\n",
       "      <td>1044985356</td>\n",
       "    </tr>\n",
       "    <tr>\n",
       "      <th>28255</th>\n",
       "      <td>195</td>\n",
       "      <td>2748</td>\n",
       "      <td>1</td>\n",
       "      <td>1044987808</td>\n",
       "    </tr>\n",
       "    <tr>\n",
       "      <th>...</th>\n",
       "      <td>...</td>\n",
       "      <td>...</td>\n",
       "      <td>...</td>\n",
       "      <td>...</td>\n",
       "    </tr>\n",
       "    <tr>\n",
       "      <th>984731</th>\n",
       "      <td>5950</td>\n",
       "      <td>3948</td>\n",
       "      <td>4</td>\n",
       "      <td>1046369637</td>\n",
       "    </tr>\n",
       "    <tr>\n",
       "      <th>984682</th>\n",
       "      <td>5950</td>\n",
       "      <td>3578</td>\n",
       "      <td>4</td>\n",
       "      <td>1046369670</td>\n",
       "    </tr>\n",
       "    <tr>\n",
       "      <th>984475</th>\n",
       "      <td>5950</td>\n",
       "      <td>3793</td>\n",
       "      <td>3</td>\n",
       "      <td>1046369710</td>\n",
       "    </tr>\n",
       "    <tr>\n",
       "      <th>984660</th>\n",
       "      <td>5950</td>\n",
       "      <td>3555</td>\n",
       "      <td>2</td>\n",
       "      <td>1046369737</td>\n",
       "    </tr>\n",
       "    <tr>\n",
       "      <th>984733</th>\n",
       "      <td>5950</td>\n",
       "      <td>1262</td>\n",
       "      <td>4</td>\n",
       "      <td>1046369858</td>\n",
       "    </tr>\n",
       "  </tbody>\n",
       "</table>\n",
       "<p>1551 rows × 4 columns</p>\n",
       "</div>"
      ],
      "text/plain": [
       "        UserId  ItemId  Rating        Time\n",
       "28225      195    2808       3  1044220118\n",
       "27759      195    1254       4  1044552222\n",
       "27921      195    1456       2  1044662852\n",
       "28443      195     468       3  1044985356\n",
       "28255      195    2748       1  1044987808\n",
       "...        ...     ...     ...         ...\n",
       "984731    5950    3948       4  1046369637\n",
       "984682    5950    3578       4  1046369670\n",
       "984475    5950    3793       3  1046369710\n",
       "984660    5950    3555       2  1046369737\n",
       "984733    5950    1262       4  1046369858\n",
       "\n",
       "[1551 rows x 4 columns]"
      ]
     },
     "execution_count": 16,
     "metadata": {},
     "output_type": "execute_result"
    }
   ],
   "source": [
    "month_ago = latest - (86400*30)\n",
    "#month_ago = latest - (86400*30) #최종 날짜로부터 30일 이전 날짜를 구한다.  \n",
    "data = data[data['Time'] > month_ago]   # 방금 구한 날짜 이후의 데이터만 모은다. \n",
    "data"
   ]
  },
  {
   "cell_type": "code",
   "execution_count": 17,
   "id": "36db2a29",
   "metadata": {},
   "outputs": [
    {
     "data": {
      "text/plain": [
       "1044220118"
      ]
     },
     "execution_count": 17,
     "metadata": {},
     "output_type": "execute_result"
    }
   ],
   "source": [
    "aa = data.iloc[0,3]\n",
    "aa"
   ]
  },
  {
   "cell_type": "code",
   "execution_count": 18,
   "id": "d149fb67",
   "metadata": {},
   "outputs": [
    {
     "data": {
      "text/html": [
       "<div>\n",
       "<style scoped>\n",
       "    .dataframe tbody tr th:only-of-type {\n",
       "        vertical-align: middle;\n",
       "    }\n",
       "\n",
       "    .dataframe tbody tr th {\n",
       "        vertical-align: top;\n",
       "    }\n",
       "\n",
       "    .dataframe thead th {\n",
       "        text-align: right;\n",
       "    }\n",
       "</style>\n",
       "<table border=\"1\" class=\"dataframe\">\n",
       "  <thead>\n",
       "    <tr style=\"text-align: right;\">\n",
       "      <th></th>\n",
       "      <th>UserId</th>\n",
       "      <th>ItemId</th>\n",
       "      <th>Rating</th>\n",
       "      <th>Time</th>\n",
       "    </tr>\n",
       "  </thead>\n",
       "  <tbody>\n",
       "    <tr>\n",
       "      <th>28225</th>\n",
       "      <td>195</td>\n",
       "      <td>2808</td>\n",
       "      <td>3</td>\n",
       "      <td>1044220118</td>\n",
       "    </tr>\n",
       "    <tr>\n",
       "      <th>27759</th>\n",
       "      <td>195</td>\n",
       "      <td>1254</td>\n",
       "      <td>4</td>\n",
       "      <td>1044552222</td>\n",
       "    </tr>\n",
       "    <tr>\n",
       "      <th>27921</th>\n",
       "      <td>195</td>\n",
       "      <td>1456</td>\n",
       "      <td>2</td>\n",
       "      <td>1044662852</td>\n",
       "    </tr>\n",
       "    <tr>\n",
       "      <th>28443</th>\n",
       "      <td>195</td>\n",
       "      <td>468</td>\n",
       "      <td>3</td>\n",
       "      <td>1044985356</td>\n",
       "    </tr>\n",
       "    <tr>\n",
       "      <th>28255</th>\n",
       "      <td>195</td>\n",
       "      <td>2748</td>\n",
       "      <td>1</td>\n",
       "      <td>1044987808</td>\n",
       "    </tr>\n",
       "    <tr>\n",
       "      <th>...</th>\n",
       "      <td>...</td>\n",
       "      <td>...</td>\n",
       "      <td>...</td>\n",
       "      <td>...</td>\n",
       "    </tr>\n",
       "    <tr>\n",
       "      <th>984731</th>\n",
       "      <td>5950</td>\n",
       "      <td>3948</td>\n",
       "      <td>4</td>\n",
       "      <td>1046369637</td>\n",
       "    </tr>\n",
       "    <tr>\n",
       "      <th>984682</th>\n",
       "      <td>5950</td>\n",
       "      <td>3578</td>\n",
       "      <td>4</td>\n",
       "      <td>1046369670</td>\n",
       "    </tr>\n",
       "    <tr>\n",
       "      <th>984475</th>\n",
       "      <td>5950</td>\n",
       "      <td>3793</td>\n",
       "      <td>3</td>\n",
       "      <td>1046369710</td>\n",
       "    </tr>\n",
       "    <tr>\n",
       "      <th>984660</th>\n",
       "      <td>5950</td>\n",
       "      <td>3555</td>\n",
       "      <td>2</td>\n",
       "      <td>1046369737</td>\n",
       "    </tr>\n",
       "    <tr>\n",
       "      <th>984733</th>\n",
       "      <td>5950</td>\n",
       "      <td>1262</td>\n",
       "      <td>4</td>\n",
       "      <td>1046369858</td>\n",
       "    </tr>\n",
       "  </tbody>\n",
       "</table>\n",
       "<p>1551 rows × 4 columns</p>\n",
       "</div>"
      ],
      "text/plain": [
       "        UserId  ItemId  Rating        Time\n",
       "28225      195    2808       3  1044220118\n",
       "27759      195    1254       4  1044552222\n",
       "27921      195    1456       2  1044662852\n",
       "28443      195     468       3  1044985356\n",
       "28255      195    2748       1  1044987808\n",
       "...        ...     ...     ...         ...\n",
       "984731    5950    3948       4  1046369637\n",
       "984682    5950    3578       4  1046369670\n",
       "984475    5950    3793       3  1046369710\n",
       "984660    5950    3555       2  1046369737\n",
       "984733    5950    1262       4  1046369858\n",
       "\n",
       "[1551 rows x 4 columns]"
      ]
     },
     "execution_count": 18,
     "metadata": {},
     "output_type": "execute_result"
    }
   ],
   "source": [
    "data"
   ]
  },
  {
   "cell_type": "code",
   "execution_count": 19,
   "id": "cdd22d78",
   "metadata": {},
   "outputs": [],
   "source": [
    "for i in range(len(data)):\n",
    "    timestamp = data.iloc[i,3]\n",
    "    datetimeobj = dt.datetime.fromtimestamp(timestamp/1000)\n",
    "    data.iloc[i,3] = datetimeobj"
   ]
  },
  {
   "cell_type": "code",
   "execution_count": 20,
   "id": "ac3b1d4d",
   "metadata": {},
   "outputs": [
    {
     "data": {
      "text/plain": [
       "datetime.datetime"
      ]
     },
     "execution_count": 20,
     "metadata": {},
     "output_type": "execute_result"
    }
   ],
   "source": [
    "type(data.iloc[0,3])"
   ]
  },
  {
   "cell_type": "code",
   "execution_count": 21,
   "id": "cf058419",
   "metadata": {},
   "outputs": [
    {
     "ename": "TypeError",
     "evalue": "unsupported operand type(s) for /: 'datetime.datetime' and 'int'",
     "output_type": "error",
     "traceback": [
      "\u001b[0;31m---------------------------------------------------------------------------\u001b[0m",
      "\u001b[0;31mTypeError\u001b[0m                                 Traceback (most recent call last)",
      "\u001b[0;32m/tmp/ipykernel_31/2147668987.py\u001b[0m in \u001b[0;36m<module>\u001b[0;34m\u001b[0m\n\u001b[1;32m      1\u001b[0m \u001b[0mtimestamp\u001b[0m \u001b[0;34m=\u001b[0m \u001b[0mdata\u001b[0m\u001b[0;34m.\u001b[0m\u001b[0miloc\u001b[0m\u001b[0;34m[\u001b[0m\u001b[0;36m0\u001b[0m\u001b[0;34m,\u001b[0m\u001b[0;36m3\u001b[0m\u001b[0;34m]\u001b[0m\u001b[0;34m\u001b[0m\u001b[0;34m\u001b[0m\u001b[0m\n\u001b[0;32m----> 2\u001b[0;31m \u001b[0mdatetimeobj\u001b[0m \u001b[0;34m=\u001b[0m \u001b[0mdt\u001b[0m\u001b[0;34m.\u001b[0m\u001b[0mdatetime\u001b[0m\u001b[0;34m.\u001b[0m\u001b[0mfromtimestamp\u001b[0m\u001b[0;34m(\u001b[0m\u001b[0mtimestamp\u001b[0m\u001b[0;34m/\u001b[0m\u001b[0;36m1000\u001b[0m\u001b[0;34m)\u001b[0m\u001b[0;34m\u001b[0m\u001b[0;34m\u001b[0m\u001b[0m\n\u001b[0m\u001b[1;32m      3\u001b[0m \u001b[0mdatetimeobj\u001b[0m\u001b[0;34m\u001b[0m\u001b[0;34m\u001b[0m\u001b[0m\n",
      "\u001b[0;31mTypeError\u001b[0m: unsupported operand type(s) for /: 'datetime.datetime' and 'int'"
     ]
    }
   ],
   "source": [
    "timestamp = data.iloc[0,3]\n",
    "datetimeobj = dt.datetime.fromtimestamp(timestamp/1000)\n",
    "datetimeobj"
   ]
  },
  {
   "cell_type": "code",
   "execution_count": 22,
   "id": "f33c5b9c",
   "metadata": {},
   "outputs": [
    {
     "data": {
      "text/plain": [
       "datetime.datetime(2016, 5, 17, 4, 55, 58)"
      ]
     },
     "execution_count": 22,
     "metadata": {},
     "output_type": "execute_result"
    }
   ],
   "source": [
    "timestamp = 1463460958000 \n",
    "datetimeobj = dt.datetime.fromtimestamp(timestamp/1000)\n",
    "datetimeobj"
   ]
  },
  {
   "cell_type": "code",
   "execution_count": 23,
   "id": "85b2ea63",
   "metadata": {},
   "outputs": [
    {
     "data": {
      "text/plain": [
       "int"
      ]
     },
     "execution_count": 23,
     "metadata": {},
     "output_type": "execute_result"
    }
   ],
   "source": [
    "type(timestamp)"
   ]
  },
  {
   "cell_type": "code",
   "execution_count": null,
   "id": "7a9e84dd",
   "metadata": {},
   "outputs": [],
   "source": []
  },
  {
   "cell_type": "code",
   "execution_count": null,
   "id": "214b2998",
   "metadata": {},
   "outputs": [],
   "source": []
  },
  {
   "cell_type": "code",
   "execution_count": null,
   "id": "786c4299",
   "metadata": {},
   "outputs": [],
   "source": []
  },
  {
   "cell_type": "code",
   "execution_count": null,
   "id": "e28a9a30",
   "metadata": {},
   "outputs": [],
   "source": []
  },
  {
   "cell_type": "code",
   "execution_count": 24,
   "id": "e376216f",
   "metadata": {},
   "outputs": [],
   "source": [
    "# Data Cleansing"
   ]
  },
  {
   "cell_type": "code",
   "execution_count": 25,
   "id": "c9eaf1f3",
   "metadata": {},
   "outputs": [],
   "source": [
    "def cleanse_recursive(data: pd.DataFrame, shortest, least_click) -> pd.DataFrame:\n",
    "    while True:\n",
    "        before_len = len(data)\n",
    "        data = cleanse_short_user(data, shortest)\n",
    "        data = cleanse_unpopular_item(data, least_click)\n",
    "        after_len = len(data)\n",
    "        if before_len == after_len:\n",
    "            break\n",
    "    return data\n",
    "\n",
    "\n",
    "def cleanse_short_user(data: pd.DataFrame, shortest):\n",
    "    user_len = data.groupby('UserId').size()\n",
    "    user_use = user_len[user_len >= shortest].index\n",
    "    data = data[data['UserId'].isin(user_use)]\n",
    "    return data\n",
    "\n",
    "\n",
    "def cleanse_unpopular_item(data: pd.DataFrame, least_click):\n",
    "    item_popular = data.groupby('ItemId').size()\n",
    "    item_use = item_popular[item_popular >= least_click].index\n",
    "    data = data[data['ItemId'].isin(item_use)]\n",
    "    return data"
   ]
  },
  {
   "cell_type": "code",
   "execution_count": 26,
   "id": "5eb84b59",
   "metadata": {},
   "outputs": [
    {
     "data": {
      "text/html": [
       "<div>\n",
       "<style scoped>\n",
       "    .dataframe tbody tr th:only-of-type {\n",
       "        vertical-align: middle;\n",
       "    }\n",
       "\n",
       "    .dataframe tbody tr th {\n",
       "        vertical-align: top;\n",
       "    }\n",
       "\n",
       "    .dataframe thead th {\n",
       "        text-align: right;\n",
       "    }\n",
       "</style>\n",
       "<table border=\"1\" class=\"dataframe\">\n",
       "  <thead>\n",
       "    <tr style=\"text-align: right;\">\n",
       "      <th></th>\n",
       "      <th>UserId</th>\n",
       "      <th>ItemId</th>\n",
       "      <th>Rating</th>\n",
       "      <th>Time</th>\n",
       "    </tr>\n",
       "  </thead>\n",
       "  <tbody>\n",
       "    <tr>\n",
       "      <th>58836</th>\n",
       "      <td>398</td>\n",
       "      <td>2028</td>\n",
       "      <td>4</td>\n",
       "      <td>1970-01-13 02:09:25.425000</td>\n",
       "    </tr>\n",
       "    <tr>\n",
       "      <th>58784</th>\n",
       "      <td>398</td>\n",
       "      <td>2762</td>\n",
       "      <td>5</td>\n",
       "      <td>1970-01-13 02:09:25.753000</td>\n",
       "    </tr>\n",
       "    <tr>\n",
       "      <th>58730</th>\n",
       "      <td>398</td>\n",
       "      <td>2628</td>\n",
       "      <td>3</td>\n",
       "      <td>1970-01-13 02:09:26.296000</td>\n",
       "    </tr>\n",
       "    <tr>\n",
       "      <th>58837</th>\n",
       "      <td>398</td>\n",
       "      <td>3697</td>\n",
       "      <td>2</td>\n",
       "      <td>1970-01-13 02:09:26.464000</td>\n",
       "    </tr>\n",
       "    <tr>\n",
       "      <th>58645</th>\n",
       "      <td>398</td>\n",
       "      <td>1196</td>\n",
       "      <td>4</td>\n",
       "      <td>1970-01-13 02:09:27.541000</td>\n",
       "    </tr>\n",
       "    <tr>\n",
       "      <th>62105</th>\n",
       "      <td>419</td>\n",
       "      <td>2424</td>\n",
       "      <td>4</td>\n",
       "      <td>1970-01-13 02:15:00.624000</td>\n",
       "    </tr>\n",
       "    <tr>\n",
       "      <th>62170</th>\n",
       "      <td>419</td>\n",
       "      <td>2028</td>\n",
       "      <td>5</td>\n",
       "      <td>1970-01-13 02:15:00.801000</td>\n",
       "    </tr>\n",
       "    <tr>\n",
       "      <th>62078</th>\n",
       "      <td>419</td>\n",
       "      <td>1196</td>\n",
       "      <td>5</td>\n",
       "      <td>1970-01-13 02:15:00.920000</td>\n",
       "    </tr>\n",
       "    <tr>\n",
       "      <th>62145</th>\n",
       "      <td>419</td>\n",
       "      <td>2762</td>\n",
       "      <td>5</td>\n",
       "      <td>1970-01-13 02:15:01.328000</td>\n",
       "    </tr>\n",
       "    <tr>\n",
       "      <th>62071</th>\n",
       "      <td>419</td>\n",
       "      <td>3793</td>\n",
       "      <td>4</td>\n",
       "      <td>1970-01-13 02:15:01.354000</td>\n",
       "    </tr>\n",
       "    <tr>\n",
       "      <th>113619</th>\n",
       "      <td>736</td>\n",
       "      <td>2762</td>\n",
       "      <td>5</td>\n",
       "      <td>1970-01-13 02:28:30.296000</td>\n",
       "    </tr>\n",
       "    <tr>\n",
       "      <th>113549</th>\n",
       "      <td>736</td>\n",
       "      <td>2628</td>\n",
       "      <td>3</td>\n",
       "      <td>1970-01-13 02:28:30.520000</td>\n",
       "    </tr>\n",
       "    <tr>\n",
       "      <th>113575</th>\n",
       "      <td>736</td>\n",
       "      <td>1196</td>\n",
       "      <td>5</td>\n",
       "      <td>1970-01-13 02:28:30.520000</td>\n",
       "    </tr>\n",
       "    <tr>\n",
       "      <th>113572</th>\n",
       "      <td>736</td>\n",
       "      <td>3697</td>\n",
       "      <td>3</td>\n",
       "      <td>1970-01-13 02:28:31.262000</td>\n",
       "    </tr>\n",
       "    <tr>\n",
       "      <th>113640</th>\n",
       "      <td>736</td>\n",
       "      <td>2028</td>\n",
       "      <td>5</td>\n",
       "      <td>1970-01-13 02:28:31.573000</td>\n",
       "    </tr>\n",
       "    <tr>\n",
       "      <th>489201</th>\n",
       "      <td>3012</td>\n",
       "      <td>3697</td>\n",
       "      <td>3</td>\n",
       "      <td>1970-01-13 02:01:07.155000</td>\n",
       "    </tr>\n",
       "    <tr>\n",
       "      <th>489371</th>\n",
       "      <td>3012</td>\n",
       "      <td>2028</td>\n",
       "      <td>4</td>\n",
       "      <td>1970-01-13 02:01:07.247000</td>\n",
       "    </tr>\n",
       "    <tr>\n",
       "      <th>489325</th>\n",
       "      <td>3012</td>\n",
       "      <td>2762</td>\n",
       "      <td>4</td>\n",
       "      <td>1970-01-13 02:01:07.248000</td>\n",
       "    </tr>\n",
       "    <tr>\n",
       "      <th>489149</th>\n",
       "      <td>3012</td>\n",
       "      <td>2628</td>\n",
       "      <td>2</td>\n",
       "      <td>1970-01-13 02:01:07.403000</td>\n",
       "    </tr>\n",
       "    <tr>\n",
       "      <th>489074</th>\n",
       "      <td>3012</td>\n",
       "      <td>3793</td>\n",
       "      <td>3</td>\n",
       "      <td>1970-01-13 02:01:07.578000</td>\n",
       "    </tr>\n",
       "    <tr>\n",
       "      <th>489120</th>\n",
       "      <td>3012</td>\n",
       "      <td>2424</td>\n",
       "      <td>1</td>\n",
       "      <td>1970-01-13 02:01:07.578000</td>\n",
       "    </tr>\n",
       "    <tr>\n",
       "      <th>550085</th>\n",
       "      <td>3391</td>\n",
       "      <td>3697</td>\n",
       "      <td>2</td>\n",
       "      <td>1970-01-13 02:36:29.972000</td>\n",
       "    </tr>\n",
       "    <tr>\n",
       "      <th>549788</th>\n",
       "      <td>3391</td>\n",
       "      <td>2424</td>\n",
       "      <td>4</td>\n",
       "      <td>1970-01-13 02:36:39.975000</td>\n",
       "    </tr>\n",
       "    <tr>\n",
       "      <th>637540</th>\n",
       "      <td>3840</td>\n",
       "      <td>1196</td>\n",
       "      <td>3</td>\n",
       "      <td>1970-01-13 02:35:06.127000</td>\n",
       "    </tr>\n",
       "    <tr>\n",
       "      <th>637529</th>\n",
       "      <td>3840</td>\n",
       "      <td>2628</td>\n",
       "      <td>3</td>\n",
       "      <td>1970-01-13 02:35:07.231000</td>\n",
       "    </tr>\n",
       "    <tr>\n",
       "      <th>637525</th>\n",
       "      <td>3840</td>\n",
       "      <td>2424</td>\n",
       "      <td>3</td>\n",
       "      <td>1970-01-13 02:35:15.337000</td>\n",
       "    </tr>\n",
       "    <tr>\n",
       "      <th>859972</th>\n",
       "      <td>5172</td>\n",
       "      <td>3793</td>\n",
       "      <td>2</td>\n",
       "      <td>1970-01-13 02:02:32.585000</td>\n",
       "    </tr>\n",
       "    <tr>\n",
       "      <th>860022</th>\n",
       "      <td>5172</td>\n",
       "      <td>2424</td>\n",
       "      <td>3</td>\n",
       "      <td>1970-01-13 02:02:33.323000</td>\n",
       "    </tr>\n",
       "    <tr>\n",
       "      <th>860284</th>\n",
       "      <td>5172</td>\n",
       "      <td>2628</td>\n",
       "      <td>2</td>\n",
       "      <td>1970-01-13 02:02:34.030000</td>\n",
       "    </tr>\n",
       "    <tr>\n",
       "      <th>906653</th>\n",
       "      <td>5484</td>\n",
       "      <td>3697</td>\n",
       "      <td>4</td>\n",
       "      <td>1970-01-13 02:23:59.989000</td>\n",
       "    </tr>\n",
       "    <tr>\n",
       "      <th>906672</th>\n",
       "      <td>5484</td>\n",
       "      <td>2028</td>\n",
       "      <td>5</td>\n",
       "      <td>1970-01-13 02:24:00.283000</td>\n",
       "    </tr>\n",
       "    <tr>\n",
       "      <th>906596</th>\n",
       "      <td>5484</td>\n",
       "      <td>3793</td>\n",
       "      <td>5</td>\n",
       "      <td>1970-01-13 02:24:00.518000</td>\n",
       "    </tr>\n",
       "    <tr>\n",
       "      <th>906667</th>\n",
       "      <td>5484</td>\n",
       "      <td>2762</td>\n",
       "      <td>5</td>\n",
       "      <td>1970-01-13 02:31:02.546000</td>\n",
       "    </tr>\n",
       "    <tr>\n",
       "      <th>984590</th>\n",
       "      <td>5950</td>\n",
       "      <td>1196</td>\n",
       "      <td>4</td>\n",
       "      <td>1970-01-13 02:39:28.417000</td>\n",
       "    </tr>\n",
       "    <tr>\n",
       "      <th>984475</th>\n",
       "      <td>5950</td>\n",
       "      <td>3793</td>\n",
       "      <td>3</td>\n",
       "      <td>1970-01-13 02:39:29.710000</td>\n",
       "    </tr>\n",
       "  </tbody>\n",
       "</table>\n",
       "</div>"
      ],
      "text/plain": [
       "        UserId  ItemId  Rating                        Time\n",
       "58836      398    2028       4  1970-01-13 02:09:25.425000\n",
       "58784      398    2762       5  1970-01-13 02:09:25.753000\n",
       "58730      398    2628       3  1970-01-13 02:09:26.296000\n",
       "58837      398    3697       2  1970-01-13 02:09:26.464000\n",
       "58645      398    1196       4  1970-01-13 02:09:27.541000\n",
       "62105      419    2424       4  1970-01-13 02:15:00.624000\n",
       "62170      419    2028       5  1970-01-13 02:15:00.801000\n",
       "62078      419    1196       5  1970-01-13 02:15:00.920000\n",
       "62145      419    2762       5  1970-01-13 02:15:01.328000\n",
       "62071      419    3793       4  1970-01-13 02:15:01.354000\n",
       "113619     736    2762       5  1970-01-13 02:28:30.296000\n",
       "113549     736    2628       3  1970-01-13 02:28:30.520000\n",
       "113575     736    1196       5  1970-01-13 02:28:30.520000\n",
       "113572     736    3697       3  1970-01-13 02:28:31.262000\n",
       "113640     736    2028       5  1970-01-13 02:28:31.573000\n",
       "489201    3012    3697       3  1970-01-13 02:01:07.155000\n",
       "489371    3012    2028       4  1970-01-13 02:01:07.247000\n",
       "489325    3012    2762       4  1970-01-13 02:01:07.248000\n",
       "489149    3012    2628       2  1970-01-13 02:01:07.403000\n",
       "489074    3012    3793       3  1970-01-13 02:01:07.578000\n",
       "489120    3012    2424       1  1970-01-13 02:01:07.578000\n",
       "550085    3391    3697       2  1970-01-13 02:36:29.972000\n",
       "549788    3391    2424       4  1970-01-13 02:36:39.975000\n",
       "637540    3840    1196       3  1970-01-13 02:35:06.127000\n",
       "637529    3840    2628       3  1970-01-13 02:35:07.231000\n",
       "637525    3840    2424       3  1970-01-13 02:35:15.337000\n",
       "859972    5172    3793       2  1970-01-13 02:02:32.585000\n",
       "860022    5172    2424       3  1970-01-13 02:02:33.323000\n",
       "860284    5172    2628       2  1970-01-13 02:02:34.030000\n",
       "906653    5484    3697       4  1970-01-13 02:23:59.989000\n",
       "906672    5484    2028       5  1970-01-13 02:24:00.283000\n",
       "906596    5484    3793       5  1970-01-13 02:24:00.518000\n",
       "906667    5484    2762       5  1970-01-13 02:31:02.546000\n",
       "984590    5950    1196       4  1970-01-13 02:39:28.417000\n",
       "984475    5950    3793       3  1970-01-13 02:39:29.710000"
      ]
     },
     "execution_count": 26,
     "metadata": {},
     "output_type": "execute_result"
    }
   ],
   "source": [
    "data = cleanse_recursive(data, shortest=2, least_click=5)\n",
    "data"
   ]
  },
  {
   "cell_type": "code",
   "execution_count": 27,
   "id": "4d250bf1",
   "metadata": {},
   "outputs": [],
   "source": [
    "# Train / Valid / Test split"
   ]
  },
  {
   "cell_type": "code",
   "execution_count": 28,
   "id": "3bd73031",
   "metadata": {},
   "outputs": [
    {
     "data": {
      "text/plain": [
       "(956703932, 1046454590)"
      ]
     },
     "execution_count": 28,
     "metadata": {},
     "output_type": "execute_result"
    }
   ],
   "source": [
    "test_path = data_path / 'ratings.dat'\n",
    "test= load_data(test_path)\n",
    "test['Time'].min(), test['Time'].max()"
   ]
  },
  {
   "cell_type": "code",
   "execution_count": 29,
   "id": "7f12180f",
   "metadata": {},
   "outputs": [],
   "source": [
    "def split_by_date(data: pd.DataFrame, n_days: int):\n",
    "    final_time = dt.datetime.fromtimestamp(data['Time'].max()/1000)\n",
    "    user_last_time = data.groupby('UserId')['Time'].max()\n",
    "    user_in_train = dt.datetime.fromtimestamp(user_last_time/1000)[dt.datetime.fromtimestamp(user_last_time/1000) < dt.datetime.fromtimestamp(final_time/1000) - dt.timedelta(n_days)].index\n",
    "    user_in_test = dt.datetime.fromtimestamp(user_last_time/1000)[dt.datetime.fromtimestamp(user_last_time/1000) >= dt.datetime.fromtimestamp(final_time/1000) - dt.timedelta(n_days)].index\n",
    "\n",
    "    before_date = data[data['UserId'].isin(user_in_train)]\n",
    "    after_date = data[data['UserId'].isin(user_in_test)]\n",
    "    after_date = after_date[after_date['ItemId'].isin(before_date['ItemId'])]\n",
    "    return before_date, after_date"
   ]
  },
  {
   "cell_type": "code",
   "execution_count": 30,
   "id": "0251bce1",
   "metadata": {},
   "outputs": [
    {
     "ename": "TypeError",
     "evalue": "unsupported operand type(s) for /: 'datetime.datetime' and 'int'",
     "output_type": "error",
     "traceback": [
      "\u001b[0;31m---------------------------------------------------------------------------\u001b[0m",
      "\u001b[0;31mTypeError\u001b[0m                                 Traceback (most recent call last)",
      "\u001b[0;32m/tmp/ipykernel_31/123098451.py\u001b[0m in \u001b[0;36m<module>\u001b[0;34m\u001b[0m\n\u001b[0;32m----> 1\u001b[0;31m \u001b[0mtr\u001b[0m\u001b[0;34m,\u001b[0m \u001b[0mtest\u001b[0m \u001b[0;34m=\u001b[0m \u001b[0msplit_by_date\u001b[0m\u001b[0;34m(\u001b[0m\u001b[0mdata\u001b[0m\u001b[0;34m,\u001b[0m \u001b[0mn_days\u001b[0m\u001b[0;34m=\u001b[0m\u001b[0;36m1\u001b[0m\u001b[0;34m)\u001b[0m\u001b[0;34m\u001b[0m\u001b[0;34m\u001b[0m\u001b[0m\n\u001b[0m\u001b[1;32m      2\u001b[0m \u001b[0mtr\u001b[0m\u001b[0;34m,\u001b[0m \u001b[0mval\u001b[0m \u001b[0;34m=\u001b[0m \u001b[0msplit_by_date\u001b[0m\u001b[0;34m(\u001b[0m\u001b[0mtr\u001b[0m\u001b[0;34m,\u001b[0m \u001b[0mn_days\u001b[0m\u001b[0;34m=\u001b[0m\u001b[0;36m1\u001b[0m\u001b[0;34m)\u001b[0m\u001b[0;34m\u001b[0m\u001b[0;34m\u001b[0m\u001b[0m\n",
      "\u001b[0;32m/tmp/ipykernel_31/1555720313.py\u001b[0m in \u001b[0;36msplit_by_date\u001b[0;34m(data, n_days)\u001b[0m\n\u001b[1;32m      1\u001b[0m \u001b[0;32mdef\u001b[0m \u001b[0msplit_by_date\u001b[0m\u001b[0;34m(\u001b[0m\u001b[0mdata\u001b[0m\u001b[0;34m:\u001b[0m \u001b[0mpd\u001b[0m\u001b[0;34m.\u001b[0m\u001b[0mDataFrame\u001b[0m\u001b[0;34m,\u001b[0m \u001b[0mn_days\u001b[0m\u001b[0;34m:\u001b[0m \u001b[0mint\u001b[0m\u001b[0;34m)\u001b[0m\u001b[0;34m:\u001b[0m\u001b[0;34m\u001b[0m\u001b[0;34m\u001b[0m\u001b[0m\n\u001b[0;32m----> 2\u001b[0;31m     \u001b[0mfinal_time\u001b[0m \u001b[0;34m=\u001b[0m \u001b[0mdt\u001b[0m\u001b[0;34m.\u001b[0m\u001b[0mdatetime\u001b[0m\u001b[0;34m.\u001b[0m\u001b[0mfromtimestamp\u001b[0m\u001b[0;34m(\u001b[0m\u001b[0mdata\u001b[0m\u001b[0;34m[\u001b[0m\u001b[0;34m'Time'\u001b[0m\u001b[0;34m]\u001b[0m\u001b[0;34m.\u001b[0m\u001b[0mmax\u001b[0m\u001b[0;34m(\u001b[0m\u001b[0;34m)\u001b[0m\u001b[0;34m/\u001b[0m\u001b[0;36m1000\u001b[0m\u001b[0;34m)\u001b[0m\u001b[0;34m\u001b[0m\u001b[0;34m\u001b[0m\u001b[0m\n\u001b[0m\u001b[1;32m      3\u001b[0m     \u001b[0muser_last_time\u001b[0m \u001b[0;34m=\u001b[0m \u001b[0mdata\u001b[0m\u001b[0;34m.\u001b[0m\u001b[0mgroupby\u001b[0m\u001b[0;34m(\u001b[0m\u001b[0;34m'UserId'\u001b[0m\u001b[0;34m)\u001b[0m\u001b[0;34m[\u001b[0m\u001b[0;34m'Time'\u001b[0m\u001b[0;34m]\u001b[0m\u001b[0;34m.\u001b[0m\u001b[0mmax\u001b[0m\u001b[0;34m(\u001b[0m\u001b[0;34m)\u001b[0m\u001b[0;34m\u001b[0m\u001b[0;34m\u001b[0m\u001b[0m\n\u001b[1;32m      4\u001b[0m     \u001b[0muser_in_train\u001b[0m \u001b[0;34m=\u001b[0m \u001b[0mdt\u001b[0m\u001b[0;34m.\u001b[0m\u001b[0mdatetime\u001b[0m\u001b[0;34m.\u001b[0m\u001b[0mfromtimestamp\u001b[0m\u001b[0;34m(\u001b[0m\u001b[0muser_last_time\u001b[0m\u001b[0;34m/\u001b[0m\u001b[0;36m1000\u001b[0m\u001b[0;34m)\u001b[0m\u001b[0;34m[\u001b[0m\u001b[0mdt\u001b[0m\u001b[0;34m.\u001b[0m\u001b[0mdatetime\u001b[0m\u001b[0;34m.\u001b[0m\u001b[0mfromtimestamp\u001b[0m\u001b[0;34m(\u001b[0m\u001b[0muser_last_time\u001b[0m\u001b[0;34m/\u001b[0m\u001b[0;36m1000\u001b[0m\u001b[0;34m)\u001b[0m \u001b[0;34m<\u001b[0m \u001b[0mdt\u001b[0m\u001b[0;34m.\u001b[0m\u001b[0mdatetime\u001b[0m\u001b[0;34m.\u001b[0m\u001b[0mfromtimestamp\u001b[0m\u001b[0;34m(\u001b[0m\u001b[0mfinal_time\u001b[0m\u001b[0;34m/\u001b[0m\u001b[0;36m1000\u001b[0m\u001b[0;34m)\u001b[0m \u001b[0;34m-\u001b[0m \u001b[0mdt\u001b[0m\u001b[0;34m.\u001b[0m\u001b[0mtimedelta\u001b[0m\u001b[0;34m(\u001b[0m\u001b[0mn_days\u001b[0m\u001b[0;34m)\u001b[0m\u001b[0;34m]\u001b[0m\u001b[0;34m.\u001b[0m\u001b[0mindex\u001b[0m\u001b[0;34m\u001b[0m\u001b[0;34m\u001b[0m\u001b[0m\n\u001b[1;32m      5\u001b[0m     \u001b[0muser_in_test\u001b[0m \u001b[0;34m=\u001b[0m \u001b[0mdt\u001b[0m\u001b[0;34m.\u001b[0m\u001b[0mdatetime\u001b[0m\u001b[0;34m.\u001b[0m\u001b[0mfromtimestamp\u001b[0m\u001b[0;34m(\u001b[0m\u001b[0muser_last_time\u001b[0m\u001b[0;34m/\u001b[0m\u001b[0;36m1000\u001b[0m\u001b[0;34m)\u001b[0m\u001b[0;34m[\u001b[0m\u001b[0mdt\u001b[0m\u001b[0;34m.\u001b[0m\u001b[0mdatetime\u001b[0m\u001b[0;34m.\u001b[0m\u001b[0mfromtimestamp\u001b[0m\u001b[0;34m(\u001b[0m\u001b[0muser_last_time\u001b[0m\u001b[0;34m/\u001b[0m\u001b[0;36m1000\u001b[0m\u001b[0;34m)\u001b[0m \u001b[0;34m>=\u001b[0m \u001b[0mdt\u001b[0m\u001b[0;34m.\u001b[0m\u001b[0mdatetime\u001b[0m\u001b[0;34m.\u001b[0m\u001b[0mfromtimestamp\u001b[0m\u001b[0;34m(\u001b[0m\u001b[0mfinal_time\u001b[0m\u001b[0;34m/\u001b[0m\u001b[0;36m1000\u001b[0m\u001b[0;34m)\u001b[0m \u001b[0;34m-\u001b[0m \u001b[0mdt\u001b[0m\u001b[0;34m.\u001b[0m\u001b[0mtimedelta\u001b[0m\u001b[0;34m(\u001b[0m\u001b[0mn_days\u001b[0m\u001b[0;34m)\u001b[0m\u001b[0;34m]\u001b[0m\u001b[0;34m.\u001b[0m\u001b[0mindex\u001b[0m\u001b[0;34m\u001b[0m\u001b[0;34m\u001b[0m\u001b[0m\n",
      "\u001b[0;31mTypeError\u001b[0m: unsupported operand type(s) for /: 'datetime.datetime' and 'int'"
     ]
    }
   ],
   "source": [
    "tr, test = split_by_date(data, n_days=1)\n",
    "tr, val = split_by_date(tr, n_days=1)"
   ]
  },
  {
   "cell_type": "code",
   "execution_count": 31,
   "id": "18efcba2",
   "metadata": {},
   "outputs": [
    {
     "data": {
      "text/plain": [
       "datetime.datetime(2016, 5, 17, 4, 55, 58)"
      ]
     },
     "execution_count": 31,
     "metadata": {},
     "output_type": "execute_result"
    }
   ],
   "source": [
    "timestamp = 1463460958000 \n",
    "datetimeobj = dt.datetime.fromtimestamp(timestamp/1000)\n",
    "datetimeobj"
   ]
  },
  {
   "cell_type": "code",
   "execution_count": null,
   "id": "c5f4003c",
   "metadata": {},
   "outputs": [],
   "source": []
  },
  {
   "cell_type": "code",
   "execution_count": null,
   "id": "ab698819",
   "metadata": {},
   "outputs": [],
   "source": []
  },
  {
   "cell_type": "code",
   "execution_count": null,
   "id": "9ae4c45d",
   "metadata": {},
   "outputs": [],
   "source": []
  },
  {
   "cell_type": "markdown",
   "id": "c6c101d6",
   "metadata": {},
   "source": [
    "# Step 2. 미니 배치의 구성"
   ]
  },
  {
   "cell_type": "markdown",
   "id": "6e14234e",
   "metadata": {},
   "source": [
    "### 실습 코드 내역을 참고하여 데이터셋과 미니 배치를 구성해 봅시다. Session-Parallel Mini-Batch의 개념에 따라, 학습 속도의 저하가 최소화될 수 있도록 구성합니다.\n",
    "### 단, 위 Step 1에서 Session 단위를 어떻게 정의했느냐에 따라서 Session-Parallel Mini-Batch이 굳이 필요하지 않을 수도 있습니다."
   ]
  },
  {
   "cell_type": "code",
   "execution_count": null,
   "id": "89d05b94",
   "metadata": {},
   "outputs": [],
   "source": []
  },
  {
   "cell_type": "code",
   "execution_count": null,
   "id": "63d7000e",
   "metadata": {},
   "outputs": [],
   "source": []
  },
  {
   "cell_type": "code",
   "execution_count": null,
   "id": "edbf8af0",
   "metadata": {},
   "outputs": [],
   "source": []
  },
  {
   "cell_type": "markdown",
   "id": "3e8bc4b6",
   "metadata": {},
   "source": [
    "# Step 3. 모델 구성"
   ]
  },
  {
   "cell_type": "markdown",
   "id": "38913451",
   "metadata": {},
   "source": [
    "### 이 부분도 실습 코드 내역을 참고하여 다양하게 모델 구조를 시도해 볼 수 있습니다."
   ]
  },
  {
   "cell_type": "code",
   "execution_count": null,
   "id": "c57998a5",
   "metadata": {},
   "outputs": [],
   "source": []
  },
  {
   "cell_type": "code",
   "execution_count": null,
   "id": "67aaffbe",
   "metadata": {},
   "outputs": [],
   "source": []
  },
  {
   "cell_type": "markdown",
   "id": "f298b69c",
   "metadata": {},
   "source": [
    "# Step 4. 모델 학습"
   ]
  },
  {
   "cell_type": "markdown",
   "id": "53db23ac",
   "metadata": {},
   "source": [
    "### 다양한 하이퍼파라미터를 변경해 보며 검증해 보도록 합니다. 실습 코드에 언급되었던 Recall, MRR 등의 개념들도 함께 관리될 수 있도록 합니다."
   ]
  },
  {
   "cell_type": "code",
   "execution_count": null,
   "id": "e3a8af4d",
   "metadata": {},
   "outputs": [],
   "source": []
  },
  {
   "cell_type": "code",
   "execution_count": null,
   "id": "73f5e76e",
   "metadata": {},
   "outputs": [],
   "source": []
  },
  {
   "cell_type": "markdown",
   "id": "942867c5",
   "metadata": {},
   "source": [
    "# Step 5. 모델 테스트"
   ]
  },
  {
   "cell_type": "markdown",
   "id": "d8a48cc2",
   "metadata": {},
   "source": [
    "### 미리 구성한 테스트셋을 바탕으로 Recall, MRR 을 확인해 봅니다."
   ]
  },
  {
   "cell_type": "code",
   "execution_count": null,
   "id": "bb65542e",
   "metadata": {},
   "outputs": [],
   "source": []
  },
  {
   "cell_type": "code",
   "execution_count": null,
   "id": "185423b7",
   "metadata": {},
   "outputs": [],
   "source": []
  },
  {
   "cell_type": "code",
   "execution_count": null,
   "id": "83b9b98a",
   "metadata": {},
   "outputs": [],
   "source": []
  },
  {
   "cell_type": "code",
   "execution_count": null,
   "id": "b8e8b243",
   "metadata": {},
   "outputs": [],
   "source": []
  },
  {
   "cell_type": "code",
   "execution_count": null,
   "id": "6930b3af",
   "metadata": {},
   "outputs": [],
   "source": []
  },
  {
   "cell_type": "code",
   "execution_count": null,
   "id": "625553ac",
   "metadata": {},
   "outputs": [],
   "source": []
  },
  {
   "cell_type": "code",
   "execution_count": null,
   "id": "5053e15f",
   "metadata": {},
   "outputs": [],
   "source": []
  },
  {
   "cell_type": "code",
   "execution_count": null,
   "id": "bc278fdb",
   "metadata": {},
   "outputs": [],
   "source": []
  },
  {
   "cell_type": "code",
   "execution_count": null,
   "id": "4b599490",
   "metadata": {},
   "outputs": [],
   "source": []
  },
  {
   "cell_type": "code",
   "execution_count": null,
   "id": "dd2043e0",
   "metadata": {},
   "outputs": [],
   "source": []
  }
 ],
 "metadata": {
  "kernelspec": {
   "display_name": "Python 3 (ipykernel)",
   "language": "python",
   "name": "python3"
  },
  "language_info": {
   "codemirror_mode": {
    "name": "ipython",
    "version": 3
   },
   "file_extension": ".py",
   "mimetype": "text/x-python",
   "name": "python",
   "nbconvert_exporter": "python",
   "pygments_lexer": "ipython3",
   "version": "3.9.7"
  }
 },
 "nbformat": 4,
 "nbformat_minor": 5
}
